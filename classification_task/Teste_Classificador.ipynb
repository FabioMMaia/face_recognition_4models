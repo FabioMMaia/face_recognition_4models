{
 "cells": [
  {
   "cell_type": "code",
   "execution_count": 1,
   "metadata": {
    "id": "0jNKeNAIcwEN"
   },
   "outputs": [],
   "source": [
    "import numpy as np\n",
    "import pandas as pd\n",
    "import matplotlib.pyplot as plt\n",
    "from tensorflow import keras\n",
    "from sklearn.preprocessing import StandardScaler\n",
    "import tensorflow as tf\n",
    "import cv2\n",
    "from PIL import Image\n",
    "from skimage import data, exposure\n",
    "from skimage.feature import hog,local_binary_pattern\n",
    "from sklearn.decomposition import PCA\n",
    "from sklearn.metrics import classification_report\n",
    "from sklearn.model_selection import train_test_split\n",
    "\n",
    "from sklearn.ensemble import RandomForestClassifier\n",
    "from sklearn.neighbors import KNeighborsClassifier\n",
    "from sklearn.linear_model import LogisticRegression\n",
    "\n",
    "from Models import ANN\n",
    "\n",
    "import warnings\n",
    "warnings.filterwarnings('ignore')\n",
    "\n",
    "from tqdm import tqdm"
   ]
  },
  {
   "cell_type": "code",
   "execution_count": 2,
   "metadata": {
    "colab": {
     "base_uri": "https://localhost:8080/"
    },
    "id": "YTZLVvn_cs3U",
    "outputId": "7bb3671d-29d1-422f-85c9-9da074521561"
   },
   "outputs": [],
   "source": [
    "from sklearn.datasets import fetch_olivetti_faces\n",
    "dataset = fetch_olivetti_faces()"
   ]
  },
  {
   "cell_type": "code",
   "execution_count": 3,
   "metadata": {
    "id": "tBSAH3Q7j6UQ"
   },
   "outputs": [],
   "source": [
    "X = dataset.images\n",
    "y = dataset.target\n",
    "m = X.shape[0]"
   ]
  },
  {
   "cell_type": "code",
   "execution_count": 7,
   "metadata": {
    "colab": {
     "base_uri": "https://localhost:8080/"
    },
    "id": "HjpZ413Lj7Au",
    "outputId": "51c783dc-5165-4ea1-d775-9971146b49f3"
   },
   "outputs": [
    {
     "data": {
      "image/png": "[encoded data removed]",
      "text/plain": [
       "<Figure size 432x288 with 1 Axes>"
      ]
     },
     "metadata": {
      "needs_background": "light"
     },
     "output_type": "display_data"
    }
   ],
   "source": [
    "pd.Series(y).value_counts().plot(kind='bar')\n",
    "plt.tight_layout()"
   ]
  },
  {
   "cell_type": "code",
   "execution_count": null,
   "metadata": {
    "colab": {
     "base_uri": "https://localhost:8080/",
     "height": 551
    },
    "id": "z0BWYlBec03s",
    "outputId": "721d3e1d-9320-4e94-b482-6ced2ed58b69"
   },
   "outputs": [],
   "source": [
    "METHOD = 'uniform'\n",
    "radius = 1\n",
    "n_points = 4\n",
    "\n",
    "\n",
    "for i in range (0,3):\n",
    "  image = X[i]\n",
    "  fig, (ax1, ax2, ax3) = plt.subplots(1, 3, figsize=(8, 4), sharex=True, sharey=True)\n",
    "  \n",
    "  fd, hog_image = hog(image, orientations=2, pixels_per_cell=(4,4),cells_per_block=(4, 4), visualize=True)\n",
    "  lbp_image = local_binary_pattern(image, n_points, radius, METHOD)\n",
    "\n",
    "  ax1.axis('off')\n",
    "  ax1.imshow(image, cmap=plt.cm.gray)\n",
    "  ax1.set_title(y[i])\n",
    "\n",
    "  ax2.axis('off')\n",
    "  ax2.imshow(hog_image)\n",
    "\n",
    "  ax2.axis('off')\n",
    "  ax3.imshow(lbp_image)\n",
    "  \n",
    "  plt.show()"
   ]
  },
  {
   "cell_type": "code",
   "execution_count": null,
   "metadata": {
    "id": "Ok79Ko_ndDnQ"
   },
   "outputs": [],
   "source": [
    "def featurize_images(X, lbp_METHOD = 'uniform',lbp_radius = 1,lbp_n_points = 4):\n",
    "\n",
    "  m = X.shape[0]\n",
    "\n",
    "  X_out = []\n",
    "\n",
    "  for i in tqdm(range(0,m)):\n",
    "    image = X[i]\n",
    "\n",
    "    # HOG\n",
    "    image_HOG,_ = hog(image, orientations=2, pixels_per_cell=(4,4),cells_per_block=(4, 4), visualize=True)\n",
    "\n",
    "    # LOB\n",
    "    image_lbp = local_binary_pattern(image, n_points, radius, METHOD)\n",
    "\n",
    "    # Feature\n",
    "    vectorized_space = np.r_[image_HOG.flatten(),image_lbp.flatten()]\n",
    "\n",
    "    X_out.append(vectorized_space)\n",
    "\n",
    "  X_out = np.array(X_out)\n",
    "\n",
    "  return X_out"
   ]
  },
  {
   "cell_type": "code",
   "execution_count": null,
   "metadata": {
    "id": "HRdo8-hffSNI"
   },
   "outputs": [],
   "source": [
    "def get_train_test(X,y, tts=.3):\n",
    "\n",
    "  X = pd.DataFrame(np.array(X))\n",
    "  y = pd.DataFrame(y)\n",
    "  m = X.shape[0]\n",
    "\n",
    "  print('dimensoes X:',X.shape)\n",
    "  print('dimensoes y:',y.shape)\n",
    "\n",
    "  x_train, x_test, y_train, y_test = train_test_split(X, y, stratify=y, test_size=tts, random_state=42)\n",
    "\n",
    "  print('Instancias no treino:', x_train.shape[0])\n",
    "  print('Instancias no test:', x_test.shape[0])\n",
    "\n",
    "  return x_train, x_test, y_train, y_test"
   ]
  },
  {
   "cell_type": "code",
   "execution_count": null,
   "metadata": {
    "id": "dQH0u5v6fZLG"
   },
   "outputs": [],
   "source": [
    "def test_model(classifier, x_train, x_test, y_train, y_test):\n",
    "  classifier.fit(x_train, y_train)\n",
    "  y_pred_train = classifier.predict(x_train)\n",
    "  y_pred_test = classifier.predict(x_test)\n",
    "  \n",
    "  print('######## TREINO ########')\n",
    "  print('Acuracia:', (y_pred_train==y_train.values.reshape(1,-1)).mean())\n",
    "  print(classification_report(y_train, y_pred_train))\n",
    "\n",
    "  print('######## TESTE ########')\n",
    "  print('Acuracia:', (y_pred_test==y_test.values.reshape(1,-1)).mean())\n",
    "  print(classification_report(y_test, y_pred_test))\n",
    "  "
   ]
  },
  {
   "cell_type": "code",
   "execution_count": null,
   "metadata": {
    "colab": {
     "base_uri": "https://localhost:8080/"
    },
    "id": "HY9kIos2fONV",
    "outputId": "7235a6c1-aa11-42fb-f739-2355e6c3170d"
   },
   "outputs": [],
   "source": [
    "X_features = featurize_images(X)"
   ]
  },
  {
   "cell_type": "code",
   "execution_count": null,
   "metadata": {
    "colab": {
     "base_uri": "https://localhost:8080/"
    },
    "id": "eQsfQS9sfl0k",
    "outputId": "a0648be0-50a9-4e4a-8621-1e955d1a75e1"
   },
   "outputs": [],
   "source": [
    "x_train, x_test, y_train, y_test = get_train_test(X_features, y)"
   ]
  },
  {
   "cell_type": "code",
   "execution_count": null,
   "metadata": {
    "colab": {
     "base_uri": "https://localhost:8080/"
    },
    "id": "I1s5fs6Lfcgp",
    "outputId": "c4a24349-fa82-485e-ee80-b136c4a63641"
   },
   "outputs": [],
   "source": [
    "print('Normal com HOG + LBP:')\n",
    "test_model(RandomForestClassifier(random_state=42),x_train, x_test, y_train, y_test)\n",
    "print('\\n\\n')"
   ]
  },
  {
   "cell_type": "code",
   "execution_count": null,
   "metadata": {
    "colab": {
     "base_uri": "https://localhost:8080/"
    },
    "id": "E35FFqCHf7Z5",
    "outputId": "1200bc4a-794e-41ef-8393-cb9b6b6bd21a"
   },
   "outputs": [],
   "source": [
    "# # Testando regressão Logística\n",
    "\n",
    "test_model(LogisticRegression(random_state=42, penalty='l2', C=1e-4),x_train, x_test, y_train, y_test)"
   ]
  },
  {
   "cell_type": "code",
   "execution_count": null,
   "metadata": {
    "colab": {
     "base_uri": "https://localhost:8080/"
    },
    "id": "20wqVnFRgRqt",
    "outputId": "9f61839f-607c-4883-8a63-274979789fe6"
   },
   "outputs": [],
   "source": [
    "# Testando KNN\n",
    "\n",
    "test_model(KNeighborsClassifier(n_neighbors=15,weights='distance'),x_train, x_test, y_train, y_test)"
   ]
  },
  {
   "cell_type": "code",
   "execution_count": null,
   "metadata": {
    "id": "ASxDw3FpiMRW"
   },
   "outputs": [],
   "source": [
    "classifier = ANN.RNA_Bissecao()\n",
    "\n",
    "y_pred_train,y_pred_test = classifier.fit(x_train, y_train, x_test, y_test)\n",
    "\n",
    "print('######## TREINO ########')\n",
    "print('Acuracia:', (y_pred_train==y_train.values.reshape(1,-1)).mean())\n",
    "print(classification_report(y_train, y_pred_train))\n",
    "\n",
    "print('######## TESTE ########')\n",
    "print('Acuracia:', (y_pred_test==y_test.values.reshape(1,-1)).mean())\n",
    "print(classification_report(y_test, y_pred_test))"
   ]
  },
  {
   "cell_type": "code",
   "execution_count": null,
   "metadata": {},
   "outputs": [],
   "source": []
  }
 ],
 "metadata": {
  "colab": {
   "provenance": []
  },
  "kernelspec": {
   "display_name": "Python 3",
   "language": "python",
   "name": "python3"
  },
  "language_info": {
   "codemirror_mode": {
    "name": "ipython",
    "version": 3
   },
   "file_extension": ".py",
   "mimetype": "text/x-python",
   "name": "python",
   "nbconvert_exporter": "python",
   "pygments_lexer": "ipython3",
   "version": "3.7.10"
  },
  "varInspector": {
   "cols": {
    "lenName": 16,
    "lenType": 16,
    "lenVar": 40
   },
   "kernels_config": {
    "python": {
     "delete_cmd_postfix": "",
     "delete_cmd_prefix": "del ",
     "library": "var_list.py",
     "varRefreshCmd": "print(var_dic_list())"
    },
    "r": {
     "delete_cmd_postfix": ") ",
     "delete_cmd_prefix": "rm(",
     "library": "var_list.r",
     "varRefreshCmd": "cat(var_dic_list()) "
    }
   },
   "types_to_exclude": [
    "module",
    "function",
    "builtin_function_or_method",
    "instance",
    "_Feature"
   ],
   "window_display": false
  }
 },
 "nbformat": 4,
 "nbformat_minor": 1
}
