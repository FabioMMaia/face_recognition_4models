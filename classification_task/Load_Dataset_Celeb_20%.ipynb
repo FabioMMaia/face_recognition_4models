{
  "nbformat": 4,
  "nbformat_minor": 0,
  "metadata": {
    "colab": {
      "provenance": []
    },
    "kernelspec": {
      "name": "python3",
      "display_name": "Python 3"
    },
    "language_info": {
      "name": "python"
    }
  },
  "cells": [
    {
      "cell_type": "code",
      "execution_count": 57,
      "metadata": {
        "id": "1MyOVKC90Jyi"
      },
      "outputs": [],
      "source": [
        "import pandas as pd\n",
        "import math\n",
        "import zipfile\n",
        "from PIL import Image\n",
        "from tqdm import tqdm\n",
        "import pickle"
      ]
    },
    {
      "cell_type": "code",
      "source": [
        "from google.colab import drive\n",
        "drive.mount('/content/drive')"
      ],
      "metadata": {
        "colab": {
          "base_uri": "https://localhost:8080/"
        },
        "id": "kznCg6jn0XHR",
        "outputId": "4f07acb9-10aa-4fcc-ec45-ac8edab3832e"
      },
      "execution_count": 2,
      "outputs": [
        {
          "output_type": "stream",
          "name": "stdout",
          "text": [
            "Mounted at /content/drive\n"
          ]
        }
      ]
    },
    {
      "cell_type": "code",
      "source": [
        "labels= pd.read_csv('/content/drive/MyDrive/Projeto ML/2022/Aprendizado de Maquinas/Projeto/CelebA/identity_CelebA.txt', header=None)"
      ],
      "metadata": {
        "id": "WUI6EK9f0MLc"
      },
      "execution_count": 3,
      "outputs": []
    },
    {
      "cell_type": "code",
      "source": [
        "labels.rename(columns={0:'id'},inplace=True)"
      ],
      "metadata": {
        "id": "Z3bYfjIi0oUc"
      },
      "execution_count": 4,
      "outputs": []
    },
    {
      "cell_type": "code",
      "source": [
        "labels['class'] = labels['id'].apply(lambda x:x.split()[1])\n",
        "labels['class'] = labels['class'].astype(int)\n",
        "labels['image'] = labels['id'].apply(lambda x:x.split()[0])"
      ],
      "metadata": {
        "id": "g-Xnk-mi0neK"
      },
      "execution_count": 5,
      "outputs": []
    },
    {
      "cell_type": "code",
      "source": [
        "labels.drop(columns='id', inplace=True)"
      ],
      "metadata": {
        "id": "dMHnCwXz0-Li"
      },
      "execution_count": 6,
      "outputs": []
    },
    {
      "cell_type": "code",
      "source": [
        "print('Numero de classes distintas:', len(labels['class'].unique()))\n",
        "print('Numero de instâncias na base:', labels.shape[0])"
      ],
      "metadata": {
        "colab": {
          "base_uri": "https://localhost:8080/"
        },
        "id": "aYnCelut1TzN",
        "outputId": "fe3b8908-6535-4e63-cf53-870f69a8c131"
      },
      "execution_count": 9,
      "outputs": [
        {
          "output_type": "stream",
          "name": "stdout",
          "text": [
            "Numero de classes distintas: 10177\n",
            "Numero de instâncias na base: 202599\n"
          ]
        }
      ]
    },
    {
      "cell_type": "code",
      "source": [
        "keep_class = labels['class'].value_counts().cumsum()\n",
        "final_list = keep_class[:(keep_class <= math.ceil(labels.shape[0]*.2)).sum() + 1].index\n",
        "subselect = labels[labels['class'].isin(final_list)]"
      ],
      "metadata": {
        "id": "7Ci9uK2I4B38"
      },
      "execution_count": 74,
      "outputs": []
    },
    {
      "cell_type": "code",
      "source": [
        "keep_images = subselect['image'].values.tolist()"
      ],
      "metadata": {
        "id": "JjpgHzZz7m8I"
      },
      "execution_count": 79,
      "outputs": []
    },
    {
      "cell_type": "code",
      "source": [
        "imagens_path = '/content/drive/MyDrive/Projeto ML/2022/Aprendizado de Maquinas/Projeto/CelebA/img_align_celeba.zip'"
      ],
      "metadata": {
        "id": "efIDdxuN1N8J"
      },
      "execution_count": 82,
      "outputs": []
    },
    {
      "cell_type": "code",
      "source": [
        "imgzip = zipfile.ZipFile(imagens_path)\n",
        "inflist = imgzip.infolist()\n",
        "all_images = {}\n",
        "\n",
        "# Testando com imagens da classe 3\n",
        "\n",
        "for f in tqdm(inflist):\n",
        "  file_name = f.filename.split('/')[1]\n",
        "  if file_name in keep_images:\n",
        "      ifile = imgzip.open(f)\n",
        "      img = Image.open(ifile)\n",
        "      all_images[file_name] = img\n",
        "      # print(img)\n",
        "      # display(img)\n",
        "      \n",
        "with open('dataset.obj', 'wb') as fp:\n",
        "  pickle.dump(all_images, fp)"
      ],
      "metadata": {
        "colab": {
          "base_uri": "https://localhost:8080/"
        },
        "id": "Z9P_WGSG8uyJ",
        "outputId": "28cce77b-c923-488b-9d5a-1e209e153d98"
      },
      "execution_count": null,
      "outputs": [
        {
          "output_type": "stream",
          "name": "stderr",
          "text": [
            " 52%|█████▏    | 105715/202600 [02:30<02:15, 713.50it/s]"
          ]
        }
      ]
    }
  ]
}