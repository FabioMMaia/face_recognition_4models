{
  "cells": [
    {
      "cell_type": "markdown",
      "metadata": {
        "id": "view-in-github",
        "colab_type": "text"
      },
      "source": [
        "<a href=\"https://colab.research.google.com/github/FabioMMaia/face_recognition_4models/blob/main/Modeling_HOG_Pipeline.ipynb\" target=\"_parent\"><img src=\"https://colab.research.google.com/assets/colab-badge.svg\" alt=\"Open In Colab\"/></a>"
      ]
    },
    {
      "cell_type": "code",
      "execution_count": 1,
      "metadata": {
        "id": "0jNKeNAIcwEN"
      },
      "outputs": [],
      "source": [
        "import numpy as np\n",
        "import pandas as pd\n",
        "import matplotlib.pyplot as plt\n",
        "from tensorflow import keras\n",
        "from sklearn.preprocessing import StandardScaler\n",
        "import tensorflow as tf\n",
        "import cv2\n",
        "from PIL import Image\n",
        "from skimage import data, exposure\n",
        "from skimage.feature import hog,local_binary_pattern\n",
        "from sklearn.decomposition import PCA\n",
        "from sklearn.model_selection import train_test_split\n",
        "from sklearn.model_selection import KFold\n",
        "from numpy.random import seed\n",
        "import pickle\n",
        "from tqdm import tqdm\n",
        "\n",
        "import pytz\n",
        "from datetime import datetime\n",
        "from collections import Counter\n",
        "import math\n",
        "\n",
        "from sklearn.metrics import accuracy_score\n",
        "\n",
        "import warnings\n",
        "warnings.filterwarnings('ignore')\n",
        "\n",
        "tqdm.pandas()"
      ]
    },
    {
      "cell_type": "code",
      "execution_count": 2,
      "metadata": {
        "colab": {
          "base_uri": "https://localhost:8080/"
        },
        "id": "9k9xlX-xef0d",
        "outputId": "e64101c3-97da-46ba-d6ea-29035e91915b"
      },
      "outputs": [
        {
          "output_type": "stream",
          "name": "stdout",
          "text": [
            "Looking in indexes: https://pypi.org/simple, https://us-python.pkg.dev/colab-wheels/public/simple/\n",
            "Requirement already satisfied: unidecode in /usr/local/lib/python3.8/dist-packages (1.3.6)\n"
          ]
        }
      ],
      "source": [
        "!pip install unidecode\n",
        "\n",
        "def norm_text(txt):\n",
        "  from unidecode import unidecode\n",
        "  return unidecode(txt).replace(' ','_').lower()"
      ]
    },
    {
      "cell_type": "code",
      "execution_count": 3,
      "metadata": {
        "colab": {
          "base_uri": "https://localhost:8080/"
        },
        "id": "UzJSiIc4z8BG",
        "outputId": "8f0e3586-5b9d-4f20-fe0d-1194a216ed60"
      },
      "outputs": [
        {
          "output_type": "stream",
          "name": "stdout",
          "text": [
            "Drive already mounted at /content/drive; to attempt to forcibly remount, call drive.mount(\"/content/drive\", force_remount=True).\n"
          ]
        }
      ],
      "source": [
        "from google.colab import drive\n",
        "drive.mount('/content/drive')"
      ]
    },
    {
      "cell_type": "code",
      "execution_count": 4,
      "metadata": {
        "id": "I9gEzU85sBo8"
      },
      "outputs": [],
      "source": [
        "config_dir = '/content/drive/MyDrive/Projeto ML/2022/Aprendizado de Maquinas/Projeto/Pipeline/config/'\n",
        "model_save_dir = '/content/drive/MyDrive/Projeto ML/2022/Aprendizado de Maquinas/Projeto/Pipeline/model/'\n",
        "erro_dir = '/content/drive/MyDrive/Projeto ML/2022/Aprendizado de Maquinas/Projeto/Pipeline/error/'\n",
        "log_dir = '/content/drive/MyDrive/Projeto ML/2022/Aprendizado de Maquinas/Projeto/Pipeline/log/'"
      ]
    },
    {
      "cell_type": "code",
      "execution_count": 5,
      "metadata": {
        "id": "0HwQFYUYdKRx"
      },
      "outputs": [],
      "source": [
        "import sys\n",
        "sys.path.append('/content/drive/MyDrive/Projeto ML/2022/Aprendizado de Maquinas/Projeto/Pipeline/Modelos_Implementações')"
      ]
    },
    {
      "cell_type": "code",
      "execution_count": 6,
      "metadata": {
        "id": "At7N2h1tdKiJ"
      },
      "outputs": [],
      "source": [
        "import MLP as mlp # multilayer perceptron\n",
        "import Multinomial_LogReg # regressão logística com alpha variavel (bissecao)\n",
        "import R_LOG as r_log # regressão logística com alpha fixo\n",
        "import SVM_OVR # SVM one-versus-rest\n",
        "import ANN"
      ]
    },
    {
      "cell_type": "code",
      "execution_count": 7,
      "metadata": {
        "id": "y2mrQXgKHxcZ"
      },
      "outputs": [],
      "source": [
        "# import importlib\n",
        "\n",
        "# importlib.reload(ANN)\n",
        "# importlib.reload(mlp)\n",
        "# importlib.reload(Multinomial_LogReg)\n",
        "# importlib.reload(r_log)\n",
        "# importlib.reload(SVM_OVR)\n",
        "# importlib.reload(ANN)"
      ]
    },
    {
      "cell_type": "code",
      "execution_count": 8,
      "metadata": {
        "id": "ByYR7oyY_fFy"
      },
      "outputs": [],
      "source": [
        "class logfile():\n",
        "\n",
        "  def __init__(self, diretorio):\n",
        "    self.diretorio=diretorio\n",
        "\n",
        "  def start(self, tag, use_dateref=True):\n",
        "    if use_dateref:\n",
        "      tag = tag + '_' + datetime.now(pytz.timezone('America/Bahia')).strftime(\"%Y%m%d\")\n",
        "    self.save_file = open(self.diretorio +  tag + '.txt', 'w')\n",
        "    data_atual = datetime.now(pytz.timezone('America/Bahia')).strftime(\"%d/%m/%Y %H:%M:%S\")\n",
        "    print('Execução em:', data_atual, file=self.save_file)\n",
        "    \n",
        "  def end(self):\n",
        "    data_atual = datetime.now(pytz.timezone('America/Bahia')).strftime(\"%d/%m/%Y %H:%M:%S\")\n",
        "    print('Fim de Execução em:', data_atual, file=self.save_file)\n",
        "    self.save_file.close()"
      ]
    },
    {
      "cell_type": "code",
      "source": [
        "# Visualize Dataset"
      ],
      "metadata": {
        "id": "v11ATiXGPF6-"
      },
      "execution_count": 9,
      "outputs": []
    },
    {
      "cell_type": "code",
      "source": [
        "def generate_image_db(keep_images):\n",
        "  import zipfile\n",
        "  from skimage.transform import resize\n",
        "\n",
        "\n",
        "  imagens_path = '/content/drive/MyDrive/Projeto ML/2022/Aprendizado de Maquinas/Projeto/CelebA/img_align_celeba.zip'\n",
        "  imgzip = zipfile.ZipFile(imagens_path)\n",
        "  inflist = imgzip.infolist()\n",
        "  all_images = {}\n",
        "\n",
        "  for f in tqdm(inflist):\n",
        "    file_name = f.filename.split('/')[1]\n",
        "    if file_name in keep_images:\n",
        "      if '.jpg' in file_name:\n",
        "        ifile = imgzip.open(f)\n",
        "        img = Image.open(ifile)\n",
        "        img_resize = resize(np.array(img), (128, 128))\n",
        "        all_images[file_name] = [img_resize]\n",
        "\n",
        "  return all_images\n",
        "\n",
        "def plt_samples(imgs):\n",
        "  # faces que foram reconhecidas pelo viola jones\n",
        "  fig, axes = plt.subplots(1,5, figsize=(10,10))\n",
        "\n",
        "  imgs= pd.DataFrame(imgs)\n",
        "\n",
        "  for (i,row), ax in zip(imgs.head(8).iterrows(), axes.ravel()): \n",
        "    ax.axis('off')\n",
        "    ax.imshow(row[0], cmap=plt.cm.gray)\n",
        "\n",
        "def visualize_5photos(y):\n",
        "  amostra= generate_image_db(y.sample(5).index)\n",
        "  amostra_df = pd.DataFrame(amostra).T.reset_index()\n",
        "  plt_samples(amostra_df)"
      ],
      "metadata": {
        "id": "K_6EK4fPPI1k"
      },
      "execution_count": 10,
      "outputs": []
    },
    {
      "cell_type": "markdown",
      "metadata": {
        "id": "-fCP7qO9EMjx"
      },
      "source": [
        "# Carregando Dataset - HOG"
      ]
    },
    {
      "cell_type": "code",
      "execution_count": 11,
      "metadata": {
        "id": "nesCirIwjSTI"
      },
      "outputs": [],
      "source": [
        "n_classes=50\n",
        "ref = 'HOG' \n",
        "tag= 'hog' + '_'+ str(n_classes) + '_classes'\n",
        "\n",
        "with open(r'/content/drive/MyDrive/Projeto ML/2022/Aprendizado de Maquinas/Projeto/Pipeline/Data/X_y_' + tag +'.obj', \"rb\") as f:\n",
        "    X,y = pickle.load(f)"
      ]
    },
    {
      "cell_type": "code",
      "source": [
        "visualize_5photos(y)"
      ],
      "metadata": {
        "colab": {
          "base_uri": "https://localhost:8080/",
          "height": 145
        },
        "id": "B2UxuJNGTr-d",
        "outputId": "85f600a9-67f6-4c47-e1cb-6a93b0afcf05"
      },
      "execution_count": 12,
      "outputs": [
        {
          "output_type": "stream",
          "name": "stderr",
          "text": [
            "100%|██████████| 202600/202600 [00:00<00:00, 362782.13it/s]\n"
          ]
        },
        {
          "output_type": "display_data",
          "data": {
            "text/plain": [
              "<Figure size 720x720 with 5 Axes>"
            ],
            "image/png": "[encoded data removed]"
          },
          "metadata": {
            "needs_background": "light"
          }
        }
      ]
    },
    {
      "cell_type": "code",
      "execution_count": 13,
      "metadata": {
        "colab": {
          "base_uri": "https://localhost:8080/"
        },
        "id": "UuMfnhFCv530",
        "outputId": "f27b843b-dcaf-467e-dfa0-322db8b283c7"
      },
      "outputs": [
        {
          "output_type": "stream",
          "name": "stdout",
          "text": [
            "X shape: (1443, 4608)\n",
            "y shape: (1443,)\n"
          ]
        }
      ],
      "source": [
        "print('X shape:', X.shape)\n",
        "print('y shape:', y.shape)"
      ]
    },
    {
      "cell_type": "code",
      "execution_count": 14,
      "metadata": {
        "colab": {
          "base_uri": "https://localhost:8080/"
        },
        "id": "AOgsjWL7dmDr",
        "outputId": "2140fd71-f72e-4922-9deb-d1a27dabd500"
      },
      "outputs": [
        {
          "output_type": "stream",
          "name": "stdout",
          "text": [
            "Quantidade de pessoas: 50\n"
          ]
        }
      ],
      "source": [
        "# transformar categorias em one-hot-encoding: Saída\n",
        "saida = y.max()+1\n",
        "print(\"Quantidade de pessoas:\",saida)\n",
        "target = keras.utils.to_categorical(y, saida)"
      ]
    },
    {
      "cell_type": "markdown",
      "metadata": {
        "id": "yY1ktd8gd2yM"
      },
      "source": [
        "# Train x Test"
      ]
    },
    {
      "cell_type": "code",
      "execution_count": 15,
      "metadata": {
        "id": "Db0Ju9CS_GMa"
      },
      "outputs": [],
      "source": [
        "def train_test_separation(X, y):\n",
        "  x_train, x_test, y_train_n, y_test_n = train_test_split(X, y, test_size=0.30, random_state=42,stratify=y)\n",
        "\n",
        "  y_train = target[y.index.isin(y_train_n.index).flatten(),:]\n",
        "  y_test= target[y.index.isin(y_test_n.index).flatten(),:]\n",
        "\n",
        "  assert y_train.shape[0]== y_train_n.shape[0]\n",
        "  assert y_test.shape[0]== y_test_n.shape[0]\n",
        "\n",
        "  print('Shape',x_train.shape, x_test.shape, y_train.shape, y_test.shape,  y_train_n.shape, y_test_n.shape)\n",
        "\n",
        "  return x_train, x_test, y_train_n, y_test_n, y_train, y_test"
      ]
    },
    {
      "cell_type": "code",
      "execution_count": 16,
      "metadata": {
        "id": "uy10wPGxd59i"
      },
      "outputs": [],
      "source": [
        "def apply_PCA(n_pca, x_train,x_test):\n",
        "  pca = PCA(n_components=n_pca, random_state=42)\n",
        "  pca.fit(x_train)\n",
        "\n",
        "  print('variancia explicada:', sum(pca.explained_variance_ratio_))\n",
        "  x_train_pca = pca.transform(x_train)\n",
        "  x_test_pca = pca.transform(x_test)\n",
        "\n",
        "  x_train_pca_norm = (x_train_pca - x_train_pca.mean(axis=0))/  x_train_pca.std(axis=0)\n",
        "  x_test_pca_norm = (x_test_pca - x_train_pca.mean(axis=0))/  x_train_pca.std(axis=0)\n",
        "\n",
        "  return x_train_pca_norm, x_test_pca_norm"
      ]
    },
    {
      "cell_type": "code",
      "execution_count": 17,
      "metadata": {
        "colab": {
          "base_uri": "https://localhost:8080/"
        },
        "id": "GSD9cLfdEh1t",
        "outputId": "f3a4de38-846e-4136-feee-9f19cc858a4c"
      },
      "outputs": [
        {
          "output_type": "stream",
          "name": "stdout",
          "text": [
            "Shape (1010, 4608) (433, 4608) (1010, 50) (433, 50) (1010,) (433,)\n"
          ]
        }
      ],
      "source": [
        "X_train, X_test, y_train_n, y_test_n, y_train, y_test = train_test_separation(X,y)"
      ]
    },
    {
      "cell_type": "code",
      "execution_count": 18,
      "metadata": {
        "colab": {
          "base_uri": "https://localhost:8080/"
        },
        "id": "3uXcqftrpx0w",
        "outputId": "a1e89d20-8e2d-46aa-b96b-59dbfcc43990"
      },
      "outputs": [
        {
          "output_type": "stream",
          "name": "stdout",
          "text": [
            "variancia explicada: 0.3753816088061844\n"
          ]
        }
      ],
      "source": [
        "X_train_pca, X_test_pca = apply_PCA(n_pca=50, x_train=X_train, x_test=X_test)"
      ]
    },
    {
      "cell_type": "code",
      "execution_count": 19,
      "metadata": {
        "id": "fWaBqU60YCPa"
      },
      "outputs": [],
      "source": [
        "def unpack_dict_as_str(dicionario):\n",
        "  string=''\n",
        "\n",
        "  for k,v in dicionario.items():\n",
        "    string= string + str(k) + ':[ '\n",
        "    try:\n",
        "      for v_ in v:\n",
        "        string= string + str(v_) + ' '\n",
        "      string= string+'] '\n",
        "    except:\n",
        "      string= string + str(v) + '] '\n",
        "  return string.strip()\n",
        "\n",
        "# unpack_dict_as_str({'a':[2,5,6], 'b':[6,7]})"
      ]
    },
    {
      "cell_type": "code",
      "execution_count": 20,
      "metadata": {
        "id": "KoiQ6uaLIOaf"
      },
      "outputs": [],
      "source": [
        "def pipeline_integrated_onedim(nome_do_modelo, #nome do modelo\n",
        "                               classifier, # classificador\n",
        "                               param_iteracao, # parametro iteração - deve conter um dicionario com a lista de valores a ser iterado\n",
        "                               param_fixo,  # parametro fixo e respectivo valor (uma lista)\n",
        "                               data, # dicionario de treino e teste\n",
        "                               kf= KFold(n_splits=5, shuffle=True, random_state=42),\n",
        "                               neural_network=False): #kfold\n",
        "\n",
        "  print('Pipeline de testes para o modelo:', nome_do_modelo)\n",
        "  X_train = data['X_train']\n",
        "  X_test = data['X_test']\n",
        "  y_train = data['y_train']\n",
        "  y_test = data['y_test']\n",
        "\n",
        "  log={}\n",
        "  log['exec_time'] = 'Execução em: {}'.format(datetime.now(pytz.timezone('America/Bahia')).strftime(\"%d/%m/%Y %H:%M:%S\"))\n",
        "  log['model_name'] = nome_do_modelo\n",
        "  log['parametro_fixo'] = '{}:[{}]'.format(param_fixo[0], param_fixo[1])\n",
        "  log['parametro_variavel'] = unpack_dict_as_str(param_iteracao)\n",
        "  log['kfold'] = kf\n",
        "\n",
        "  best_acc_val = -1\n",
        "  best_model=None\n",
        "  best_param = None\n",
        "  it=0\n",
        "\n",
        "  for parametro, valores in param_iteracao.items():\n",
        "    cv_report = {}\n",
        "    for valor in valores:\n",
        "      it+=1\n",
        "\n",
        "      cv_report['cv_results_'+str(it)] = {}\n",
        "      print('Execução em: {}'.format(datetime.now(pytz.timezone('America/Bahia')).strftime(\"%d/%m/%Y %H:%M:%S\")))\n",
        "      print(\"====================================================================\")\n",
        "      print('iteração:{}'.format(it))\n",
        "      param = {parametro:valor}\n",
        "      param[param_fixo[0]] = param_fixo[1]\n",
        "      print('Testando parametros:\\n', unpack_dict_as_str(param))\n",
        "      print(\"====================================================================\")\n",
        "      \n",
        "      cv_report['cv_results_'+str(it)]['cv_param']= unpack_dict_as_str(param)\n",
        "\n",
        "      for k_index,(train_index, val_index) in enumerate(kf.split(X_train)):\n",
        "        print('cross-validation: {}'.format(k_index))\n",
        "        X_train_kf, X_val_kf = X_train[train_index], X_train[val_index]\n",
        "        y_train_kf, y_val_kf = y_train[train_index], y_train[val_index]\n",
        "\n",
        "        # Ajusta o parâmetro usando o dicionário\n",
        "        for k,v in param.items():\n",
        "          setattr(classifier,k,v)\n",
        "        \n",
        "        if neural_network:\n",
        "          classifier.fit(X_train_kf, y_train_kf,[X_val_kf,y_val_kf])\n",
        "          acc_train = accuracy_score(classifier.predict(X_train_kf), y_train_kf.argmax(axis=1))\n",
        "          acc_val = accuracy_score(classifier.predict(X_val_kf), y_val_kf.argmax(axis=1))\n",
        "          acc_test = accuracy_score(classifier.predict(X_test), y_test.argmax(axis=1))\n",
        "        else:\n",
        "          classifier.fit(X_train_kf, y_train_kf)\n",
        "          acc_train = accuracy_score(classifier.predict(X_train_kf), y_train_kf)\n",
        "          acc_val = accuracy_score(classifier.predict(X_val_kf), y_val_kf)\n",
        "          acc_test = accuracy_score(classifier.predict(X_test), y_test)\n",
        "        print('acc - tr:{:.2f} val:{:.2f} tst:{:.2f}'.format(acc_train,acc_val,acc_test ))\n",
        "\n",
        "\n",
        "        if acc_val>best_acc_val:\n",
        "          best_model=classifier\n",
        "          best_param = param\n",
        "          k_index_best = k_index\n",
        "          best_acc_val=acc_val\n",
        "\n",
        "        cv_report['cv_results_'+str(it)]['acc_train_'+str(k_index)] = acc_train\n",
        "        cv_report['cv_results_'+str(it)]['acc_val_'+ str(k_index)] = acc_val\n",
        "        cv_report['cv_results_'+str(it)]['acc_test_'+ str(k_index)] = acc_test\n",
        "\n",
        "    log['cv_report']= cv_report\n",
        "\n",
        "    if neural_network:\n",
        "      best_model.fit(X_train, y_train,[X_test,y_test])\n",
        "      acc_train_best_model = accuracy_score(best_model.predict(X_train), y_train.argmax(axis=1))\n",
        "      acc_test_best_model = accuracy_score(best_model.predict(X_test), y_test.argmax(axis=1))\n",
        "    else:\n",
        "      best_model.fit(X_train, y_train)\n",
        "      acc_train_best_model = accuracy_score(best_model.predict(X_train), y_train)\n",
        "      acc_test_best_model = accuracy_score(best_model.predict(X_test), y_test)\n",
        "    \n",
        "\n",
        "    print('Melhor acurácia no validação obtida com os parametros {}. Treino final: {:.4f} Teste:{:.4f}'.format(unpack_dict_as_str(best_param),acc_train_best_model, acc_test_best_model))\n",
        "    print('Fim da Execução: {}'.format(datetime.now(pytz.timezone('America/Bahia')).strftime(\"%d/%m/%Y %H:%M:%S\")))\n",
        "    \n",
        "    log['melhor_modelo_obj'] = best_model\n",
        "    log['best_param_k_fold'] = unpack_dict_as_str(best_param)\n",
        "    log['acc_train_best_model'] = acc_train_best_model\n",
        "    log['acc_test_best_model'] = acc_test_best_model\n",
        "\n",
        "    return log\n",
        "\n",
        "def dictlog_to_flat_table(log):\n",
        "  log_i = pd.DataFrame(log, index=[norm_text(modelo)])\n",
        "  cv_log_i = pd.DataFrame(log['cv_report']).T.reset_index().assign(modelo = norm_text(modelo))\n",
        "  cv_log_i = pd.merge(log_i,cv_log_i, left_index = True , right_on = 'modelo', how='outer').drop(columns='cv_report')\n",
        "  return cv_log_i"
      ]
    },
    {
      "cell_type": "markdown",
      "metadata": {
        "id": "Olv5yCORwFSD"
      },
      "source": [
        "# Teste com Modelos"
      ]
    },
    {
      "cell_type": "code",
      "execution_count": 21,
      "metadata": {
        "id": "wq87vRPhv1Rl"
      },
      "outputs": [],
      "source": [
        "logs = pd.DataFrame()"
      ]
    },
    {
      "cell_type": "markdown",
      "metadata": {
        "id": "7t7YCGZUyyzg"
      },
      "source": [
        "Regressão Logística"
      ]
    },
    {
      "cell_type": "code",
      "execution_count": 22,
      "metadata": {
        "colab": {
          "base_uri": "https://localhost:8080/"
        },
        "id": "8TCd4vHtWJAR",
        "outputId": "08ad936c-500d-493f-875c-655f4e5ac103"
      },
      "outputs": [
        {
          "output_type": "stream",
          "name": "stdout",
          "text": [
            "Pipeline de testes para o modelo: Regressão Logística Multinomial Passo Fixo\n",
            "Execução em: 21/01/2023 12:57:34\n",
            "====================================================================\n",
            "iteração:1\n",
            "Testando parametros:\n",
            " alpha:[ 0.1] theta:[ 0.001]\n",
            "====================================================================\n",
            "cross-validation: 0\n",
            "it:10000, norm_grad:0.019145068160185914, J:0.36988048109535243\n",
            "it:20000, norm_grad:0.009610864193579042, J:0.1859048172295636\n",
            "it:30000, norm_grad:0.006418104805110738, J:0.12422324493358729\n",
            "it:40000, norm_grad:0.0048184173327705205, J:0.0932984396699153\n",
            "it:50000, norm_grad:0.0038573933467605927, J:0.07471195491467662\n",
            "it:60000, norm_grad:0.0032161474374774054, J:0.06230600343320829\n",
            "it:70000, norm_grad:0.0027578118839399275, J:0.053436457989411046\n",
            "it:80000, norm_grad:0.002413880663364703, J:0.04677941327493214\n",
            "it:90000, norm_grad:0.0021462642528293596, J:0.04159857369577768\n",
            "it:100000, norm_grad:0.0019320942542242607, J:0.03745177741556836\n",
            "it:110000, norm_grad:0.0017568103383802081, J:0.03405744486333791\n",
            "it:120000, norm_grad:0.0016107012728829718, J:0.03122774050720508\n",
            "it:130000, norm_grad:0.0014870413053651064, J:0.028832554824058908\n",
            "it:140000, norm_grad:0.0013810247088564547, J:0.02677890875271519\n",
            "it:150000, norm_grad:0.001289126233493862, J:0.024998589143973706\n",
            "it:160000, norm_grad:0.0012087012378394007, J:0.02344041693185786\n",
            "it:170000, norm_grad:0.0011377268635470342, J:0.022065241883642554\n",
            "it:180000, norm_grad:0.001074629433343285, J:0.020842604384226415\n",
            "it:190000, norm_grad:0.0010181663228572186, J:0.019748450535106578\n",
            "it:193458, norm_grad:0.0009999980917502712, J:0.01939636839726537\n",
            "acc - tr:1.00 val:0.31 tst:0.29\n",
            "cross-validation: 1\n",
            "it:10000, norm_grad:0.01792005609509375, J:0.32405573895257916\n",
            "it:20000, norm_grad:0.008995524852254714, J:0.1628796924765003\n",
            "it:30000, norm_grad:0.006007262853979232, J:0.10884312428658535\n",
            "it:40000, norm_grad:0.004510052473812674, J:0.08175035936808796\n",
            "it:50000, norm_grad:0.0036105868426821383, J:0.06546647682170466\n",
            "it:60000, norm_grad:0.0030104098688388476, J:0.05459713083585836\n",
            "it:70000, norm_grad:0.002581424081010358, J:0.046825974975092347\n",
            "it:80000, norm_grad:0.0022595133765120822, J:0.040993200115973585\n",
            "it:90000, norm_grad:0.002009028956578905, J:0.03645376099797119\n",
            "it:100000, norm_grad:0.0018085677005966376, J:0.032820286562245574\n",
            "it:110000, norm_grad:0.0016445021466175577, J:0.029846085175336306\n",
            "it:120000, norm_grad:0.0015077431976267773, J:0.027366591704036818\n",
            "it:130000, norm_grad:0.0013919959380690723, J:0.025267813869347663\n",
            "it:140000, norm_grad:0.0012927624581536778, J:0.023468289251079705\n",
            "it:150000, norm_grad:0.0012067432885878161, J:0.021908253027720724\n",
            "it:160000, norm_grad:0.0011314631544780184, J:0.020542864241653046\n",
            "it:170000, norm_grad:0.0010650287339160139, J:0.019337820728139714\n",
            "it:180000, norm_grad:0.0010059671145174606, J:0.018266434492260075\n",
            "it:181077, norm_grad:0.0009999948217294652, J:0.018158092096327638\n",
            "acc - tr:1.00 val:0.27 tst:0.31\n",
            "cross-validation: 2\n",
            "it:10000, norm_grad:0.017068419403603773, J:0.2942105139172583\n",
            "it:20000, norm_grad:0.008571654380193158, J:0.1479263296420902\n",
            "it:30000, norm_grad:0.00572486585071836, J:0.0988562896316514\n",
            "it:40000, norm_grad:0.004298232055593587, J:0.0742497124196142\n",
            "it:50000, norm_grad:0.003441077064174446, J:0.05945919426043904\n",
            "it:60000, norm_grad:0.0028690990534388228, J:0.04958639516133511\n",
            "it:70000, norm_grad:0.002460254580208462, J:0.04252766654560117\n",
            "it:80000, norm_grad:0.002153451136173743, J:0.037229614712777345\n",
            "it:90000, norm_grad:0.0019147185627725585, J:0.03310635016617147\n",
            "it:100000, norm_grad:0.0017236605102472005, J:0.029806015826284296\n",
            "it:110000, norm_grad:0.0015672900320898293, J:0.027104532109978225\n",
            "it:120000, norm_grad:0.0014369449831814088, J:0.024852416213977727\n",
            "it:130000, norm_grad:0.0013266260112604247, J:0.02294612240861417\n",
            "it:140000, norm_grad:0.0012320463204993097, J:0.02131165339434886\n",
            "it:150000, norm_grad:0.0011500612621162705, J:0.019894721040601915\n",
            "it:160000, norm_grad:0.0010783116822938722, J:0.018654593507525942\n",
            "it:170000, norm_grad:0.0010149930635953237, J:0.017560112049319693\n",
            "it:172554, norm_grad:0.0009999966028023655, J:0.017300882956488683\n",
            "acc - tr:1.00 val:0.33 tst:0.30\n",
            "cross-validation: 3\n",
            "it:10000, norm_grad:0.018321054261672257, J:0.33886443076742023\n",
            "it:20000, norm_grad:0.009199332328857494, J:0.17034506741850147\n",
            "it:30000, norm_grad:0.006143683622827219, J:0.11382894838834598\n",
            "it:40000, norm_grad:0.004612509729105584, J:0.08549138829725655\n",
            "it:50000, norm_grad:0.003692591030694743, J:0.06845930461325987\n",
            "it:60000, norm_grad:0.0030787519691230125, J:0.05709072100101454\n",
            "it:70000, norm_grad:0.0026399966062527463, J:0.048962808398211044\n",
            "it:80000, norm_grad:0.0023107538813183924, J:0.04286240947621791\n",
            "it:90000, norm_grad:0.002054564577712185, J:0.03811480258701064\n",
            "it:100000, norm_grad:0.0018495384424289598, J:0.03431479517231027\n",
            "it:110000, norm_grad:0.0016817376152955758, J:0.031204347689455382\n",
            "it:120000, norm_grad:0.0015418658675908027, J:0.02861132644578247\n",
            "it:130000, norm_grad:0.001423484780994091, J:0.026416497767779684\n",
            "it:140000, norm_grad:0.0013219938873153111, J:0.024534654558882436\n",
            "it:150000, norm_grad:0.0012340184760957502, J:0.022903285479581162\n",
            "it:160000, norm_grad:0.001157026823357289, J:0.0214754894698128\n",
            "it:170000, norm_grad:0.0010890824295870796, J:0.020215388888678968\n",
            "it:180000, norm_grad:0.0010286787935308577, J:0.01909507032636719\n",
            "it:185172, norm_grad:0.0009999948126656099, J:0.018563039032621124\n",
            "acc - tr:1.00 val:0.25 tst:0.28\n",
            "cross-validation: 4\n",
            "it:10000, norm_grad:0.015335563075750054, J:0.2376538750880264\n",
            "it:20000, norm_grad:0.007703076111768121, J:0.11954380903683624\n",
            "it:30000, norm_grad:0.005145506277199178, J:0.07990922423656621\n",
            "it:40000, norm_grad:0.0038636453104150654, J:0.06002908359111839\n",
            "it:50000, norm_grad:0.0030933950685267672, J:0.04807735535655446\n",
            "it:60000, norm_grad:0.002579366727255056, J:0.04009836053096551\n",
            "it:70000, norm_grad:0.002211919620814369, J:0.0343930027216437\n",
            "it:80000, norm_grad:0.0019361659485558995, J:0.03011035121272838\n",
            "it:90000, norm_grad:0.001721583766652788, J:0.02677707170151302\n",
            "it:100000, norm_grad:0.0015498461103397732, J:0.024108875172395898\n",
            "it:110000, norm_grad:0.0014092831116220771, J:0.02192469765018907\n",
            "it:120000, norm_grad:0.0012921107686030078, J:0.02010374311617591\n",
            "it:130000, norm_grad:0.001192937718188723, J:0.018562331564156827\n",
            "it:140000, norm_grad:0.0011079114642775082, J:0.017240658938432685\n",
            "it:150000, norm_grad:0.0010342058554640133, J:0.016094847673859446\n",
            "it:155143, norm_grad:0.0009999937349004532, J:0.015562957326608659\n",
            "acc - tr:1.00 val:0.30 tst:0.29\n",
            "it:10000, norm_grad:0.03536572534154352, J:1.2710150322127256\n",
            "it:20000, norm_grad:0.01781870156750258, J:0.6408696749304741\n",
            "it:30000, norm_grad:0.01191193207635226, J:0.4286170127446059\n",
            "it:40000, norm_grad:0.008947216422825767, J:0.3220386143865705\n",
            "it:50000, norm_grad:0.00716459489697418, J:0.2579353541531044\n",
            "it:60000, norm_grad:0.005974530715318716, J:0.2151301506195335\n",
            "it:70000, norm_grad:0.005123642792080063, J:0.1845186932974748\n",
            "it:80000, norm_grad:0.00448499793988835, J:0.16153908971095943\n",
            "it:90000, norm_grad:0.003987979605605426, J:0.14365294989682886\n",
            "it:100000, norm_grad:0.0035901726792432545, J:0.12933536784868183\n",
            "it:110000, norm_grad:0.0032645628139820297, J:0.11761498671521323\n",
            "it:120000, norm_grad:0.002993127919942563, J:0.10784370303588486\n",
            "it:130000, norm_grad:0.002763383895900514, J:0.09957251755563347\n",
            "it:140000, norm_grad:0.0025664090950816456, J:0.09248052430800811\n",
            "it:150000, norm_grad:0.0023956581621122097, J:0.08633226908440488\n",
            "it:160000, norm_grad:0.0022462202300024044, J:0.0809510795777017\n",
            "it:170000, norm_grad:0.002114338676417124, J:0.07620179770530423\n",
            "it:180000, norm_grad:0.001997090812688394, J:0.07197926150133137\n",
            "it:190000, norm_grad:0.001892168633499279, J:0.06820042043907773\n",
            "it:200000, norm_grad:0.0017977252851731412, J:0.06479881371783155\n",
            "it:210000, norm_grad:0.0017122653638192583, J:0.061720624601599085\n",
            "it:220000, norm_grad:0.0016345651081610408, J:0.05892180979793436\n",
            "it:230000, norm_grad:0.001563613395419579, J:0.05636597698260612\n",
            "it:240000, norm_grad:0.001498567477125152, J:0.054022792450861994\n",
            "it:250000, norm_grad:0.00143871933050604, J:0.05186677058572732\n",
            "it:260000, norm_grad:0.001383469769402944, J:0.04987634243194015\n",
            "it:270000, norm_grad:0.0013323083043071588, J:0.04803313107356136\n",
            "it:280000, norm_grad:0.0012847973151564286, J:0.04632138215544636\n",
            "it:290000, norm_grad:0.001240559496560999, J:0.04472751212939139\n",
            "it:300000, norm_grad:0.001199267812334652, J:0.04323974677678613\n",
            "it:310000, norm_grad:0.00116063739309348, J:0.041847829638238444\n",
            "it:320000, norm_grad:0.001124418952089121, J:0.04054278506916592\n",
            "it:330000, norm_grad:0.0010903933974311913, J:0.03931672434254994\n",
            "it:340000, norm_grad:0.0010583673945418746, J:0.03816268594259324\n",
            "it:350000, norm_grad:0.001028169688854308, J:0.037074503215741295\n",
            "it:359874, norm_grad:0.000999997563040083, J:0.03605928961559429\n",
            "Melhor acurácia no validação obtida com os parametros alpha:[ 0.1] theta:[ 0.001]. Treino final: 1.0000 Teste:0.3072\n",
            "Fim da Execução: 21/01/2023 14:45:38\n"
          ]
        }
      ],
      "source": [
        "modelo = 'Regressão Logística Multinomial Passo Fixo'\n",
        "\n",
        "log = pipeline_integrated_onedim(nome_do_modelo=modelo, \n",
        "                          classifier= Multinomial_LogReg.MultinomialLogReg(),\n",
        "                          param_iteracao= {'alpha':[0.1]},\n",
        "                          param_fixo=['theta',0.001],\n",
        "                          data={'X_train':X_train_pca, 'X_test':X_test_pca, 'y_train':y_train_n, 'y_test':y_test_n} )\n",
        "\n",
        "log_df = dictlog_to_flat_table(log)\n",
        "logs = logs.append(log_df,ignore_index=True)"
      ]
    },
    {
      "cell_type": "code",
      "execution_count": 23,
      "metadata": {
        "id": "pyFaR2riwYtz",
        "colab": {
          "base_uri": "https://localhost:8080/"
        },
        "outputId": "a1b5298f-ecb0-412a-b6a2-ed1f69288284"
      },
      "outputs": [
        {
          "output_type": "stream",
          "name": "stdout",
          "text": [
            "Pipeline de testes para o modelo: Regressão Logística Multinomial com Bisseção\n",
            "Execução em: 21/01/2023 14:45:39\n",
            "====================================================================\n",
            "iteração:1\n",
            "Testando parametros:\n",
            " itmax_bissec:[ 5] theta:[ 0.001]\n",
            "====================================================================\n",
            "cross-validation: 0\n",
            "iteracao: 0 norm_grad: 375.2940371963799\n",
            "it:1000, norm_grad:0.0029779390239837657, J:0.04591878551357597, alpha_b:9.734530124479395, hl:8.027281417784909e-07\n",
            "it:1097, norm_grad:0.0009714223373315872, J:0.017737074853078363, alpha_b:43.221013224487876, hl:9.932528708952802e-07\n",
            "acc - tr:1.00 val:0.31 tst:0.29\n",
            "cross-validation: 1\n",
            "iteracao: 0 norm_grad: 387.9668895454582\n",
            "it:815, norm_grad:0.0009192693494659348, J:0.016289923408716926, alpha_b:59.159390825928085, hl:8.540984862338518e-07\n",
            "acc - tr:1.00 val:0.27 tst:0.31\n",
            "cross-validation: 2\n",
            "iteracao: 0 norm_grad: 374.6006172346722\n",
            "it:872, norm_grad:0.0009949669081771118, J:0.016819130239000682, alpha_b:45.68150565552056, hl:2.1088416675861596e-07\n",
            "acc - tr:1.00 val:0.34 tst:0.30\n",
            "cross-validation: 3\n",
            "iteracao: 0 norm_grad: 386.27023317816077\n",
            "it:1000, norm_grad:0.009453149059367652, J:0.13117857188974563, alpha_b:8.133149177407265, hl:0.00020783795024568931\n",
            "it:1154, norm_grad:0.000973243898874737, J:0.016909279371791097, alpha_b:60.349740565368606, hl:5.887784826679391e-07\n",
            "acc - tr:1.00 val:0.25 tst:0.28\n",
            "cross-validation: 4\n",
            "iteracao: 0 norm_grad: 385.4973701241811\n",
            "it:626, norm_grad:0.00098423113222816, J:0.013259749878756286, alpha_b:84.11365511128656, hl:2.339672572112092e-06\n",
            "acc - tr:1.00 val:0.31 tst:0.29\n",
            "Execução em: 21/01/2023 14:48:52\n",
            "====================================================================\n",
            "iteração:2\n",
            "Testando parametros:\n",
            " itmax_bissec:[ 20] theta:[ 0.001]\n",
            "====================================================================\n",
            "cross-validation: 0\n",
            "iteracao: 0 norm_grad: 376.40676609415806\n",
            "it:1000, norm_grad:11.190209794307911, J:160.01381997585855, alpha_b:7.412327533922198e-08, hl:219.51225884576905\n",
            "it:2000, norm_grad:2.2371752787159065, J:38.9589209290132, alpha_b:2.2609543663754424e-07, hl:3.3523971440664173\n",
            "it:3000, norm_grad:0.0041837082273149025, J:0.031434443750597785, alpha_b:18.825236010864327, hl:1.0878269067271478e-05\n",
            "it:3070, norm_grad:0.000929515025523464, J:0.01749220612750887, alpha_b:46.62650039580183, hl:5.963795536617951e-07\n",
            "acc - tr:1.00 val:0.31 tst:0.29\n",
            "cross-validation: 1\n",
            "iteracao: 0 norm_grad: 385.9937358346452\n",
            "it:1000, norm_grad:14.092548931890077, J:100.41295812832892, alpha_b:1.4821931620902628e-07, hl:824.905349349718\n",
            "it:2000, norm_grad:0.01156183365107227, J:0.07829926920035264, alpha_b:80.703667816174, hl:2.8683635594792058e-05\n",
            "it:2112, norm_grad:0.0009996765231989754, J:0.016920109977436978, alpha_b:67.23532241054451, hl:1.451872928223424e-06\n",
            "acc - tr:1.00 val:0.26 tst:0.31\n",
            "cross-validation: 2\n",
            "iteracao: 0 norm_grad: 368.3063624939774\n",
            "it:1000, norm_grad:2.5071157720167285, J:19.451292612272255, alpha_b:7.414796259309097e-08, hl:3.4837813396940005\n",
            "it:1829, norm_grad:0.0009577237059277166, J:0.015951769071462202, alpha_b:68.11095746204688, hl:2.427570210411424e-07\n",
            "acc - tr:1.00 val:0.34 tst:0.30\n",
            "cross-validation: 3\n",
            "iteracao: 0 norm_grad: 376.64264514872633\n",
            "it:1000, norm_grad:3.99455759520291, J:54.18362289930189, alpha_b:4.475824888602645e-07, hl:118.39058471979827\n",
            "it:2000, norm_grad:0.14943779897783294, J:2.7148615329876464, alpha_b:0.4175360853211547, hl:0.024678963556081752\n",
            "it:2449, norm_grad:0.000936890909338908, J:0.01648602663478677, alpha_b:61.84124928322082, hl:2.440253408123926e-08\n",
            "acc - tr:1.00 val:0.25 tst:0.28\n",
            "cross-validation: 4\n",
            "iteracao: 0 norm_grad: 379.9074618763876\n",
            "it:1000, norm_grad:3.144240144563663, J:34.60672097225527, alpha_b:2.5908699997734155e-07, hl:37.30886994926903\n",
            "it:1649, norm_grad:0.0009617081918260938, J:0.014126892252191815, alpha_b:130.06970498886534, hl:2.2056122708773606e-07\n",
            "acc - tr:1.00 val:0.31 tst:0.29\n",
            "iteracao: 0 norm_grad: 463.6999835137829\n",
            "it:1000, norm_grad:13.159325464416364, J:340.67857575350234, alpha_b:3.010762510159856e-07, hl:544.9353370462735\n",
            "it:2000, norm_grad:24.580688041090944, J:166.4105185910662, alpha_b:1.0700822959289255e-07, hl:1539.038620845949\n",
            "it:3000, norm_grad:9.198215205019816, J:103.95967065863374, alpha_b:3.6997309634383913e-07, hl:437.70598768627315\n",
            "it:4000, norm_grad:2.874770496191994, J:42.367989165806605, alpha_b:4.5664551727364844e-07, hl:103.276676285754\n",
            "it:5000, norm_grad:1.0595611451477187, J:24.35655510461193, alpha_b:1.8250869476032222e-07, hl:2.5246962852748993\n",
            "it:6000, norm_grad:0.4235821163666976, J:6.539917795703547, alpha_b:2.5141858259718375e-07, hl:0.24507969734984936\n",
            "it:7000, norm_grad:0.0038631328195290805, J:0.13268924498856258, alpha_b:6.906206673561866, hl:7.402292982110343e-06\n",
            "it:7327, norm_grad:0.0009796228484527506, J:0.03341685210340007, alpha_b:25.969744605384815, hl:7.731502785601913e-07\n",
            "Melhor acurácia no validação obtida com os parametros itmax_bissec:[ 5] theta:[ 0.001]. Treino final: 1.0000 Teste:0.3095\n",
            "Fim da Execução: 21/01/2023 15:22:46\n"
          ]
        }
      ],
      "source": [
        "modelo = 'Regressão Logística Multinomial com Bisseção'\n",
        "\n",
        "log = pipeline_integrated_onedim(nome_do_modelo=modelo, \n",
        "                          classifier= Multinomial_LogReg.MultinomialLogReg_bissecao(),\n",
        "                          param_iteracao= {'itmax_bissec':[5, 20]},\n",
        "                          param_fixo=['theta',0.001],\n",
        "                          data={'X_train':X_train_pca, 'X_test':X_test_pca, 'y_train':y_train_n, 'y_test':y_test_n} )\n",
        "\n",
        "log_df = dictlog_to_flat_table(log)\n",
        "logs = logs.append(log_df,ignore_index=True)"
      ]
    },
    {
      "cell_type": "markdown",
      "metadata": {
        "id": "j50V1Z33zHM0"
      },
      "source": [
        "# SVM"
      ]
    },
    {
      "cell_type": "code",
      "execution_count": 24,
      "metadata": {
        "id": "46TpRSsKzJgB",
        "colab": {
          "base_uri": "https://localhost:8080/"
        },
        "outputId": "8c9d31c9-a29b-427b-f931-7401d1a79e8c"
      },
      "outputs": [
        {
          "metadata": {
            "tags": null
          },
          "name": "stdout",
          "output_type": "stream",
          "text": [
            "Pipeline de testes para o modelo: SVM Classificador Kernel RBF C=1\n",
            "Execução em: 21/01/2023 15:22:46\n",
            "====================================================================\n",
            "iteração:1\n",
            "Testando parametros:\n",
            " sigma:[ 0.001] C:[ 1]\n",
            "====================================================================\n",
            "cross-validation: 0\n"
          ]
        },
        {
          "metadata": {
            "tags": null
          },
          "name": "stderr",
          "output_type": "stream",
          "text": [
            "100%|██████████| 50/50 [00:14<00:00,  3.53it/s]\n"
          ]
        },
        {
          "metadata": {
            "tags": null
          },
          "name": "stdout",
          "output_type": "stream",
          "text": [
            "acc - tr:1.00 val:0.02 tst:0.02\n",
            "cross-validation: 1\n"
          ]
        },
        {
          "metadata": {
            "tags": null
          },
          "name": "stderr",
          "output_type": "stream",
          "text": [
            "100%|██████████| 50/50 [00:14<00:00,  3.41it/s]\n"
          ]
        },
        {
          "metadata": {
            "tags": null
          },
          "name": "stdout",
          "output_type": "stream",
          "text": [
            "acc - tr:1.00 val:0.01 tst:0.02\n",
            "cross-validation: 2\n"
          ]
        },
        {
          "metadata": {
            "tags": null
          },
          "name": "stderr",
          "output_type": "stream",
          "text": [
            "100%|██████████| 50/50 [00:14<00:00,  3.35it/s]\n"
          ]
        },
        {
          "metadata": {
            "tags": null
          },
          "name": "stdout",
          "output_type": "stream",
          "text": [
            "acc - tr:1.00 val:0.02 tst:0.02\n",
            "cross-validation: 3\n"
          ]
        },
        {
          "metadata": {
            "tags": null
          },
          "name": "stderr",
          "output_type": "stream",
          "text": [
            "100%|██████████| 50/50 [00:14<00:00,  3.55it/s]\n"
          ]
        },
        {
          "metadata": {
            "tags": null
          },
          "name": "stdout",
          "output_type": "stream",
          "text": [
            "acc - tr:1.00 val:0.03 tst:0.02\n",
            "cross-validation: 4\n"
          ]
        },
        {
          "metadata": {
            "tags": null
          },
          "name": "stderr",
          "output_type": "stream",
          "text": [
            "100%|██████████| 50/50 [00:14<00:00,  3.43it/s]\n"
          ]
        },
        {
          "metadata": {
            "tags": null
          },
          "name": "stdout",
          "output_type": "stream",
          "text": [
            "acc - tr:1.00 val:0.02 tst:0.02\n",
            "Execução em: 21/01/2023 15:33:11\n",
            "====================================================================\n",
            "iteração:2\n",
            "Testando parametros:\n",
            " sigma:[ 0.01] C:[ 1]\n",
            "====================================================================\n",
            "cross-validation: 0\n"
          ]
        },
        {
          "metadata": {
            "tags": null
          },
          "name": "stderr",
          "output_type": "stream",
          "text": [
            "100%|██████████| 50/50 [00:13<00:00,  3.60it/s]\n"
          ]
        },
        {
          "metadata": {
            "tags": null
          },
          "name": "stdout",
          "output_type": "stream",
          "text": [
            "acc - tr:1.00 val:0.02 tst:0.02\n",
            "cross-validation: 1\n"
          ]
        },
        {
          "metadata": {
            "tags": null
          },
          "name": "stderr",
          "output_type": "stream",
          "text": [
            "100%|██████████| 50/50 [00:14<00:00,  3.51it/s]\n"
          ]
        },
        {
          "metadata": {
            "tags": null
          },
          "name": "stdout",
          "output_type": "stream",
          "text": [
            "acc - tr:1.00 val:0.01 tst:0.02\n",
            "cross-validation: 2\n"
          ]
        },
        {
          "metadata": {
            "tags": null
          },
          "name": "stderr",
          "output_type": "stream",
          "text": [
            "100%|██████████| 50/50 [00:14<00:00,  3.43it/s]\n"
          ]
        },
        {
          "metadata": {
            "tags": null
          },
          "name": "stdout",
          "output_type": "stream",
          "text": [
            "acc - tr:1.00 val:0.02 tst:0.02\n",
            "cross-validation: 3\n"
          ]
        },
        {
          "metadata": {
            "tags": null
          },
          "name": "stderr",
          "output_type": "stream",
          "text": [
            "100%|██████████| 50/50 [00:14<00:00,  3.49it/s]\n"
          ]
        },
        {
          "output_type": "stream",
          "name": "stdout",
          "text": [
            "acc - tr:1.00 val:0.03 tst:0.02\n",
            "cross-validation: 4\n"
          ]
        },
        {
          "output_type": "stream",
          "name": "stderr",
          "text": [
            "100%|██████████| 50/50 [00:14<00:00,  3.57it/s]\n"
          ]
        },
        {
          "output_type": "stream",
          "name": "stdout",
          "text": [
            "acc - tr:1.00 val:0.02 tst:0.02\n",
            "Execução em: 21/01/2023 15:43:27\n",
            "====================================================================\n",
            "iteração:3\n",
            "Testando parametros:\n",
            " sigma:[ 0.1] C:[ 1]\n",
            "====================================================================\n",
            "cross-validation: 0\n"
          ]
        },
        {
          "output_type": "stream",
          "name": "stderr",
          "text": [
            "100%|██████████| 50/50 [00:14<00:00,  3.52it/s]\n"
          ]
        },
        {
          "output_type": "stream",
          "name": "stdout",
          "text": [
            "acc - tr:1.00 val:0.06 tst:0.08\n",
            "cross-validation: 1\n"
          ]
        },
        {
          "output_type": "stream",
          "name": "stderr",
          "text": [
            "100%|██████████| 50/50 [00:14<00:00,  3.55it/s]\n"
          ]
        },
        {
          "output_type": "stream",
          "name": "stdout",
          "text": [
            "acc - tr:1.00 val:0.02 tst:0.07\n",
            "cross-validation: 2\n"
          ]
        },
        {
          "output_type": "stream",
          "name": "stderr",
          "text": [
            "100%|██████████| 50/50 [00:13<00:00,  3.60it/s]\n"
          ]
        },
        {
          "output_type": "stream",
          "name": "stdout",
          "text": [
            "acc - tr:1.00 val:0.05 tst:0.07\n",
            "cross-validation: 3\n"
          ]
        },
        {
          "output_type": "stream",
          "name": "stderr",
          "text": [
            "100%|██████████| 50/50 [00:13<00:00,  3.57it/s]\n"
          ]
        },
        {
          "output_type": "stream",
          "name": "stdout",
          "text": [
            "acc - tr:1.00 val:0.07 tst:0.08\n",
            "cross-validation: 4\n"
          ]
        },
        {
          "output_type": "stream",
          "name": "stderr",
          "text": [
            "100%|██████████| 50/50 [00:14<00:00,  3.55it/s]\n"
          ]
        },
        {
          "output_type": "stream",
          "name": "stdout",
          "text": [
            "acc - tr:1.00 val:0.03 tst:0.07\n",
            "Execução em: 21/01/2023 15:53:41\n",
            "====================================================================\n",
            "iteração:4\n",
            "Testando parametros:\n",
            " sigma:[ 1] C:[ 1]\n",
            "====================================================================\n",
            "cross-validation: 0\n"
          ]
        },
        {
          "output_type": "stream",
          "name": "stderr",
          "text": [
            "100%|██████████| 50/50 [00:13<00:00,  3.69it/s]\n"
          ]
        },
        {
          "output_type": "stream",
          "name": "stdout",
          "text": [
            "acc - tr:1.00 val:0.33 tst:0.39\n",
            "cross-validation: 1\n"
          ]
        },
        {
          "output_type": "stream",
          "name": "stderr",
          "text": [
            "100%|██████████| 50/50 [00:13<00:00,  3.63it/s]\n"
          ]
        },
        {
          "output_type": "stream",
          "name": "stdout",
          "text": [
            "acc - tr:1.00 val:0.33 tst:0.40\n",
            "cross-validation: 2\n"
          ]
        },
        {
          "output_type": "stream",
          "name": "stderr",
          "text": [
            "100%|██████████| 50/50 [00:14<00:00,  3.42it/s]\n"
          ]
        },
        {
          "output_type": "stream",
          "name": "stdout",
          "text": [
            "acc - tr:1.00 val:0.34 tst:0.39\n",
            "cross-validation: 3\n"
          ]
        },
        {
          "output_type": "stream",
          "name": "stderr",
          "text": [
            "100%|██████████| 50/50 [00:14<00:00,  3.54it/s]\n"
          ]
        },
        {
          "output_type": "stream",
          "name": "stdout",
          "text": [
            "acc - tr:1.00 val:0.34 tst:0.36\n",
            "cross-validation: 4\n"
          ]
        },
        {
          "output_type": "stream",
          "name": "stderr",
          "text": [
            "100%|██████████| 50/50 [00:13<00:00,  3.69it/s]\n"
          ]
        },
        {
          "output_type": "stream",
          "name": "stdout",
          "text": [
            "acc - tr:1.00 val:0.35 tst:0.37\n"
          ]
        },
        {
          "output_type": "stream",
          "name": "stderr",
          "text": [
            "100%|██████████| 50/50 [00:19<00:00,  2.55it/s]\n"
          ]
        },
        {
          "output_type": "stream",
          "name": "stdout",
          "text": [
            "Melhor acurácia no validação obtida com os parametros sigma:[ 1] C:[ 1]. Treino final: 1.0000 Teste:0.4180\n",
            "Fim da Execução: 21/01/2023 16:06:08\n"
          ]
        }
      ],
      "source": [
        "modelo = 'SVM Classificador Kernel RBF C=1'\n",
        "\n",
        "log = pipeline_integrated_onedim(nome_do_modelo=modelo, \n",
        "                          classifier=  SVM_OVR.SVM_one_vs_all(),\n",
        "                          param_iteracao= {'sigma':[0.001, 0.01, 0.1,1]},\n",
        "                          param_fixo=['C',1],\n",
        "                          data={'X_train':X_train_pca, 'X_test':X_test_pca, 'y_train':y_train_n, 'y_test':y_test_n})\n",
        "\n",
        "log_df = dictlog_to_flat_table(log)\n",
        "logs = logs.append(log_df,ignore_index=True)"
      ]
    },
    {
      "cell_type": "code",
      "execution_count": 25,
      "metadata": {
        "id": "2snFIIhe5O2a",
        "colab": {
          "base_uri": "https://localhost:8080/"
        },
        "outputId": "a0a2c2c5-64bc-4d6b-9c71-9e5153b7e092"
      },
      "outputs": [
        {
          "metadata": {
            "tags": null
          },
          "name": "stdout",
          "output_type": "stream",
          "text": [
            "Pipeline de testes para o modelo: SVM Classificador Kernel RBF C=100\n",
            "Execução em: 21/01/2023 16:06:08\n",
            "====================================================================\n",
            "iteração:1\n",
            "Testando parametros:\n",
            " sigma:[ 0.001] C:[ 100]\n",
            "====================================================================\n",
            "cross-validation: 0\n"
          ]
        },
        {
          "metadata": {
            "tags": null
          },
          "name": "stderr",
          "output_type": "stream",
          "text": [
            "100%|██████████| 50/50 [00:14<00:00,  3.50it/s]\n"
          ]
        },
        {
          "metadata": {
            "tags": null
          },
          "name": "stdout",
          "output_type": "stream",
          "text": [
            "acc - tr:1.00 val:0.02 tst:0.02\n",
            "cross-validation: 1\n"
          ]
        },
        {
          "metadata": {
            "tags": null
          },
          "name": "stderr",
          "output_type": "stream",
          "text": [
            "100%|██████████| 50/50 [00:14<00:00,  3.48it/s]\n"
          ]
        },
        {
          "metadata": {
            "tags": null
          },
          "name": "stdout",
          "output_type": "stream",
          "text": [
            "acc - tr:1.00 val:0.01 tst:0.02\n",
            "cross-validation: 2\n"
          ]
        },
        {
          "metadata": {
            "tags": null
          },
          "name": "stderr",
          "output_type": "stream",
          "text": [
            "100%|██████████| 50/50 [00:14<00:00,  3.50it/s]\n"
          ]
        },
        {
          "metadata": {
            "tags": null
          },
          "name": "stdout",
          "output_type": "stream",
          "text": [
            "acc - tr:1.00 val:0.02 tst:0.02\n",
            "cross-validation: 3\n"
          ]
        },
        {
          "metadata": {
            "tags": null
          },
          "name": "stderr",
          "output_type": "stream",
          "text": [
            "100%|██████████| 50/50 [00:14<00:00,  3.50it/s]\n"
          ]
        },
        {
          "metadata": {
            "tags": null
          },
          "name": "stdout",
          "output_type": "stream",
          "text": [
            "acc - tr:1.00 val:0.03 tst:0.02\n",
            "cross-validation: 4\n"
          ]
        },
        {
          "metadata": {
            "tags": null
          },
          "name": "stderr",
          "output_type": "stream",
          "text": [
            "100%|██████████| 50/50 [00:14<00:00,  3.51it/s]\n"
          ]
        },
        {
          "metadata": {
            "tags": null
          },
          "name": "stdout",
          "output_type": "stream",
          "text": [
            "acc - tr:1.00 val:0.02 tst:0.02\n",
            "Execução em: 21/01/2023 16:16:24\n",
            "====================================================================\n",
            "iteração:2\n",
            "Testando parametros:\n",
            " sigma:[ 0.1] C:[ 100]\n",
            "====================================================================\n",
            "cross-validation: 0\n"
          ]
        },
        {
          "metadata": {
            "tags": null
          },
          "name": "stderr",
          "output_type": "stream",
          "text": [
            "100%|██████████| 50/50 [00:14<00:00,  3.38it/s]\n"
          ]
        },
        {
          "output_type": "stream",
          "name": "stdout",
          "text": [
            "acc - tr:1.00 val:0.06 tst:0.08\n",
            "cross-validation: 1\n"
          ]
        },
        {
          "output_type": "stream",
          "name": "stderr",
          "text": [
            "100%|██████████| 50/50 [00:14<00:00,  3.54it/s]\n"
          ]
        },
        {
          "output_type": "stream",
          "name": "stdout",
          "text": [
            "acc - tr:1.00 val:0.02 tst:0.07\n",
            "cross-validation: 2\n"
          ]
        },
        {
          "output_type": "stream",
          "name": "stderr",
          "text": [
            "100%|██████████| 50/50 [00:13<00:00,  3.59it/s]\n"
          ]
        },
        {
          "output_type": "stream",
          "name": "stdout",
          "text": [
            "acc - tr:1.00 val:0.05 tst:0.07\n",
            "cross-validation: 3\n"
          ]
        },
        {
          "output_type": "stream",
          "name": "stderr",
          "text": [
            "100%|██████████| 50/50 [00:14<00:00,  3.52it/s]\n"
          ]
        },
        {
          "output_type": "stream",
          "name": "stdout",
          "text": [
            "acc - tr:1.00 val:0.07 tst:0.08\n",
            "cross-validation: 4\n"
          ]
        },
        {
          "output_type": "stream",
          "name": "stderr",
          "text": [
            "100%|██████████| 50/50 [00:14<00:00,  3.50it/s]\n"
          ]
        },
        {
          "output_type": "stream",
          "name": "stdout",
          "text": [
            "acc - tr:1.00 val:0.03 tst:0.07\n",
            "Execução em: 21/01/2023 16:26:41\n",
            "====================================================================\n",
            "iteração:3\n",
            "Testando parametros:\n",
            " sigma:[ 1] C:[ 100]\n",
            "====================================================================\n",
            "cross-validation: 0\n"
          ]
        },
        {
          "output_type": "stream",
          "name": "stderr",
          "text": [
            "100%|██████████| 50/50 [00:13<00:00,  3.58it/s]\n"
          ]
        },
        {
          "output_type": "stream",
          "name": "stdout",
          "text": [
            "acc - tr:1.00 val:0.33 tst:0.39\n",
            "cross-validation: 1\n"
          ]
        },
        {
          "output_type": "stream",
          "name": "stderr",
          "text": [
            "100%|██████████| 50/50 [00:13<00:00,  3.60it/s]\n"
          ]
        },
        {
          "output_type": "stream",
          "name": "stdout",
          "text": [
            "acc - tr:1.00 val:0.33 tst:0.40\n",
            "cross-validation: 2\n"
          ]
        },
        {
          "output_type": "stream",
          "name": "stderr",
          "text": [
            "100%|██████████| 50/50 [00:13<00:00,  3.61it/s]\n"
          ]
        },
        {
          "output_type": "stream",
          "name": "stdout",
          "text": [
            "acc - tr:1.00 val:0.34 tst:0.39\n",
            "cross-validation: 3\n"
          ]
        },
        {
          "output_type": "stream",
          "name": "stderr",
          "text": [
            "100%|██████████| 50/50 [00:14<00:00,  3.55it/s]\n"
          ]
        },
        {
          "output_type": "stream",
          "name": "stdout",
          "text": [
            "acc - tr:1.00 val:0.34 tst:0.36\n",
            "cross-validation: 4\n"
          ]
        },
        {
          "output_type": "stream",
          "name": "stderr",
          "text": [
            "100%|██████████| 50/50 [00:14<00:00,  3.56it/s]\n"
          ]
        },
        {
          "output_type": "stream",
          "name": "stdout",
          "text": [
            "acc - tr:1.00 val:0.35 tst:0.36\n"
          ]
        },
        {
          "output_type": "stream",
          "name": "stderr",
          "text": [
            "100%|██████████| 50/50 [00:20<00:00,  2.49it/s]\n"
          ]
        },
        {
          "output_type": "stream",
          "name": "stdout",
          "text": [
            "Melhor acurácia no validação obtida com os parametros sigma:[ 1] C:[ 100]. Treino final: 1.0000 Teste:0.4180\n",
            "Fim da Execução: 21/01/2023 16:39:08\n"
          ]
        }
      ],
      "source": [
        "modelo = 'SVM Classificador Kernel RBF C=100'\n",
        "\n",
        "log = pipeline_integrated_onedim(nome_do_modelo=modelo, \n",
        "                          classifier=  SVM_OVR.SVM_one_vs_all(),\n",
        "                          param_iteracao= {'sigma':[0.001, 0.1,1]},\n",
        "                          param_fixo=['C',100],\n",
        "                          data={'X_train':X_train_pca, 'X_test':X_test_pca, 'y_train':y_train_n, 'y_test':y_test_n})\n",
        "\n",
        "log_df = dictlog_to_flat_table(log)\n",
        "logs = logs.append(log_df)"
      ]
    },
    {
      "cell_type": "code",
      "source": [
        "modelo = 'SVM Classificador Kernel RBF C=1000'\n",
        "\n",
        "log = pipeline_integrated_onedim(nome_do_modelo=modelo, \n",
        "                          classifier=  SVM_OVR.SVM_one_vs_all(),\n",
        "                          param_iteracao= {'sigma':[0.001, 0.1,1]},\n",
        "                          param_fixo=['C',1000],\n",
        "                          data={'X_train':X_train_pca, 'X_test':X_test_pca, 'y_train':y_train_n, 'y_test':y_test_n})\n",
        "\n",
        "log_df = dictlog_to_flat_table(log)\n",
        "logs = logs.append(log_df)"
      ],
      "metadata": {
        "colab": {
          "base_uri": "https://localhost:8080/"
        },
        "id": "69HXLqjtqmRM",
        "outputId": "e8c15101-d4a7-489e-a58e-6f8ab1ed35e0"
      },
      "execution_count": 26,
      "outputs": [
        {
          "metadata": {
            "tags": null
          },
          "name": "stdout",
          "output_type": "stream",
          "text": [
            "Pipeline de testes para o modelo: SVM Classificador Kernel RBF C=1000\n",
            "Execução em: 21/01/2023 16:39:08\n",
            "====================================================================\n",
            "iteração:1\n",
            "Testando parametros:\n",
            " sigma:[ 0.001] C:[ 1000]\n",
            "====================================================================\n",
            "cross-validation: 0\n"
          ]
        },
        {
          "metadata": {
            "tags": null
          },
          "name": "stderr",
          "output_type": "stream",
          "text": [
            "100%|██████████| 50/50 [00:15<00:00,  3.30it/s]\n"
          ]
        },
        {
          "metadata": {
            "tags": null
          },
          "name": "stdout",
          "output_type": "stream",
          "text": [
            "acc - tr:1.00 val:0.02 tst:0.02\n",
            "cross-validation: 1\n"
          ]
        },
        {
          "metadata": {
            "tags": null
          },
          "name": "stderr",
          "output_type": "stream",
          "text": [
            "100%|██████████| 50/50 [00:14<00:00,  3.42it/s]\n"
          ]
        },
        {
          "metadata": {
            "tags": null
          },
          "name": "stdout",
          "output_type": "stream",
          "text": [
            "acc - tr:1.00 val:0.01 tst:0.02\n",
            "cross-validation: 2\n"
          ]
        },
        {
          "metadata": {
            "tags": null
          },
          "name": "stderr",
          "output_type": "stream",
          "text": [
            "100%|██████████| 50/50 [00:14<00:00,  3.45it/s]\n"
          ]
        },
        {
          "metadata": {
            "tags": null
          },
          "name": "stdout",
          "output_type": "stream",
          "text": [
            "acc - tr:1.00 val:0.02 tst:0.02\n",
            "cross-validation: 3\n"
          ]
        },
        {
          "metadata": {
            "tags": null
          },
          "name": "stderr",
          "output_type": "stream",
          "text": [
            "100%|██████████| 50/50 [00:14<00:00,  3.45it/s]\n"
          ]
        },
        {
          "metadata": {
            "tags": null
          },
          "name": "stdout",
          "output_type": "stream",
          "text": [
            "acc - tr:1.00 val:0.03 tst:0.02\n",
            "cross-validation: 4\n"
          ]
        },
        {
          "metadata": {
            "tags": null
          },
          "name": "stderr",
          "output_type": "stream",
          "text": [
            "100%|██████████| 50/50 [00:14<00:00,  3.45it/s]\n"
          ]
        },
        {
          "metadata": {
            "tags": null
          },
          "name": "stdout",
          "output_type": "stream",
          "text": [
            "acc - tr:1.00 val:0.02 tst:0.02\n",
            "Execução em: 21/01/2023 16:49:30\n",
            "====================================================================\n",
            "iteração:2\n",
            "Testando parametros:\n",
            " sigma:[ 0.1] C:[ 1000]\n",
            "====================================================================\n",
            "cross-validation: 0\n"
          ]
        },
        {
          "metadata": {
            "tags": null
          },
          "name": "stderr",
          "output_type": "stream",
          "text": [
            "100%|██████████| 50/50 [00:14<00:00,  3.47it/s]\n"
          ]
        },
        {
          "metadata": {
            "tags": null
          },
          "name": "stdout",
          "output_type": "stream",
          "text": [
            "acc - tr:1.00 val:0.06 tst:0.08\n",
            "cross-validation: 1\n"
          ]
        },
        {
          "metadata": {
            "tags": null
          },
          "name": "stderr",
          "output_type": "stream",
          "text": [
            "100%|██████████| 50/50 [00:14<00:00,  3.44it/s]\n"
          ]
        },
        {
          "metadata": {
            "tags": null
          },
          "name": "stdout",
          "output_type": "stream",
          "text": [
            "acc - tr:1.00 val:0.02 tst:0.07\n",
            "cross-validation: 2\n"
          ]
        },
        {
          "metadata": {
            "tags": null
          },
          "name": "stderr",
          "output_type": "stream",
          "text": [
            "100%|██████████| 50/50 [00:14<00:00,  3.44it/s]\n"
          ]
        },
        {
          "metadata": {
            "tags": null
          },
          "name": "stdout",
          "output_type": "stream",
          "text": [
            "acc - tr:1.00 val:0.05 tst:0.07\n",
            "cross-validation: 3\n"
          ]
        },
        {
          "metadata": {
            "tags": null
          },
          "name": "stderr",
          "output_type": "stream",
          "text": [
            "100%|██████████| 50/50 [00:14<00:00,  3.44it/s]\n"
          ]
        },
        {
          "metadata": {
            "tags": null
          },
          "name": "stdout",
          "output_type": "stream",
          "text": [
            "acc - tr:1.00 val:0.07 tst:0.08\n",
            "cross-validation: 4\n"
          ]
        },
        {
          "metadata": {
            "tags": null
          },
          "name": "stderr",
          "output_type": "stream",
          "text": [
            "100%|██████████| 50/50 [00:14<00:00,  3.36it/s]\n"
          ]
        },
        {
          "metadata": {
            "tags": null
          },
          "name": "stdout",
          "output_type": "stream",
          "text": [
            "acc - tr:1.00 val:0.03 tst:0.07\n",
            "Execução em: 21/01/2023 16:59:49\n",
            "====================================================================\n",
            "iteração:3\n",
            "Testando parametros:\n",
            " sigma:[ 1] C:[ 1000]\n",
            "====================================================================\n",
            "cross-validation: 0\n"
          ]
        },
        {
          "metadata": {
            "tags": null
          },
          "name": "stderr",
          "output_type": "stream",
          "text": [
            "100%|██████████| 50/50 [00:14<00:00,  3.53it/s]\n"
          ]
        },
        {
          "output_type": "stream",
          "name": "stdout",
          "text": [
            "acc - tr:1.00 val:0.33 tst:0.39\n",
            "cross-validation: 1\n"
          ]
        },
        {
          "output_type": "stream",
          "name": "stderr",
          "text": [
            "100%|██████████| 50/50 [00:14<00:00,  3.50it/s]\n"
          ]
        },
        {
          "output_type": "stream",
          "name": "stdout",
          "text": [
            "acc - tr:1.00 val:0.33 tst:0.40\n",
            "cross-validation: 2\n"
          ]
        },
        {
          "output_type": "stream",
          "name": "stderr",
          "text": [
            "100%|██████████| 50/50 [00:13<00:00,  3.62it/s]\n"
          ]
        },
        {
          "output_type": "stream",
          "name": "stdout",
          "text": [
            "acc - tr:1.00 val:0.34 tst:0.39\n",
            "cross-validation: 3\n"
          ]
        },
        {
          "output_type": "stream",
          "name": "stderr",
          "text": [
            "100%|██████████| 50/50 [00:13<00:00,  3.57it/s]\n"
          ]
        },
        {
          "output_type": "stream",
          "name": "stdout",
          "text": [
            "acc - tr:1.00 val:0.34 tst:0.36\n",
            "cross-validation: 4\n"
          ]
        },
        {
          "output_type": "stream",
          "name": "stderr",
          "text": [
            "100%|██████████| 50/50 [00:14<00:00,  3.53it/s]\n"
          ]
        },
        {
          "output_type": "stream",
          "name": "stdout",
          "text": [
            "acc - tr:1.00 val:0.35 tst:0.36\n"
          ]
        },
        {
          "output_type": "stream",
          "name": "stderr",
          "text": [
            "100%|██████████| 50/50 [00:20<00:00,  2.45it/s]\n"
          ]
        },
        {
          "output_type": "stream",
          "name": "stdout",
          "text": [
            "Melhor acurácia no validação obtida com os parametros sigma:[ 1] C:[ 1000]. Treino final: 1.0000 Teste:0.4180\n",
            "Fim da Execução: 21/01/2023 17:12:19\n"
          ]
        }
      ]
    },
    {
      "cell_type": "markdown",
      "metadata": {
        "id": "x2EcgwPG6R0V"
      },
      "source": [
        "# MLP"
      ]
    },
    {
      "cell_type": "code",
      "execution_count": 27,
      "metadata": {
        "id": "tl_AuVKW6UEs",
        "colab": {
          "base_uri": "https://localhost:8080/"
        },
        "outputId": "dd937c2f-b19e-4329-deb9-cd15947256d8"
      },
      "outputs": [
        {
          "output_type": "stream",
          "name": "stdout",
          "text": [
            "Pipeline de testes para o modelo: MultiLayer Perceptron alpha 0.1\n",
            "Execução em: 21/01/2023 17:12:19\n",
            "====================================================================\n",
            "iteração:1\n",
            "Testando parametros:\n",
            " h:[ 10] alpha:[ 0.1]\n",
            "====================================================================\n",
            "cross-validation: 0\n",
            "nep: 10000 EQM: 33.08285350245007 EQM_val: 0.9836441644302144 norm: 0.0009231601731408013\n",
            "nep: 20000 EQM: 33.08285350245007 EQM_val: 0.9831754143729714 norm: 0.0007362763222181439\n",
            "nep: 30000 EQM: 33.08285350245007 EQM_val: 0.9829918228277468 norm: 0.0007145730672044712\n",
            "nep: 40000 EQM: 33.08285350245007 EQM_val: 0.9830515423229937 norm: 0.0007829498771839029\n",
            "nep: 50000 EQM: 33.08285350245007 EQM_val: 0.9833659329529375 norm: 0.0009382986646074121\n",
            "Convergência em 50000 epochs\n",
            "acc - tr:0.07 val:0.02 tst:0.03\n",
            "cross-validation: 1\n",
            "nep: 10000 EQM: 32.19177609104514 EQM_val: 0.9830863912860901 norm: 0.0009246800809315208\n",
            "nep: 20000 EQM: 32.19177609104514 EQM_val: 0.983011743077519 norm: 0.0007535182028065365\n",
            "nep: 30000 EQM: 32.19177609104514 EQM_val: 0.9831588640698851 norm: 0.0007756352444588132\n",
            "nep: 40000 EQM: 32.19177609104514 EQM_val: 0.9836208129461571 norm: 0.0009135067982138865\n",
            "nep: 50000 EQM: 32.19177609104514 EQM_val: 0.9845669517841611 norm: 0.0012326528796312763\n",
            "Convergência em 50000 epochs\n",
            "acc - tr:0.05 val:0.00 tst:0.02\n",
            "cross-validation: 2\n",
            "nep: 10000 EQM: 33.185600091102444 EQM_val: 0.9834363047604224 norm: 0.0009904968590568118\n",
            "nep: 20000 EQM: 33.185600091102444 EQM_val: 0.9833364464995362 norm: 0.0007966409150039297\n",
            "nep: 30000 EQM: 33.185600091102444 EQM_val: 0.9834385574152317 norm: 0.0007848943250623018\n",
            "nep: 40000 EQM: 33.185600091102444 EQM_val: 0.983845021701819 norm: 0.0008548106452348559\n",
            "nep: 50000 EQM: 33.185600091102444 EQM_val: 0.9845971430132092 norm: 0.0009771908986343856\n",
            "Convergência em 50000 epochs\n",
            "acc - tr:0.07 val:0.01 tst:0.02\n",
            "cross-validation: 3\n",
            "nep: 10000 EQM: 31.57722553289688 EQM_val: 0.9830239225312897 norm: 0.0009864180342454057\n",
            "nep: 20000 EQM: 31.57722553289688 EQM_val: 0.983082330199126 norm: 0.0008366302343960733\n",
            "nep: 30000 EQM: 31.57722553289688 EQM_val: 0.9833754372504128 norm: 0.0008706488074605345\n",
            "nep: 40000 EQM: 31.57722553289688 EQM_val: 0.9840016723157863 norm: 0.0010034137052336047\n",
            "nep: 50000 EQM: 31.57722553289688 EQM_val: 0.9851399187291086 norm: 0.0012181959002948353\n",
            "Convergência em 50000 epochs\n",
            "acc - tr:0.07 val:0.01 tst:0.02\n",
            "cross-validation: 4\n",
            "nep: 10000 EQM: 33.07211377325286 EQM_val: 0.9838390249312221 norm: 0.0010015924680478602\n",
            "nep: 20000 EQM: 33.07211377325286 EQM_val: 0.9835168176470669 norm: 0.0007682239826989498\n",
            "nep: 30000 EQM: 33.07211377325286 EQM_val: 0.9835063877025066 norm: 0.0007598108030554825\n",
            "nep: 40000 EQM: 33.07211377325286 EQM_val: 0.9838234170632375 norm: 0.0008561261184980275\n",
            "nep: 50000 EQM: 33.07211377325286 EQM_val: 0.9845785467969077 norm: 0.001033046585687914\n",
            "Convergência em 50000 epochs\n",
            "acc - tr:0.07 val:0.00 tst:0.02\n",
            "Execução em: 21/01/2023 17:31:17\n",
            "====================================================================\n",
            "iteração:2\n",
            "Testando parametros:\n",
            " h:[ 25] alpha:[ 0.1]\n",
            "====================================================================\n",
            "cross-validation: 0\n",
            "nep: 10000 EQM: 42.865613397770616 EQM_val: 0.9899010796840909 norm: 0.0016884412585265593\n",
            "nep: 20000 EQM: 42.865613397770616 EQM_val: 0.9880805230841431 norm: 0.0015887477356477224\n",
            "nep: 30000 EQM: 42.865613397770616 EQM_val: 0.9872308844042522 norm: 0.001626725789107966\n",
            "nep: 40000 EQM: 42.865613397770616 EQM_val: 0.988978206452187 norm: 0.0021149260254291285\n",
            "nep: 50000 EQM: 42.865613397770616 EQM_val: 0.9960627762451773 norm: 0.0029626915169721824\n",
            "Convergência em 50000 epochs\n",
            "acc - tr:0.15 val:0.01 tst:0.02\n",
            "cross-validation: 1\n",
            "nep: 10000 EQM: 42.26181540800654 EQM_val: 0.9889976939539681 norm: 0.0017400469136182259\n",
            "nep: 20000 EQM: 42.26181540800654 EQM_val: 0.9873942476742156 norm: 0.0017275647981091998\n",
            "nep: 30000 EQM: 42.26181540800654 EQM_val: 0.9876557598574033 norm: 0.0020124160474505348\n",
            "nep: 40000 EQM: 42.26181540800654 EQM_val: 0.9910742575298246 norm: 0.0026629926394811446\n",
            "nep: 50000 EQM: 42.26181540800654 EQM_val: 0.9978321453424903 norm: 0.003400598541502855\n",
            "Convergência em 50000 epochs\n",
            "acc - tr:0.14 val:0.00 tst:0.01\n",
            "cross-validation: 2\n",
            "nep: 10000 EQM: 42.24921409437385 EQM_val: 0.9893075509206899 norm: 0.0016672704111841473\n",
            "nep: 20000 EQM: 42.24921409437385 EQM_val: 0.988332965912212 norm: 0.0016424840541212824\n",
            "nep: 30000 EQM: 42.24921409437385 EQM_val: 0.9889767343038318 norm: 0.0017144193424038455\n",
            "nep: 40000 EQM: 42.24921409437385 EQM_val: 0.9918606929242892 norm: 0.002104002871526202\n",
            "nep: 50000 EQM: 42.24921409437385 EQM_val: 0.9983184629162589 norm: 0.002874700006440658\n",
            "Convergência em 50000 epochs\n",
            "acc - tr:0.15 val:0.02 tst:0.02\n",
            "cross-validation: 3\n",
            "nep: 10000 EQM: 42.312267640686315 EQM_val: 0.9884593903307172 norm: 0.0016714307707472308\n",
            "nep: 20000 EQM: 42.312267640686315 EQM_val: 0.9876973151344197 norm: 0.001577590087643403\n",
            "nep: 30000 EQM: 42.312267640686315 EQM_val: 0.9878651957679606 norm: 0.0016890754755845055\n",
            "nep: 40000 EQM: 42.312267640686315 EQM_val: 0.990372797995815 norm: 0.002162197627985735\n",
            "nep: 50000 EQM: 42.312267640686315 EQM_val: 0.9969278114187659 norm: 0.003026562848592286\n",
            "Convergência em 50000 epochs\n",
            "acc - tr:0.15 val:0.03 tst:0.03\n",
            "cross-validation: 4\n",
            "nep: 10000 EQM: 42.596403496517965 EQM_val: 0.9896069921454781 norm: 0.0016767266681101214\n",
            "nep: 20000 EQM: 42.596403496517965 EQM_val: 0.98787636859895 norm: 0.0015384456964011506\n",
            "nep: 30000 EQM: 42.596403496517965 EQM_val: 0.9871462130978861 norm: 0.0015145674690666352\n",
            "nep: 40000 EQM: 42.596403496517965 EQM_val: 0.9880885208349777 norm: 0.0018349605385038674\n",
            "nep: 50000 EQM: 42.596403496517965 EQM_val: 0.9917681945609973 norm: 0.0024395647518960953\n",
            "Convergência em 50000 epochs\n",
            "acc - tr:0.11 val:0.01 tst:0.03\n",
            "Execução em: 21/01/2023 17:54:44\n",
            "====================================================================\n",
            "iteração:3\n",
            "Testando parametros:\n",
            " h:[ 50] alpha:[ 0.1]\n",
            "====================================================================\n",
            "cross-validation: 0\n",
            "nep: 10000 EQM: 46.54043729063714 EQM_val: 0.9971219723422547 norm: 0.0022327848706626355\n",
            "nep: 20000 EQM: 46.54043729063714 EQM_val: 0.9929123349987059 norm: 0.00173651228061975\n",
            "nep: 30000 EQM: 46.54043729063714 EQM_val: 0.9919588158675064 norm: 0.0020811922774369024\n",
            "nep: 40000 EQM: 46.54043729063714 EQM_val: 0.9935183846470055 norm: 0.002970337624875335\n",
            "nep: 50000 EQM: 46.54043729063714 EQM_val: 1.0001108380258827 norm: 0.003951426823572765\n",
            "Convergência em 50000 epochs\n",
            "acc - tr:0.14 val:0.00 tst:0.02\n",
            "cross-validation: 1\n",
            "nep: 10000 EQM: 46.18344644067373 EQM_val: 0.9919087852810893 norm: 0.001946995364428902\n",
            "nep: 20000 EQM: 46.18344644067373 EQM_val: 0.9908147987955855 norm: 0.0016714121713711843\n",
            "nep: 30000 EQM: 46.18344644067373 EQM_val: 0.9905600317791342 norm: 0.0019272011957671197\n",
            "nep: 40000 EQM: 46.18344644067373 EQM_val: 0.9925704018364163 norm: 0.002859689829985764\n",
            "nep: 50000 EQM: 46.18344644067373 EQM_val: 1.0004180499534079 norm: 0.003984309081332286\n",
            "Convergência em 50000 epochs\n",
            "acc - tr:0.16 val:0.00 tst:0.02\n",
            "cross-validation: 2\n",
            "nep: 10000 EQM: 46.170040386954625 EQM_val: 0.9950596679348551 norm: 0.0022158618902584364\n",
            "nep: 20000 EQM: 46.170040386954625 EQM_val: 0.9928505111720674 norm: 0.0019286802808693286\n",
            "nep: 30000 EQM: 46.170040386954625 EQM_val: 0.9939711094674237 norm: 0.0023000056496335895\n",
            "nep: 40000 EQM: 46.170040386954625 EQM_val: 1.0008780059279823 norm: 0.0032481851988870897\n",
            "nep: 50000 EQM: 46.170040386954625 EQM_val: 1.01170537010258 norm: 0.0040834871246277675\n",
            "Convergência em 50000 epochs\n",
            "acc - tr:0.17 val:0.02 tst:0.02\n",
            "cross-validation: 3\n",
            "nep: 10000 EQM: 46.00197571547077 EQM_val: 0.9938317963851926 norm: 0.002163869107867152\n",
            "nep: 20000 EQM: 46.00197571547077 EQM_val: 0.9935194195903266 norm: 0.0019663831530338967\n",
            "nep: 30000 EQM: 46.00197571547077 EQM_val: 0.9955731888084935 norm: 0.0026031149725597893\n",
            "nep: 40000 EQM: 46.00197571547077 EQM_val: 1.0012513012262096 norm: 0.0030118067232472556\n",
            "nep: 50000 EQM: 46.00197571547077 EQM_val: 1.0112635324275092 norm: 0.004013252899584877\n",
            "Convergência em 50000 epochs\n",
            "acc - tr:0.16 val:0.01 tst:0.02\n",
            "cross-validation: 4\n",
            "nep: 10000 EQM: 46.53165443549594 EQM_val: 0.9965065367527289 norm: 0.0021743103760372253\n",
            "nep: 20000 EQM: 46.53165443549594 EQM_val: 0.9929262596572666 norm: 0.0018123132387024127\n",
            "nep: 30000 EQM: 46.53165443549594 EQM_val: 0.9920074452359751 norm: 0.0022373408498019766\n",
            "nep: 40000 EQM: 46.53165443549594 EQM_val: 0.9942166399981271 norm: 0.0026217975849584566\n",
            "nep: 50000 EQM: 46.53165443549594 EQM_val: 1.0017423132410272 norm: 0.0035587400198561765\n",
            "Convergência em 50000 epochs\n",
            "acc - tr:0.15 val:0.00 tst:0.02\n",
            "Execução em: 21/01/2023 18:24:47\n",
            "====================================================================\n",
            "iteração:4\n",
            "Testando parametros:\n",
            " h:[ 100] alpha:[ 0.1]\n",
            "====================================================================\n",
            "cross-validation: 0\n",
            "nep: 10000 EQM: 47.95729304713857 EQM_val: 1.0043158233759364 norm: 0.0031119604494061676\n",
            "nep: 20000 EQM: 47.95729304713857 EQM_val: 0.9965769378953068 norm: 0.0025627175698136047\n",
            "nep: 30000 EQM: 47.95729304713857 EQM_val: 0.996282478107872 norm: 0.0031796321392852027\n",
            "nep: 40000 EQM: 47.95729304713857 EQM_val: 1.0038489022167139 norm: 0.004514437487237244\n",
            "nep: 50000 EQM: 47.95729304713857 EQM_val: 1.0193510560616383 norm: 0.005230623475938384\n",
            "Convergência em 50000 epochs\n",
            "acc - tr:0.21 val:0.01 tst:0.03\n",
            "cross-validation: 1\n",
            "nep: 10000 EQM: 47.83056502512548 EQM_val: 0.9972711463863668 norm: 0.0032580924260187305\n",
            "nep: 20000 EQM: 47.83056502512548 EQM_val: 0.9933408034805622 norm: 0.0029356422285799384\n",
            "nep: 30000 EQM: 47.83056502512548 EQM_val: 0.9949383720580202 norm: 0.0036306595404128825\n",
            "nep: 40000 EQM: 47.83056502512548 EQM_val: 1.003910658529813 norm: 0.004873356875290085\n",
            "nep: 50000 EQM: 47.83056502512548 EQM_val: 1.024856730524991 norm: 0.00600245131148559\n",
            "Convergência em 50000 epochs\n",
            "acc - tr:0.26 val:0.02 tst:0.02\n",
            "cross-validation: 2\n",
            "nep: 10000 EQM: 47.818944948268495 EQM_val: 1.001357191789607 norm: 0.003117990817451483\n",
            "nep: 20000 EQM: 47.818944948268495 EQM_val: 0.9964176698304604 norm: 0.0025116929995394645\n",
            "nep: 30000 EQM: 47.818944948268495 EQM_val: 1.0004636933551134 norm: 0.0031302163155442386\n",
            "nep: 40000 EQM: 47.818944948268495 EQM_val: 1.0138063613662005 norm: 0.004600103666660893\n",
            "nep: 50000 EQM: 47.818944948268495 EQM_val: 1.0396680334789334 norm: 0.005407411083966096\n",
            "Convergência em 50000 epochs\n",
            "acc - tr:0.22 val:0.00 tst:0.03\n",
            "cross-validation: 3\n",
            "nep: 10000 EQM: 47.80110564610365 EQM_val: 0.999858482485863 norm: 0.00307429159643002\n",
            "nep: 20000 EQM: 47.80110564610365 EQM_val: 0.9955077707173292 norm: 0.002610332822912693\n",
            "nep: 30000 EQM: 47.80110564610365 EQM_val: 1.000255622698959 norm: 0.0036757567952129186\n",
            "nep: 40000 EQM: 47.80110564610365 EQM_val: 1.0168754728033276 norm: 0.005004820818435055\n",
            "nep: 50000 EQM: 47.80110564610365 EQM_val: 1.040417104768013 norm: 0.005575142003595349\n",
            "Convergência em 50000 epochs\n",
            "acc - tr:0.24 val:0.00 tst:0.02\n",
            "cross-validation: 4\n",
            "nep: 10000 EQM: 47.950900571846596 EQM_val: 1.0029614722579645 norm: 0.0033471492150028382\n",
            "nep: 20000 EQM: 47.950900571846596 EQM_val: 0.9956186197562775 norm: 0.0025258922869831205\n",
            "nep: 30000 EQM: 47.950900571846596 EQM_val: 0.9959300750822384 norm: 0.0037526529262152664\n",
            "nep: 40000 EQM: 47.950900571846596 EQM_val: 1.0038463139651561 norm: 0.004993006531657074\n",
            "nep: 50000 EQM: 47.950900571846596 EQM_val: 1.021777513560951 norm: 0.005187206323936646\n",
            "Convergência em 50000 epochs\n",
            "acc - tr:0.24 val:0.02 tst:0.02\n",
            "nep: 10000 EQM: 47.95028305059535 EQM_val: 0.9950856699323146 norm: 0.0032335362280329835\n",
            "nep: 20000 EQM: 47.95028305059535 EQM_val: 0.9865409152260728 norm: 0.0021223034395302705\n",
            "nep: 30000 EQM: 47.95028305059535 EQM_val: 0.9840642928867153 norm: 0.002127745626546119\n",
            "nep: 40000 EQM: 47.95028305059535 EQM_val: 0.9857260090532467 norm: 0.003165539236658283\n",
            "nep: 50000 EQM: 47.95028305059535 EQM_val: 0.9929607836861435 norm: 0.004464195292182045\n",
            "Convergência em 50000 epochs\n",
            "Melhor acurácia no validação obtida com os parametros h:[ 25] alpha:[ 0.1]. Treino final: 0.1703 Teste:0.0231\n",
            "Fim da Execução: 21/01/2023 19:20:42\n"
          ]
        }
      ],
      "source": [
        "modelo = 'MultiLayer Perceptron alpha 0.1'\n",
        "\n",
        "log = pipeline_integrated_onedim(nome_do_modelo=modelo, \n",
        "                          classifier=  ANN.RNA(),\n",
        "                          param_iteracao= {'h':[10,25,50,100]},\n",
        "                          param_fixo=['alpha',0.1],\n",
        "                          data={'X_train':X_train_pca, 'X_test':X_test_pca, 'y_train':y_train, 'y_test':y_test},\n",
        "                          neural_network=True)\n",
        "\n",
        "log_df = dictlog_to_flat_table(log)\n",
        "logs = logs.append(log_df,ignore_index=True)"
      ]
    },
    {
      "cell_type": "code",
      "execution_count": 28,
      "metadata": {
        "id": "zZ1NeTjf4gzi",
        "colab": {
          "base_uri": "https://localhost:8080/",
          "height": 363
        },
        "outputId": "305489d7-5820-4fc7-ac2b-eb6680b25ea6"
      },
      "outputs": [
        {
          "output_type": "execute_result",
          "data": {
            "text/plain": [
              "                           exec_time                       model_name  \\\n",
              "14  Execução em: 21/01/2023 17:12:19  MultiLayer Perceptron alpha 0.1   \n",
              "15  Execução em: 21/01/2023 17:12:19  MultiLayer Perceptron alpha 0.1   \n",
              "16  Execução em: 21/01/2023 17:12:19  MultiLayer Perceptron alpha 0.1   \n",
              "\n",
              "   parametro_fixo  parametro_variavel  \\\n",
              "14    alpha:[0.1]  h:[ 10 25 50 100 ]   \n",
              "15    alpha:[0.1]  h:[ 10 25 50 100 ]   \n",
              "16    alpha:[0.1]  h:[ 10 25 50 100 ]   \n",
              "\n",
              "                                               kfold  \\\n",
              "14  KFold(n_splits=5, random_state=42, shuffle=True)   \n",
              "15  KFold(n_splits=5, random_state=42, shuffle=True)   \n",
              "16  KFold(n_splits=5, random_state=42, shuffle=True)   \n",
              "\n",
              "                     melhor_modelo_obj     best_param_k_fold  \\\n",
              "14  <ANN.RNA object at 0x7fc481834670>  h:[ 25] alpha:[ 0.1]   \n",
              "15  <ANN.RNA object at 0x7fc481834670>  h:[ 25] alpha:[ 0.1]   \n",
              "16  <ANN.RNA object at 0x7fc481834670>  h:[ 25] alpha:[ 0.1]   \n",
              "\n",
              "    acc_train_best_model  acc_test_best_model         index acc_test_0  \\\n",
              "14              0.170297             0.023095  cv_results_2   0.016166   \n",
              "15              0.170297             0.023095  cv_results_3   0.016166   \n",
              "16              0.170297             0.023095  cv_results_4   0.027714   \n",
              "\n",
              "   acc_test_1 acc_test_2 acc_test_3 acc_test_4 acc_train_0 acc_train_1  \\\n",
              "14   0.006928   0.016166   0.030023   0.032333     0.14604    0.137376   \n",
              "15   0.023095   0.018476   0.018476   0.023095    0.143564    0.157178   \n",
              "16   0.018476   0.030023   0.023095   0.020785    0.211634    0.261139   \n",
              "\n",
              "   acc_train_2 acc_train_3 acc_train_4 acc_val_0 acc_val_1 acc_val_2  \\\n",
              "14    0.149752    0.148515    0.107673  0.014851   0.00495  0.024752   \n",
              "15    0.173267    0.160891    0.148515   0.00495   0.00495  0.019802   \n",
              "16    0.220297    0.238861    0.235149  0.014851  0.024752   0.00495   \n",
              "\n",
              "   acc_val_3 acc_val_4               cv_param                           modelo  \n",
              "14  0.029703  0.014851   h:[ 25] alpha:[ 0.1]  multilayer_perceptron_alpha_0.1  \n",
              "15  0.009901   0.00495   h:[ 50] alpha:[ 0.1]  multilayer_perceptron_alpha_0.1  \n",
              "16       0.0  0.019802  h:[ 100] alpha:[ 0.1]  multilayer_perceptron_alpha_0.1  "
            ],
            "text/html": [
              "\n",
              "  <div id=\"df-634dd73c-7af1-4305-856f-67c57ffc01e9\">\n",
              "    <div class=\"colab-df-container\">\n",
              "      <div>\n",
              "<style scoped>\n",
              "    .dataframe tbody tr th:only-of-type {\n",
              "        vertical-align: middle;\n",
              "    }\n",
              "\n",
              "    .dataframe tbody tr th {\n",
              "        vertical-align: top;\n",
              "    }\n",
              "\n",
              "    .dataframe thead th {\n",
              "        text-align: right;\n",
              "    }\n",
              "</style>\n",
              "<table border=\"1\" class=\"dataframe\">\n",
              "  <thead>\n",
              "    <tr style=\"text-align: right;\">\n",
              "      <th></th>\n",
              "      <th>exec_time</th>\n",
              "      <th>model_name</th>\n",
              "      <th>parametro_fixo</th>\n",
              "      <th>parametro_variavel</th>\n",
              "      <th>kfold</th>\n",
              "      <th>melhor_modelo_obj</th>\n",
              "      <th>best_param_k_fold</th>\n",
              "      <th>acc_train_best_model</th>\n",
              "      <th>acc_test_best_model</th>\n",
              "      <th>index</th>\n",
              "      <th>acc_test_0</th>\n",
              "      <th>acc_test_1</th>\n",
              "      <th>acc_test_2</th>\n",
              "      <th>acc_test_3</th>\n",
              "      <th>acc_test_4</th>\n",
              "      <th>acc_train_0</th>\n",
              "      <th>acc_train_1</th>\n",
              "      <th>acc_train_2</th>\n",
              "      <th>acc_train_3</th>\n",
              "      <th>acc_train_4</th>\n",
              "      <th>acc_val_0</th>\n",
              "      <th>acc_val_1</th>\n",
              "      <th>acc_val_2</th>\n",
              "      <th>acc_val_3</th>\n",
              "      <th>acc_val_4</th>\n",
              "      <th>cv_param</th>\n",
              "      <th>modelo</th>\n",
              "    </tr>\n",
              "  </thead>\n",
              "  <tbody>\n",
              "    <tr>\n",
              "      <th>14</th>\n",
              "      <td>Execução em: 21/01/2023 17:12:19</td>\n",
              "      <td>MultiLayer Perceptron alpha 0.1</td>\n",
              "      <td>alpha:[0.1]</td>\n",
              "      <td>h:[ 10 25 50 100 ]</td>\n",
              "      <td>KFold(n_splits=5, random_state=42, shuffle=True)</td>\n",
              "      <td>&lt;ANN.RNA object at 0x7fc481834670&gt;</td>\n",
              "      <td>h:[ 25] alpha:[ 0.1]</td>\n",
              "      <td>0.170297</td>\n",
              "      <td>0.023095</td>\n",
              "      <td>cv_results_2</td>\n",
              "      <td>0.016166</td>\n",
              "      <td>0.006928</td>\n",
              "      <td>0.016166</td>\n",
              "      <td>0.030023</td>\n",
              "      <td>0.032333</td>\n",
              "      <td>0.14604</td>\n",
              "      <td>0.137376</td>\n",
              "      <td>0.149752</td>\n",
              "      <td>0.148515</td>\n",
              "      <td>0.107673</td>\n",
              "      <td>0.014851</td>\n",
              "      <td>0.00495</td>\n",
              "      <td>0.024752</td>\n",
              "      <td>0.029703</td>\n",
              "      <td>0.014851</td>\n",
              "      <td>h:[ 25] alpha:[ 0.1]</td>\n",
              "      <td>multilayer_perceptron_alpha_0.1</td>\n",
              "    </tr>\n",
              "    <tr>\n",
              "      <th>15</th>\n",
              "      <td>Execução em: 21/01/2023 17:12:19</td>\n",
              "      <td>MultiLayer Perceptron alpha 0.1</td>\n",
              "      <td>alpha:[0.1]</td>\n",
              "      <td>h:[ 10 25 50 100 ]</td>\n",
              "      <td>KFold(n_splits=5, random_state=42, shuffle=True)</td>\n",
              "      <td>&lt;ANN.RNA object at 0x7fc481834670&gt;</td>\n",
              "      <td>h:[ 25] alpha:[ 0.1]</td>\n",
              "      <td>0.170297</td>\n",
              "      <td>0.023095</td>\n",
              "      <td>cv_results_3</td>\n",
              "      <td>0.016166</td>\n",
              "      <td>0.023095</td>\n",
              "      <td>0.018476</td>\n",
              "      <td>0.018476</td>\n",
              "      <td>0.023095</td>\n",
              "      <td>0.143564</td>\n",
              "      <td>0.157178</td>\n",
              "      <td>0.173267</td>\n",
              "      <td>0.160891</td>\n",
              "      <td>0.148515</td>\n",
              "      <td>0.00495</td>\n",
              "      <td>0.00495</td>\n",
              "      <td>0.019802</td>\n",
              "      <td>0.009901</td>\n",
              "      <td>0.00495</td>\n",
              "      <td>h:[ 50] alpha:[ 0.1]</td>\n",
              "      <td>multilayer_perceptron_alpha_0.1</td>\n",
              "    </tr>\n",
              "    <tr>\n",
              "      <th>16</th>\n",
              "      <td>Execução em: 21/01/2023 17:12:19</td>\n",
              "      <td>MultiLayer Perceptron alpha 0.1</td>\n",
              "      <td>alpha:[0.1]</td>\n",
              "      <td>h:[ 10 25 50 100 ]</td>\n",
              "      <td>KFold(n_splits=5, random_state=42, shuffle=True)</td>\n",
              "      <td>&lt;ANN.RNA object at 0x7fc481834670&gt;</td>\n",
              "      <td>h:[ 25] alpha:[ 0.1]</td>\n",
              "      <td>0.170297</td>\n",
              "      <td>0.023095</td>\n",
              "      <td>cv_results_4</td>\n",
              "      <td>0.027714</td>\n",
              "      <td>0.018476</td>\n",
              "      <td>0.030023</td>\n",
              "      <td>0.023095</td>\n",
              "      <td>0.020785</td>\n",
              "      <td>0.211634</td>\n",
              "      <td>0.261139</td>\n",
              "      <td>0.220297</td>\n",
              "      <td>0.238861</td>\n",
              "      <td>0.235149</td>\n",
              "      <td>0.014851</td>\n",
              "      <td>0.024752</td>\n",
              "      <td>0.00495</td>\n",
              "      <td>0.0</td>\n",
              "      <td>0.019802</td>\n",
              "      <td>h:[ 100] alpha:[ 0.1]</td>\n",
              "      <td>multilayer_perceptron_alpha_0.1</td>\n",
              "    </tr>\n",
              "  </tbody>\n",
              "</table>\n",
              "</div>\n",
              "      <button class=\"colab-df-convert\" onclick=\"convertToInteractive('df-634dd73c-7af1-4305-856f-67c57ffc01e9')\"\n",
              "              title=\"Convert this dataframe to an interactive table.\"\n",
              "              style=\"display:none;\">\n",
              "        \n",
              "  <svg xmlns=\"http://www.w3.org/2000/svg\" height=\"24px\"viewBox=\"0 0 24 24\"\n",
              "       width=\"24px\">\n",
              "    <path d=\"M0 0h24v24H0V0z\" fill=\"none\"/>\n",
              "    <path d=\"M18.56 5.44l.94 2.06.94-2.06 2.06-.94-2.06-.94-.94-2.06-.94 2.06-2.06.94zm-11 1L8.5 8.5l.94-2.06 2.06-.94-2.06-.94L8.5 2.5l-.94 2.06-2.06.94zm10 10l.94 2.06.94-2.06 2.06-.94-2.06-.94-.94-2.06-.94 2.06-2.06.94z\"/><path d=\"M17.41 7.96l-1.37-1.37c-.4-.4-.92-.59-1.43-.59-.52 0-1.04.2-1.43.59L10.3 9.45l-7.72 7.72c-.78.78-.78 2.05 0 2.83L4 21.41c.39.39.9.59 1.41.59.51 0 1.02-.2 1.41-.59l7.78-7.78 2.81-2.81c.8-.78.8-2.07 0-2.86zM5.41 20L4 18.59l7.72-7.72 1.47 1.35L5.41 20z\"/>\n",
              "  </svg>\n",
              "      </button>\n",
              "      \n",
              "  <style>\n",
              "    .colab-df-container {\n",
              "      display:flex;\n",
              "      flex-wrap:wrap;\n",
              "      gap: 12px;\n",
              "    }\n",
              "\n",
              "    .colab-df-convert {\n",
              "      background-color: #E8F0FE;\n",
              "      border: none;\n",
              "      border-radius: 50%;\n",
              "      cursor: pointer;\n",
              "      display: none;\n",
              "      fill: #1967D2;\n",
              "      height: 32px;\n",
              "      padding: 0 0 0 0;\n",
              "      width: 32px;\n",
              "    }\n",
              "\n",
              "    .colab-df-convert:hover {\n",
              "      background-color: #E2EBFA;\n",
              "      box-shadow: 0px 1px 2px rgba(60, 64, 67, 0.3), 0px 1px 3px 1px rgba(60, 64, 67, 0.15);\n",
              "      fill: #174EA6;\n",
              "    }\n",
              "\n",
              "    [theme=dark] .colab-df-convert {\n",
              "      background-color: #3B4455;\n",
              "      fill: #D2E3FC;\n",
              "    }\n",
              "\n",
              "    [theme=dark] .colab-df-convert:hover {\n",
              "      background-color: #434B5C;\n",
              "      box-shadow: 0px 1px 3px 1px rgba(0, 0, 0, 0.15);\n",
              "      filter: drop-shadow(0px 1px 2px rgba(0, 0, 0, 0.3));\n",
              "      fill: #FFFFFF;\n",
              "    }\n",
              "  </style>\n",
              "\n",
              "      <script>\n",
              "        const buttonEl =\n",
              "          document.querySelector('#df-634dd73c-7af1-4305-856f-67c57ffc01e9 button.colab-df-convert');\n",
              "        buttonEl.style.display =\n",
              "          google.colab.kernel.accessAllowed ? 'block' : 'none';\n",
              "\n",
              "        async function convertToInteractive(key) {\n",
              "          const element = document.querySelector('#df-634dd73c-7af1-4305-856f-67c57ffc01e9');\n",
              "          const dataTable =\n",
              "            await google.colab.kernel.invokeFunction('convertToInteractive',\n",
              "                                                     [key], {});\n",
              "          if (!dataTable) return;\n",
              "\n",
              "          const docLinkHtml = 'Like what you see? Visit the ' +\n",
              "            '<a target=\"_blank\" href=https://colab.research.google.com/notebooks/data_table.ipynb>data table notebook</a>'\n",
              "            + ' to learn more about interactive tables.';\n",
              "          element.innerHTML = '';\n",
              "          dataTable['output_type'] = 'display_data';\n",
              "          await google.colab.output.renderOutput(dataTable, element);\n",
              "          const docLink = document.createElement('div');\n",
              "          docLink.innerHTML = docLinkHtml;\n",
              "          element.appendChild(docLink);\n",
              "        }\n",
              "      </script>\n",
              "    </div>\n",
              "  </div>\n",
              "  "
            ]
          },
          "metadata": {},
          "execution_count": 28
        }
      ],
      "source": [
        "pd.set_option('display.max_columns', None)\n",
        "logs.tail(3)"
      ]
    },
    {
      "cell_type": "markdown",
      "metadata": {
        "id": "8ZrLT-JZGohf"
      },
      "source": [
        "# Informações Melhor/Pior Modelo"
      ]
    },
    {
      "cell_type": "code",
      "execution_count": 29,
      "metadata": {
        "id": "uRMHgRTbRD4o"
      },
      "outputs": [],
      "source": [
        "label = tag + '_log_full'\n",
        "\n",
        "logs.to_excel(log_dir +label + '.xlsx')"
      ]
    },
    {
      "cell_type": "code",
      "execution_count": 30,
      "metadata": {
        "id": "U6Q5Jm6tHS_J"
      },
      "outputs": [],
      "source": [
        "def save_error(modelo_infos,label):\n",
        "  errorFile = open(erro_dir +label + '.txt', 'w') \n",
        "  print('Execução em: {}'.format(datetime.now(pytz.timezone('America/Bahia')).strftime(\"%d/%m/%Y %H:%M:%S\")) , file=errorFile)\n",
        "\n",
        "  out=''\n",
        "\n",
        "  errors = modelo_infos.drop(columns=['acc_train_best_model','acc_test_best_model']).T.reset_index()\n",
        "  errors.columns=['index', 'val']\n",
        "  for i,r in errors.iterrows():\n",
        "    out=out + norm_text(r['index']) + ':' + str(r['val']) + '\\n'\n",
        "  print(out, file=errorFile)\n",
        "  errorFile.close()"
      ]
    },
    {
      "cell_type": "code",
      "execution_count": 31,
      "metadata": {
        "id": "da4yaCoVGDtZ"
      },
      "outputs": [],
      "source": [
        "label = tag + '_' + 'melhor'\n",
        "\n",
        "melhor_modelo_infos = logs.sort_values(by='acc_test_best_model',ascending=False).head(1)\n",
        "\n",
        "# Salva mehlhor modelo\n",
        "melhor_modelo = melhor_modelo_infos['melhor_modelo_obj'].iloc[0]\n",
        "with open(model_save_dir + label +'.obj', 'wb') as fp:\n",
        "  pickle.dump(melhor_modelo, fp)\n",
        "\n",
        "# Salva o erro\n",
        "save_error(melhor_modelo_infos, label)\n",
        "\n",
        "#Salva o config\n",
        "melhor_modelo_infos.drop(columns = melhor_modelo_infos.filter(like='acc').columns).T.rename(columns={0:'config'}).to_csv(config_dir + label  +'.txt', sep=':')"
      ]
    },
    {
      "cell_type": "code",
      "execution_count": 32,
      "metadata": {
        "id": "B-XcQhGYJaMA"
      },
      "outputs": [],
      "source": [
        "label = tag + '_' + 'pior'\n",
        "\n",
        "pior_modelo_infos = logs.sort_values(by='acc_test_best_model',ascending=True).head(1)\n",
        "\n",
        "# Salva pior modelo\n",
        "pior = pior_modelo_infos['melhor_modelo_obj'].iloc[0]\n",
        "with open(model_save_dir + label +'.obj', 'wb') as fp:\n",
        "  pickle.dump(pior, fp)\n",
        "\n",
        "# Salva o erro\n",
        "save_error(pior_modelo_infos , label)\n",
        "\n",
        "#Salva o config\n",
        "pior_modelo_infos.drop(columns = pior_modelo_infos.filter(like='acc').columns).T.rename(columns={0:'config'}).to_csv(config_dir + label  +'.txt', sep=':')"
      ]
    },
    {
      "cell_type": "code",
      "source": [],
      "metadata": {
        "id": "BTYdu-CObjtY"
      },
      "execution_count": null,
      "outputs": []
    },
    {
      "cell_type": "markdown",
      "source": [],
      "metadata": {
        "id": "-4dnlBZhswZn"
      }
    }
  ],
  "metadata": {
    "colab": {
      "machine_shape": "hm",
      "provenance": [],
      "include_colab_link": true
    },
    "gpuClass": "standard",
    "kernelspec": {
      "display_name": "Python 3",
      "language": "python",
      "name": "python3"
    },
    "language_info": {
      "codemirror_mode": {
        "name": "ipython",
        "version": 3
      },
      "file_extension": ".py",
      "mimetype": "text/x-python",
      "name": "python",
      "nbconvert_exporter": "python",
      "pygments_lexer": "ipython3",
      "version": "3.7.10"
    },
    "varInspector": {
      "cols": {
        "lenName": 16,
        "lenType": 16,
        "lenVar": 40
      },
      "kernels_config": {
        "python": {
          "delete_cmd_postfix": "",
          "delete_cmd_prefix": "del ",
          "library": "var_list.py",
          "varRefreshCmd": "print(var_dic_list())"
        },
        "r": {
          "delete_cmd_postfix": ") ",
          "delete_cmd_prefix": "rm(",
          "library": "var_list.r",
          "varRefreshCmd": "cat(var_dic_list()) "
        }
      },
      "types_to_exclude": [
        "module",
        "function",
        "builtin_function_or_method",
        "instance",
        "_Feature"
      ],
      "window_display": false
    }
  },
  "nbformat": 4,
  "nbformat_minor": 0
}