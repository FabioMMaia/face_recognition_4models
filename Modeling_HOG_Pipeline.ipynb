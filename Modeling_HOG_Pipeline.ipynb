{
  "cells": [
    {
      "cell_type": "markdown",
      "metadata": {
        "id": "view-in-github",
        "colab_type": "text"
      },
      "source": [
        "<a href=\"https://colab.research.google.com/github/FabioMMaia/face_recognition_4models/blob/main/Modeling_HOG_Pipeline.ipynb\" target=\"_parent\"><img src=\"https://colab.research.google.com/assets/colab-badge.svg\" alt=\"Open In Colab\"/></a>"
      ]
    },
    {
      "cell_type": "code",
      "execution_count": 2,
      "metadata": {
        "id": "0jNKeNAIcwEN"
      },
      "outputs": [],
      "source": [
        "import numpy as np\n",
        "import pandas as pd\n",
        "import matplotlib.pyplot as plt\n",
        "from tensorflow import keras\n",
        "from sklearn.preprocessing import StandardScaler\n",
        "import tensorflow as tf\n",
        "import cv2\n",
        "from PIL import Image\n",
        "from skimage import data, exposure\n",
        "from skimage.feature import hog,local_binary_pattern\n",
        "from sklearn.decomposition import PCA\n",
        "from sklearn.model_selection import train_test_split\n",
        "from sklearn.model_selection import KFold\n",
        "from numpy.random import seed\n",
        "import pickle\n",
        "from tqdm import tqdm\n",
        "\n",
        "import pytz\n",
        "from datetime import datetime\n",
        "from collections import Counter\n",
        "import math\n",
        "\n",
        "from sklearn.metrics import accuracy_score\n",
        "\n",
        "import warnings\n",
        "warnings.filterwarnings('ignore')\n",
        "\n",
        "tqdm.pandas()"
      ]
    },
    {
      "cell_type": "code",
      "execution_count": 3,
      "metadata": {
        "colab": {
          "base_uri": "https://localhost:8080/"
        },
        "id": "9k9xlX-xef0d",
        "outputId": "a9bc004a-1e60-4218-9ecf-fa023df4fb94"
      },
      "outputs": [
        {
          "output_type": "stream",
          "name": "stdout",
          "text": [
            "Looking in indexes: https://pypi.org/simple, https://us-python.pkg.dev/colab-wheels/public/simple/\n",
            "Collecting unidecode\n",
            "  Downloading Unidecode-1.3.6-py3-none-any.whl (235 kB)\n",
            "\u001b[2K     \u001b[90m━━━━━━━━━━━━━━━━━━━━━━━━━━━━━━━━━━━━━━\u001b[0m \u001b[32m235.9/235.9 KB\u001b[0m \u001b[31m10.9 MB/s\u001b[0m eta \u001b[36m0:00:00\u001b[0m\n",
            "\u001b[?25hInstalling collected packages: unidecode\n",
            "Successfully installed unidecode-1.3.6\n"
          ]
        }
      ],
      "source": [
        "!pip install unidecode\n",
        "\n",
        "def norm_text(txt):\n",
        "  from unidecode import unidecode\n",
        "  return unidecode(txt).replace(' ','_').lower()"
      ]
    },
    {
      "cell_type": "code",
      "execution_count": 4,
      "metadata": {
        "colab": {
          "base_uri": "https://localhost:8080/"
        },
        "id": "UzJSiIc4z8BG",
        "outputId": "159983b8-4b80-476b-82c6-850e05fd9b08"
      },
      "outputs": [
        {
          "output_type": "stream",
          "name": "stdout",
          "text": [
            "Mounted at /content/drive\n"
          ]
        }
      ],
      "source": [
        "from google.colab import drive\n",
        "drive.mount('/content/drive')"
      ]
    },
    {
      "cell_type": "code",
      "execution_count": 5,
      "metadata": {
        "id": "I9gEzU85sBo8"
      },
      "outputs": [],
      "source": [
        "config_dir = '/content/drive/MyDrive/Projeto ML/2022/Aprendizado de Maquinas/Projeto/Pipeline/config/'\n",
        "model_save_dir = '/content/drive/MyDrive/Projeto ML/2022/Aprendizado de Maquinas/Projeto/Pipeline/model/'\n",
        "erro_dir = '/content/drive/MyDrive/Projeto ML/2022/Aprendizado de Maquinas/Projeto/Pipeline/error/'\n",
        "log_dir = '/content/drive/MyDrive/Projeto ML/2022/Aprendizado de Maquinas/Projeto/Pipeline/log/'"
      ]
    },
    {
      "cell_type": "code",
      "execution_count": 6,
      "metadata": {
        "id": "0HwQFYUYdKRx"
      },
      "outputs": [],
      "source": [
        "import sys\n",
        "sys.path.append('/content/drive/MyDrive/Projeto ML/2022/Aprendizado de Maquinas/Projeto/Pipeline/Modelos_Implementações')"
      ]
    },
    {
      "cell_type": "code",
      "execution_count": 7,
      "metadata": {
        "id": "At7N2h1tdKiJ"
      },
      "outputs": [],
      "source": [
        "import MLP as mlp # multilayer perceptron\n",
        "import Multinomial_LogReg # regressão logística com alpha variavel (bissecao)\n",
        "import R_LOG as r_log # regressão logística com alpha fixo\n",
        "import SVM_OVR # SVM one-versus-rest\n",
        "import ANN"
      ]
    },
    {
      "cell_type": "code",
      "execution_count": 8,
      "metadata": {
        "id": "y2mrQXgKHxcZ"
      },
      "outputs": [],
      "source": [
        "# import importlib\n",
        "\n",
        "# importlib.reload(ANN)\n",
        "# importlib.reload(mlp)\n",
        "# importlib.reload(Multinomial_LogReg)\n",
        "# importlib.reload(r_log)\n",
        "# importlib.reload(SVM_OVR)\n",
        "# importlib.reload(ANN)"
      ]
    },
    {
      "cell_type": "code",
      "execution_count": 9,
      "metadata": {
        "id": "ByYR7oyY_fFy"
      },
      "outputs": [],
      "source": [
        "class logfile():\n",
        "\n",
        "  def __init__(self, diretorio):\n",
        "    self.diretorio=diretorio\n",
        "\n",
        "  def start(self, tag, use_dateref=True):\n",
        "    if use_dateref:\n",
        "      tag = tag + '_' + datetime.now(pytz.timezone('America/Bahia')).strftime(\"%Y%m%d\")\n",
        "    self.save_file = open(self.diretorio +  tag + '.txt', 'w')\n",
        "    data_atual = datetime.now(pytz.timezone('America/Bahia')).strftime(\"%d/%m/%Y %H:%M:%S\")\n",
        "    print('Execução em:', data_atual, file=self.save_file)\n",
        "    \n",
        "  def end(self):\n",
        "    data_atual = datetime.now(pytz.timezone('America/Bahia')).strftime(\"%d/%m/%Y %H:%M:%S\")\n",
        "    print('Fim de Execução em:', data_atual, file=self.save_file)\n",
        "    self.save_file.close()"
      ]
    },
    {
      "cell_type": "code",
      "source": [
        "# Visualize Dataset"
      ],
      "metadata": {
        "id": "v11ATiXGPF6-"
      },
      "execution_count": 10,
      "outputs": []
    },
    {
      "cell_type": "code",
      "source": [
        "def generate_image_db(keep_images):\n",
        "  import zipfile\n",
        "  from skimage.transform import resize\n",
        "\n",
        "\n",
        "  imagens_path = '/content/drive/MyDrive/Projeto ML/2022/Aprendizado de Maquinas/Projeto/CelebA/img_align_celeba.zip'\n",
        "  imgzip = zipfile.ZipFile(imagens_path)\n",
        "  inflist = imgzip.infolist()\n",
        "  all_images = {}\n",
        "\n",
        "  for f in tqdm(inflist):\n",
        "    file_name = f.filename.split('/')[1]\n",
        "    if file_name in keep_images:\n",
        "      if '.jpg' in file_name:\n",
        "        ifile = imgzip.open(f)\n",
        "        img = Image.open(ifile)\n",
        "        img_resize = resize(np.array(img), (128, 128))\n",
        "        all_images[file_name] = [img_resize]\n",
        "\n",
        "  return all_images\n",
        "\n",
        "def plt_samples(imgs):\n",
        "  # faces que foram reconhecidas pelo viola jones\n",
        "  fig, axes = plt.subplots(1,5, figsize=(10,10))\n",
        "\n",
        "  imgs= pd.DataFrame(imgs)\n",
        "\n",
        "  for (i,row), ax in zip(imgs.head(8).iterrows(), axes.ravel()): \n",
        "    ax.axis('off')\n",
        "    ax.imshow(row[0], cmap=plt.cm.gray)\n",
        "\n",
        "def visualize_5photos(y):\n",
        "  amostra= generate_image_db(y.sample(5).index)\n",
        "  amostra_df = pd.DataFrame(amostra).T.reset_index()\n",
        "  plt_samples(amostra_df)"
      ],
      "metadata": {
        "id": "K_6EK4fPPI1k"
      },
      "execution_count": 11,
      "outputs": []
    },
    {
      "cell_type": "markdown",
      "metadata": {
        "id": "-fCP7qO9EMjx"
      },
      "source": [
        "# Carregando Dataset - HOG"
      ]
    },
    {
      "cell_type": "code",
      "execution_count": 13,
      "metadata": {
        "id": "nesCirIwjSTI"
      },
      "outputs": [],
      "source": [
        "n_classes=50\n",
        "ref = 'HOG' \n",
        "tag= 'hog' + '_'+ str(n_classes) + '_classes'\n",
        "\n",
        "with open(r'/content/drive/MyDrive/Projeto ML/2022/Aprendizado de Maquinas/Projeto/Pipeline/Data/X_y_' + tag +'.obj', \"rb\") as f:\n",
        "    X,y = pickle.load(f)"
      ]
    },
    {
      "cell_type": "code",
      "source": [
        "visualize_5photos(y)"
      ],
      "metadata": {
        "colab": {
          "base_uri": "https://localhost:8080/",
          "height": 145
        },
        "id": "B2UxuJNGTr-d",
        "outputId": "5a1dd5f3-5d3d-4b27-adc3-6a9c00e06235"
      },
      "execution_count": 14,
      "outputs": [
        {
          "output_type": "stream",
          "name": "stderr",
          "text": [
            "100%|██████████| 202600/202600 [00:03<00:00, 51219.79it/s]\n"
          ]
        },
        {
          "output_type": "display_data",
          "data": {
            "text/plain": [
              "<Figure size 720x720 with 5 Axes>"
            ],
            "image/png": "[encoded data removed]"
          },
          "metadata": {
            "needs_background": "light"
          }
        }
      ]
    },
    {
      "cell_type": "code",
      "execution_count": 15,
      "metadata": {
        "colab": {
          "base_uri": "https://localhost:8080/"
        },
        "id": "UuMfnhFCv530",
        "outputId": "43c27b66-20a0-4011-c809-60162e128f5e"
      },
      "outputs": [
        {
          "output_type": "stream",
          "name": "stdout",
          "text": [
            "X shape: (1443, 4608)\n",
            "y shape: (1443,)\n"
          ]
        }
      ],
      "source": [
        "print('X shape:', X.shape)\n",
        "print('y shape:', y.shape)"
      ]
    },
    {
      "cell_type": "code",
      "execution_count": 16,
      "metadata": {
        "colab": {
          "base_uri": "https://localhost:8080/"
        },
        "id": "AOgsjWL7dmDr",
        "outputId": "48448991-3371-4543-ff4f-afd29f4f4702"
      },
      "outputs": [
        {
          "output_type": "stream",
          "name": "stdout",
          "text": [
            "Quantidade de pessoas: 50\n"
          ]
        }
      ],
      "source": [
        "# transformar categorias em one-hot-encoding: Saída\n",
        "saida = y.max()+1\n",
        "print(\"Quantidade de pessoas:\",saida)\n",
        "target = keras.utils.to_categorical(y, saida)"
      ]
    },
    {
      "cell_type": "markdown",
      "metadata": {
        "id": "yY1ktd8gd2yM"
      },
      "source": [
        "# Train x Test"
      ]
    },
    {
      "cell_type": "code",
      "execution_count": 17,
      "metadata": {
        "id": "Db0Ju9CS_GMa"
      },
      "outputs": [],
      "source": [
        "def train_test_separation(X, y):\n",
        "\n",
        "  n_classes = len(np.unique(y))\n",
        "\n",
        "  x_train, x_test, y_train_n, y_test_n = train_test_split(X, y, test_size=0.30, random_state=42,stratify=y)\n",
        "\n",
        "  y_train = keras.utils.to_categorical(y_train_n.values, n_classes)\n",
        "  y_test = keras.utils.to_categorical(y_test_n.values, n_classes)\n",
        "\n",
        "  assert y_train.shape[0]== y_train_n.shape[0]\n",
        "  assert y_test.shape[0]== y_test_n.shape[0]\n",
        "\n",
        "  print('x_train shape:', x_train.shape,'y_train shape:',  y_train_n.shape, 'y_train (ohe) shape:' ,y_train.shape, 'x_test shape:',  x_test.shape,'y_test shape:', y_test_n.shape,'y_test (ohe) shape:', y_test.shape)\n",
        "\n",
        "  return x_train, y_train_n, y_train, x_test, y_test, y_test_n"
      ]
    },
    {
      "cell_type": "code",
      "execution_count": 18,
      "metadata": {
        "id": "uy10wPGxd59i"
      },
      "outputs": [],
      "source": [
        "def apply_PCA(n_pca, x_train,x_test):\n",
        "  pca = PCA(n_components=n_pca, random_state=42)\n",
        "  pca.fit(x_train)\n",
        "\n",
        "  print('variancia explicada:', sum(pca.explained_variance_ratio_))\n",
        "  x_train_pca = pca.transform(x_train)\n",
        "  x_test_pca = pca.transform(x_test)\n",
        "\n",
        "  x_train_pca_norm = (x_train_pca - x_train_pca.mean(axis=0))/  x_train_pca.std(axis=0)\n",
        "  x_test_pca_norm = (x_test_pca - x_train_pca.mean(axis=0))/  x_train_pca.std(axis=0)\n",
        "\n",
        "  return x_train_pca_norm, x_test_pca_norm"
      ]
    },
    {
      "cell_type": "code",
      "execution_count": 19,
      "metadata": {
        "colab": {
          "base_uri": "https://localhost:8080/"
        },
        "id": "GSD9cLfdEh1t",
        "outputId": "38985b5b-698a-42e3-f41a-602c03a1a9a3"
      },
      "outputs": [
        {
          "output_type": "stream",
          "name": "stdout",
          "text": [
            "x_train shape: (1010, 4608) y_train shape: (1010,) y_train (ohe) shape: (1010, 50) x_test shape: (433, 4608) y_test shape: (433,) y_test (ohe) shape: (433, 50)\n"
          ]
        }
      ],
      "source": [
        "X_train, y_train_n, y_train, X_test, y_test, y_test_n = train_test_separation(X,y)"
      ]
    },
    {
      "cell_type": "code",
      "execution_count": 20,
      "metadata": {
        "colab": {
          "base_uri": "https://localhost:8080/"
        },
        "id": "3uXcqftrpx0w",
        "outputId": "30c5e627-c3a9-4029-f3e7-22b6ab8971e1"
      },
      "outputs": [
        {
          "output_type": "stream",
          "name": "stdout",
          "text": [
            "variancia explicada: 0.3745356758641867\n"
          ]
        }
      ],
      "source": [
        "X_train_pca, X_test_pca = apply_PCA(n_pca=50, x_train=X_train, x_test=X_test)"
      ]
    },
    {
      "cell_type": "code",
      "execution_count": 21,
      "metadata": {
        "id": "fWaBqU60YCPa"
      },
      "outputs": [],
      "source": [
        "def unpack_dict_as_str(dicionario):\n",
        "  string=''\n",
        "\n",
        "  for k,v in dicionario.items():\n",
        "    string= string + str(k) + ':[ '\n",
        "    try:\n",
        "      for v_ in v:\n",
        "        string= string + str(v_) + ' '\n",
        "      string= string+'] '\n",
        "    except:\n",
        "      string= string + str(v) + '] '\n",
        "  return string.strip()\n",
        "\n",
        "# unpack_dict_as_str({'a':[2,5,6], 'b':[6,7]})"
      ]
    },
    {
      "cell_type": "code",
      "execution_count": 26,
      "metadata": {
        "id": "KoiQ6uaLIOaf"
      },
      "outputs": [],
      "source": [
        "def pipeline_integrated_onedim(nome_do_modelo, #nome do modelo\n",
        "                               classifier, # classificador\n",
        "                               param_iteracao, # parametro iteração - deve conter um dicionario com a lista de valores a ser iterado\n",
        "                               param_fixo,  # parametro fixo e respectivo valor (uma lista)\n",
        "                               data, # dicionario de treino e teste\n",
        "                               kf= KFold(n_splits=5, shuffle=True, random_state=42),\n",
        "                               neural_network=False): #kfold\n",
        "\n",
        "  print('Pipeline de testes para o modelo:', nome_do_modelo)\n",
        "  X_train = data['X_train']\n",
        "  X_test = data['X_test']\n",
        "  y_train = data['y_train']\n",
        "  y_test = data['y_test']\n",
        "\n",
        "  log={}\n",
        "  log['exec_time'] = 'Execução em: {}'.format(datetime.now(pytz.timezone('America/Bahia')).strftime(\"%d/%m/%Y %H:%M:%S\"))\n",
        "  log['model_name'] = nome_do_modelo\n",
        "  log['parametro_fixo'] = '{}:[{}]'.format(param_fixo[0], param_fixo[1])\n",
        "  log['parametro_variavel'] = unpack_dict_as_str(param_iteracao)\n",
        "  log['kfold'] = kf\n",
        "\n",
        "  best_acc_val = -1\n",
        "  best_model=None\n",
        "  best_param = None\n",
        "  it=0\n",
        "\n",
        "  for parametro, valores in param_iteracao.items():\n",
        "    cv_report = {}\n",
        "    for valor in valores:\n",
        "      it+=1\n",
        "\n",
        "      cv_report['cv_results_'+str(it)] = {}\n",
        "      print('Execução em: {}'.format(datetime.now(pytz.timezone('America/Bahia')).strftime(\"%d/%m/%Y %H:%M:%S\")))\n",
        "      print(\"====================================================================\")\n",
        "      print('iteração:{}'.format(it))\n",
        "      param = {parametro:valor}\n",
        "      param[param_fixo[0]] = param_fixo[1]\n",
        "      print('Testando parametros:\\n', unpack_dict_as_str(param))\n",
        "      print(\"====================================================================\")\n",
        "      \n",
        "      cv_report['cv_results_'+str(it)]['cv_param']= unpack_dict_as_str(param)\n",
        "\n",
        "      for k_index,(train_index, val_index) in enumerate(kf.split(X_train)):\n",
        "        print('cross-validation: {}'.format(k_index))\n",
        "        X_train_kf, X_val_kf = X_train[train_index], X_train[val_index]\n",
        "        y_train_kf, y_val_kf = y_train[train_index], y_train[val_index]\n",
        "\n",
        "        # Ajusta o parâmetro usando o dicionário\n",
        "        for k,v in param.items():\n",
        "          setattr(classifier,k,v)\n",
        "        \n",
        "        if neural_network:\n",
        "          classifier.fit(X_train_kf, y_train_kf,[X_val_kf,y_val_kf])\n",
        "          acc_train = accuracy_score(classifier.predict(X_train_kf), y_train_kf.argmax(axis=1))\n",
        "          acc_val = accuracy_score(classifier.predict(X_val_kf), y_val_kf.argmax(axis=1))\n",
        "          acc_test = accuracy_score(classifier.predict(X_test), y_test.argmax(axis=1))\n",
        "        else:\n",
        "          classifier.fit(X_train_kf, y_train_kf)\n",
        "          acc_train = accuracy_score(classifier.predict(X_train_kf), y_train_kf)\n",
        "          acc_val = accuracy_score(classifier.predict(X_val_kf), y_val_kf)\n",
        "          acc_test = accuracy_score(classifier.predict(X_test), y_test)\n",
        "        print('acc - tr:{:.2f} val:{:.2f} tst:{:.2f}'.format(acc_train,acc_val,acc_test ))\n",
        "\n",
        "\n",
        "        if acc_val>best_acc_val:\n",
        "          best_model=classifier\n",
        "          best_param = param\n",
        "          k_index_best = k_index\n",
        "          best_acc_val=acc_val\n",
        "\n",
        "        cv_report['cv_results_'+str(it)]['acc_train_'+str(k_index)] = acc_train\n",
        "        cv_report['cv_results_'+str(it)]['acc_val_'+ str(k_index)] = acc_val\n",
        "        cv_report['cv_results_'+str(it)]['acc_test_'+ str(k_index)] = acc_test\n",
        "\n",
        "    log['cv_report']= cv_report\n",
        "\n",
        "    if neural_network:\n",
        "      best_model.fit(X_train, y_train,[X_test,y_test])\n",
        "      acc_train_best_model = accuracy_score(best_model.predict(X_train), y_train.argmax(axis=1))\n",
        "      acc_test_best_model = accuracy_score(best_model.predict(X_test), y_test.argmax(axis=1))\n",
        "    else:\n",
        "      best_model.fit(X_train, y_train)\n",
        "      acc_train_best_model = accuracy_score(best_model.predict(X_train), y_train)\n",
        "      acc_test_best_model = accuracy_score(best_model.predict(X_test), y_test)\n",
        "    \n",
        "\n",
        "    print('Melhor acurácia no validação obtida com os parametros {}. Treino final: {:.4f} Teste:{:.4f}'.format(unpack_dict_as_str(best_param),acc_train_best_model, acc_test_best_model))\n",
        "    print('Fim da Execução: {}'.format(datetime.now(pytz.timezone('America/Bahia')).strftime(\"%d/%m/%Y %H:%M:%S\")))\n",
        "    \n",
        "    log['melhor_modelo_obj'] = best_model\n",
        "    log['best_param_k_fold'] = unpack_dict_as_str(best_param)\n",
        "    log['acc_train_best_model'] = acc_train_best_model\n",
        "    log['acc_test_best_model'] = acc_test_best_model\n",
        "\n",
        "    return log\n",
        "\n",
        "def dictlog_to_flat_table(log):\n",
        "  log_i = pd.DataFrame(log, index=[norm_text(modelo)])\n",
        "  cv_log_i = pd.DataFrame(log['cv_report']).T.reset_index().assign(modelo = norm_text(modelo))\n",
        "  cv_log_i = pd.merge(log_i,cv_log_i, left_index = True , right_on = 'modelo', how='outer').drop(columns='cv_report')\n",
        "  return cv_log_i"
      ]
    },
    {
      "cell_type": "markdown",
      "metadata": {
        "id": "Olv5yCORwFSD"
      },
      "source": [
        "# Teste com Modelos"
      ]
    },
    {
      "cell_type": "code",
      "execution_count": 23,
      "metadata": {
        "id": "wq87vRPhv1Rl"
      },
      "outputs": [],
      "source": [
        "logs = pd.DataFrame()"
      ]
    },
    {
      "cell_type": "markdown",
      "metadata": {
        "id": "7t7YCGZUyyzg"
      },
      "source": [
        "Regressão Logística"
      ]
    },
    {
      "cell_type": "code",
      "execution_count": null,
      "metadata": {
        "colab": {
          "base_uri": "https://localhost:8080/"
        },
        "id": "8TCd4vHtWJAR",
        "outputId": "1691acfa-6f0e-4dbe-de16-a2478db32783"
      },
      "outputs": [
        {
          "output_type": "stream",
          "name": "stdout",
          "text": [
            "Pipeline de testes para o modelo: Regressão Logística Multinomial Passo Fixo\n",
            "Execução em: 21/01/2023 20:54:18\n",
            "====================================================================\n",
            "iteração:1\n",
            "Testando parametros:\n",
            " alpha:[ 0.1] theta:[ 0.001]\n",
            "====================================================================\n",
            "cross-validation: 0\n",
            "it:10000, norm_grad:0.006164013554529334, J:0.03830481958970479\n",
            "it:20000, norm_grad:0.0030927724795711364, J:0.019243938230845845\n",
            "it:30000, norm_grad:0.0020650610246110623, J:0.012857398767176162\n",
            "it:40000, norm_grad:0.001550258477029807, J:0.009656054579632482\n",
            "it:50000, norm_grad:0.001241020310615054, J:0.007732157694282395\n",
            "it:60000, norm_grad:0.0010346929437368105, J:0.0064480822829365144\n",
            "it:62088, norm_grad:0.0009999849227094332, J:0.006232039952850551\n",
            "acc - tr:1.00 val:0.36 tst:0.40\n",
            "cross-validation: 1\n",
            "it:10000, norm_grad:0.00566689821231863, J:0.03239074025816023\n",
            "it:20000, norm_grad:0.002843860759394644, J:0.016277737026915085\n",
            "it:30000, norm_grad:0.0018990514132811063, J:0.010877318937951146\n",
            "it:40000, norm_grad:0.0014257281361294062, J:0.00816982337027053\n",
            "it:50000, norm_grad:0.0011413857553863253, J:0.006542524261603242\n",
            "it:57092, norm_grad:0.0009999912555030963, J:0.005733057134679474\n",
            "acc - tr:1.00 val:0.41 tst:0.46\n",
            "cross-validation: 2\n",
            "it:10000, norm_grad:0.005892082352497895, J:0.03505158588805424\n",
            "it:20000, norm_grad:0.0029582731346662, J:0.017624572223987653\n",
            "it:30000, norm_grad:0.001975822266248221, J:0.01177980756479629\n",
            "it:40000, norm_grad:0.0014835166921364179, J:0.008848684203859137\n",
            "it:50000, norm_grad:0.001187727080814213, J:0.007086679485899619\n",
            "it:59419, norm_grad:0.0009999963769684091, J:0.005967963072009639\n",
            "acc - tr:1.00 val:0.41 tst:0.46\n",
            "cross-validation: 3\n",
            "it:10000, norm_grad:0.006141298625580344, J:0.03801532205286133\n",
            "it:20000, norm_grad:0.003080969225530477, J:0.0190972878026038\n",
            "it:30000, norm_grad:0.0020571225703677927, J:0.012759596244102181\n",
            "it:40000, norm_grad:0.001544290669693881, J:0.009582839462874282\n",
            "it:50000, norm_grad:0.0012362454275244373, J:0.007673724180028279\n",
            "it:60000, norm_grad:0.0010307169721542181, J:0.006399505340315878\n",
            "it:61848, norm_grad:0.000999998953142888, J:0.006209027531796548\n",
            "acc - tr:1.00 val:0.34 tst:0.40\n",
            "cross-validation: 4\n",
            "it:10000, norm_grad:0.006416026881492188, J:0.04151718322433527\n",
            "it:20000, norm_grad:0.0032196831106707, J:0.020863237996989685\n",
            "it:30000, norm_grad:0.0021499810468646637, J:0.01394125930271204\n",
            "it:40000, norm_grad:0.0016141012408106552, J:0.010471017292650785\n",
            "it:50000, norm_grad:0.0012921830509193613, J:0.008385311501807949\n",
            "it:60000, norm_grad:0.0010773855209765166, J:0.006993132799507862\n",
            "it:64657, norm_grad:0.0009999903512082685, J:0.006491395960596693\n",
            "acc - tr:1.00 val:0.47 tst:0.45\n",
            "it:10000, norm_grad:0.008701579049058482, J:0.07631591946817247\n",
            "it:20000, norm_grad:0.004365673264442969, J:0.0383328886894136\n",
            "it:30000, norm_grad:0.002914800219283789, J:0.025608203628936097\n",
            "it:40000, norm_grad:0.0021880626484778163, J:0.019230491799823165\n",
            "it:50000, norm_grad:0.0017515354581200523, J:0.015398028493402806\n",
            "it:60000, norm_grad:0.0014602898176828984, J:0.012840276262001975\n",
            "it:70000, norm_grad:0.0012521341732699954, J:0.011011793354038452\n",
            "it:80000, norm_grad:0.0010959441677660306, J:0.00963952043435336\n",
            "it:87693, norm_grad:0.0009999967541178029, J:0.008796409811305004\n",
            "Melhor acurácia no validação obtida com os parametros alpha:[ 0.1] theta:[ 0.001]. Treino final: 1.0000 Teste:0.4213\n",
            "Fim da Execução: 21/01/2023 21:01:27\n"
          ]
        }
      ],
      "source": [
        "modelo = 'Regressão Logística Multinomial Passo Fixo'\n",
        "\n",
        "log = pipeline_integrated_onedim(nome_do_modelo=modelo, \n",
        "                          classifier= Multinomial_LogReg.MultinomialLogReg(),\n",
        "                          param_iteracao= {'alpha':[0.1]},\n",
        "                          param_fixo=['theta',0.001],\n",
        "                          data={'X_train':X_train_pca, 'X_test':X_test_pca, 'y_train':y_train_n, 'y_test':y_test_n} )\n",
        "\n",
        "log_df = dictlog_to_flat_table(log)\n",
        "logs = logs.append(log_df,ignore_index=True)"
      ]
    },
    {
      "cell_type": "code",
      "execution_count": null,
      "metadata": {
        "id": "pyFaR2riwYtz",
        "colab": {
          "base_uri": "https://localhost:8080/"
        },
        "outputId": "0fd41dbf-48bb-46e0-ec0a-b245e480ad45"
      },
      "outputs": [
        {
          "output_type": "stream",
          "name": "stdout",
          "text": [
            "Pipeline de testes para o modelo: Regressão Logística Multinomial com Bisseção\n",
            "Execução em: 21/01/2023 21:01:27\n",
            "====================================================================\n",
            "iteração:1\n",
            "Testando parametros:\n",
            " itmax_bissec:[ 5] theta:[ 0.001]\n",
            "====================================================================\n",
            "cross-validation: 0\n",
            "iteracao: 0 norm_grad: 220.72285883088756\n",
            "it:253, norm_grad:0.0009713731174223277, J:0.005230383233340255, alpha_b:89.91288775766303, hl:1.2107912364800012e-06\n",
            "acc - tr:1.00 val:0.35 tst:0.41\n",
            "cross-validation: 1\n",
            "iteracao: 0 norm_grad: 226.8187506129495\n",
            "it:194, norm_grad:0.0008317882439174302, J:0.0042228192369593975, alpha_b:149.85684196201134, hl:2.759948125844163e-07\n",
            "acc - tr:1.00 val:0.41 tst:0.45\n",
            "cross-validation: 2\n",
            "iteracao: 0 norm_grad: 223.448340930749\n",
            "it:249, norm_grad:0.0009632755844045207, J:0.00480150347844944, alpha_b:227.54258595692386, hl:1.3109398172269638e-07\n",
            "acc - tr:1.00 val:0.40 tst:0.44\n",
            "cross-validation: 3\n",
            "iteracao: 0 norm_grad: 221.641468417893\n",
            "it:193, norm_grad:0.0008897122447631686, J:0.005030780774312125, alpha_b:50.454464154489365, hl:3.7073041326441955e-07\n",
            "acc - tr:1.00 val:0.34 tst:0.40\n",
            "cross-validation: 4\n",
            "iteracao: 0 norm_grad: 218.55346934192997\n",
            "it:313, norm_grad:0.0009706347785465844, J:0.005705050578965002, alpha_b:159.30589757949866, hl:2.1893140274707133e-07\n",
            "acc - tr:1.00 val:0.47 tst:0.45\n",
            "Execução em: 21/01/2023 21:01:38\n",
            "====================================================================\n",
            "iteração:2\n",
            "Testando parametros:\n",
            " itmax_bissec:[ 20] theta:[ 0.001]\n",
            "====================================================================\n",
            "cross-validation: 0\n",
            "iteracao: 0 norm_grad: 223.2528535766587\n",
            "it:416, norm_grad:0.0007498636499686042, J:0.004019524599599821, alpha_b:171.17383753805836, hl:1.978209322228728e-07\n",
            "acc - tr:1.00 val:0.35 tst:0.41\n",
            "cross-validation: 1\n",
            "iteracao: 0 norm_grad: 217.41568725725418\n",
            "it:380, norm_grad:0.0009086194158918949, J:0.0049157464546015234, alpha_b:195.2359272978566, hl:2.3890861382945234e-08\n",
            "acc - tr:1.00 val:0.41 tst:0.46\n",
            "cross-validation: 2\n",
            "iteracao: 0 norm_grad: 219.59872397890234\n",
            "it:603, norm_grad:0.000993729645473759, J:0.004767875860175193, alpha_b:184.0657539143067, hl:6.460487801096261e-08\n",
            "acc - tr:1.00 val:0.41 tst:0.46\n",
            "cross-validation: 3\n",
            "iteracao: 0 norm_grad: 220.4686126544273\n",
            "it:419, norm_grad:0.0008600307662631757, J:0.005138400923433557, alpha_b:136.4851534242767, hl:3.534759159538963e-08\n",
            "acc - tr:1.00 val:0.34 tst:0.42\n",
            "cross-validation: 4\n",
            "iteracao: 0 norm_grad: 214.71737344762718\n",
            "it:656, norm_grad:0.0008348823345552029, J:0.004959229517965732, alpha_b:127.7873079673412, hl:3.9076630392317754e-07\n",
            "acc - tr:1.00 val:0.48 tst:0.45\n",
            "iteracao: 0 norm_grad: 267.69899214796806\n",
            "it:1000, norm_grad:0.036085679068770436, J:0.2775464576789932, alpha_b:3.5867488390941, hl:1.8714304157282487e-06\n",
            "it:1123, norm_grad:0.0009038036760241168, J:0.006103069498788861, alpha_b:155.89737359284229, hl:1.2038484328414831e-06\n",
            "Melhor acurácia no validação obtida com os parametros itmax_bissec:[ 20] theta:[ 0.001]. Treino final: 1.0000 Teste:0.4270\n",
            "Fim da Execução: 21/01/2023 21:03:00\n"
          ]
        }
      ],
      "source": [
        "modelo = 'Regressão Logística Multinomial com Bisseção'\n",
        "\n",
        "log = pipeline_integrated_onedim(nome_do_modelo=modelo, \n",
        "                          classifier= Multinomial_LogReg.MultinomialLogReg_bissecao(),\n",
        "                          param_iteracao= {'itmax_bissec':[5, 20]},\n",
        "                          param_fixo=['theta',0.001],\n",
        "                          data={'X_train':X_train_pca, 'X_test':X_test_pca, 'y_train':y_train_n, 'y_test':y_test_n} )\n",
        "\n",
        "log_df = dictlog_to_flat_table(log)\n",
        "logs = logs.append(log_df,ignore_index=True)"
      ]
    },
    {
      "cell_type": "markdown",
      "metadata": {
        "id": "j50V1Z33zHM0"
      },
      "source": [
        "# SVM"
      ]
    },
    {
      "cell_type": "code",
      "execution_count": null,
      "metadata": {
        "id": "46TpRSsKzJgB",
        "colab": {
          "base_uri": "https://localhost:8080/"
        },
        "outputId": "04f16990-9252-4214-ca22-d411c15876f2"
      },
      "outputs": [
        {
          "metadata": {
            "tags": null
          },
          "name": "stdout",
          "output_type": "stream",
          "text": [
            "Pipeline de testes para o modelo: SVM Classificador Kernel RBF C=1\n",
            "Execução em: 21/01/2023 21:03:00\n",
            "====================================================================\n",
            "iteração:1\n",
            "Testando parametros:\n",
            " sigma:[ 0.001] C:[ 1]\n",
            "====================================================================\n",
            "cross-validation: 0\n"
          ]
        },
        {
          "metadata": {
            "tags": null
          },
          "name": "stderr",
          "output_type": "stream",
          "text": [
            "100%|██████████| 20/20 [00:06<00:00,  3.02it/s]\n"
          ]
        },
        {
          "metadata": {
            "tags": null
          },
          "name": "stdout",
          "output_type": "stream",
          "text": [
            "acc - tr:1.00 val:0.08 tst:0.05\n",
            "cross-validation: 1\n"
          ]
        },
        {
          "metadata": {
            "tags": null
          },
          "name": "stderr",
          "output_type": "stream",
          "text": [
            "100%|██████████| 20/20 [00:06<00:00,  2.99it/s]\n"
          ]
        },
        {
          "metadata": {
            "tags": null
          },
          "name": "stdout",
          "output_type": "stream",
          "text": [
            "acc - tr:1.00 val:0.06 tst:0.05\n",
            "cross-validation: 2\n"
          ]
        },
        {
          "metadata": {
            "tags": null
          },
          "name": "stderr",
          "output_type": "stream",
          "text": [
            "100%|██████████| 20/20 [00:06<00:00,  3.15it/s]\n"
          ]
        },
        {
          "metadata": {
            "tags": null
          },
          "name": "stdout",
          "output_type": "stream",
          "text": [
            "acc - tr:1.00 val:0.04 tst:0.05\n",
            "cross-validation: 3\n"
          ]
        },
        {
          "metadata": {
            "tags": null
          },
          "name": "stderr",
          "output_type": "stream",
          "text": [
            "100%|██████████| 20/20 [00:06<00:00,  2.97it/s]\n"
          ]
        },
        {
          "metadata": {
            "tags": null
          },
          "name": "stdout",
          "output_type": "stream",
          "text": [
            "acc - tr:1.00 val:0.05 tst:0.05\n",
            "cross-validation: 4\n"
          ]
        },
        {
          "metadata": {
            "tags": null
          },
          "name": "stderr",
          "output_type": "stream",
          "text": [
            "100%|██████████| 20/20 [00:06<00:00,  3.09it/s]\n"
          ]
        },
        {
          "metadata": {
            "tags": null
          },
          "name": "stdout",
          "output_type": "stream",
          "text": [
            "acc - tr:1.00 val:0.02 tst:0.05\n",
            "Execução em: 21/01/2023 21:05:34\n",
            "====================================================================\n",
            "iteração:2\n",
            "Testando parametros:\n",
            " sigma:[ 0.01] C:[ 1]\n",
            "====================================================================\n",
            "cross-validation: 0\n"
          ]
        },
        {
          "metadata": {
            "tags": null
          },
          "name": "stderr",
          "output_type": "stream",
          "text": [
            "100%|██████████| 20/20 [00:06<00:00,  3.15it/s]\n"
          ]
        },
        {
          "metadata": {
            "tags": null
          },
          "name": "stdout",
          "output_type": "stream",
          "text": [
            "acc - tr:1.00 val:0.08 tst:0.05\n",
            "cross-validation: 1\n"
          ]
        },
        {
          "metadata": {
            "tags": null
          },
          "name": "stderr",
          "output_type": "stream",
          "text": [
            "100%|██████████| 20/20 [00:06<00:00,  3.29it/s]\n"
          ]
        },
        {
          "metadata": {
            "tags": null
          },
          "name": "stdout",
          "output_type": "stream",
          "text": [
            "acc - tr:1.00 val:0.06 tst:0.05\n",
            "cross-validation: 2\n"
          ]
        },
        {
          "metadata": {
            "tags": null
          },
          "name": "stderr",
          "output_type": "stream",
          "text": [
            "100%|██████████| 20/20 [00:06<00:00,  3.07it/s]\n"
          ]
        },
        {
          "metadata": {
            "tags": null
          },
          "name": "stdout",
          "output_type": "stream",
          "text": [
            "acc - tr:1.00 val:0.04 tst:0.05\n",
            "cross-validation: 3\n"
          ]
        },
        {
          "metadata": {
            "tags": null
          },
          "name": "stderr",
          "output_type": "stream",
          "text": [
            "100%|██████████| 20/20 [00:06<00:00,  3.11it/s]\n"
          ]
        },
        {
          "metadata": {
            "tags": null
          },
          "name": "stdout",
          "output_type": "stream",
          "text": [
            "acc - tr:1.00 val:0.05 tst:0.05\n",
            "cross-validation: 4\n"
          ]
        },
        {
          "metadata": {
            "tags": null
          },
          "name": "stderr",
          "output_type": "stream",
          "text": [
            "100%|██████████| 20/20 [00:06<00:00,  3.19it/s]\n"
          ]
        },
        {
          "metadata": {
            "tags": null
          },
          "name": "stdout",
          "output_type": "stream",
          "text": [
            "acc - tr:1.00 val:0.02 tst:0.05\n",
            "Execução em: 21/01/2023 21:07:50\n",
            "====================================================================\n",
            "iteração:3\n",
            "Testando parametros:\n",
            " sigma:[ 0.1] C:[ 1]\n",
            "====================================================================\n",
            "cross-validation: 0\n"
          ]
        },
        {
          "metadata": {
            "tags": null
          },
          "name": "stderr",
          "output_type": "stream",
          "text": [
            "100%|██████████| 20/20 [00:06<00:00,  3.12it/s]\n"
          ]
        },
        {
          "metadata": {
            "tags": null
          },
          "name": "stdout",
          "output_type": "stream",
          "text": [
            "acc - tr:1.00 val:0.13 tst:0.09\n",
            "cross-validation: 1\n"
          ]
        },
        {
          "output_type": "stream",
          "name": "stderr",
          "text": [
            "100%|██████████| 20/20 [00:06<00:00,  3.30it/s]\n"
          ]
        },
        {
          "output_type": "stream",
          "name": "stdout",
          "text": [
            "acc - tr:1.00 val:0.08 tst:0.09\n",
            "cross-validation: 2\n"
          ]
        },
        {
          "output_type": "stream",
          "name": "stderr",
          "text": [
            "100%|██████████| 20/20 [00:06<00:00,  3.30it/s]\n"
          ]
        },
        {
          "output_type": "stream",
          "name": "stdout",
          "text": [
            "acc - tr:1.00 val:0.06 tst:0.07\n",
            "cross-validation: 3\n"
          ]
        },
        {
          "output_type": "stream",
          "name": "stderr",
          "text": [
            "100%|██████████| 20/20 [00:06<00:00,  3.08it/s]\n"
          ]
        },
        {
          "output_type": "stream",
          "name": "stdout",
          "text": [
            "acc - tr:1.00 val:0.06 tst:0.08\n",
            "cross-validation: 4\n"
          ]
        },
        {
          "output_type": "stream",
          "name": "stderr",
          "text": [
            "100%|██████████| 20/20 [00:05<00:00,  3.46it/s]\n"
          ]
        },
        {
          "output_type": "stream",
          "name": "stdout",
          "text": [
            "acc - tr:1.00 val:0.06 tst:0.07\n",
            "Execução em: 21/01/2023 21:10:03\n",
            "====================================================================\n",
            "iteração:4\n",
            "Testando parametros:\n",
            " sigma:[ 1] C:[ 1]\n",
            "====================================================================\n",
            "cross-validation: 0\n"
          ]
        },
        {
          "output_type": "stream",
          "name": "stderr",
          "text": [
            "100%|██████████| 20/20 [00:05<00:00,  3.53it/s]\n"
          ]
        },
        {
          "output_type": "stream",
          "name": "stdout",
          "text": [
            "acc - tr:1.00 val:0.39 tst:0.45\n",
            "cross-validation: 1\n"
          ]
        },
        {
          "output_type": "stream",
          "name": "stderr",
          "text": [
            "100%|██████████| 20/20 [00:05<00:00,  3.42it/s]\n"
          ]
        },
        {
          "output_type": "stream",
          "name": "stdout",
          "text": [
            "acc - tr:1.00 val:0.42 tst:0.40\n",
            "cross-validation: 2\n"
          ]
        },
        {
          "output_type": "stream",
          "name": "stderr",
          "text": [
            "100%|██████████| 20/20 [00:05<00:00,  3.48it/s]\n"
          ]
        },
        {
          "output_type": "stream",
          "name": "stdout",
          "text": [
            "acc - tr:1.00 val:0.39 tst:0.40\n",
            "cross-validation: 3\n"
          ]
        },
        {
          "output_type": "stream",
          "name": "stderr",
          "text": [
            "100%|██████████| 20/20 [00:05<00:00,  3.41it/s]\n"
          ]
        },
        {
          "output_type": "stream",
          "name": "stdout",
          "text": [
            "acc - tr:1.00 val:0.52 tst:0.44\n",
            "cross-validation: 4\n"
          ]
        },
        {
          "output_type": "stream",
          "name": "stderr",
          "text": [
            "100%|██████████| 20/20 [00:05<00:00,  3.42it/s]\n"
          ]
        },
        {
          "output_type": "stream",
          "name": "stdout",
          "text": [
            "acc - tr:1.00 val:0.45 tst:0.41\n"
          ]
        },
        {
          "output_type": "stream",
          "name": "stderr",
          "text": [
            "100%|██████████| 20/20 [00:08<00:00,  2.39it/s]\n"
          ]
        },
        {
          "output_type": "stream",
          "name": "stdout",
          "text": [
            "Melhor acurácia no validação obtida com os parametros sigma:[ 1] C:[ 1]. Treino final: 1.0000 Teste:0.4551\n",
            "Fim da Execução: 21/01/2023 21:12:43\n"
          ]
        }
      ],
      "source": [
        "modelo = 'SVM Classificador Kernel RBF C=1'\n",
        "\n",
        "log = pipeline_integrated_onedim(nome_do_modelo=modelo, \n",
        "                          classifier=  SVM_OVR.SVM_one_vs_all(),\n",
        "                          param_iteracao= {'sigma':[0.001, 0.01, 0.1,1]},\n",
        "                          param_fixo=['C',1],\n",
        "                          data={'X_train':X_train_pca, 'X_test':X_test_pca, 'y_train':y_train_n, 'y_test':y_test_n})\n",
        "\n",
        "log_df = dictlog_to_flat_table(log)\n",
        "logs = logs.append(log_df,ignore_index=True)"
      ]
    },
    {
      "cell_type": "code",
      "execution_count": null,
      "metadata": {
        "id": "2snFIIhe5O2a",
        "colab": {
          "base_uri": "https://localhost:8080/"
        },
        "outputId": "8ece65ab-0165-4a37-f5fb-83104fac38ed"
      },
      "outputs": [
        {
          "metadata": {
            "tags": null
          },
          "name": "stdout",
          "output_type": "stream",
          "text": [
            "Pipeline de testes para o modelo: SVM Classificador Kernel RBF C=100\n",
            "Execução em: 21/01/2023 21:12:43\n",
            "====================================================================\n",
            "iteração:1\n",
            "Testando parametros:\n",
            " sigma:[ 0.001] C:[ 100]\n",
            "====================================================================\n",
            "cross-validation: 0\n"
          ]
        },
        {
          "output_type": "stream",
          "name": "stderr",
          "text": [
            "100%|██████████| 20/20 [00:06<00:00,  3.14it/s]\n"
          ]
        },
        {
          "output_type": "stream",
          "name": "stdout",
          "text": [
            "acc - tr:1.00 val:0.08 tst:0.05\n",
            "cross-validation: 1\n"
          ]
        },
        {
          "output_type": "stream",
          "name": "stderr",
          "text": [
            "100%|██████████| 20/20 [00:06<00:00,  3.28it/s]\n"
          ]
        },
        {
          "output_type": "stream",
          "name": "stdout",
          "text": [
            "acc - tr:1.00 val:0.06 tst:0.05\n",
            "cross-validation: 2\n"
          ]
        },
        {
          "output_type": "stream",
          "name": "stderr",
          "text": [
            "100%|██████████| 20/20 [00:06<00:00,  3.28it/s]\n"
          ]
        },
        {
          "output_type": "stream",
          "name": "stdout",
          "text": [
            "acc - tr:1.00 val:0.04 tst:0.05\n",
            "cross-validation: 3\n"
          ]
        },
        {
          "output_type": "stream",
          "name": "stderr",
          "text": [
            "100%|██████████| 20/20 [00:06<00:00,  3.23it/s]\n"
          ]
        },
        {
          "output_type": "stream",
          "name": "stdout",
          "text": [
            "acc - tr:1.00 val:0.05 tst:0.05\n",
            "cross-validation: 4\n"
          ]
        },
        {
          "output_type": "stream",
          "name": "stderr",
          "text": [
            "100%|██████████| 20/20 [00:05<00:00,  3.35it/s]\n"
          ]
        },
        {
          "output_type": "stream",
          "name": "stdout",
          "text": [
            "acc - tr:1.00 val:0.02 tst:0.05\n",
            "Execução em: 21/01/2023 21:14:57\n",
            "====================================================================\n",
            "iteração:2\n",
            "Testando parametros:\n",
            " sigma:[ 0.1] C:[ 100]\n",
            "====================================================================\n",
            "cross-validation: 0\n"
          ]
        },
        {
          "output_type": "stream",
          "name": "stderr",
          "text": [
            "100%|██████████| 20/20 [00:05<00:00,  3.34it/s]\n"
          ]
        },
        {
          "output_type": "stream",
          "name": "stdout",
          "text": [
            "acc - tr:1.00 val:0.13 tst:0.09\n",
            "cross-validation: 1\n"
          ]
        },
        {
          "output_type": "stream",
          "name": "stderr",
          "text": [
            "100%|██████████| 20/20 [00:05<00:00,  3.36it/s]\n"
          ]
        },
        {
          "output_type": "stream",
          "name": "stdout",
          "text": [
            "acc - tr:1.00 val:0.08 tst:0.09\n",
            "cross-validation: 2\n"
          ]
        },
        {
          "output_type": "stream",
          "name": "stderr",
          "text": [
            "100%|██████████| 20/20 [00:06<00:00,  3.27it/s]\n"
          ]
        },
        {
          "output_type": "stream",
          "name": "stdout",
          "text": [
            "acc - tr:1.00 val:0.06 tst:0.07\n",
            "cross-validation: 3\n"
          ]
        },
        {
          "output_type": "stream",
          "name": "stderr",
          "text": [
            "100%|██████████| 20/20 [00:06<00:00,  3.31it/s]\n"
          ]
        },
        {
          "output_type": "stream",
          "name": "stdout",
          "text": [
            "acc - tr:1.00 val:0.06 tst:0.08\n",
            "cross-validation: 4\n"
          ]
        },
        {
          "output_type": "stream",
          "name": "stderr",
          "text": [
            "100%|██████████| 20/20 [00:06<00:00,  3.33it/s]\n"
          ]
        },
        {
          "output_type": "stream",
          "name": "stdout",
          "text": [
            "acc - tr:1.00 val:0.06 tst:0.07\n",
            "Execução em: 21/01/2023 21:17:09\n",
            "====================================================================\n",
            "iteração:3\n",
            "Testando parametros:\n",
            " sigma:[ 1] C:[ 100]\n",
            "====================================================================\n",
            "cross-validation: 0\n"
          ]
        },
        {
          "output_type": "stream",
          "name": "stderr",
          "text": [
            "100%|██████████| 20/20 [00:05<00:00,  3.45it/s]\n"
          ]
        },
        {
          "output_type": "stream",
          "name": "stdout",
          "text": [
            "acc - tr:1.00 val:0.39 tst:0.45\n",
            "cross-validation: 1\n"
          ]
        },
        {
          "output_type": "stream",
          "name": "stderr",
          "text": [
            "100%|██████████| 20/20 [00:05<00:00,  3.50it/s]\n"
          ]
        },
        {
          "output_type": "stream",
          "name": "stdout",
          "text": [
            "acc - tr:1.00 val:0.42 tst:0.40\n",
            "cross-validation: 2\n"
          ]
        },
        {
          "output_type": "stream",
          "name": "stderr",
          "text": [
            "100%|██████████| 20/20 [00:05<00:00,  3.39it/s]\n"
          ]
        },
        {
          "output_type": "stream",
          "name": "stdout",
          "text": [
            "acc - tr:1.00 val:0.39 tst:0.40\n",
            "cross-validation: 3\n"
          ]
        },
        {
          "output_type": "stream",
          "name": "stderr",
          "text": [
            "100%|██████████| 20/20 [00:05<00:00,  3.46it/s]\n"
          ]
        },
        {
          "output_type": "stream",
          "name": "stdout",
          "text": [
            "acc - tr:1.00 val:0.52 tst:0.44\n",
            "cross-validation: 4\n"
          ]
        },
        {
          "output_type": "stream",
          "name": "stderr",
          "text": [
            "100%|██████████| 20/20 [00:05<00:00,  3.39it/s]\n"
          ]
        },
        {
          "output_type": "stream",
          "name": "stdout",
          "text": [
            "acc - tr:1.00 val:0.45 tst:0.41\n"
          ]
        },
        {
          "output_type": "stream",
          "name": "stderr",
          "text": [
            "100%|██████████| 20/20 [00:08<00:00,  2.28it/s]\n"
          ]
        },
        {
          "output_type": "stream",
          "name": "stdout",
          "text": [
            "Melhor acurácia no validação obtida com os parametros sigma:[ 1] C:[ 100]. Treino final: 1.0000 Teste:0.4551\n",
            "Fim da Execução: 21/01/2023 21:19:49\n"
          ]
        }
      ],
      "source": [
        "modelo = 'SVM Classificador Kernel RBF C=100'\n",
        "\n",
        "log = pipeline_integrated_onedim(nome_do_modelo=modelo, \n",
        "                          classifier=  SVM_OVR.SVM_one_vs_all(),\n",
        "                          param_iteracao= {'sigma':[0.001, 0.1,1]},\n",
        "                          param_fixo=['C',100],\n",
        "                          data={'X_train':X_train_pca, 'X_test':X_test_pca, 'y_train':y_train_n, 'y_test':y_test_n})\n",
        "\n",
        "log_df = dictlog_to_flat_table(log)\n",
        "logs = logs.append(log_df)"
      ]
    },
    {
      "cell_type": "code",
      "source": [
        "modelo = 'SVM Classificador Kernel RBF C=1000'\n",
        "\n",
        "log = pipeline_integrated_onedim(nome_do_modelo=modelo, \n",
        "                          classifier=  SVM_OVR.SVM_one_vs_all(),\n",
        "                          param_iteracao= {'sigma':[0.001, 0.1,1]},\n",
        "                          param_fixo=['C',1000],\n",
        "                          data={'X_train':X_train_pca, 'X_test':X_test_pca, 'y_train':y_train_n, 'y_test':y_test_n})\n",
        "\n",
        "log_df = dictlog_to_flat_table(log)\n",
        "logs = logs.append(log_df)"
      ],
      "metadata": {
        "colab": {
          "base_uri": "https://localhost:8080/"
        },
        "id": "69HXLqjtqmRM",
        "outputId": "3e22cf9a-5b6f-4462-c487-af6b85a3fea9"
      },
      "execution_count": null,
      "outputs": [
        {
          "metadata": {
            "tags": null
          },
          "name": "stdout",
          "output_type": "stream",
          "text": [
            "Pipeline de testes para o modelo: SVM Classificador Kernel RBF C=1000\n",
            "Execução em: 21/01/2023 21:19:49\n",
            "====================================================================\n",
            "iteração:1\n",
            "Testando parametros:\n",
            " sigma:[ 0.001] C:[ 1000]\n",
            "====================================================================\n",
            "cross-validation: 0\n"
          ]
        },
        {
          "metadata": {
            "tags": null
          },
          "name": "stderr",
          "output_type": "stream",
          "text": [
            "100%|██████████| 20/20 [00:05<00:00,  3.34it/s]\n"
          ]
        },
        {
          "metadata": {
            "tags": null
          },
          "name": "stdout",
          "output_type": "stream",
          "text": [
            "acc - tr:1.00 val:0.08 tst:0.05\n",
            "cross-validation: 1\n"
          ]
        },
        {
          "metadata": {
            "tags": null
          },
          "name": "stderr",
          "output_type": "stream",
          "text": [
            "100%|██████████| 20/20 [00:06<00:00,  3.33it/s]\n"
          ]
        },
        {
          "metadata": {
            "tags": null
          },
          "name": "stdout",
          "output_type": "stream",
          "text": [
            "acc - tr:1.00 val:0.06 tst:0.05\n",
            "cross-validation: 2\n"
          ]
        },
        {
          "output_type": "stream",
          "name": "stderr",
          "text": [
            "100%|██████████| 20/20 [00:06<00:00,  3.25it/s]\n"
          ]
        },
        {
          "output_type": "stream",
          "name": "stdout",
          "text": [
            "acc - tr:1.00 val:0.04 tst:0.05\n",
            "cross-validation: 3\n"
          ]
        },
        {
          "output_type": "stream",
          "name": "stderr",
          "text": [
            "100%|██████████| 20/20 [00:05<00:00,  3.35it/s]\n"
          ]
        },
        {
          "output_type": "stream",
          "name": "stdout",
          "text": [
            "acc - tr:1.00 val:0.05 tst:0.05\n",
            "cross-validation: 4\n"
          ]
        },
        {
          "output_type": "stream",
          "name": "stderr",
          "text": [
            "100%|██████████| 20/20 [00:06<00:00,  3.27it/s]\n"
          ]
        },
        {
          "output_type": "stream",
          "name": "stdout",
          "text": [
            "acc - tr:1.00 val:0.02 tst:0.05\n",
            "Execução em: 21/01/2023 21:22:01\n",
            "====================================================================\n",
            "iteração:2\n",
            "Testando parametros:\n",
            " sigma:[ 0.1] C:[ 1000]\n",
            "====================================================================\n",
            "cross-validation: 0\n"
          ]
        },
        {
          "output_type": "stream",
          "name": "stderr",
          "text": [
            "100%|██████████| 20/20 [00:06<00:00,  3.14it/s]\n"
          ]
        },
        {
          "output_type": "stream",
          "name": "stdout",
          "text": [
            "acc - tr:1.00 val:0.13 tst:0.09\n",
            "cross-validation: 1\n"
          ]
        },
        {
          "output_type": "stream",
          "name": "stderr",
          "text": [
            "100%|██████████| 20/20 [00:06<00:00,  3.23it/s]\n"
          ]
        },
        {
          "output_type": "stream",
          "name": "stdout",
          "text": [
            "acc - tr:1.00 val:0.08 tst:0.09\n",
            "cross-validation: 2\n"
          ]
        },
        {
          "output_type": "stream",
          "name": "stderr",
          "text": [
            "100%|██████████| 20/20 [00:06<00:00,  3.19it/s]\n"
          ]
        },
        {
          "output_type": "stream",
          "name": "stdout",
          "text": [
            "acc - tr:1.00 val:0.06 tst:0.07\n",
            "cross-validation: 3\n"
          ]
        },
        {
          "output_type": "stream",
          "name": "stderr",
          "text": [
            "100%|██████████| 20/20 [00:06<00:00,  3.07it/s]\n"
          ]
        },
        {
          "output_type": "stream",
          "name": "stdout",
          "text": [
            "acc - tr:1.00 val:0.06 tst:0.08\n",
            "cross-validation: 4\n"
          ]
        },
        {
          "output_type": "stream",
          "name": "stderr",
          "text": [
            "100%|██████████| 20/20 [00:06<00:00,  3.23it/s]\n"
          ]
        },
        {
          "output_type": "stream",
          "name": "stdout",
          "text": [
            "acc - tr:1.00 val:0.06 tst:0.07\n",
            "Execução em: 21/01/2023 21:24:18\n",
            "====================================================================\n",
            "iteração:3\n",
            "Testando parametros:\n",
            " sigma:[ 1] C:[ 1000]\n",
            "====================================================================\n",
            "cross-validation: 0\n"
          ]
        },
        {
          "output_type": "stream",
          "name": "stderr",
          "text": [
            "100%|██████████| 20/20 [00:06<00:00,  3.20it/s]\n"
          ]
        },
        {
          "output_type": "stream",
          "name": "stdout",
          "text": [
            "acc - tr:1.00 val:0.39 tst:0.45\n",
            "cross-validation: 1\n"
          ]
        },
        {
          "output_type": "stream",
          "name": "stderr",
          "text": [
            "100%|██████████| 20/20 [00:06<00:00,  3.32it/s]\n"
          ]
        },
        {
          "output_type": "stream",
          "name": "stdout",
          "text": [
            "acc - tr:1.00 val:0.42 tst:0.40\n",
            "cross-validation: 2\n"
          ]
        },
        {
          "output_type": "stream",
          "name": "stderr",
          "text": [
            "100%|██████████| 20/20 [00:05<00:00,  3.35it/s]\n"
          ]
        },
        {
          "output_type": "stream",
          "name": "stdout",
          "text": [
            "acc - tr:1.00 val:0.39 tst:0.40\n",
            "cross-validation: 3\n"
          ]
        },
        {
          "output_type": "stream",
          "name": "stderr",
          "text": [
            "100%|██████████| 20/20 [00:06<00:00,  3.33it/s]\n"
          ]
        },
        {
          "output_type": "stream",
          "name": "stdout",
          "text": [
            "acc - tr:1.00 val:0.52 tst:0.44\n",
            "cross-validation: 4\n"
          ]
        },
        {
          "output_type": "stream",
          "name": "stderr",
          "text": [
            "100%|██████████| 20/20 [00:05<00:00,  3.46it/s]\n"
          ]
        },
        {
          "output_type": "stream",
          "name": "stdout",
          "text": [
            "acc - tr:1.00 val:0.45 tst:0.41\n"
          ]
        },
        {
          "output_type": "stream",
          "name": "stderr",
          "text": [
            "100%|██████████| 20/20 [00:08<00:00,  2.35it/s]\n"
          ]
        },
        {
          "output_type": "stream",
          "name": "stdout",
          "text": [
            "Melhor acurácia no validação obtida com os parametros sigma:[ 1] C:[ 1000]. Treino final: 1.0000 Teste:0.4551\n",
            "Fim da Execução: 21/01/2023 21:26:59\n"
          ]
        }
      ]
    },
    {
      "cell_type": "markdown",
      "metadata": {
        "id": "x2EcgwPG6R0V"
      },
      "source": [
        "# MLP"
      ]
    },
    {
      "cell_type": "code",
      "source": [
        "# modelo = 'MultiLayer Perceptron alpha 0.1'\n",
        "\n",
        "# log = pipeline_integrated_onedim(nome_do_modelo=modelo, \n",
        "#                           classifier=  ANN.RNA(),\n",
        "#                           param_iteracao= {'h':[10,25,50,100]},\n",
        "#                           param_fixo=['alpha',0.01],\n",
        "#                           data={'X_train':X_train_pca, 'X_test':X_test_pca, 'y_train':y_train, 'y_test':y_test},\n",
        "#                           neural_network=True)\n",
        "\n",
        "# log_df = dictlog_to_flat_table(log)\n",
        "# logs = logs.append(log_df,ignore_index=True)"
      ],
      "metadata": {
        "id": "HX1X66c854pt"
      },
      "execution_count": 1,
      "outputs": []
    },
    {
      "cell_type": "code",
      "execution_count": 27,
      "metadata": {
        "id": "tl_AuVKW6UEs",
        "colab": {
          "base_uri": "https://localhost:8080/"
        },
        "outputId": "56ce550b-83ae-4164-afae-99ca70be54a8"
      },
      "outputs": [
        {
          "output_type": "stream",
          "name": "stdout",
          "text": [
            "Pipeline de testes para o modelo: MultiLayer Perceptron alpha 0.1\n",
            "Execução em: 22/01/2023 17:55:18\n",
            "====================================================================\n",
            "iteração:1\n",
            "Testando parametros:\n",
            " h:[ 25] alpha:[ 0.1]\n",
            "====================================================================\n",
            "cross-validation: 0\n",
            "nep: 10000 EQM: 42.72629538744691 EQM_val: 0.9836340004053454 norm: 0.0023879064289384824\n",
            "nep: 20000 EQM: 42.72629538744691 EQM_val: 0.9703782090777112 norm: 0.005355740269429297\n",
            "nep: 30000 EQM: 42.72629538744691 EQM_val: 0.9330081799543809 norm: 0.006855952975613305\n",
            "nep: 40000 EQM: 42.72629538744691 EQM_val: 0.9002777682979219 norm: 0.007568206190296093\n",
            "nep: 50000 EQM: 42.72629538744691 EQM_val: 0.8663251546499744 norm: 0.0065229870625979096\n",
            "Convergência em 50000 epochs\n",
            "acc - tr:0.47 val:0.24 tst:0.25\n",
            "cross-validation: 1\n",
            "nep: 10000 EQM: 42.71210023610534 EQM_val: 0.988541283956486 norm: 0.003897612843287254\n",
            "nep: 20000 EQM: 42.71210023610534 EQM_val: 0.9682568673963389 norm: 0.006078939714630738\n",
            "nep: 30000 EQM: 42.71210023610534 EQM_val: 0.9476700059588647 norm: 0.0065871649996219845\n",
            "nep: 40000 EQM: 42.71210023610534 EQM_val: 0.9334095224999748 norm: 0.00596085472284938\n",
            "nep: 50000 EQM: 42.71210023610534 EQM_val: 0.9103498675330984 norm: 0.006924675497379168\n",
            "Convergência em 50000 epochs\n",
            "acc - tr:0.50 val:0.20 tst:0.29\n",
            "cross-validation: 2\n",
            "nep: 10000 EQM: 43.06999793229159 EQM_val: 0.9865031231554487 norm: 0.0023281844545560934\n",
            "nep: 20000 EQM: 43.06999793229159 EQM_val: 0.9764076708306624 norm: 0.005157828907034901\n",
            "nep: 30000 EQM: 43.06999793229159 EQM_val: 0.9479146597088924 norm: 0.00730352684654517\n",
            "nep: 40000 EQM: 43.06999793229159 EQM_val: 0.9211325446067438 norm: 0.0077193630149017724\n",
            "nep: 50000 EQM: 43.06999793229159 EQM_val: 0.8927603935499387 norm: 0.0071319184264692645\n",
            "Convergência em 50000 epochs\n",
            "acc - tr:0.51 val:0.23 tst:0.28\n",
            "cross-validation: 3\n",
            "nep: 10000 EQM: 42.02727577306103 EQM_val: 0.9832401690883542 norm: 0.002269077591793335\n",
            "nep: 20000 EQM: 42.02727577306103 EQM_val: 0.9746246225332349 norm: 0.004097593134358356\n",
            "nep: 30000 EQM: 42.02727577306103 EQM_val: 0.9481298322628535 norm: 0.007043051298848235\n",
            "nep: 40000 EQM: 42.02727577306103 EQM_val: 0.9207551053463896 norm: 0.006853977945867332\n",
            "nep: 50000 EQM: 42.02727577306103 EQM_val: 0.8984561494149168 norm: 0.006663100383175263\n",
            "Convergência em 50000 epochs\n",
            "acc - tr:0.44 val:0.22 tst:0.24\n",
            "cross-validation: 4\n",
            "nep: 10000 EQM: 42.499568230457186 EQM_val: 0.9882552457010916 norm: 0.0025674014202312564\n",
            "nep: 20000 EQM: 42.499568230457186 EQM_val: 0.9791612317802794 norm: 0.006171340945493546\n",
            "nep: 30000 EQM: 42.499568230457186 EQM_val: 0.959553692038573 norm: 0.006738236947022847\n",
            "nep: 40000 EQM: 42.499568230457186 EQM_val: 0.9285694854195209 norm: 0.0072952678562996365\n",
            "nep: 50000 EQM: 42.499568230457186 EQM_val: 0.9012494445381798 norm: 0.0067996806404108665\n",
            "Convergência em 50000 epochs\n",
            "acc - tr:0.48 val:0.22 tst:0.25\n",
            "Execução em: 22/01/2023 18:13:58\n",
            "====================================================================\n",
            "iteração:2\n",
            "Testando parametros:\n",
            " h:[ 50] alpha:[ 0.1]\n",
            "====================================================================\n",
            "cross-validation: 0\n",
            "nep: 10000 EQM: 46.61338853966607 EQM_val: 0.9900298934115118 norm: 0.003108192763804487\n",
            "nep: 20000 EQM: 46.61338853966607 EQM_val: 0.9784854302925466 norm: 0.005053977780228449\n",
            "nep: 30000 EQM: 46.61338853966607 EQM_val: 0.9364012808431785 norm: 0.008019834266199385\n",
            "nep: 40000 EQM: 46.61338853966607 EQM_val: 0.8925918733521413 norm: 0.008077487269705716\n",
            "nep: 50000 EQM: 46.61338853966607 EQM_val: 0.8644788351016096 norm: 0.007820582701290405\n",
            "Convergência em 50000 epochs\n",
            "acc - tr:0.58 val:0.27 tst:0.28\n",
            "cross-validation: 1\n",
            "nep: 10000 EQM: 46.288559789377906 EQM_val: 0.995294339017814 norm: 0.003162363811164819\n",
            "nep: 20000 EQM: 46.288559789377906 EQM_val: 0.9850466130168989 norm: 0.007658814564155219\n",
            "nep: 30000 EQM: 46.288559789377906 EQM_val: 0.9539703196450637 norm: 0.008030318906998521\n",
            "nep: 40000 EQM: 46.288559789377906 EQM_val: 0.9336971361251283 norm: 0.007789823154924117\n",
            "nep: 50000 EQM: 46.288559789377906 EQM_val: 0.9147181289530525 norm: 0.0072345385681763285\n",
            "Convergência em 50000 epochs\n",
            "acc - tr:0.58 val:0.24 tst:0.30\n",
            "cross-validation: 2\n",
            "nep: 10000 EQM: 46.46960493483434 EQM_val: 0.9907171615075466 norm: 0.0023558769391450285\n",
            "nep: 20000 EQM: 46.46960493483434 EQM_val: 0.9790507258047452 norm: 0.005130146162950806\n",
            "nep: 30000 EQM: 46.46960493483434 EQM_val: 0.9398234587632652 norm: 0.007112629460837629\n",
            "nep: 40000 EQM: 46.46960493483434 EQM_val: 0.9081522332424276 norm: 0.0082147450430139\n",
            "nep: 50000 EQM: 46.46960493483434 EQM_val: 0.8883782610754393 norm: 0.008438159062130648\n",
            "Convergência em 50000 epochs\n",
            "acc - tr:0.57 val:0.26 tst:0.29\n",
            "cross-validation: 3\n",
            "nep: 10000 EQM: 46.17982866085576 EQM_val: 0.990209840687471 norm: 0.002584163109096024\n",
            "nep: 20000 EQM: 46.17982866085576 EQM_val: 0.9840993173369723 norm: 0.005322129251115115\n",
            "nep: 30000 EQM: 46.17982866085576 EQM_val: 0.9429421084358577 norm: 0.007375137123559704\n",
            "nep: 40000 EQM: 46.17982866085576 EQM_val: 0.9016285368591901 norm: 0.007590682054788698\n",
            "nep: 50000 EQM: 46.17982866085576 EQM_val: 0.8747834990345312 norm: 0.008233500737229822\n",
            "Convergência em 50000 epochs\n",
            "acc - tr:0.55 val:0.28 tst:0.29\n",
            "cross-validation: 4\n",
            "nep: 10000 EQM: 46.45444545586307 EQM_val: 0.9955810303378415 norm: 0.002719680311993411\n",
            "nep: 20000 EQM: 46.45444545586307 EQM_val: 0.9898047656877373 norm: 0.00547970027370962\n",
            "nep: 30000 EQM: 46.45444545586307 EQM_val: 0.9590783366898642 norm: 0.007218052035584305\n",
            "nep: 40000 EQM: 46.45444545586307 EQM_val: 0.9184773712952977 norm: 0.008537443521577122\n",
            "nep: 50000 EQM: 46.45444545586307 EQM_val: 0.886698800038806 norm: 0.008235545914436012\n",
            "Convergência em 50000 epochs\n",
            "acc - tr:0.57 val:0.27 tst:0.29\n",
            "Execução em: 22/01/2023 18:38:22\n",
            "====================================================================\n",
            "iteração:3\n",
            "Testando parametros:\n",
            " h:[ 100] alpha:[ 0.1]\n",
            "====================================================================\n",
            "cross-validation: 0\n",
            "nep: 10000 EQM: 48.02595253984246 EQM_val: 1.000534035897335 norm: 0.0050760958172346654\n",
            "nep: 20000 EQM: 48.02595253984246 EQM_val: 0.9702904114465687 norm: 0.008023421619510097\n",
            "nep: 30000 EQM: 48.02595253984246 EQM_val: 0.9335546577081468 norm: 0.008899510276712612\n",
            "nep: 40000 EQM: 48.02595253984246 EQM_val: 0.8886805782654096 norm: 0.008619761369069102\n",
            "nep: 50000 EQM: 48.02595253984246 EQM_val: 0.8488129487639047 norm: 0.007874848551486218\n",
            "Convergência em 50000 epochs\n",
            "acc - tr:0.68 val:0.31 tst:0.32\n",
            "cross-validation: 1\n",
            "nep: 10000 EQM: 47.93761115913781 EQM_val: 0.9962048969476792 norm: 0.004189727928121641\n",
            "nep: 20000 EQM: 47.93761115913781 EQM_val: 0.9659832293836141 norm: 0.00834465487709524\n",
            "nep: 30000 EQM: 47.93761115913781 EQM_val: 0.9314805810696121 norm: 0.009548077177257343\n",
            "nep: 40000 EQM: 47.93761115913781 EQM_val: 0.9104097486580779 norm: 0.008031880606282033\n",
            "nep: 50000 EQM: 47.93761115913781 EQM_val: 0.889930576381925 norm: 0.006916856570647012\n",
            "Convergência em 50000 epochs\n",
            "acc - tr:0.66 val:0.27 tst:0.32\n",
            "cross-validation: 2\n",
            "nep: 10000 EQM: 47.99619217753592 EQM_val: 0.9954302225681922 norm: 0.0037497714120315476\n",
            "nep: 20000 EQM: 47.99619217753592 EQM_val: 0.97095500991507 norm: 0.007581254405012533\n",
            "nep: 30000 EQM: 47.99619217753592 EQM_val: 0.9290014971137354 norm: 0.00871579688592921\n",
            "nep: 40000 EQM: 47.99619217753592 EQM_val: 0.8986887335621502 norm: 0.009078734982472532\n",
            "nep: 50000 EQM: 47.99619217753592 EQM_val: 0.8689775600925541 norm: 0.008160774139884723\n",
            "Convergência em 50000 epochs\n",
            "acc - tr:0.68 val:0.28 tst:0.31\n",
            "cross-validation: 3\n",
            "nep: 10000 EQM: 47.942095973627445 EQM_val: 0.9951719377039713 norm: 0.004906329610080168\n",
            "nep: 20000 EQM: 47.942095973627445 EQM_val: 0.9772519551801367 norm: 0.006792438003364301\n",
            "nep: 30000 EQM: 47.942095973627445 EQM_val: 0.9395991624621434 norm: 0.008571838704479126\n",
            "nep: 40000 EQM: 47.942095973627445 EQM_val: 0.8945207673148777 norm: 0.008694739037552461\n",
            "nep: 50000 EQM: 47.942095973627445 EQM_val: 0.8673392799392229 norm: 0.007655278422103197\n",
            "Convergência em 50000 epochs\n",
            "acc - tr:0.65 val:0.30 tst:0.34\n",
            "cross-validation: 4\n",
            "nep: 10000 EQM: 48.1793570495531 EQM_val: 0.9983431290951139 norm: 0.003986692717860884\n",
            "nep: 20000 EQM: 48.1793570495531 EQM_val: 0.9678383725904591 norm: 0.007419486288622469\n",
            "nep: 30000 EQM: 48.1793570495531 EQM_val: 0.9317557251783505 norm: 0.008831640982354057\n",
            "nep: 40000 EQM: 48.1793570495531 EQM_val: 0.9034275929835146 norm: 0.009027242481581807\n",
            "nep: 50000 EQM: 48.1793570495531 EQM_val: 0.8860464137234171 norm: 0.007528521921503966\n",
            "Convergência em 50000 epochs\n",
            "acc - tr:0.67 val:0.30 tst:0.28\n",
            "nep: 10000 EQM: 48.03480965097872 EQM_val: 0.9930962629498302 norm: 0.004106890710632387\n",
            "nep: 20000 EQM: 48.03480965097872 EQM_val: 0.962380309695929 norm: 0.006525475582893638\n",
            "nep: 30000 EQM: 48.03480965097872 EQM_val: 0.9121280475114248 norm: 0.008084493336884067\n",
            "nep: 40000 EQM: 48.03480965097872 EQM_val: 0.8593326065523841 norm: 0.009227343030125259\n",
            "nep: 50000 EQM: 48.03480965097872 EQM_val: 0.8106855801484758 norm: 0.007906925964837597\n",
            "Convergência em 50000 epochs\n",
            "Melhor acurácia no validação obtida com os parametros h:[ 100] alpha:[ 0.1]. Treino final: 0.6426 Teste:0.3372\n",
            "Fim da Execução: 22/01/2023 19:25:30\n"
          ]
        }
      ],
      "source": [
        "modelo = 'MultiLayer Perceptron alpha 0.1'\n",
        "\n",
        "log = pipeline_integrated_onedim(nome_do_modelo=modelo, \n",
        "                          classifier=  ANN.RNA(),\n",
        "                          param_iteracao= {'h':[25,50,100]},\n",
        "                          param_fixo=['alpha',0.1],\n",
        "                          data={'X_train':X_train_pca, 'X_test':X_test_pca, 'y_train':y_train, 'y_test':y_test},\n",
        "                          neural_network=True)\n",
        "\n",
        "log_df = dictlog_to_flat_table(log)\n",
        "logs = logs.append(log_df,ignore_index=True)"
      ]
    },
    {
      "cell_type": "code",
      "execution_count": 29,
      "metadata": {
        "id": "zZ1NeTjf4gzi",
        "colab": {
          "base_uri": "https://localhost:8080/",
          "height": 363
        },
        "outputId": "c7b7b160-5677-42ff-93e3-3538c38a8d92"
      },
      "outputs": [
        {
          "output_type": "execute_result",
          "data": {
            "text/plain": [
              "                          exec_time                       model_name  \\\n",
              "0  Execução em: 22/01/2023 17:55:18  MultiLayer Perceptron alpha 0.1   \n",
              "1  Execução em: 22/01/2023 17:55:18  MultiLayer Perceptron alpha 0.1   \n",
              "2  Execução em: 22/01/2023 17:55:18  MultiLayer Perceptron alpha 0.1   \n",
              "\n",
              "  parametro_fixo parametro_variavel  \\\n",
              "0    alpha:[0.1]    h:[ 25 50 100 ]   \n",
              "1    alpha:[0.1]    h:[ 25 50 100 ]   \n",
              "2    alpha:[0.1]    h:[ 25 50 100 ]   \n",
              "\n",
              "                                              kfold  \\\n",
              "0  KFold(n_splits=5, random_state=42, shuffle=True)   \n",
              "1  KFold(n_splits=5, random_state=42, shuffle=True)   \n",
              "2  KFold(n_splits=5, random_state=42, shuffle=True)   \n",
              "\n",
              "                    melhor_modelo_obj      best_param_k_fold  \\\n",
              "0  <ANN.RNA object at 0x7f1ae3f22310>  h:[ 100] alpha:[ 0.1]   \n",
              "1  <ANN.RNA object at 0x7f1ae3f22310>  h:[ 100] alpha:[ 0.1]   \n",
              "2  <ANN.RNA object at 0x7f1ae3f22310>  h:[ 100] alpha:[ 0.1]   \n",
              "\n",
              "   acc_train_best_model  acc_test_best_model         index  \\\n",
              "0              0.642574             0.337182  cv_results_1   \n",
              "1              0.642574             0.337182  cv_results_2   \n",
              "2              0.642574             0.337182  cv_results_3   \n",
              "\n",
              "                cv_param acc_train_0 acc_val_0 acc_test_0 acc_train_1  \\\n",
              "0   h:[ 25] alpha:[ 0.1]    0.471535  0.242574   0.251732    0.501238   \n",
              "1   h:[ 50] alpha:[ 0.1]    0.576733  0.272277   0.279446    0.580446   \n",
              "2  h:[ 100] alpha:[ 0.1]    0.683168  0.306931   0.318707    0.657178   \n",
              "\n",
              "  acc_val_1 acc_test_1 acc_train_2 acc_val_2 acc_test_2 acc_train_3 acc_val_3  \\\n",
              "0   0.20297   0.286374    0.513614  0.227723   0.277136    0.443069  0.217822   \n",
              "1  0.242574   0.300231    0.565594  0.262376   0.288684    0.553218  0.277228   \n",
              "2  0.272277   0.318707    0.683168  0.282178   0.309469     0.64604   0.29703   \n",
              "\n",
              "  acc_test_3 acc_train_4 acc_val_4 acc_test_4                           modelo  \n",
              "0   0.242494     0.47896  0.222772   0.251732  multilayer_perceptron_alpha_0.1  \n",
              "1   0.293303    0.571782  0.272277   0.286374  multilayer_perceptron_alpha_0.1  \n",
              "2   0.344111    0.669554   0.30198   0.281755  multilayer_perceptron_alpha_0.1  "
            ],
            "text/html": [
              "\n",
              "  <div id=\"df-c773941c-740f-413e-82e9-a71abf5aece2\">\n",
              "    <div class=\"colab-df-container\">\n",
              "      <div>\n",
              "<style scoped>\n",
              "    .dataframe tbody tr th:only-of-type {\n",
              "        vertical-align: middle;\n",
              "    }\n",
              "\n",
              "    .dataframe tbody tr th {\n",
              "        vertical-align: top;\n",
              "    }\n",
              "\n",
              "    .dataframe thead th {\n",
              "        text-align: right;\n",
              "    }\n",
              "</style>\n",
              "<table border=\"1\" class=\"dataframe\">\n",
              "  <thead>\n",
              "    <tr style=\"text-align: right;\">\n",
              "      <th></th>\n",
              "      <th>exec_time</th>\n",
              "      <th>model_name</th>\n",
              "      <th>parametro_fixo</th>\n",
              "      <th>parametro_variavel</th>\n",
              "      <th>kfold</th>\n",
              "      <th>melhor_modelo_obj</th>\n",
              "      <th>best_param_k_fold</th>\n",
              "      <th>acc_train_best_model</th>\n",
              "      <th>acc_test_best_model</th>\n",
              "      <th>index</th>\n",
              "      <th>cv_param</th>\n",
              "      <th>acc_train_0</th>\n",
              "      <th>acc_val_0</th>\n",
              "      <th>acc_test_0</th>\n",
              "      <th>acc_train_1</th>\n",
              "      <th>acc_val_1</th>\n",
              "      <th>acc_test_1</th>\n",
              "      <th>acc_train_2</th>\n",
              "      <th>acc_val_2</th>\n",
              "      <th>acc_test_2</th>\n",
              "      <th>acc_train_3</th>\n",
              "      <th>acc_val_3</th>\n",
              "      <th>acc_test_3</th>\n",
              "      <th>acc_train_4</th>\n",
              "      <th>acc_val_4</th>\n",
              "      <th>acc_test_4</th>\n",
              "      <th>modelo</th>\n",
              "    </tr>\n",
              "  </thead>\n",
              "  <tbody>\n",
              "    <tr>\n",
              "      <th>0</th>\n",
              "      <td>Execução em: 22/01/2023 17:55:18</td>\n",
              "      <td>MultiLayer Perceptron alpha 0.1</td>\n",
              "      <td>alpha:[0.1]</td>\n",
              "      <td>h:[ 25 50 100 ]</td>\n",
              "      <td>KFold(n_splits=5, random_state=42, shuffle=True)</td>\n",
              "      <td>&lt;ANN.RNA object at 0x7f1ae3f22310&gt;</td>\n",
              "      <td>h:[ 100] alpha:[ 0.1]</td>\n",
              "      <td>0.642574</td>\n",
              "      <td>0.337182</td>\n",
              "      <td>cv_results_1</td>\n",
              "      <td>h:[ 25] alpha:[ 0.1]</td>\n",
              "      <td>0.471535</td>\n",
              "      <td>0.242574</td>\n",
              "      <td>0.251732</td>\n",
              "      <td>0.501238</td>\n",
              "      <td>0.20297</td>\n",
              "      <td>0.286374</td>\n",
              "      <td>0.513614</td>\n",
              "      <td>0.227723</td>\n",
              "      <td>0.277136</td>\n",
              "      <td>0.443069</td>\n",
              "      <td>0.217822</td>\n",
              "      <td>0.242494</td>\n",
              "      <td>0.47896</td>\n",
              "      <td>0.222772</td>\n",
              "      <td>0.251732</td>\n",
              "      <td>multilayer_perceptron_alpha_0.1</td>\n",
              "    </tr>\n",
              "    <tr>\n",
              "      <th>1</th>\n",
              "      <td>Execução em: 22/01/2023 17:55:18</td>\n",
              "      <td>MultiLayer Perceptron alpha 0.1</td>\n",
              "      <td>alpha:[0.1]</td>\n",
              "      <td>h:[ 25 50 100 ]</td>\n",
              "      <td>KFold(n_splits=5, random_state=42, shuffle=True)</td>\n",
              "      <td>&lt;ANN.RNA object at 0x7f1ae3f22310&gt;</td>\n",
              "      <td>h:[ 100] alpha:[ 0.1]</td>\n",
              "      <td>0.642574</td>\n",
              "      <td>0.337182</td>\n",
              "      <td>cv_results_2</td>\n",
              "      <td>h:[ 50] alpha:[ 0.1]</td>\n",
              "      <td>0.576733</td>\n",
              "      <td>0.272277</td>\n",
              "      <td>0.279446</td>\n",
              "      <td>0.580446</td>\n",
              "      <td>0.242574</td>\n",
              "      <td>0.300231</td>\n",
              "      <td>0.565594</td>\n",
              "      <td>0.262376</td>\n",
              "      <td>0.288684</td>\n",
              "      <td>0.553218</td>\n",
              "      <td>0.277228</td>\n",
              "      <td>0.293303</td>\n",
              "      <td>0.571782</td>\n",
              "      <td>0.272277</td>\n",
              "      <td>0.286374</td>\n",
              "      <td>multilayer_perceptron_alpha_0.1</td>\n",
              "    </tr>\n",
              "    <tr>\n",
              "      <th>2</th>\n",
              "      <td>Execução em: 22/01/2023 17:55:18</td>\n",
              "      <td>MultiLayer Perceptron alpha 0.1</td>\n",
              "      <td>alpha:[0.1]</td>\n",
              "      <td>h:[ 25 50 100 ]</td>\n",
              "      <td>KFold(n_splits=5, random_state=42, shuffle=True)</td>\n",
              "      <td>&lt;ANN.RNA object at 0x7f1ae3f22310&gt;</td>\n",
              "      <td>h:[ 100] alpha:[ 0.1]</td>\n",
              "      <td>0.642574</td>\n",
              "      <td>0.337182</td>\n",
              "      <td>cv_results_3</td>\n",
              "      <td>h:[ 100] alpha:[ 0.1]</td>\n",
              "      <td>0.683168</td>\n",
              "      <td>0.306931</td>\n",
              "      <td>0.318707</td>\n",
              "      <td>0.657178</td>\n",
              "      <td>0.272277</td>\n",
              "      <td>0.318707</td>\n",
              "      <td>0.683168</td>\n",
              "      <td>0.282178</td>\n",
              "      <td>0.309469</td>\n",
              "      <td>0.64604</td>\n",
              "      <td>0.29703</td>\n",
              "      <td>0.344111</td>\n",
              "      <td>0.669554</td>\n",
              "      <td>0.30198</td>\n",
              "      <td>0.281755</td>\n",
              "      <td>multilayer_perceptron_alpha_0.1</td>\n",
              "    </tr>\n",
              "  </tbody>\n",
              "</table>\n",
              "</div>\n",
              "      <button class=\"colab-df-convert\" onclick=\"convertToInteractive('df-c773941c-740f-413e-82e9-a71abf5aece2')\"\n",
              "              title=\"Convert this dataframe to an interactive table.\"\n",
              "              style=\"display:none;\">\n",
              "        \n",
              "  <svg xmlns=\"http://www.w3.org/2000/svg\" height=\"24px\"viewBox=\"0 0 24 24\"\n",
              "       width=\"24px\">\n",
              "    <path d=\"M0 0h24v24H0V0z\" fill=\"none\"/>\n",
              "    <path d=\"M18.56 5.44l.94 2.06.94-2.06 2.06-.94-2.06-.94-.94-2.06-.94 2.06-2.06.94zm-11 1L8.5 8.5l.94-2.06 2.06-.94-2.06-.94L8.5 2.5l-.94 2.06-2.06.94zm10 10l.94 2.06.94-2.06 2.06-.94-2.06-.94-.94-2.06-.94 2.06-2.06.94z\"/><path d=\"M17.41 7.96l-1.37-1.37c-.4-.4-.92-.59-1.43-.59-.52 0-1.04.2-1.43.59L10.3 9.45l-7.72 7.72c-.78.78-.78 2.05 0 2.83L4 21.41c.39.39.9.59 1.41.59.51 0 1.02-.2 1.41-.59l7.78-7.78 2.81-2.81c.8-.78.8-2.07 0-2.86zM5.41 20L4 18.59l7.72-7.72 1.47 1.35L5.41 20z\"/>\n",
              "  </svg>\n",
              "      </button>\n",
              "      \n",
              "  <style>\n",
              "    .colab-df-container {\n",
              "      display:flex;\n",
              "      flex-wrap:wrap;\n",
              "      gap: 12px;\n",
              "    }\n",
              "\n",
              "    .colab-df-convert {\n",
              "      background-color: #E8F0FE;\n",
              "      border: none;\n",
              "      border-radius: 50%;\n",
              "      cursor: pointer;\n",
              "      display: none;\n",
              "      fill: #1967D2;\n",
              "      height: 32px;\n",
              "      padding: 0 0 0 0;\n",
              "      width: 32px;\n",
              "    }\n",
              "\n",
              "    .colab-df-convert:hover {\n",
              "      background-color: #E2EBFA;\n",
              "      box-shadow: 0px 1px 2px rgba(60, 64, 67, 0.3), 0px 1px 3px 1px rgba(60, 64, 67, 0.15);\n",
              "      fill: #174EA6;\n",
              "    }\n",
              "\n",
              "    [theme=dark] .colab-df-convert {\n",
              "      background-color: #3B4455;\n",
              "      fill: #D2E3FC;\n",
              "    }\n",
              "\n",
              "    [theme=dark] .colab-df-convert:hover {\n",
              "      background-color: #434B5C;\n",
              "      box-shadow: 0px 1px 3px 1px rgba(0, 0, 0, 0.15);\n",
              "      filter: drop-shadow(0px 1px 2px rgba(0, 0, 0, 0.3));\n",
              "      fill: #FFFFFF;\n",
              "    }\n",
              "  </style>\n",
              "\n",
              "      <script>\n",
              "        const buttonEl =\n",
              "          document.querySelector('#df-c773941c-740f-413e-82e9-a71abf5aece2 button.colab-df-convert');\n",
              "        buttonEl.style.display =\n",
              "          google.colab.kernel.accessAllowed ? 'block' : 'none';\n",
              "\n",
              "        async function convertToInteractive(key) {\n",
              "          const element = document.querySelector('#df-c773941c-740f-413e-82e9-a71abf5aece2');\n",
              "          const dataTable =\n",
              "            await google.colab.kernel.invokeFunction('convertToInteractive',\n",
              "                                                     [key], {});\n",
              "          if (!dataTable) return;\n",
              "\n",
              "          const docLinkHtml = 'Like what you see? Visit the ' +\n",
              "            '<a target=\"_blank\" href=https://colab.research.google.com/notebooks/data_table.ipynb>data table notebook</a>'\n",
              "            + ' to learn more about interactive tables.';\n",
              "          element.innerHTML = '';\n",
              "          dataTable['output_type'] = 'display_data';\n",
              "          await google.colab.output.renderOutput(dataTable, element);\n",
              "          const docLink = document.createElement('div');\n",
              "          docLink.innerHTML = docLinkHtml;\n",
              "          element.appendChild(docLink);\n",
              "        }\n",
              "      </script>\n",
              "    </div>\n",
              "  </div>\n",
              "  "
            ]
          },
          "metadata": {},
          "execution_count": 29
        }
      ],
      "source": [
        "pd.set_option('display.max_columns', None)\n",
        "logs.tail(3)"
      ]
    },
    {
      "cell_type": "markdown",
      "metadata": {
        "id": "8ZrLT-JZGohf"
      },
      "source": [
        "# Informações Melhor/Pior Modelo"
      ]
    },
    {
      "cell_type": "code",
      "source": [
        "def exclui_model_log(model_tag):\n",
        "\n",
        "  label = tag + '_log_full'\n",
        "\n",
        "  with open(model_save_dir + 'df_' + label +'.obj', 'rb') as f:\n",
        "    log_hist = pickle.load(f)\n",
        "\n",
        "  print('Reguistros antes da remoção:', log_hist.shape[0])\n",
        "  log_hist_clean = log_hist[~log_hist['modelo'].str.contains(model_tag)]\n",
        "  print('Reguistros após remoção:', log_hist_clean.shape[0])\n",
        "\n",
        "  return log_hist_clean\n",
        "\n",
        "log_bckp = exclui_model_log('multilayer_perceptron')\n",
        "logs = pd.concat([log_bckp, logs], axis=0)"
      ],
      "metadata": {
        "colab": {
          "base_uri": "https://localhost:8080/"
        },
        "id": "dsQGWA8KrXGI",
        "outputId": "bef1fb09-017e-4294-d25f-5600c583d690"
      },
      "execution_count": 31,
      "outputs": [
        {
          "output_type": "stream",
          "name": "stdout",
          "text": [
            "Reguistros antes da remoção: 17\n",
            "Reguistros após remoção: 13\n"
          ]
        }
      ]
    },
    {
      "cell_type": "code",
      "execution_count": 38,
      "metadata": {
        "id": "uRMHgRTbRD4o"
      },
      "outputs": [],
      "source": [
        "label = tag + '_log_full'\n",
        "\n",
        "logs['media_acc_val'] = (logs.acc_val_0\t+ logs.acc_val_1 +\tlogs.acc_val_2 +\tlogs.acc_val_3 +\tlogs.acc_val_4)/5\n",
        "logs['media_acc_train'] = (logs.acc_train_0\t+ logs.acc_train_1 +\tlogs.acc_train_2 +\tlogs.acc_train_3 +\tlogs.acc_train_4)/5\n",
        "logs['media_acc_test'] = (logs.acc_test_0\t+ logs.acc_test_1 +\tlogs.acc_test_2 +\tlogs.acc_test_3 +\tlogs.acc_test_4)/5\n",
        "\n",
        "logs.sort_values(by='media_acc_val', ascending=False, inplace=True)\n",
        "\n",
        "logs.to_excel(log_dir +label + '.xlsx')\n",
        "\n",
        "with open(model_save_dir + 'df_' + label +'.obj', 'wb') as fp:\n",
        "  pickle.dump(logs, fp)"
      ]
    },
    {
      "cell_type": "code",
      "execution_count": 35,
      "metadata": {
        "id": "U6Q5Jm6tHS_J"
      },
      "outputs": [],
      "source": [
        "def save_error(modelo_infos,label):\n",
        "  errorFile = open(erro_dir +label + '.txt', 'w') \n",
        "  print('Execução em: {}'.format(datetime.now(pytz.timezone('America/Bahia')).strftime(\"%d/%m/%Y %H:%M:%S\")) , file=errorFile)\n",
        "\n",
        "  out=''\n",
        "\n",
        "  errors = modelo_infos.drop(columns=['acc_train_best_model','acc_test_best_model']).T.reset_index()\n",
        "  errors.columns=['index', 'val']\n",
        "  for i,r in errors.iterrows():\n",
        "    out=out + norm_text(r['index']) + ':' + str(r['val']) + '\\n'\n",
        "  print(out, file=errorFile)\n",
        "  errorFile.close()"
      ]
    },
    {
      "cell_type": "code",
      "execution_count": 36,
      "metadata": {
        "id": "da4yaCoVGDtZ"
      },
      "outputs": [],
      "source": [
        "label = tag + '_' + 'melhor'\n",
        "\n",
        "melhor_modelo_infos = logs.sort_values(by='media_acc_val',ascending=False).head(1)\n",
        "\n",
        "# Salva mehlhor modelo\n",
        "melhor_modelo = melhor_modelo_infos['melhor_modelo_obj'].iloc[0]\n",
        "with open(model_save_dir + label +'.obj', 'wb') as fp:\n",
        "  pickle.dump(melhor_modelo, fp)\n",
        "\n",
        "# Salva o erro\n",
        "save_error(melhor_modelo_infos, label)\n",
        "\n",
        "#Salva o config\n",
        "melhor_modelo_infos.drop(columns = melhor_modelo_infos.filter(like='acc').columns).T.rename(columns={0:'config'}).to_csv(config_dir + label  +'.txt', sep=':')"
      ]
    },
    {
      "cell_type": "code",
      "execution_count": 37,
      "metadata": {
        "id": "B-XcQhGYJaMA"
      },
      "outputs": [],
      "source": [
        "label = tag + '_' + 'pior'\n",
        "\n",
        "pior_modelo_infos = logs.sort_values(by='media_acc_val',ascending=True).head(1)\n",
        "\n",
        "# Salva pior modelo\n",
        "pior = pior_modelo_infos['melhor_modelo_obj'].iloc[0]\n",
        "with open(model_save_dir + label +'.obj', 'wb') as fp:\n",
        "  pickle.dump(pior, fp)\n",
        "\n",
        "# Salva o erro\n",
        "save_error(pior_modelo_infos , label)\n",
        "\n",
        "#Salva o config\n",
        "pior_modelo_infos.drop(columns = pior_modelo_infos.filter(like='acc').columns).T.rename(columns={0:'config'}).to_csv(config_dir + label  +'.txt', sep=':')"
      ]
    },
    {
      "cell_type": "markdown",
      "source": [],
      "metadata": {
        "id": "-4dnlBZhswZn"
      }
    }
  ],
  "metadata": {
    "colab": {
      "machine_shape": "hm",
      "provenance": [],
      "include_colab_link": true
    },
    "gpuClass": "standard",
    "kernelspec": {
      "display_name": "Python 3",
      "language": "python",
      "name": "python3"
    },
    "language_info": {
      "codemirror_mode": {
        "name": "ipython",
        "version": 3
      },
      "file_extension": ".py",
      "mimetype": "text/x-python",
      "name": "python",
      "nbconvert_exporter": "python",
      "pygments_lexer": "ipython3",
      "version": "3.7.10"
    },
    "varInspector": {
      "cols": {
        "lenName": 16,
        "lenType": 16,
        "lenVar": 40
      },
      "kernels_config": {
        "python": {
          "delete_cmd_postfix": "",
          "delete_cmd_prefix": "del ",
          "library": "var_list.py",
          "varRefreshCmd": "print(var_dic_list())"
        },
        "r": {
          "delete_cmd_postfix": ") ",
          "delete_cmd_prefix": "rm(",
          "library": "var_list.r",
          "varRefreshCmd": "cat(var_dic_list()) "
        }
      },
      "types_to_exclude": [
        "module",
        "function",
        "builtin_function_or_method",
        "instance",
        "_Feature"
      ],
      "window_display": false
    }
  },
  "nbformat": 4,
  "nbformat_minor": 0
}