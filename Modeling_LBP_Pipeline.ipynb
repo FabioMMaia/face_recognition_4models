{
  "cells": [
    {
      "cell_type": "markdown",
      "metadata": {
        "id": "view-in-github",
        "colab_type": "text"
      },
      "source": [
        "<a href=\"https://colab.research.google.com/github/FabioMMaia/face_recognition_4models/blob/main/Modeling_LBP_Pipeline.ipynb\" target=\"_parent\"><img src=\"https://colab.research.google.com/assets/colab-badge.svg\" alt=\"Open In Colab\"/></a>"
      ]
    },
    {
      "cell_type": "code",
      "execution_count": 1,
      "metadata": {
        "id": "0jNKeNAIcwEN"
      },
      "outputs": [],
      "source": [
        "import numpy as np\n",
        "import pandas as pd\n",
        "import matplotlib.pyplot as plt\n",
        "from tensorflow import keras\n",
        "from sklearn.preprocessing import StandardScaler\n",
        "import tensorflow as tf\n",
        "import cv2\n",
        "from PIL import Image\n",
        "from skimage import data, exposure\n",
        "from skimage.feature import hog,local_binary_pattern\n",
        "from sklearn.decomposition import PCA\n",
        "from sklearn.model_selection import train_test_split\n",
        "from sklearn.model_selection import KFold\n",
        "from numpy.random import seed\n",
        "import pickle\n",
        "from tqdm import tqdm\n",
        "\n",
        "import pytz\n",
        "from datetime import datetime\n",
        "from collections import Counter\n",
        "import math\n",
        "\n",
        "from sklearn.metrics import accuracy_score\n",
        "\n",
        "import warnings\n",
        "warnings.filterwarnings('ignore')\n",
        "\n",
        "tqdm.pandas()"
      ]
    },
    {
      "cell_type": "code",
      "execution_count": 2,
      "metadata": {
        "colab": {
          "base_uri": "https://localhost:8080/"
        },
        "id": "9k9xlX-xef0d",
        "outputId": "cd1ba8c9-e626-4941-9aca-def9142dc630"
      },
      "outputs": [
        {
          "output_type": "stream",
          "name": "stdout",
          "text": [
            "Looking in indexes: https://pypi.org/simple, https://us-python.pkg.dev/colab-wheels/public/simple/\n",
            "Requirement already satisfied: unidecode in /usr/local/lib/python3.8/dist-packages (1.3.6)\n"
          ]
        }
      ],
      "source": [
        "!pip install unidecode\n",
        "\n",
        "def norm_text(txt):\n",
        "  from unidecode import unidecode\n",
        "  return unidecode(txt).replace(' ','_').lower()"
      ]
    },
    {
      "cell_type": "code",
      "execution_count": 3,
      "metadata": {
        "colab": {
          "base_uri": "https://localhost:8080/"
        },
        "id": "UzJSiIc4z8BG",
        "outputId": "6dc829b1-40c8-4f7f-f5d4-e75e1c6af368"
      },
      "outputs": [
        {
          "output_type": "stream",
          "name": "stdout",
          "text": [
            "Drive already mounted at /content/drive; to attempt to forcibly remount, call drive.mount(\"/content/drive\", force_remount=True).\n"
          ]
        }
      ],
      "source": [
        "from google.colab import drive\n",
        "drive.mount('/content/drive')"
      ]
    },
    {
      "cell_type": "code",
      "execution_count": 4,
      "metadata": {
        "id": "I9gEzU85sBo8"
      },
      "outputs": [],
      "source": [
        "config_dir = '/content/drive/MyDrive/Projeto ML/2022/Aprendizado de Maquinas/Projeto/Pipeline/config/'\n",
        "model_save_dir = '/content/drive/MyDrive/Projeto ML/2022/Aprendizado de Maquinas/Projeto/Pipeline/model/'\n",
        "erro_dir = '/content/drive/MyDrive/Projeto ML/2022/Aprendizado de Maquinas/Projeto/Pipeline/error/'\n",
        "log_dir = '/content/drive/MyDrive/Projeto ML/2022/Aprendizado de Maquinas/Projeto/Pipeline/log/'"
      ]
    },
    {
      "cell_type": "code",
      "execution_count": 5,
      "metadata": {
        "id": "0HwQFYUYdKRx"
      },
      "outputs": [],
      "source": [
        "import sys\n",
        "sys.path.append('/content/drive/MyDrive/Projeto ML/2022/Aprendizado de Maquinas/Projeto/Pipeline/Modelos_Implementações')"
      ]
    },
    {
      "cell_type": "code",
      "execution_count": 6,
      "metadata": {
        "id": "At7N2h1tdKiJ"
      },
      "outputs": [],
      "source": [
        "import MLP as mlp # multilayer perceptron\n",
        "import Multinomial_LogReg # regressão logística com alpha variavel (bissecao)\n",
        "import R_LOG as r_log # regressão logística com alpha fixo\n",
        "import SVM_OVR # SVM one-versus-rest\n",
        "import ANN"
      ]
    },
    {
      "cell_type": "code",
      "execution_count": 7,
      "metadata": {
        "id": "y2mrQXgKHxcZ"
      },
      "outputs": [],
      "source": [
        "# import importlib\n",
        "\n",
        "# importlib.reload(ANN)\n",
        "# importlib.reload(mlp)\n",
        "# importlib.reload(Multinomial_LogReg)\n",
        "# importlib.reload(r_log)\n",
        "# importlib.reload(SVM_OVR)\n",
        "# importlib.reload(ANN)"
      ]
    },
    {
      "cell_type": "code",
      "execution_count": 8,
      "metadata": {
        "id": "ByYR7oyY_fFy"
      },
      "outputs": [],
      "source": [
        "class logfile():\n",
        "\n",
        "  def __init__(self, diretorio):\n",
        "    self.diretorio=diretorio\n",
        "\n",
        "  def start(self, tag, use_dateref=True):\n",
        "    if use_dateref:\n",
        "      tag = tag + '_' + datetime.now(pytz.timezone('America/Bahia')).strftime(\"%Y%m%d\")\n",
        "    self.save_file = open(self.diretorio +  tag + '.txt', 'w')\n",
        "    data_atual = datetime.now(pytz.timezone('America/Bahia')).strftime(\"%d/%m/%Y %H:%M:%S\")\n",
        "    print('Execução em:', data_atual, file=self.save_file)\n",
        "    \n",
        "  def end(self):\n",
        "    data_atual = datetime.now(pytz.timezone('America/Bahia')).strftime(\"%d/%m/%Y %H:%M:%S\")\n",
        "    print('Fim de Execução em:', data_atual, file=self.save_file)\n",
        "    self.save_file.close()"
      ]
    },
    {
      "cell_type": "code",
      "source": [
        "# Visualize Dataset"
      ],
      "metadata": {
        "id": "v11ATiXGPF6-"
      },
      "execution_count": 9,
      "outputs": []
    },
    {
      "cell_type": "code",
      "source": [
        "def generate_image_db(keep_images):\n",
        "  import zipfile\n",
        "  from skimage.transform import resize\n",
        "\n",
        "\n",
        "  imagens_path = '/content/drive/MyDrive/Projeto ML/2022/Aprendizado de Maquinas/Projeto/CelebA/img_align_celeba.zip'\n",
        "  imgzip = zipfile.ZipFile(imagens_path)\n",
        "  inflist = imgzip.infolist()\n",
        "  all_images = {}\n",
        "\n",
        "  for f in tqdm(inflist):\n",
        "    file_name = f.filename.split('/')[1]\n",
        "    if file_name in keep_images:\n",
        "      if '.jpg' in file_name:\n",
        "        ifile = imgzip.open(f)\n",
        "        img = Image.open(ifile)\n",
        "        img_resize = resize(np.array(img), (128, 128))\n",
        "        all_images[file_name] = [img_resize]\n",
        "\n",
        "  return all_images\n",
        "\n",
        "def plt_samples(imgs):\n",
        "  # faces que foram reconhecidas pelo viola jones\n",
        "  fig, axes = plt.subplots(1,5, figsize=(10,10))\n",
        "\n",
        "  imgs= pd.DataFrame(imgs)\n",
        "\n",
        "  for (i,row), ax in zip(imgs.head(8).iterrows(), axes.ravel()): \n",
        "    ax.axis('off')\n",
        "    ax.imshow(row[0], cmap=plt.cm.gray)\n",
        "\n",
        "def visualize_5photos(y):\n",
        "  amostra= generate_image_db(y.sample(5).index)\n",
        "  amostra_df = pd.DataFrame(amostra).T.reset_index()\n",
        "  plt_samples(amostra_df)"
      ],
      "metadata": {
        "id": "K_6EK4fPPI1k"
      },
      "execution_count": 10,
      "outputs": []
    },
    {
      "cell_type": "markdown",
      "metadata": {
        "id": "-fCP7qO9EMjx"
      },
      "source": [
        "# Carregando Dataset - LBP"
      ]
    },
    {
      "cell_type": "code",
      "execution_count": 11,
      "metadata": {
        "id": "nesCirIwjSTI"
      },
      "outputs": [],
      "source": [
        "n_classes=5\n",
        "ref = 'LBP' \n",
        "tag= 'lbp' + '_'+ str(n_classes) + '_classes'\n",
        "\n",
        "\n",
        "with open(r'/content/drive/MyDrive/Projeto ML/2022/Aprendizado de Maquinas/Projeto/Pipeline/Data/X_y_' + tag +'.obj', \"rb\") as f:\n",
        "    X,y = pickle.load(f)"
      ]
    },
    {
      "cell_type": "code",
      "source": [
        "visualize_5photos(y)"
      ],
      "metadata": {
        "colab": {
          "base_uri": "https://localhost:8080/",
          "height": 145
        },
        "id": "B2UxuJNGTr-d",
        "outputId": "36cdb7f5-0112-498e-f5ba-8d67555a3821"
      },
      "execution_count": 12,
      "outputs": [
        {
          "output_type": "stream",
          "name": "stderr",
          "text": [
            "100%|██████████| 202600/202600 [00:01<00:00, 170192.90it/s]\n"
          ]
        },
        {
          "output_type": "display_data",
          "data": {
            "text/plain": [
              "<Figure size 720x720 with 5 Axes>"
            ],
            "image/png": "[encoded data removed]"
          },
          "metadata": {
            "needs_background": "light"
          }
        }
      ]
    },
    {
      "cell_type": "code",
      "execution_count": 13,
      "metadata": {
        "colab": {
          "base_uri": "https://localhost:8080/"
        },
        "id": "UuMfnhFCv530",
        "outputId": "3a2edb12-f2b7-4705-e972-617db369dbea"
      },
      "outputs": [
        {
          "output_type": "stream",
          "name": "stdout",
          "text": [
            "X shape: (160, 2500)\n",
            "y shape: (160,)\n"
          ]
        }
      ],
      "source": [
        "print('X shape:', X.shape)\n",
        "print('y shape:', y.shape)"
      ]
    },
    {
      "cell_type": "code",
      "execution_count": 14,
      "metadata": {
        "colab": {
          "base_uri": "https://localhost:8080/"
        },
        "id": "AOgsjWL7dmDr",
        "outputId": "20e3ca53-83a1-4e7b-c84f-d44b2aa7298f"
      },
      "outputs": [
        {
          "output_type": "stream",
          "name": "stdout",
          "text": [
            "Quantidade de pessoas: 5\n"
          ]
        }
      ],
      "source": [
        "# transformar categorias em one-hot-encoding: Saída\n",
        "saida = y.max()+1\n",
        "print(\"Quantidade de pessoas:\",saida)\n",
        "target = keras.utils.to_categorical(y, saida)"
      ]
    },
    {
      "cell_type": "markdown",
      "metadata": {
        "id": "yY1ktd8gd2yM"
      },
      "source": [
        "# Train x Test"
      ]
    },
    {
      "cell_type": "code",
      "execution_count": 15,
      "metadata": {
        "id": "Db0Ju9CS_GMa"
      },
      "outputs": [],
      "source": [
        "def train_test_separation(X, y):\n",
        "  x_train, x_test, y_train_n, y_test_n = train_test_split(X, y, test_size=0.30, random_state=42,stratify=y)\n",
        "\n",
        "  y_train = target[y.index.isin(y_train_n.index).flatten(),:]\n",
        "  y_test= target[y.index.isin(y_test_n.index).flatten(),:]\n",
        "\n",
        "  assert y_train.shape[0]== y_train_n.shape[0]\n",
        "  assert y_test.shape[0]== y_test_n.shape[0]\n",
        "\n",
        "  print('Shape',x_train.shape, x_test.shape, y_train.shape, y_test.shape,  y_train_n.shape, y_test_n.shape)\n",
        "\n",
        "  return x_train, x_test, y_train_n, y_test_n, y_train, y_test"
      ]
    },
    {
      "cell_type": "code",
      "execution_count": 16,
      "metadata": {
        "id": "uy10wPGxd59i"
      },
      "outputs": [],
      "source": [
        "def apply_PCA(n_pca, x_train,x_test, norm_entry=False):\n",
        "\n",
        "  if norm_entry:\n",
        "    x_train = (x_train - x_train.mean(axis=0))/  x_train.std(axis=0)\n",
        "    x_test = (x_test - x_train.mean(axis=0))/  x_train.std(axis=0)\n",
        "  else:\n",
        "    pass\n",
        "\n",
        "  pca = PCA(n_components=n_pca, random_state=42)\n",
        "  pca.fit(x_train)\n",
        "\n",
        "  print('variancia explicada:', sum(pca.explained_variance_ratio_))\n",
        "  x_train_pca = pca.transform(x_train)\n",
        "  x_test_pca = pca.transform(x_test)\n",
        "\n",
        "  x_train_pca_norm = (x_train_pca - x_train_pca.mean(axis=0))/  x_train_pca.std(axis=0)\n",
        "  x_test_pca_norm = (x_test_pca - x_train_pca.mean(axis=0))/  x_train_pca.std(axis=0)\n",
        "\n",
        "  return x_train_pca_norm, x_test_pca_norm"
      ]
    },
    {
      "cell_type": "code",
      "execution_count": 17,
      "metadata": {
        "colab": {
          "base_uri": "https://localhost:8080/"
        },
        "id": "GSD9cLfdEh1t",
        "outputId": "d635dae3-047f-4889-bf36-f73cf52aea60"
      },
      "outputs": [
        {
          "output_type": "stream",
          "name": "stdout",
          "text": [
            "Shape (112, 2500) (48, 2500) (112, 5) (48, 5) (112,) (48,)\n"
          ]
        }
      ],
      "source": [
        "X_train, X_test, y_train_n, y_test_n, y_train, y_test = train_test_separation(X,y)"
      ]
    },
    {
      "cell_type": "code",
      "execution_count": 18,
      "metadata": {
        "colab": {
          "base_uri": "https://localhost:8080/"
        },
        "id": "3uXcqftrpx0w",
        "outputId": "2463956c-9bb5-498b-e18b-fd6b14a0835c"
      },
      "outputs": [
        {
          "output_type": "stream",
          "name": "stdout",
          "text": [
            "variancia explicada: 0.608084225828258\n"
          ]
        }
      ],
      "source": [
        "X_train_pca, X_test_pca = apply_PCA(n_pca=50, x_train=X_train, x_test=X_test,norm_entry=True)"
      ]
    },
    {
      "cell_type": "code",
      "execution_count": 19,
      "metadata": {
        "id": "fWaBqU60YCPa"
      },
      "outputs": [],
      "source": [
        "def unpack_dict_as_str(dicionario):\n",
        "  string=''\n",
        "\n",
        "  for k,v in dicionario.items():\n",
        "    string= string + str(k) + ':[ '\n",
        "    try:\n",
        "      for v_ in v:\n",
        "        string= string + str(v_) + ' '\n",
        "      string= string+'] '\n",
        "    except:\n",
        "      string= string + str(v) + '] '\n",
        "  return string.strip()\n",
        "\n",
        "# unpack_dict_as_str({'a':[2,5,6], 'b':[6,7]})"
      ]
    },
    {
      "cell_type": "code",
      "execution_count": 20,
      "metadata": {
        "id": "KoiQ6uaLIOaf"
      },
      "outputs": [],
      "source": [
        "def pipeline_integrated_onedim(nome_do_modelo, #nome do modelo\n",
        "                               classifier, # classificador\n",
        "                               param_iteracao, # parametro iteração - deve conter um dicionario com a lista de valores a ser iterado\n",
        "                               param_fixo,  # parametro fixo e respectivo valor (uma lista)\n",
        "                               data, # dicionario de treino e teste\n",
        "                               kf= KFold(n_splits=5, shuffle=True, random_state=42),\n",
        "                               neural_network=False): #kfold\n",
        "\n",
        "  print('Pipeline de testes para o modelo:', nome_do_modelo)\n",
        "  X_train = data['X_train']\n",
        "  X_test = data['X_test']\n",
        "  y_train = data['y_train']\n",
        "  y_test = data['y_test']\n",
        "\n",
        "  log={}\n",
        "  log['exec_time'] = 'Execução em: {}'.format(datetime.now(pytz.timezone('America/Bahia')).strftime(\"%d/%m/%Y %H:%M:%S\"))\n",
        "  log['model_name'] = nome_do_modelo\n",
        "  log['parametro_fixo'] = '{}:[{}]'.format(param_fixo[0], param_fixo[1])\n",
        "  log['parametro_variavel'] = unpack_dict_as_str(param_iteracao)\n",
        "  log['kfold'] = kf\n",
        "\n",
        "  best_acc_val = -1\n",
        "  best_model=None\n",
        "  best_param = None\n",
        "  it=0\n",
        "\n",
        "  for parametro, valores in param_iteracao.items():\n",
        "    cv_report = {}\n",
        "    for valor in valores:\n",
        "      it+=1\n",
        "\n",
        "      cv_report['cv_results_'+str(it)] = {}\n",
        "      print('Execução em: {}'.format(datetime.now(pytz.timezone('America/Bahia')).strftime(\"%d/%m/%Y %H:%M:%S\")))\n",
        "      print(\"====================================================================\")\n",
        "      print('iteração:{}'.format(it))\n",
        "      param = {parametro:valor}\n",
        "      param[param_fixo[0]] = param_fixo[1]\n",
        "      print('Testando parametros:\\n', unpack_dict_as_str(param))\n",
        "      print(\"====================================================================\")\n",
        "      \n",
        "      cv_report['cv_results_'+str(it)]['cv_param']= unpack_dict_as_str(param)\n",
        "\n",
        "      for k_index,(train_index, val_index) in enumerate(kf.split(X_train)):\n",
        "        print('cross-validation: {}'.format(k_index))\n",
        "        X_train_kf, X_val_kf = X_train[train_index], X_train[val_index]\n",
        "        y_train_kf, y_val_kf = y_train[train_index], y_train[val_index]\n",
        "\n",
        "        # Ajusta o parâmetro usando o dicionário\n",
        "        for k,v in param.items():\n",
        "          setattr(classifier,k,v)\n",
        "        \n",
        "        if neural_network:\n",
        "          classifier.fit(X_train_kf, y_train_kf,[X_val_kf,y_val_kf])\n",
        "          acc_train = accuracy_score(classifier.predict(X_train_kf), y_train_kf.argmax(axis=1))\n",
        "          acc_val = accuracy_score(classifier.predict(X_val_kf), y_val_kf.argmax(axis=1))\n",
        "          acc_test = accuracy_score(classifier.predict(X_test), y_test.argmax(axis=1))\n",
        "        else:\n",
        "          classifier.fit(X_train_kf, y_train_kf)\n",
        "          acc_train = accuracy_score(classifier.predict(X_train_kf), y_train_kf)\n",
        "          acc_val = accuracy_score(classifier.predict(X_val_kf), y_val_kf)\n",
        "          acc_test = accuracy_score(classifier.predict(X_test), y_test)\n",
        "\n",
        "\n",
        "        if acc_val>best_acc_val:\n",
        "          best_model=classifier\n",
        "          best_param = param\n",
        "          k_index_best = k_index\n",
        "          best_acc_val=acc_val\n",
        "\n",
        "        cv_report['cv_results_'+str(it)]['acc_train_'+str(k_index)] = acc_train\n",
        "        cv_report['cv_results_'+str(it)]['acc_val_'+ str(k_index)] = acc_val\n",
        "        cv_report['cv_results_'+str(it)]['acc_test_'+ str(k_index)] = acc_test\n",
        "\n",
        "    log['cv_report']= cv_report\n",
        "\n",
        "    if neural_network:\n",
        "      best_model.fit(X_train, y_train,[X_test,y_test])\n",
        "      acc_train_best_model = accuracy_score(best_model.predict(X_train), y_train.argmax(axis=1))\n",
        "      acc_test_best_model = accuracy_score(best_model.predict(X_test), y_test.argmax(axis=1))\n",
        "    else:\n",
        "      best_model.fit(X_train, y_train)\n",
        "      acc_train_best_model = accuracy_score(best_model.predict(X_train), y_train)\n",
        "      acc_test_best_model = accuracy_score(best_model.predict(X_test), y_test)\n",
        "    \n",
        "\n",
        "    print('Melhor acurácia no validação obtida com os parametros {}. Treino final: {:.4f} Teste:{:.4f}'.format(unpack_dict_as_str(best_param),acc_train_best_model, acc_test_best_model))\n",
        "    print('Fim da Execução: {}'.format(datetime.now(pytz.timezone('America/Bahia')).strftime(\"%d/%m/%Y %H:%M:%S\")))\n",
        "    \n",
        "    log['melhor_modelo_obj'] = best_model\n",
        "    log['best_param_k_fold'] = unpack_dict_as_str(best_param)\n",
        "    log['acc_train_best_model'] = acc_train_best_model\n",
        "    log['acc_test_best_model'] = acc_test_best_model\n",
        "\n",
        "    return log\n",
        "\n",
        "def dictlog_to_flat_table(log):\n",
        "  log_i = pd.DataFrame(log, index=[norm_text(modelo)])\n",
        "  cv_log_i = pd.DataFrame(log['cv_report']).T.reset_index().assign(modelo = norm_text(modelo))\n",
        "  cv_log_i = pd.merge(log_i,cv_log_i, left_index = True , right_on = 'modelo', how='outer').drop(columns='cv_report')\n",
        "  return cv_log_i"
      ]
    },
    {
      "cell_type": "markdown",
      "metadata": {
        "id": "Olv5yCORwFSD"
      },
      "source": [
        "# Teste com Modelos"
      ]
    },
    {
      "cell_type": "code",
      "execution_count": 21,
      "metadata": {
        "id": "wq87vRPhv1Rl"
      },
      "outputs": [],
      "source": [
        "logs = pd.DataFrame()"
      ]
    },
    {
      "cell_type": "markdown",
      "metadata": {
        "id": "7t7YCGZUyyzg"
      },
      "source": [
        "Regressão Logística"
      ]
    },
    {
      "cell_type": "code",
      "execution_count": 22,
      "metadata": {
        "colab": {
          "base_uri": "https://localhost:8080/"
        },
        "id": "8TCd4vHtWJAR",
        "outputId": "ea0d7602-e705-476e-f711-a4da3e43488f"
      },
      "outputs": [
        {
          "output_type": "stream",
          "name": "stdout",
          "text": [
            "Pipeline de testes para o modelo: Regressão Logística Multinomial Passo Fixo\n",
            "Execução em: 21/01/2023 10:05:28\n",
            "====================================================================\n",
            "iteração:1\n",
            "Testando parametros:\n",
            " alpha:[ 0.01] theta:[ 0.001]\n",
            "====================================================================\n",
            "cross-validation: 0\n",
            "it:10000, norm_grad:0.015592671841120575, J:0.024608246486431902\n",
            "it:20000, norm_grad:0.00783476335434947, J:0.012395891501470354\n",
            "it:30000, norm_grad:0.005235745094513604, J:0.008294170653626766\n",
            "it:40000, norm_grad:0.003932804615057191, J:0.006235126301997775\n",
            "it:50000, norm_grad:0.003149679310545624, J:0.004996439275999536\n",
            "it:60000, norm_grad:0.0026269299530707825, J:0.004169047403082394\n",
            "it:70000, norm_grad:0.002253166514989701, J:0.0035771587836485497\n",
            "it:80000, norm_grad:0.0019726178220712542, J:0.003132695964038097\n",
            "it:90000, norm_grad:0.0017542661692833551, J:0.0027866464721780274\n",
            "it:100000, norm_grad:0.0015794842214247454, J:0.002509562816420431\n",
            "it:110000, norm_grad:0.0014364092060944777, J:0.0022826840653883892\n",
            "it:120000, norm_grad:0.0013171274156233647, J:0.002093490456376229\n",
            "it:130000, norm_grad:0.0012161569751000688, J:0.0019333068722143178\n",
            "it:140000, norm_grad:0.0011295802583753392, J:0.0017959319790730502\n",
            "it:150000, norm_grad:0.0010545230227987168, J:0.0016768149555454674\n",
            "it:158207, norm_grad:0.0009999979543861598, J:0.001590270243937666\n",
            "cross-validation: 1\n",
            "it:10000, norm_grad:0.016196394978677166, J:0.026492761606124578\n",
            "it:20000, norm_grad:0.008131620074268, J:0.013325761782686942\n",
            "it:30000, norm_grad:0.005431659459381479, J:0.008909209120914481\n",
            "it:40000, norm_grad:0.004078692907088933, J:0.006693850132744563\n",
            "it:50000, norm_grad:0.003265750377793644, J:0.005361862568411906\n",
            "it:60000, norm_grad:0.002723227654984935, J:0.004472527382894384\n",
            "it:70000, norm_grad:0.002335402131352503, J:0.0038365446894437455\n",
            "it:80000, norm_grad:0.002044346172524144, J:0.0033591073546344764\n",
            "it:90000, norm_grad:0.0018178486846093245, J:0.002987475651123124\n",
            "it:100000, norm_grad:0.0016365687215414604, J:0.002689971697043214\n",
            "it:110000, norm_grad:0.001488190757029437, J:0.002446418569533232\n",
            "it:120000, norm_grad:0.0013645000601234716, J:0.002243354506392356\n",
            "it:130000, norm_grad:0.001259806863834839, J:0.0020714534842838856\n",
            "it:140000, norm_grad:0.0011700453789516734, J:0.0019240500480375525\n",
            "it:150000, norm_grad:0.0010922329329887445, J:0.0017962535667123982\n",
            "it:160000, norm_grad:0.0010241317824058512, J:0.0016843942867257949\n",
            "it:163871, norm_grad:0.0009999977208386558, J:0.0016447501197230162\n",
            "cross-validation: 2\n",
            "it:10000, norm_grad:0.018219534310849352, J:0.03349506075012456\n",
            "it:20000, norm_grad:0.009143310866608042, J:0.01684050677947286\n",
            "it:30000, norm_grad:0.006106531897527702, J:0.011257455083729004\n",
            "it:40000, norm_grad:0.004585132014414067, J:0.00845759151293052\n",
            "it:50000, norm_grad:0.003671095338569601, J:0.006774361038502468\n",
            "it:60000, norm_grad:0.0030611519018635446, J:0.0056505869145743615\n",
            "it:70000, norm_grad:0.0026251518586208607, J:0.004846988713751809\n",
            "it:80000, norm_grad:0.0022979532898476968, J:0.004243740734187783\n",
            "it:90000, norm_grad:0.0020433365285897767, J:0.003774190920124868\n",
            "it:100000, norm_grad:0.0018395550348084852, J:0.003398307262774266\n",
            "it:110000, norm_grad:0.001672762147861731, J:0.00309059285109973\n",
            "it:120000, norm_grad:0.0015337221783687305, J:0.002834037073295906\n",
            "it:130000, norm_grad:0.0014160384045940563, J:0.0026168556572100598\n",
            "it:140000, norm_grad:0.0013151399745679854, J:0.0024306263855985956\n",
            "it:150000, norm_grad:0.0012276737693632752, J:0.002269169756365351\n",
            "it:160000, norm_grad:0.001151124162399058, J:0.0021278489659121774\n",
            "it:170000, norm_grad:0.0010835668907450077, J:0.0020031167066867105\n",
            "it:180000, norm_grad:0.0010235049144398565, J:0.0018922128804722488\n",
            "it:184241, norm_grad:0.0009999985959314804, J:0.0018488059851097906\n",
            "cross-validation: 3\n",
            "it:10000, norm_grad:0.017053116293535165, J:0.02936367768264069\n",
            "it:20000, norm_grad:0.008560386564538947, J:0.014769400352044382\n",
            "it:30000, norm_grad:0.005717943117362892, J:0.009874941646921973\n",
            "it:40000, norm_grad:0.004293694611922188, J:0.007419891581789922\n",
            "it:50000, norm_grad:0.0034379474959996795, J:0.0059437573558337314\n",
            "it:60000, norm_grad:0.002866864566841693, J:0.00495814875985273\n",
            "it:70000, norm_grad:0.002458622921210678, J:0.004253295935255716\n",
            "it:80000, norm_grad:0.0021522438384295227, J:0.0037241403089872467\n",
            "it:90000, norm_grad:0.0019138204981592483, J:0.0033122390947556424\n",
            "it:100000, norm_grad:0.0017229940769970895, J:0.002982488490191542\n",
            "it:110000, norm_grad:0.0015668010232244018, J:0.0027125291426391414\n",
            "it:120000, norm_grad:0.0014365944014494572, J:0.0024874429657002865\n",
            "it:130000, norm_grad:0.0013263851001733384, J:0.0022968948541167095\n",
            "it:140000, norm_grad:0.0012318934259359642, J:0.0021334980220924504\n",
            "it:150000, norm_grad:0.001149979782092466, J:0.001991832487736967\n",
            "it:160000, norm_grad:0.0010782886881614924, J:0.0018678312247076786\n",
            "it:170000, norm_grad:0.0010150183490609782, J:0.0017583827321048951\n",
            "it:172560, norm_grad:0.0009999981585705222, J:0.0017323982362512755\n",
            "cross-validation: 4\n",
            "it:10000, norm_grad:0.018024431557886807, J:0.032743042134962694\n",
            "it:20000, norm_grad:0.009041664852096478, J:0.016449090243305493\n",
            "it:30000, norm_grad:0.00603710489093995, J:0.01099078054279829\n",
            "it:40000, norm_grad:0.004532188214850042, J:0.008254689538957574\n",
            "it:50000, norm_grad:0.0036282108521815096, J:0.006610323524995207\n",
            "it:60000, norm_grad:0.0030250634657835954, J:0.005512767424505079\n",
            "it:70000, norm_grad:0.0025939706482653933, J:0.004728073964515052\n",
            "it:80000, norm_grad:0.0022704860664750238, J:0.00413911538642469\n",
            "it:90000, norm_grad:0.002018780487515735, J:0.0036807530020743573\n",
            "it:100000, norm_grad:0.0018173437294111041, J:0.0033138702584209305\n",
            "it:110000, norm_grad:0.0016524807242676181, J:0.003013556924114311\n",
            "it:120000, norm_grad:0.0015150575512058607, J:0.0027631959300996687\n",
            "it:130000, norm_grad:0.001398748385894977, J:0.0025512769549791785\n",
            "it:140000, norm_grad:0.0012990333051633041, J:0.0023695744254179202\n",
            "it:150000, norm_grad:0.0012125967313778396, J:0.002212053687879326\n",
            "it:160000, norm_grad:0.001136951327751065, J:0.0020741870164792883\n",
            "it:170000, norm_grad:0.0010701945595499088, J:0.0019525108266395723\n",
            "it:180000, norm_grad:0.0010108463551652222, J:0.0018443303615105554\n",
            "it:181956, norm_grad:0.0009999996946918528, J:0.0018245581587686922\n",
            "Execução em: 21/01/2023 10:06:44\n",
            "====================================================================\n",
            "iteração:2\n",
            "Testando parametros:\n",
            " alpha:[ 0.1] theta:[ 0.001]\n",
            "====================================================================\n",
            "cross-validation: 0\n",
            "it:10000, norm_grad:0.0015669772150032429, J:0.0024845184119865723\n",
            "it:15725, norm_grad:0.0009999603183036652, J:0.0015875502072811563\n",
            "cross-validation: 1\n",
            "it:10000, norm_grad:0.0016197345683716625, J:0.0026514039484192868\n",
            "it:16252, norm_grad:0.0009999873853586913, J:0.0016388446004545255\n",
            "cross-validation: 2\n",
            "it:10000, norm_grad:0.0018203304799788063, J:0.003348838636768755\n",
            "it:18276, norm_grad:0.0009999523124207003, J:0.0018426820332258374\n",
            "cross-validation: 3\n",
            "it:10000, norm_grad:0.001714048049328517, J:0.0029638974466169345\n",
            "it:17194, norm_grad:0.0009999786585284081, J:0.0017309461373761954\n",
            "cross-validation: 4\n",
            "it:10000, norm_grad:0.0018042673097620548, J:0.003283948355598728\n",
            "it:18105, norm_grad:0.0009999744660741125, J:0.0018217638267052573\n",
            "it:10000, norm_grad:0.0020262133280490573, J:0.004138443541009923\n",
            "it:20000, norm_grad:0.0010166298881268288, J:0.002078819898628864\n",
            "it:20334, norm_grad:0.0009999991092620487, J:0.0020448636551838517\n",
            "Melhor acurácia no validação obtida com os parametros alpha:[ 0.01] theta:[ 0.001]. Treino final: 1.0000 Teste:0.5625\n",
            "Fim da Execução: 21/01/2023 10:06:54\n"
          ]
        }
      ],
      "source": [
        "modelo = 'Regressão Logística Multinomial Passo Fixo'\n",
        "\n",
        "log = pipeline_integrated_onedim(nome_do_modelo=modelo, \n",
        "                          classifier= Multinomial_LogReg.MultinomialLogReg(),\n",
        "                          param_iteracao= {'alpha':[0.01, 0.1]},\n",
        "                          param_fixo=['theta',0.001],\n",
        "                          data={'X_train':X_train_pca, 'X_test':X_test_pca, 'y_train':y_train_n, 'y_test':y_test_n} )\n",
        "\n",
        "log_df = dictlog_to_flat_table(log)\n",
        "logs = logs.append(log_df,ignore_index=True)"
      ]
    },
    {
      "cell_type": "code",
      "execution_count": 23,
      "metadata": {
        "id": "pyFaR2riwYtz",
        "colab": {
          "base_uri": "https://localhost:8080/"
        },
        "outputId": "becd48ee-52d8-4e33-b6e1-819430e8188f"
      },
      "outputs": [
        {
          "output_type": "stream",
          "name": "stdout",
          "text": [
            "Pipeline de testes para o modelo: Regressão Logística Multinomial com Bisseção\n",
            "Execução em: 21/01/2023 10:06:54\n",
            "====================================================================\n",
            "iteração:1\n",
            "Testando parametros:\n",
            " itmax_bissec:[ 5] theta:[ 0.001]\n",
            "====================================================================\n",
            "cross-validation: 0\n",
            "iteracao: 0 norm_grad: 89.41983920453295\n",
            "it:37, norm_grad:0.000943951244750235, J:0.0013262725508541837, alpha_b:176.53762381502497, hl:1.0300315478457938e-06\n",
            "cross-validation: 1\n",
            "iteracao: 0 norm_grad: 86.57146440100216\n",
            "it:45, norm_grad:0.0007770863315286296, J:0.0008944052144977129, alpha_b:662.2348236300728, hl:3.2636929275998327e-07\n",
            "cross-validation: 2\n",
            "iteracao: 0 norm_grad: 87.03344606686895\n",
            "it:50, norm_grad:0.0009205627019982378, J:0.0011309381378485006, alpha_b:44.81692412792745, hl:8.289944134013663e-08\n",
            "cross-validation: 3\n",
            "iteracao: 0 norm_grad: 84.48826841252112\n",
            "it:41, norm_grad:0.0005457547113557197, J:0.0007611544588806813, alpha_b:337.9091726005561, hl:2.6796938186014477e-07\n",
            "cross-validation: 4\n",
            "iteracao: 0 norm_grad: 93.01336356644723\n",
            "it:52, norm_grad:0.000607407007808303, J:0.0010550479079264017, alpha_b:143.63949823238545, hl:3.001041105857667e-08\n",
            "Execução em: 21/01/2023 10:06:54\n",
            "====================================================================\n",
            "iteração:2\n",
            "Testando parametros:\n",
            " itmax_bissec:[ 20] theta:[ 0.001]\n",
            "====================================================================\n",
            "cross-validation: 0\n",
            "iteracao: 0 norm_grad: 90.64635476927916\n",
            "it:45, norm_grad:0.000986637699598295, J:0.0006568927206724656, alpha_b:225.48812289484493, hl:1.1743113762187163e-06\n",
            "cross-validation: 1\n",
            "iteracao: 0 norm_grad: 90.59393390945702\n",
            "it:57, norm_grad:0.0005068914541531143, J:0.0005862327563165769, alpha_b:713.3410914465329, hl:1.8556864806221736e-07\n",
            "cross-validation: 2\n",
            "iteracao: 0 norm_grad: 87.47748382721622\n",
            "it:70, norm_grad:0.0009297712183855009, J:0.0013237904132737378, alpha_b:319.8148158890054, hl:4.078570544867131e-08\n",
            "cross-validation: 3\n",
            "iteracao: 0 norm_grad: 91.21383369597274\n",
            "it:59, norm_grad:0.0007330291437057098, J:0.0010879466950231103, alpha_b:212.6481278246457, hl:1.3158390907774544e-06\n",
            "cross-validation: 4\n",
            "iteracao: 0 norm_grad: 92.7164607904289\n",
            "it:60, norm_grad:0.0005726809788388095, J:0.0009564032504195848, alpha_b:278.529637370772, hl:1.5816017649498386e-07\n",
            "iteracao: 0 norm_grad: 96.12533005074073\n",
            "it:95, norm_grad:0.0006403482721440285, J:0.0011210474825500006, alpha_b:307.1506938207636, hl:2.0040646857401176e-07\n",
            "Melhor acurácia no validação obtida com os parametros itmax_bissec:[ 5] theta:[ 0.001]. Treino final: 1.0000 Teste:0.5625\n",
            "Fim da Execução: 21/01/2023 10:06:55\n"
          ]
        }
      ],
      "source": [
        "modelo = 'Regressão Logística Multinomial com Bisseção'\n",
        "\n",
        "log = pipeline_integrated_onedim(nome_do_modelo=modelo, \n",
        "                          classifier= Multinomial_LogReg.MultinomialLogReg_bissecao(),\n",
        "                          param_iteracao= {'itmax_bissec':[5, 20]},\n",
        "                          param_fixo=['theta',0.001],\n",
        "                          data={'X_train':X_train_pca, 'X_test':X_test_pca, 'y_train':y_train_n, 'y_test':y_test_n} )\n",
        "\n",
        "log_df = dictlog_to_flat_table(log)\n",
        "logs = logs.append(log_df,ignore_index=True)"
      ]
    },
    {
      "cell_type": "markdown",
      "metadata": {
        "id": "j50V1Z33zHM0"
      },
      "source": [
        "# SVM"
      ]
    },
    {
      "cell_type": "code",
      "execution_count": 24,
      "metadata": {
        "id": "46TpRSsKzJgB",
        "colab": {
          "base_uri": "https://localhost:8080/"
        },
        "outputId": "5152a891-202d-43d7-df94-405b8361f4d9"
      },
      "outputs": [
        {
          "output_type": "stream",
          "name": "stdout",
          "text": [
            "Pipeline de testes para o modelo: SVM Classificador Kernel RBF C=1\n",
            "Execução em: 21/01/2023 10:06:55\n",
            "====================================================================\n",
            "iteração:1\n",
            "Testando parametros:\n",
            " sigma:[ 0.01] C:[ 1]\n",
            "====================================================================\n",
            "cross-validation: 0\n"
          ]
        },
        {
          "output_type": "stream",
          "name": "stderr",
          "text": [
            "100%|██████████| 5/5 [00:00<00:00,  6.98it/s]\n"
          ]
        },
        {
          "output_type": "stream",
          "name": "stdout",
          "text": [
            "cross-validation: 1\n"
          ]
        },
        {
          "output_type": "stream",
          "name": "stderr",
          "text": [
            "100%|██████████| 5/5 [00:00<00:00,  7.58it/s]\n"
          ]
        },
        {
          "output_type": "stream",
          "name": "stdout",
          "text": [
            "cross-validation: 2\n"
          ]
        },
        {
          "output_type": "stream",
          "name": "stderr",
          "text": [
            "100%|██████████| 5/5 [00:00<00:00,  7.20it/s]\n"
          ]
        },
        {
          "output_type": "stream",
          "name": "stdout",
          "text": [
            "cross-validation: 3\n"
          ]
        },
        {
          "output_type": "stream",
          "name": "stderr",
          "text": [
            "100%|██████████| 5/5 [00:00<00:00,  7.26it/s]\n"
          ]
        },
        {
          "output_type": "stream",
          "name": "stdout",
          "text": [
            "cross-validation: 4\n"
          ]
        },
        {
          "output_type": "stream",
          "name": "stderr",
          "text": [
            "100%|██████████| 5/5 [00:00<00:00,  7.33it/s]\n"
          ]
        },
        {
          "output_type": "stream",
          "name": "stdout",
          "text": [
            "Execução em: 21/01/2023 10:07:02\n",
            "====================================================================\n",
            "iteração:2\n",
            "Testando parametros:\n",
            " sigma:[ 0.1] C:[ 1]\n",
            "====================================================================\n",
            "cross-validation: 0\n"
          ]
        },
        {
          "output_type": "stream",
          "name": "stderr",
          "text": [
            "100%|██████████| 5/5 [00:00<00:00,  7.66it/s]\n"
          ]
        },
        {
          "output_type": "stream",
          "name": "stdout",
          "text": [
            "cross-validation: 1\n"
          ]
        },
        {
          "output_type": "stream",
          "name": "stderr",
          "text": [
            "100%|██████████| 5/5 [00:00<00:00,  7.28it/s]\n"
          ]
        },
        {
          "output_type": "stream",
          "name": "stdout",
          "text": [
            "cross-validation: 2\n"
          ]
        },
        {
          "output_type": "stream",
          "name": "stderr",
          "text": [
            "100%|██████████| 5/5 [00:00<00:00,  6.70it/s]\n"
          ]
        },
        {
          "output_type": "stream",
          "name": "stdout",
          "text": [
            "cross-validation: 3\n"
          ]
        },
        {
          "output_type": "stream",
          "name": "stderr",
          "text": [
            "100%|██████████| 5/5 [00:00<00:00,  7.67it/s]\n"
          ]
        },
        {
          "output_type": "stream",
          "name": "stdout",
          "text": [
            "cross-validation: 4\n"
          ]
        },
        {
          "output_type": "stream",
          "name": "stderr",
          "text": [
            "100%|██████████| 5/5 [00:00<00:00,  7.48it/s]\n"
          ]
        },
        {
          "output_type": "stream",
          "name": "stdout",
          "text": [
            "Execução em: 21/01/2023 10:07:10\n",
            "====================================================================\n",
            "iteração:3\n",
            "Testando parametros:\n",
            " sigma:[ 1] C:[ 1]\n",
            "====================================================================\n",
            "cross-validation: 0\n"
          ]
        },
        {
          "output_type": "stream",
          "name": "stderr",
          "text": [
            "100%|██████████| 5/5 [00:00<00:00,  7.36it/s]\n"
          ]
        },
        {
          "output_type": "stream",
          "name": "stdout",
          "text": [
            "cross-validation: 1\n"
          ]
        },
        {
          "output_type": "stream",
          "name": "stderr",
          "text": [
            "100%|██████████| 5/5 [00:00<00:00,  7.52it/s]\n"
          ]
        },
        {
          "output_type": "stream",
          "name": "stdout",
          "text": [
            "cross-validation: 2\n"
          ]
        },
        {
          "output_type": "stream",
          "name": "stderr",
          "text": [
            "100%|██████████| 5/5 [00:00<00:00,  7.20it/s]\n"
          ]
        },
        {
          "output_type": "stream",
          "name": "stdout",
          "text": [
            "cross-validation: 3\n"
          ]
        },
        {
          "output_type": "stream",
          "name": "stderr",
          "text": [
            "100%|██████████| 5/5 [00:00<00:00,  7.04it/s]\n"
          ]
        },
        {
          "output_type": "stream",
          "name": "stdout",
          "text": [
            "cross-validation: 4\n"
          ]
        },
        {
          "output_type": "stream",
          "name": "stderr",
          "text": [
            "100%|██████████| 5/5 [00:00<00:00,  6.80it/s]\n",
            "100%|██████████| 5/5 [00:00<00:00,  5.58it/s]\n"
          ]
        },
        {
          "output_type": "stream",
          "name": "stdout",
          "text": [
            "Melhor acurácia no validação obtida com os parametros sigma:[ 1] C:[ 1]. Treino final: 1.0000 Teste:0.3542\n",
            "Fim da Execução: 21/01/2023 10:07:19\n"
          ]
        }
      ],
      "source": [
        "modelo = 'SVM Classificador Kernel RBF C=1'\n",
        "\n",
        "log = pipeline_integrated_onedim(nome_do_modelo=modelo, \n",
        "                          classifier=  SVM_OVR.SVM_one_vs_all(),\n",
        "                          param_iteracao= {'sigma':[0.01, 0.1,1]},\n",
        "                          param_fixo=['C',1],\n",
        "                          data={'X_train':X_train_pca, 'X_test':X_test_pca, 'y_train':y_train_n, 'y_test':y_test_n})\n",
        "\n",
        "log_df = dictlog_to_flat_table(log)\n",
        "logs = logs.append(log_df,ignore_index=True)"
      ]
    },
    {
      "cell_type": "code",
      "execution_count": null,
      "metadata": {
        "id": "2snFIIhe5O2a",
        "colab": {
          "base_uri": "https://localhost:8080/"
        },
        "outputId": "2af78657-f3ca-4184-b635-0d02bb5e8516"
      },
      "outputs": [
        {
          "output_type": "stream",
          "name": "stdout",
          "text": [
            "Pipeline de testes para o modelo: SVM Classificador Kernel RBF C=100\n",
            "Execução em: 21/01/2023 10:07:19\n",
            "====================================================================\n",
            "iteração:1\n",
            "Testando parametros:\n",
            " sigma:[ 0.01] C:[ 100]\n",
            "====================================================================\n",
            "cross-validation: 0\n"
          ]
        },
        {
          "output_type": "stream",
          "name": "stderr",
          "text": [
            "100%|██████████| 5/5 [00:00<00:00,  7.00it/s]\n"
          ]
        },
        {
          "output_type": "stream",
          "name": "stdout",
          "text": [
            "cross-validation: 1\n"
          ]
        },
        {
          "output_type": "stream",
          "name": "stderr",
          "text": [
            "100%|██████████| 5/5 [00:00<00:00,  7.12it/s]\n"
          ]
        },
        {
          "output_type": "stream",
          "name": "stdout",
          "text": [
            "cross-validation: 2\n"
          ]
        },
        {
          "output_type": "stream",
          "name": "stderr",
          "text": [
            "100%|██████████| 5/5 [00:00<00:00,  7.44it/s]\n"
          ]
        },
        {
          "output_type": "stream",
          "name": "stdout",
          "text": [
            "cross-validation: 3\n"
          ]
        },
        {
          "output_type": "stream",
          "name": "stderr",
          "text": [
            "100%|██████████| 5/5 [00:00<00:00,  6.88it/s]\n"
          ]
        },
        {
          "output_type": "stream",
          "name": "stdout",
          "text": [
            "cross-validation: 4\n"
          ]
        },
        {
          "output_type": "stream",
          "name": "stderr",
          "text": [
            "100%|██████████| 5/5 [00:00<00:00,  7.25it/s]\n"
          ]
        },
        {
          "output_type": "stream",
          "name": "stdout",
          "text": [
            "Execução em: 21/01/2023 10:07:27\n",
            "====================================================================\n",
            "iteração:2\n",
            "Testando parametros:\n",
            " sigma:[ 0.1] C:[ 100]\n",
            "====================================================================\n",
            "cross-validation: 0\n"
          ]
        },
        {
          "output_type": "stream",
          "name": "stderr",
          "text": [
            "100%|██████████| 5/5 [00:00<00:00,  7.34it/s]\n"
          ]
        }
      ],
      "source": [
        "modelo = 'SVM Classificador Kernel RBF C=100'\n",
        "\n",
        "log = pipeline_integrated_onedim(nome_do_modelo=modelo, \n",
        "                          classifier=  SVM_OVR.SVM_one_vs_all(),\n",
        "                          param_iteracao= {'sigma':[0.01, 0.1,1]},\n",
        "                          param_fixo=['C',100],\n",
        "                          data={'X_train':X_train_pca, 'X_test':X_test_pca, 'y_train':y_train_n, 'y_test':y_test_n})\n",
        "\n",
        "log_df = dictlog_to_flat_table(log)\n",
        "logs = logs.append(log_df)"
      ]
    },
    {
      "cell_type": "markdown",
      "metadata": {
        "id": "x2EcgwPG6R0V"
      },
      "source": [
        "# MLP"
      ]
    },
    {
      "cell_type": "code",
      "execution_count": null,
      "metadata": {
        "id": "tl_AuVKW6UEs"
      },
      "outputs": [],
      "source": [
        "modelo = 'MultiLayer Perceptron alpha 0.1'\n",
        "\n",
        "log = pipeline_integrated_onedim(nome_do_modelo=modelo, \n",
        "                          classifier=  ANN.RNA(),\n",
        "                          param_iteracao= {'h':[10,25,50,100]},\n",
        "                          param_fixo=['alpha',0.1],\n",
        "                          data={'X_train':X_train_pca, 'X_test':X_test_pca, 'y_train':y_train_n, 'y_test':y_test_n},\n",
        "                          neural_network=True)\n",
        "\n",
        "log_df = dictlog_to_flat_table(log)\n",
        "logs = logs.append(log_df,ignore_index=True)"
      ]
    },
    {
      "cell_type": "code",
      "execution_count": null,
      "metadata": {
        "id": "zZ1NeTjf4gzi"
      },
      "outputs": [],
      "source": [
        "pd.set_option('display.max_columns', None)\n",
        "logs.head(3)"
      ]
    },
    {
      "cell_type": "markdown",
      "metadata": {
        "id": "8ZrLT-JZGohf"
      },
      "source": [
        "# Informações Melhor/Pior Modelo"
      ]
    },
    {
      "cell_type": "code",
      "execution_count": null,
      "metadata": {
        "id": "uRMHgRTbRD4o"
      },
      "outputs": [],
      "source": [
        "label = tag + '_log_full'\n",
        "\n",
        "logs.to_excel(log_dir +label + '.xlsx')"
      ]
    },
    {
      "cell_type": "code",
      "execution_count": null,
      "metadata": {
        "id": "U6Q5Jm6tHS_J"
      },
      "outputs": [],
      "source": [
        "def save_error(label):\n",
        "  errorFile = open(erro_dir +label + '.txt', 'w') \n",
        "  print('Execução em: {}'.format(datetime.now(pytz.timezone('America/Bahia')).strftime(\"%d/%m/%Y %H:%M:%S\")) , file=errorFile)\n",
        "\n",
        "  out=''\n",
        "  for i,r in melhor_modelo_infos.filter(like='acc').T.reset_index().iterrows():\n",
        "    out=out + str(r['index']) + ':' + str(r[0]) + '\\n'\n",
        "  print(out, file=errorFile)\n",
        "  errorFile.close()"
      ]
    },
    {
      "cell_type": "code",
      "execution_count": null,
      "metadata": {
        "id": "da4yaCoVGDtZ"
      },
      "outputs": [],
      "source": [
        "label = tag + '_' + 'melhor'\n",
        "\n",
        "melhor_modelo_infos = logs.sort_values(by='acc_test_best_model',ascending=False).head(1)\n",
        "\n",
        "# Salva mehlhor modelo\n",
        "melhor_modelo = melhor_modelo_infos['melhor_modelo_obj'].iloc[0]\n",
        "with open(model_save_dir + label +'.obj', 'wb') as fp:\n",
        "  pickle.dump(melhor_modelo, fp)\n",
        "\n",
        "# Salva o erro\n",
        "save_error(label)\n",
        "\n",
        "#Salva o config\n",
        "melhor_modelo_infos.drop(columns = melhor_modelo_infos.filter(like='acc').columns).T.rename(columns={0:'config'}).to_csv(config_dir + label  +'.txt', sep=':')"
      ]
    },
    {
      "cell_type": "code",
      "execution_count": null,
      "metadata": {
        "id": "B-XcQhGYJaMA"
      },
      "outputs": [],
      "source": [
        "label = tag + '_' + 'pior'\n",
        "\n",
        "pior_modelo_infos = logs.sort_values(by='acc_test_best_model',ascending=False).tail(1)\n",
        "\n",
        "# Salva pior modelo\n",
        "pior = pior_modelo_infos['melhor_modelo_obj'].iloc[0]\n",
        "with open(model_save_dir + label +'.obj', 'wb') as fp:\n",
        "  pickle.dump(pior, fp)\n",
        "\n",
        "# Salva o erro\n",
        "save_error(label)\n",
        "\n",
        "#Salva o config\n",
        "melhor_modelo_infos.drop(columns = pior_modelo_infos.filter(like='acc').columns).T.rename(columns={0:'config'}).to_csv(config_dir + label  +'.txt', sep=':')"
      ]
    }
  ],
  "metadata": {
    "colab": {
      "machine_shape": "hm",
      "provenance": [],
      "include_colab_link": true
    },
    "gpuClass": "standard",
    "kernelspec": {
      "display_name": "Python 3",
      "language": "python",
      "name": "python3"
    },
    "language_info": {
      "codemirror_mode": {
        "name": "ipython",
        "version": 3
      },
      "file_extension": ".py",
      "mimetype": "text/x-python",
      "name": "python",
      "nbconvert_exporter": "python",
      "pygments_lexer": "ipython3",
      "version": "3.7.10"
    },
    "varInspector": {
      "cols": {
        "lenName": 16,
        "lenType": 16,
        "lenVar": 40
      },
      "kernels_config": {
        "python": {
          "delete_cmd_postfix": "",
          "delete_cmd_prefix": "del ",
          "library": "var_list.py",
          "varRefreshCmd": "print(var_dic_list())"
        },
        "r": {
          "delete_cmd_postfix": ") ",
          "delete_cmd_prefix": "rm(",
          "library": "var_list.r",
          "varRefreshCmd": "cat(var_dic_list()) "
        }
      },
      "types_to_exclude": [
        "module",
        "function",
        "builtin_function_or_method",
        "instance",
        "_Feature"
      ],
      "window_display": false
    }
  },
  "nbformat": 4,
  "nbformat_minor": 0
}