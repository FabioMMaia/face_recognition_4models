{
  "cells": [
    {
      "cell_type": "markdown",
      "metadata": {
        "id": "view-in-github",
        "colab_type": "text"
      },
      "source": [
        "<a href=\"https://colab.research.google.com/github/FabioMMaia/face_recognition_4models/blob/main/Modeling_LBP_Pipeline.ipynb\" target=\"_parent\"><img src=\"https://colab.research.google.com/assets/colab-badge.svg\" alt=\"Open In Colab\"/></a>"
      ]
    },
    {
      "cell_type": "code",
      "execution_count": 1,
      "metadata": {
        "id": "0jNKeNAIcwEN"
      },
      "outputs": [],
      "source": [
        "import numpy as np\n",
        "import pandas as pd\n",
        "import matplotlib.pyplot as plt\n",
        "from tensorflow import keras\n",
        "from sklearn.preprocessing import StandardScaler\n",
        "import tensorflow as tf\n",
        "import cv2\n",
        "from PIL import Image\n",
        "from skimage import data, exposure\n",
        "from skimage.feature import hog,local_binary_pattern\n",
        "from sklearn.decomposition import PCA\n",
        "from sklearn.model_selection import train_test_split\n",
        "from sklearn.model_selection import KFold\n",
        "from numpy.random import seed\n",
        "import pickle\n",
        "from tqdm import tqdm\n",
        "\n",
        "import pytz\n",
        "from datetime import datetime\n",
        "from collections import Counter\n",
        "import math\n",
        "\n",
        "from sklearn.metrics import accuracy_score\n",
        "\n",
        "import warnings\n",
        "warnings.filterwarnings('ignore')\n",
        "\n",
        "tqdm.pandas()"
      ]
    },
    {
      "cell_type": "code",
      "execution_count": 2,
      "metadata": {
        "colab": {
          "base_uri": "https://localhost:8080/"
        },
        "id": "9k9xlX-xef0d",
        "outputId": "3c167570-ae4f-48fe-d6e1-6be20d828fa6"
      },
      "outputs": [
        {
          "output_type": "stream",
          "name": "stdout",
          "text": [
            "Looking in indexes: https://pypi.org/simple, https://us-python.pkg.dev/colab-wheels/public/simple/\n",
            "Requirement already satisfied: unidecode in /usr/local/lib/python3.8/dist-packages (1.3.6)\n"
          ]
        }
      ],
      "source": [
        "!pip install unidecode\n",
        "\n",
        "def norm_text(txt):\n",
        "  from unidecode import unidecode\n",
        "  return unidecode(txt).replace(' ','_').lower()"
      ]
    },
    {
      "cell_type": "code",
      "execution_count": 3,
      "metadata": {
        "colab": {
          "base_uri": "https://localhost:8080/"
        },
        "id": "UzJSiIc4z8BG",
        "outputId": "6888323d-7aa2-4418-a192-272096f2c04a"
      },
      "outputs": [
        {
          "output_type": "stream",
          "name": "stdout",
          "text": [
            "Drive already mounted at /content/drive; to attempt to forcibly remount, call drive.mount(\"/content/drive\", force_remount=True).\n"
          ]
        }
      ],
      "source": [
        "from google.colab import drive\n",
        "drive.mount('/content/drive')"
      ]
    },
    {
      "cell_type": "code",
      "execution_count": 4,
      "metadata": {
        "id": "I9gEzU85sBo8"
      },
      "outputs": [],
      "source": [
        "config_dir = '/content/drive/MyDrive/Projeto ML/2022/Aprendizado de Maquinas/Projeto/Pipeline/config/'\n",
        "model_save_dir = '/content/drive/MyDrive/Projeto ML/2022/Aprendizado de Maquinas/Projeto/Pipeline/model/'\n",
        "erro_dir = '/content/drive/MyDrive/Projeto ML/2022/Aprendizado de Maquinas/Projeto/Pipeline/error/'\n",
        "log_dir = '/content/drive/MyDrive/Projeto ML/2022/Aprendizado de Maquinas/Projeto/Pipeline/log/'"
      ]
    },
    {
      "cell_type": "code",
      "execution_count": 5,
      "metadata": {
        "id": "0HwQFYUYdKRx"
      },
      "outputs": [],
      "source": [
        "import sys\n",
        "sys.path.append('/content/drive/MyDrive/Projeto ML/2022/Aprendizado de Maquinas/Projeto/Pipeline/Modelos_Implementações')"
      ]
    },
    {
      "cell_type": "code",
      "execution_count": 6,
      "metadata": {
        "id": "At7N2h1tdKiJ"
      },
      "outputs": [],
      "source": [
        "import MLP as mlp # multilayer perceptron\n",
        "import Multinomial_LogReg # regressão logística com alpha variavel (bissecao)\n",
        "import R_LOG as r_log # regressão logística com alpha fixo\n",
        "import SVM_OVR # SVM one-versus-rest\n",
        "import ANN"
      ]
    },
    {
      "cell_type": "code",
      "execution_count": 7,
      "metadata": {
        "id": "y2mrQXgKHxcZ"
      },
      "outputs": [],
      "source": [
        "# import importlib\n",
        "\n",
        "# importlib.reload(ANN)\n",
        "# importlib.reload(mlp)\n",
        "# importlib.reload(Multinomial_LogReg)\n",
        "# importlib.reload(r_log)\n",
        "# importlib.reload(SVM_OVR)\n",
        "# importlib.reload(ANN)"
      ]
    },
    {
      "cell_type": "code",
      "execution_count": 8,
      "metadata": {
        "id": "ByYR7oyY_fFy"
      },
      "outputs": [],
      "source": [
        "class logfile():\n",
        "\n",
        "  def __init__(self, diretorio):\n",
        "    self.diretorio=diretorio\n",
        "\n",
        "  def start(self, tag, use_dateref=True):\n",
        "    if use_dateref:\n",
        "      tag = tag + '_' + datetime.now(pytz.timezone('America/Bahia')).strftime(\"%Y%m%d\")\n",
        "    self.save_file = open(self.diretorio +  tag + '.txt', 'w')\n",
        "    data_atual = datetime.now(pytz.timezone('America/Bahia')).strftime(\"%d/%m/%Y %H:%M:%S\")\n",
        "    print('Execução em:', data_atual, file=self.save_file)\n",
        "    \n",
        "  def end(self):\n",
        "    data_atual = datetime.now(pytz.timezone('America/Bahia')).strftime(\"%d/%m/%Y %H:%M:%S\")\n",
        "    print('Fim de Execução em:', data_atual, file=self.save_file)\n",
        "    self.save_file.close()"
      ]
    },
    {
      "cell_type": "code",
      "source": [
        "# Visualize Dataset"
      ],
      "metadata": {
        "id": "v11ATiXGPF6-"
      },
      "execution_count": 9,
      "outputs": []
    },
    {
      "cell_type": "code",
      "source": [
        "def generate_image_db(keep_images):\n",
        "  import zipfile\n",
        "  from skimage.transform import resize\n",
        "\n",
        "\n",
        "  imagens_path = '/content/drive/MyDrive/Projeto ML/2022/Aprendizado de Maquinas/Projeto/CelebA/img_align_celeba.zip'\n",
        "  imgzip = zipfile.ZipFile(imagens_path)\n",
        "  inflist = imgzip.infolist()\n",
        "  all_images = {}\n",
        "\n",
        "  for f in tqdm(inflist):\n",
        "    file_name = f.filename.split('/')[1]\n",
        "    if file_name in keep_images:\n",
        "      if '.jpg' in file_name:\n",
        "        ifile = imgzip.open(f)\n",
        "        img = Image.open(ifile)\n",
        "        img_resize = resize(np.array(img), (128, 128))\n",
        "        all_images[file_name] = [img_resize]\n",
        "\n",
        "  return all_images\n",
        "\n",
        "def plt_samples(imgs):\n",
        "  # faces que foram reconhecidas pelo viola jones\n",
        "  fig, axes = plt.subplots(1,5, figsize=(10,10))\n",
        "\n",
        "  imgs= pd.DataFrame(imgs)\n",
        "\n",
        "  for (i,row), ax in zip(imgs.head(8).iterrows(), axes.ravel()): \n",
        "    ax.axis('off')\n",
        "    ax.imshow(row[0], cmap=plt.cm.gray)\n",
        "\n",
        "def visualize_5photos(y):\n",
        "  amostra= generate_image_db(y.sample(5).index)\n",
        "  amostra_df = pd.DataFrame(amostra).T.reset_index()\n",
        "  plt_samples(amostra_df)"
      ],
      "metadata": {
        "id": "K_6EK4fPPI1k"
      },
      "execution_count": 10,
      "outputs": []
    },
    {
      "cell_type": "markdown",
      "metadata": {
        "id": "-fCP7qO9EMjx"
      },
      "source": [
        "# Carregando Dataset - LBP"
      ]
    },
    {
      "cell_type": "code",
      "execution_count": 11,
      "metadata": {
        "id": "nesCirIwjSTI"
      },
      "outputs": [],
      "source": [
        "n_classes=5\n",
        "ref = 'LBP' \n",
        "tag= 'lbp' + '_'+ str(n_classes) + '_classes'\n",
        "\n",
        "\n",
        "with open(r'/content/drive/MyDrive/Projeto ML/2022/Aprendizado de Maquinas/Projeto/Pipeline/Data/X_y_' + tag +'.obj', \"rb\") as f:\n",
        "    X,y = pickle.load(f)"
      ]
    },
    {
      "cell_type": "code",
      "source": [
        "visualize_5photos(y)"
      ],
      "metadata": {
        "colab": {
          "base_uri": "https://localhost:8080/",
          "height": 145
        },
        "id": "B2UxuJNGTr-d",
        "outputId": "1aed142f-6f0b-412d-a9d8-c7344fb3e43c"
      },
      "execution_count": 12,
      "outputs": [
        {
          "output_type": "stream",
          "name": "stderr",
          "text": [
            "100%|██████████| 202600/202600 [00:00<00:00, 360685.03it/s]\n"
          ]
        },
        {
          "output_type": "display_data",
          "data": {
            "text/plain": [
              "<Figure size 720x720 with 5 Axes>"
            ],
            "image/png": "[encoded data removed]"
          },
          "metadata": {
            "needs_background": "light"
          }
        }
      ]
    },
    {
      "cell_type": "code",
      "execution_count": 13,
      "metadata": {
        "colab": {
          "base_uri": "https://localhost:8080/"
        },
        "id": "UuMfnhFCv530",
        "outputId": "da697602-af7b-47ba-b9dd-1d908fdb2e3e"
      },
      "outputs": [
        {
          "output_type": "stream",
          "name": "stdout",
          "text": [
            "X shape: (160, 2500)\n",
            "y shape: (160,)\n"
          ]
        }
      ],
      "source": [
        "print('X shape:', X.shape)\n",
        "print('y shape:', y.shape)"
      ]
    },
    {
      "cell_type": "code",
      "execution_count": 14,
      "metadata": {
        "colab": {
          "base_uri": "https://localhost:8080/"
        },
        "id": "AOgsjWL7dmDr",
        "outputId": "6ffa5bef-da29-46a2-dc40-76e8288d075f"
      },
      "outputs": [
        {
          "output_type": "stream",
          "name": "stdout",
          "text": [
            "Quantidade de pessoas: 5\n"
          ]
        }
      ],
      "source": [
        "# transformar categorias em one-hot-encoding: Saída\n",
        "saida = y.max()+1\n",
        "print(\"Quantidade de pessoas:\",saida)\n",
        "target = keras.utils.to_categorical(y, saida)"
      ]
    },
    {
      "cell_type": "markdown",
      "metadata": {
        "id": "yY1ktd8gd2yM"
      },
      "source": [
        "# Train x Test"
      ]
    },
    {
      "cell_type": "code",
      "execution_count": 15,
      "metadata": {
        "id": "Db0Ju9CS_GMa"
      },
      "outputs": [],
      "source": [
        "def train_test_separation(X, y):\n",
        "  x_train, x_test, y_train_n, y_test_n = train_test_split(X, y, test_size=0.30, random_state=42,stratify=y)\n",
        "\n",
        "  y_train = target[y.index.isin(y_train_n.index).flatten(),:]\n",
        "  y_test= target[y.index.isin(y_test_n.index).flatten(),:]\n",
        "\n",
        "  assert y_train.shape[0]== y_train_n.shape[0]\n",
        "  assert y_test.shape[0]== y_test_n.shape[0]\n",
        "\n",
        "  print('Shape',x_train.shape, x_test.shape, y_train.shape, y_test.shape,  y_train_n.shape, y_test_n.shape)\n",
        "\n",
        "  return x_train, x_test, y_train_n, y_test_n, y_train, y_test"
      ]
    },
    {
      "cell_type": "code",
      "execution_count": 16,
      "metadata": {
        "id": "uy10wPGxd59i"
      },
      "outputs": [],
      "source": [
        "def apply_PCA(n_pca, x_train,x_test, norm_entry=False):\n",
        "\n",
        "  if norm_entry:\n",
        "    x_train = (x_train - x_train.mean(axis=0))/  x_train.std(axis=0)\n",
        "    x_test = (x_test - x_train.mean(axis=0))/  x_train.std(axis=0)\n",
        "  else:\n",
        "    pass\n",
        "\n",
        "  pca = PCA(n_components=n_pca, random_state=42)\n",
        "  pca.fit(x_train)\n",
        "\n",
        "  print('variancia explicada:', sum(pca.explained_variance_ratio_))\n",
        "  x_train_pca = pca.transform(x_train)\n",
        "  x_test_pca = pca.transform(x_test)\n",
        "\n",
        "  x_train_pca_norm = (x_train_pca - x_train_pca.mean(axis=0))/  x_train_pca.std(axis=0)\n",
        "  x_test_pca_norm = (x_test_pca - x_train_pca.mean(axis=0))/  x_train_pca.std(axis=0)\n",
        "\n",
        "  return x_train_pca_norm, x_test_pca_norm"
      ]
    },
    {
      "cell_type": "code",
      "execution_count": 17,
      "metadata": {
        "colab": {
          "base_uri": "https://localhost:8080/"
        },
        "id": "GSD9cLfdEh1t",
        "outputId": "4c758f11-e607-4e82-c544-4a7bed8cad6f"
      },
      "outputs": [
        {
          "output_type": "stream",
          "name": "stdout",
          "text": [
            "Shape (112, 2500) (48, 2500) (112, 5) (48, 5) (112,) (48,)\n"
          ]
        }
      ],
      "source": [
        "X_train, X_test, y_train_n, y_test_n, y_train, y_test = train_test_separation(X,y)"
      ]
    },
    {
      "cell_type": "code",
      "execution_count": 18,
      "metadata": {
        "colab": {
          "base_uri": "https://localhost:8080/"
        },
        "id": "3uXcqftrpx0w",
        "outputId": "555bcde3-5260-43e2-adff-81f0649371c8"
      },
      "outputs": [
        {
          "output_type": "stream",
          "name": "stdout",
          "text": [
            "variancia explicada: 0.608084225828258\n"
          ]
        }
      ],
      "source": [
        "X_train_pca, X_test_pca = apply_PCA(n_pca=50, x_train=X_train, x_test=X_test,norm_entry=True)"
      ]
    },
    {
      "cell_type": "code",
      "execution_count": 19,
      "metadata": {
        "id": "fWaBqU60YCPa"
      },
      "outputs": [],
      "source": [
        "def unpack_dict_as_str(dicionario):\n",
        "  string=''\n",
        "\n",
        "  for k,v in dicionario.items():\n",
        "    string= string + str(k) + ':[ '\n",
        "    try:\n",
        "      for v_ in v:\n",
        "        string= string + str(v_) + ' '\n",
        "      string= string+'] '\n",
        "    except:\n",
        "      string= string + str(v) + '] '\n",
        "  return string.strip()\n",
        "\n",
        "# unpack_dict_as_str({'a':[2,5,6], 'b':[6,7]})"
      ]
    },
    {
      "cell_type": "code",
      "execution_count": 24,
      "metadata": {
        "id": "KoiQ6uaLIOaf"
      },
      "outputs": [],
      "source": [
        "def pipeline_integrated_onedim(nome_do_modelo, #nome do modelo\n",
        "                               classifier, # classificador\n",
        "                               param_iteracao, # parametro iteração - deve conter um dicionario com a lista de valores a ser iterado\n",
        "                               param_fixo,  # parametro fixo e respectivo valor (uma lista)\n",
        "                               data, # dicionario de treino e teste\n",
        "                               kf= KFold(n_splits=5, shuffle=True, random_state=42),\n",
        "                               neural_network=False): #kfold\n",
        "\n",
        "  print('Pipeline de testes para o modelo:', nome_do_modelo)\n",
        "  X_train = data['X_train']\n",
        "  X_test = data['X_test']\n",
        "  y_train = data['y_train']\n",
        "  y_test = data['y_test']\n",
        "\n",
        "  log={}\n",
        "  log['exec_time'] = 'Execução em: {}'.format(datetime.now(pytz.timezone('America/Bahia')).strftime(\"%d/%m/%Y %H:%M:%S\"))\n",
        "  log['model_name'] = nome_do_modelo\n",
        "  log['parametro_fixo'] = '{}:[{}]'.format(param_fixo[0], param_fixo[1])\n",
        "  log['parametro_variavel'] = unpack_dict_as_str(param_iteracao)\n",
        "  log['kfold'] = kf\n",
        "\n",
        "  best_acc_val = -1\n",
        "  best_model=None\n",
        "  best_param = None\n",
        "  it=0\n",
        "\n",
        "  for parametro, valores in param_iteracao.items():\n",
        "    cv_report = {}\n",
        "    for valor in valores:\n",
        "      it+=1\n",
        "\n",
        "      cv_report['cv_results_'+str(it)] = {}\n",
        "      print('Execução em: {}'.format(datetime.now(pytz.timezone('America/Bahia')).strftime(\"%d/%m/%Y %H:%M:%S\")))\n",
        "      print(\"====================================================================\")\n",
        "      print('iteração:{}'.format(it))\n",
        "      param = {parametro:valor}\n",
        "      param[param_fixo[0]] = param_fixo[1]\n",
        "      print('Testando parametros:\\n', unpack_dict_as_str(param))\n",
        "      print(\"====================================================================\")\n",
        "      \n",
        "      cv_report['cv_results_'+str(it)]['cv_param']= unpack_dict_as_str(param)\n",
        "\n",
        "      for k_index,(train_index, val_index) in enumerate(kf.split(X_train)):\n",
        "        print('cross-validation: {}'.format(k_index))\n",
        "        X_train_kf, X_val_kf = X_train[train_index], X_train[val_index]\n",
        "        y_train_kf, y_val_kf = y_train[train_index], y_train[val_index]\n",
        "\n",
        "        # Ajusta o parâmetro usando o dicionário\n",
        "        for k,v in param.items():\n",
        "          setattr(classifier,k,v)\n",
        "        \n",
        "        if neural_network:\n",
        "          classifier.fit(X_train_kf, y_train_kf,[X_val_kf,y_val_kf])\n",
        "          acc_train = accuracy_score(classifier.predict(X_train_kf), y_train_kf.argmax(axis=1))\n",
        "          acc_val = accuracy_score(classifier.predict(X_val_kf), y_val_kf.argmax(axis=1))\n",
        "          acc_test = accuracy_score(classifier.predict(X_test), y_test.argmax(axis=1))\n",
        "        else:\n",
        "          classifier.fit(X_train_kf, y_train_kf)\n",
        "          acc_train = accuracy_score(classifier.predict(X_train_kf), y_train_kf)\n",
        "          acc_val = accuracy_score(classifier.predict(X_val_kf), y_val_kf)\n",
        "          acc_test = accuracy_score(classifier.predict(X_test), y_test)\n",
        "\n",
        "\n",
        "        if acc_val>best_acc_val:\n",
        "          best_model=classifier\n",
        "          best_param = param\n",
        "          k_index_best = k_index\n",
        "          best_acc_val=acc_val\n",
        "\n",
        "        cv_report['cv_results_'+str(it)]['acc_train_'+str(k_index)] = acc_train\n",
        "        cv_report['cv_results_'+str(it)]['acc_val_'+ str(k_index)] = acc_val\n",
        "        cv_report['cv_results_'+str(it)]['acc_test_'+ str(k_index)] = acc_test\n",
        "\n",
        "    log['cv_report']= cv_report\n",
        "\n",
        "    if neural_network:\n",
        "      best_model.fit(X_train, y_train,[X_test,y_test])\n",
        "      acc_train_best_model = accuracy_score(best_model.predict(X_train), y_train.argmax(axis=1))\n",
        "      acc_test_best_model = accuracy_score(best_model.predict(X_test), y_test.argmax(axis=1))\n",
        "    else:\n",
        "      best_model.fit(X_train, y_train)\n",
        "      acc_train_best_model = accuracy_score(best_model.predict(X_train), y_train)\n",
        "      acc_test_best_model = accuracy_score(best_model.predict(X_test), y_test)\n",
        "    \n",
        "\n",
        "    print('Melhor acurácia no validação obtida com os parametros {}. Treino final: {:.4f} Teste:{:.4f}'.format(unpack_dict_as_str(best_param),acc_train_best_model, acc_test_best_model))\n",
        "    print('Fim da Execução: {}'.format(datetime.now(pytz.timezone('America/Bahia')).strftime(\"%d/%m/%Y %H:%M:%S\")))\n",
        "    \n",
        "    log['melhor_modelo_obj'] = best_model\n",
        "    log['best_param_k_fold'] = unpack_dict_as_str(best_param)\n",
        "    log['acc_train_best_model'] = acc_train_best_model\n",
        "    log['acc_test_best_model'] = acc_test_best_model\n",
        "\n",
        "    return log\n",
        "\n",
        "def dictlog_to_flat_table(log):\n",
        "  log_i = pd.DataFrame(log, index=[norm_text(modelo)])\n",
        "  cv_log_i = pd.DataFrame(log['cv_report']).T.reset_index().assign(modelo = norm_text(modelo))\n",
        "  cv_log_i = pd.merge(log_i,cv_log_i, left_index = True , right_on = 'modelo', how='outer').drop(columns='cv_report')\n",
        "  return cv_log_i"
      ]
    },
    {
      "cell_type": "markdown",
      "metadata": {
        "id": "Olv5yCORwFSD"
      },
      "source": [
        "# Teste com Modelos"
      ]
    },
    {
      "cell_type": "code",
      "execution_count": 21,
      "metadata": {
        "id": "wq87vRPhv1Rl"
      },
      "outputs": [],
      "source": [
        "logs = pd.DataFrame()"
      ]
    },
    {
      "cell_type": "markdown",
      "metadata": {
        "id": "7t7YCGZUyyzg"
      },
      "source": [
        "Regressão Logística"
      ]
    },
    {
      "cell_type": "code",
      "execution_count": 25,
      "metadata": {
        "colab": {
          "base_uri": "https://localhost:8080/",
          "height": 670
        },
        "id": "8TCd4vHtWJAR",
        "outputId": "9cb2e9a2-6d3f-4378-959e-609bac924830"
      },
      "outputs": [
        {
          "output_type": "stream",
          "name": "stdout",
          "text": [
            "Pipeline de testes para o modelo: Regressão Logística Multinomial Passo Fixo\n",
            "Execução em: 21/01/2023 10:17:51\n",
            "====================================================================\n",
            "iteração:1\n",
            "Testando parametros:\n",
            " alpha:[ 0.01] theta:[ 0.001]\n",
            "====================================================================\n",
            "cross-validation: 0\n"
          ]
        },
        {
          "output_type": "error",
          "ename": "KeyError",
          "evalue": "ignored",
          "traceback": [
            "\u001b[0;31m---------------------------------------------------------------------------\u001b[0m",
            "\u001b[0;31mKeyError\u001b[0m                                  Traceback (most recent call last)",
            "\u001b[0;32m/usr/local/lib/python3.8/dist-packages/pandas/core/indexes/base.py\u001b[0m in \u001b[0;36mget_loc\u001b[0;34m(self, key, method, tolerance)\u001b[0m\n\u001b[1;32m   3360\u001b[0m             \u001b[0;32mtry\u001b[0m\u001b[0;34m:\u001b[0m\u001b[0;34m\u001b[0m\u001b[0;34m\u001b[0m\u001b[0m\n\u001b[0;32m-> 3361\u001b[0;31m                 \u001b[0;32mreturn\u001b[0m \u001b[0mself\u001b[0m\u001b[0;34m.\u001b[0m\u001b[0m_engine\u001b[0m\u001b[0;34m.\u001b[0m\u001b[0mget_loc\u001b[0m\u001b[0;34m(\u001b[0m\u001b[0mcasted_key\u001b[0m\u001b[0;34m)\u001b[0m\u001b[0;34m\u001b[0m\u001b[0;34m\u001b[0m\u001b[0m\n\u001b[0m\u001b[1;32m   3362\u001b[0m             \u001b[0;32mexcept\u001b[0m \u001b[0mKeyError\u001b[0m \u001b[0;32mas\u001b[0m \u001b[0merr\u001b[0m\u001b[0;34m:\u001b[0m\u001b[0;34m\u001b[0m\u001b[0;34m\u001b[0m\u001b[0m\n",
            "\u001b[0;32m/usr/local/lib/python3.8/dist-packages/pandas/_libs/index.pyx\u001b[0m in \u001b[0;36mpandas._libs.index.IndexEngine.get_loc\u001b[0;34m()\u001b[0m\n",
            "\u001b[0;32m/usr/local/lib/python3.8/dist-packages/pandas/_libs/index.pyx\u001b[0m in \u001b[0;36mpandas._libs.index.IndexEngine.get_loc\u001b[0;34m()\u001b[0m\n",
            "\u001b[0;32mpandas/_libs/hashtable_class_helper.pxi\u001b[0m in \u001b[0;36mpandas._libs.hashtable.PyObjectHashTable.get_item\u001b[0;34m()\u001b[0m\n",
            "\u001b[0;32mpandas/_libs/hashtable_class_helper.pxi\u001b[0m in \u001b[0;36mpandas._libs.hashtable.PyObjectHashTable.get_item\u001b[0;34m()\u001b[0m\n",
            "\u001b[0;31mKeyError\u001b[0m: 'cv_report'",
            "\nThe above exception was the direct cause of the following exception:\n",
            "\u001b[0;31mKeyError\u001b[0m                                  Traceback (most recent call last)",
            "\u001b[0;32m<ipython-input-25-35b1d4f233a6>\u001b[0m in \u001b[0;36m<module>\u001b[0;34m\u001b[0m\n\u001b[1;32m      7\u001b[0m                           data={'X_train':X_train_pca, 'X_test':X_test_pca, 'y_train':y_train_n, 'y_test':y_test_n} )\n\u001b[1;32m      8\u001b[0m \u001b[0;34m\u001b[0m\u001b[0m\n\u001b[0;32m----> 9\u001b[0;31m \u001b[0mlog_df\u001b[0m \u001b[0;34m=\u001b[0m \u001b[0mdictlog_to_flat_table\u001b[0m\u001b[0;34m(\u001b[0m\u001b[0mlog\u001b[0m\u001b[0;34m)\u001b[0m\u001b[0;34m\u001b[0m\u001b[0;34m\u001b[0m\u001b[0m\n\u001b[0m\u001b[1;32m     10\u001b[0m \u001b[0mlogs\u001b[0m \u001b[0;34m=\u001b[0m \u001b[0mlogs\u001b[0m\u001b[0;34m.\u001b[0m\u001b[0mappend\u001b[0m\u001b[0;34m(\u001b[0m\u001b[0mlog_df\u001b[0m\u001b[0;34m,\u001b[0m\u001b[0miagnore_index\u001b[0m\u001b[0;34m=\u001b[0m\u001b[0;32mTrue\u001b[0m\u001b[0;34m)\u001b[0m\u001b[0;34m\u001b[0m\u001b[0;34m\u001b[0m\u001b[0m\n",
            "\u001b[0;32m<ipython-input-24-7b5d3c94be30>\u001b[0m in \u001b[0;36mdictlog_to_flat_table\u001b[0;34m(log)\u001b[0m\n\u001b[1;32m     98\u001b[0m \u001b[0;32mdef\u001b[0m \u001b[0mdictlog_to_flat_table\u001b[0m\u001b[0;34m(\u001b[0m\u001b[0mlog\u001b[0m\u001b[0;34m)\u001b[0m\u001b[0;34m:\u001b[0m\u001b[0;34m\u001b[0m\u001b[0;34m\u001b[0m\u001b[0m\n\u001b[1;32m     99\u001b[0m   \u001b[0mlog_i\u001b[0m \u001b[0;34m=\u001b[0m \u001b[0mpd\u001b[0m\u001b[0;34m.\u001b[0m\u001b[0mDataFrame\u001b[0m\u001b[0;34m(\u001b[0m\u001b[0mlog\u001b[0m\u001b[0;34m,\u001b[0m \u001b[0mindex\u001b[0m\u001b[0;34m=\u001b[0m\u001b[0;34m[\u001b[0m\u001b[0mnorm_text\u001b[0m\u001b[0;34m(\u001b[0m\u001b[0mmodelo\u001b[0m\u001b[0;34m)\u001b[0m\u001b[0;34m]\u001b[0m\u001b[0;34m)\u001b[0m\u001b[0;34m\u001b[0m\u001b[0;34m\u001b[0m\u001b[0m\n\u001b[0;32m--> 100\u001b[0;31m   \u001b[0mcv_log_i\u001b[0m \u001b[0;34m=\u001b[0m \u001b[0mpd\u001b[0m\u001b[0;34m.\u001b[0m\u001b[0mDataFrame\u001b[0m\u001b[0;34m(\u001b[0m\u001b[0mlog\u001b[0m\u001b[0;34m[\u001b[0m\u001b[0;34m'cv_report'\u001b[0m\u001b[0;34m]\u001b[0m\u001b[0;34m)\u001b[0m\u001b[0;34m.\u001b[0m\u001b[0mT\u001b[0m\u001b[0;34m.\u001b[0m\u001b[0mreset_index\u001b[0m\u001b[0;34m(\u001b[0m\u001b[0;34m)\u001b[0m\u001b[0;34m.\u001b[0m\u001b[0massign\u001b[0m\u001b[0;34m(\u001b[0m\u001b[0mmodelo\u001b[0m \u001b[0;34m=\u001b[0m \u001b[0mnorm_text\u001b[0m\u001b[0;34m(\u001b[0m\u001b[0mmodelo\u001b[0m\u001b[0;34m)\u001b[0m\u001b[0;34m)\u001b[0m\u001b[0;34m\u001b[0m\u001b[0;34m\u001b[0m\u001b[0m\n\u001b[0m\u001b[1;32m    101\u001b[0m   \u001b[0mcv_log_i\u001b[0m \u001b[0;34m=\u001b[0m \u001b[0mpd\u001b[0m\u001b[0;34m.\u001b[0m\u001b[0mmerge\u001b[0m\u001b[0;34m(\u001b[0m\u001b[0mlog_i\u001b[0m\u001b[0;34m,\u001b[0m\u001b[0mcv_log_i\u001b[0m\u001b[0;34m,\u001b[0m \u001b[0mleft_index\u001b[0m \u001b[0;34m=\u001b[0m \u001b[0;32mTrue\u001b[0m \u001b[0;34m,\u001b[0m \u001b[0mright_on\u001b[0m \u001b[0;34m=\u001b[0m \u001b[0;34m'modelo'\u001b[0m\u001b[0;34m,\u001b[0m \u001b[0mhow\u001b[0m\u001b[0;34m=\u001b[0m\u001b[0;34m'outer'\u001b[0m\u001b[0;34m)\u001b[0m\u001b[0;34m.\u001b[0m\u001b[0mdrop\u001b[0m\u001b[0;34m(\u001b[0m\u001b[0mcolumns\u001b[0m\u001b[0;34m=\u001b[0m\u001b[0;34m'cv_report'\u001b[0m\u001b[0;34m)\u001b[0m\u001b[0;34m\u001b[0m\u001b[0;34m\u001b[0m\u001b[0m\n\u001b[1;32m    102\u001b[0m   \u001b[0;32mreturn\u001b[0m \u001b[0mcv_log_i\u001b[0m\u001b[0;34m\u001b[0m\u001b[0;34m\u001b[0m\u001b[0m\n",
            "\u001b[0;32m/usr/local/lib/python3.8/dist-packages/pandas/core/series.py\u001b[0m in \u001b[0;36m__getitem__\u001b[0;34m(self, key)\u001b[0m\n\u001b[1;32m    940\u001b[0m \u001b[0;34m\u001b[0m\u001b[0m\n\u001b[1;32m    941\u001b[0m         \u001b[0;32melif\u001b[0m \u001b[0mkey_is_scalar\u001b[0m\u001b[0;34m:\u001b[0m\u001b[0;34m\u001b[0m\u001b[0;34m\u001b[0m\u001b[0m\n\u001b[0;32m--> 942\u001b[0;31m             \u001b[0;32mreturn\u001b[0m \u001b[0mself\u001b[0m\u001b[0;34m.\u001b[0m\u001b[0m_get_value\u001b[0m\u001b[0;34m(\u001b[0m\u001b[0mkey\u001b[0m\u001b[0;34m)\u001b[0m\u001b[0;34m\u001b[0m\u001b[0;34m\u001b[0m\u001b[0m\n\u001b[0m\u001b[1;32m    943\u001b[0m \u001b[0;34m\u001b[0m\u001b[0m\n\u001b[1;32m    944\u001b[0m         \u001b[0;32mif\u001b[0m \u001b[0mis_hashable\u001b[0m\u001b[0;34m(\u001b[0m\u001b[0mkey\u001b[0m\u001b[0;34m)\u001b[0m\u001b[0;34m:\u001b[0m\u001b[0;34m\u001b[0m\u001b[0;34m\u001b[0m\u001b[0m\n",
            "\u001b[0;32m/usr/local/lib/python3.8/dist-packages/pandas/core/series.py\u001b[0m in \u001b[0;36m_get_value\u001b[0;34m(self, label, takeable)\u001b[0m\n\u001b[1;32m   1049\u001b[0m \u001b[0;34m\u001b[0m\u001b[0m\n\u001b[1;32m   1050\u001b[0m         \u001b[0;31m# Similar to Index.get_value, but we do not fall back to positional\u001b[0m\u001b[0;34m\u001b[0m\u001b[0;34m\u001b[0m\u001b[0;34m\u001b[0m\u001b[0m\n\u001b[0;32m-> 1051\u001b[0;31m         \u001b[0mloc\u001b[0m \u001b[0;34m=\u001b[0m \u001b[0mself\u001b[0m\u001b[0;34m.\u001b[0m\u001b[0mindex\u001b[0m\u001b[0;34m.\u001b[0m\u001b[0mget_loc\u001b[0m\u001b[0;34m(\u001b[0m\u001b[0mlabel\u001b[0m\u001b[0;34m)\u001b[0m\u001b[0;34m\u001b[0m\u001b[0;34m\u001b[0m\u001b[0m\n\u001b[0m\u001b[1;32m   1052\u001b[0m         \u001b[0;32mreturn\u001b[0m \u001b[0mself\u001b[0m\u001b[0;34m.\u001b[0m\u001b[0mindex\u001b[0m\u001b[0;34m.\u001b[0m\u001b[0m_get_values_for_loc\u001b[0m\u001b[0;34m(\u001b[0m\u001b[0mself\u001b[0m\u001b[0;34m,\u001b[0m \u001b[0mloc\u001b[0m\u001b[0;34m,\u001b[0m \u001b[0mlabel\u001b[0m\u001b[0;34m)\u001b[0m\u001b[0;34m\u001b[0m\u001b[0;34m\u001b[0m\u001b[0m\n\u001b[1;32m   1053\u001b[0m \u001b[0;34m\u001b[0m\u001b[0m\n",
            "\u001b[0;32m/usr/local/lib/python3.8/dist-packages/pandas/core/indexes/base.py\u001b[0m in \u001b[0;36mget_loc\u001b[0;34m(self, key, method, tolerance)\u001b[0m\n\u001b[1;32m   3361\u001b[0m                 \u001b[0;32mreturn\u001b[0m \u001b[0mself\u001b[0m\u001b[0;34m.\u001b[0m\u001b[0m_engine\u001b[0m\u001b[0;34m.\u001b[0m\u001b[0mget_loc\u001b[0m\u001b[0;34m(\u001b[0m\u001b[0mcasted_key\u001b[0m\u001b[0;34m)\u001b[0m\u001b[0;34m\u001b[0m\u001b[0;34m\u001b[0m\u001b[0m\n\u001b[1;32m   3362\u001b[0m             \u001b[0;32mexcept\u001b[0m \u001b[0mKeyError\u001b[0m \u001b[0;32mas\u001b[0m \u001b[0merr\u001b[0m\u001b[0;34m:\u001b[0m\u001b[0;34m\u001b[0m\u001b[0;34m\u001b[0m\u001b[0m\n\u001b[0;32m-> 3363\u001b[0;31m                 \u001b[0;32mraise\u001b[0m \u001b[0mKeyError\u001b[0m\u001b[0;34m(\u001b[0m\u001b[0mkey\u001b[0m\u001b[0;34m)\u001b[0m \u001b[0;32mfrom\u001b[0m \u001b[0merr\u001b[0m\u001b[0;34m\u001b[0m\u001b[0;34m\u001b[0m\u001b[0m\n\u001b[0m\u001b[1;32m   3364\u001b[0m \u001b[0;34m\u001b[0m\u001b[0m\n\u001b[1;32m   3365\u001b[0m         \u001b[0;32mif\u001b[0m \u001b[0mis_scalar\u001b[0m\u001b[0;34m(\u001b[0m\u001b[0mkey\u001b[0m\u001b[0;34m)\u001b[0m \u001b[0;32mand\u001b[0m \u001b[0misna\u001b[0m\u001b[0;34m(\u001b[0m\u001b[0mkey\u001b[0m\u001b[0;34m)\u001b[0m \u001b[0;32mand\u001b[0m \u001b[0;32mnot\u001b[0m \u001b[0mself\u001b[0m\u001b[0;34m.\u001b[0m\u001b[0mhasnans\u001b[0m\u001b[0;34m:\u001b[0m\u001b[0;34m\u001b[0m\u001b[0;34m\u001b[0m\u001b[0m\n",
            "\u001b[0;31mKeyError\u001b[0m: 'cv_report'"
          ]
        }
      ],
      "source": [
        "modelo = 'Regressão Logística Multinomial Passo Fixo'\n",
        "\n",
        "log = pipeline_integrated_onedim(nome_do_modelo=modelo, \n",
        "                          classifier= Multinomial_LogReg.MultinomialLogReg(),\n",
        "                          param_iteracao= {'alpha':[0.01, 0.1]},\n",
        "                          param_fixo=['theta',0.001],\n",
        "                          data={'X_train':X_train_pca, 'X_test':X_test_pca, 'y_train':y_train_n, 'y_test':y_test_n} )\n",
        "\n",
        "log_df = dictlog_to_flat_table(log)\n",
        "logs = logs.append(log_df,iagnore_index=True)"
      ]
    },
    {
      "cell_type": "code",
      "execution_count": null,
      "metadata": {
        "id": "pyFaR2riwYtz"
      },
      "outputs": [],
      "source": [
        "modelo = 'Regressão Logística Multinomial com Bisseção'\n",
        "\n",
        "log = pipeline_integrated_onedim(nome_do_modelo=modelo, \n",
        "                          classifier= Multinomial_LogReg.MultinomialLogReg_bissecao(),\n",
        "                          param_iteracao= {'itmax_bissec':[5, 20]},\n",
        "                          param_fixo=['theta',0.001],\n",
        "                          data={'X_train':X_train_pca, 'X_test':X_test_pca, 'y_train':y_train_n, 'y_test':y_test_n} )\n",
        "\n",
        "log_df = dictlog_to_flat_table(log)\n",
        "logs = logs.append(log_df,ignore_index=True)"
      ]
    },
    {
      "cell_type": "markdown",
      "metadata": {
        "id": "j50V1Z33zHM0"
      },
      "source": [
        "# SVM"
      ]
    },
    {
      "cell_type": "code",
      "execution_count": null,
      "metadata": {
        "id": "46TpRSsKzJgB"
      },
      "outputs": [],
      "source": [
        "modelo = 'SVM Classificador Kernel RBF C=1'\n",
        "\n",
        "log = pipeline_integrated_onedim(nome_do_modelo=modelo, \n",
        "                          classifier=  SVM_OVR.SVM_one_vs_all(),\n",
        "                          param_iteracao= {'sigma':[0.01, 0.1,1]},\n",
        "                          param_fixo=['C',1],\n",
        "                          data={'X_train':X_train_pca, 'X_test':X_test_pca, 'y_train':y_train_n, 'y_test':y_test_n})\n",
        "\n",
        "log_df = dictlog_to_flat_table(log)\n",
        "logs = logs.append(log_df,ignore_index=True)"
      ]
    },
    {
      "cell_type": "code",
      "execution_count": null,
      "metadata": {
        "id": "2snFIIhe5O2a"
      },
      "outputs": [],
      "source": [
        "modelo = 'SVM Classificador Kernel RBF C=100'\n",
        "\n",
        "log = pipeline_integrated_onedim(nome_do_modelo=modelo, \n",
        "                          classifier=  SVM_OVR.SVM_one_vs_all(),\n",
        "                          param_iteracao= {'sigma':[0.01, 0.1,1]},\n",
        "                          param_fixo=['C',100],\n",
        "                          data={'X_train':X_train_pca, 'X_test':X_test_pca, 'y_train':y_train_n, 'y_test':y_test_n})\n",
        "\n",
        "log_df = dictlog_to_flat_table(log)\n",
        "logs = logs.append(log_df)"
      ]
    },
    {
      "cell_type": "markdown",
      "metadata": {
        "id": "x2EcgwPG6R0V"
      },
      "source": [
        "# MLP"
      ]
    },
    {
      "cell_type": "code",
      "execution_count": null,
      "metadata": {
        "id": "tl_AuVKW6UEs"
      },
      "outputs": [],
      "source": [
        "modelo = 'MultiLayer Perceptron alpha 0.1'\n",
        "\n",
        "log = pipeline_integrated_onedim(nome_do_modelo=modelo, \n",
        "                          classifier=  ANN.RNA(),\n",
        "                          param_iteracao= {'h':[10,25,50,100]},\n",
        "                          param_fixo=['alpha',0.1],\n",
        "                          data={'X_train':X_train_pca, 'X_test':X_test_pca, 'y_train':y_train_n, 'y_test':y_test_n},\n",
        "                          neural_network=True)\n",
        "\n",
        "log_df = dictlog_to_flat_table(log)\n",
        "logs = logs.append(log_df,ignore_index=True)"
      ]
    },
    {
      "cell_type": "code",
      "execution_count": null,
      "metadata": {
        "id": "zZ1NeTjf4gzi"
      },
      "outputs": [],
      "source": [
        "pd.set_option('display.max_columns', None)\n",
        "logs.head(3)"
      ]
    },
    {
      "cell_type": "markdown",
      "metadata": {
        "id": "8ZrLT-JZGohf"
      },
      "source": [
        "# Informações Melhor/Pior Modelo"
      ]
    },
    {
      "cell_type": "code",
      "execution_count": null,
      "metadata": {
        "id": "uRMHgRTbRD4o"
      },
      "outputs": [],
      "source": [
        "label = tag + '_log_full'\n",
        "\n",
        "logs.to_excel(log_dir +label + '.xlsx')"
      ]
    },
    {
      "cell_type": "code",
      "execution_count": null,
      "metadata": {
        "id": "U6Q5Jm6tHS_J"
      },
      "outputs": [],
      "source": [
        "def save_error(label):\n",
        "  errorFile = open(erro_dir +label + '.txt', 'w') \n",
        "  print('Execução em: {}'.format(datetime.now(pytz.timezone('America/Bahia')).strftime(\"%d/%m/%Y %H:%M:%S\")) , file=errorFile)\n",
        "\n",
        "  out=''\n",
        "  for i,r in melhor_modelo_infos.filter(like='acc').T.reset_index().iterrows():\n",
        "    out=out + str(r['index']) + ':' + str(r[0]) + '\\n'\n",
        "  print(out, file=errorFile)\n",
        "  errorFile.close()"
      ]
    },
    {
      "cell_type": "code",
      "execution_count": null,
      "metadata": {
        "id": "da4yaCoVGDtZ"
      },
      "outputs": [],
      "source": [
        "label = tag + '_' + 'melhor'\n",
        "\n",
        "melhor_modelo_infos = logs.sort_values(by='acc_test_best_model',ascending=False).head(1)\n",
        "\n",
        "# Salva mehlhor modelo\n",
        "melhor_modelo = melhor_modelo_infos['melhor_modelo_obj'].iloc[0]\n",
        "with open(model_save_dir + label +'.obj', 'wb') as fp:\n",
        "  pickle.dump(melhor_modelo, fp)\n",
        "\n",
        "# Salva o erro\n",
        "save_error(label)\n",
        "\n",
        "#Salva o config\n",
        "melhor_modelo_infos.drop(columns = melhor_modelo_infos.filter(like='acc').columns).T.rename(columns={0:'config'}).to_csv(config_dir + label  +'.txt', sep=':')"
      ]
    },
    {
      "cell_type": "code",
      "execution_count": null,
      "metadata": {
        "id": "B-XcQhGYJaMA"
      },
      "outputs": [],
      "source": [
        "label = tag + '_' + 'pior'\n",
        "\n",
        "pior_modelo_infos = logs.sort_values(by='acc_test_best_model',ascending=False).tail(1)\n",
        "\n",
        "# Salva pior modelo\n",
        "pior = pior_modelo_infos['melhor_modelo_obj'].iloc[0]\n",
        "with open(model_save_dir + label +'.obj', 'wb') as fp:\n",
        "  pickle.dump(pior, fp)\n",
        "\n",
        "# Salva o erro\n",
        "save_error(label)\n",
        "\n",
        "#Salva o config\n",
        "melhor_modelo_infos.drop(columns = pior_modelo_infos.filter(like='acc').columns).T.rename(columns={0:'config'}).to_csv(config_dir + label  +'.txt', sep=':')"
      ]
    }
  ],
  "metadata": {
    "colab": {
      "machine_shape": "hm",
      "provenance": [],
      "include_colab_link": true
    },
    "gpuClass": "standard",
    "kernelspec": {
      "display_name": "Python 3",
      "language": "python",
      "name": "python3"
    },
    "language_info": {
      "codemirror_mode": {
        "name": "ipython",
        "version": 3
      },
      "file_extension": ".py",
      "mimetype": "text/x-python",
      "name": "python",
      "nbconvert_exporter": "python",
      "pygments_lexer": "ipython3",
      "version": "3.7.10"
    },
    "varInspector": {
      "cols": {
        "lenName": 16,
        "lenType": 16,
        "lenVar": 40
      },
      "kernels_config": {
        "python": {
          "delete_cmd_postfix": "",
          "delete_cmd_prefix": "del ",
          "library": "var_list.py",
          "varRefreshCmd": "print(var_dic_list())"
        },
        "r": {
          "delete_cmd_postfix": ") ",
          "delete_cmd_prefix": "rm(",
          "library": "var_list.r",
          "varRefreshCmd": "cat(var_dic_list()) "
        }
      },
      "types_to_exclude": [
        "module",
        "function",
        "builtin_function_or_method",
        "instance",
        "_Feature"
      ],
      "window_display": false
    }
  },
  "nbformat": 4,
  "nbformat_minor": 0
}