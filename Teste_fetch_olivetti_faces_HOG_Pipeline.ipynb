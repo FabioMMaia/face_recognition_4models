{
  "cells": [
    {
      "cell_type": "markdown",
      "metadata": {
        "id": "view-in-github",
        "colab_type": "text"
      },
      "source": [
        "<a href=\"https://colab.research.google.com/github/FabioMMaia/face_recognition_4models/blob/main/Teste_fetch_olivetti_faces_HOG_Pipeline.ipynb\" target=\"_parent\"><img src=\"https://colab.research.google.com/assets/colab-badge.svg\" alt=\"Open In Colab\"/></a>"
      ]
    },
    {
      "cell_type": "code",
      "execution_count": 3,
      "metadata": {
        "id": "0jNKeNAIcwEN"
      },
      "outputs": [],
      "source": [
        "import numpy as np\n",
        "import pandas as pd\n",
        "import matplotlib.pyplot as plt\n",
        "from tensorflow import keras\n",
        "from sklearn.preprocessing import StandardScaler\n",
        "import tensorflow as tf\n",
        "import cv2\n",
        "from PIL import Image\n",
        "from skimage import data, exposure\n",
        "from skimage.feature import hog,local_binary_pattern\n",
        "from sklearn.decomposition import PCA\n",
        "from sklearn.model_selection import train_test_split\n",
        "from sklearn.model_selection import KFold\n",
        "from numpy.random import seed\n",
        "import pickle\n",
        "from tqdm import tqdm\n",
        "\n",
        "import pytz\n",
        "from datetime import datetime\n",
        "from collections import Counter\n",
        "import math\n",
        "\n",
        "from sklearn.metrics import accuracy_score\n",
        "\n",
        "import warnings\n",
        "warnings.filterwarnings('ignore')\n",
        "\n",
        "tqdm.pandas()"
      ]
    },
    {
      "cell_type": "code",
      "execution_count": 4,
      "metadata": {
        "colab": {
          "base_uri": "https://localhost:8080/"
        },
        "id": "9k9xlX-xef0d",
        "outputId": "b01df1e1-9155-441c-8308-b15a203c7662"
      },
      "outputs": [
        {
          "output_type": "stream",
          "name": "stdout",
          "text": [
            "Looking in indexes: https://pypi.org/simple, https://us-python.pkg.dev/colab-wheels/public/simple/\n",
            "Collecting unidecode\n",
            "  Downloading Unidecode-1.3.6-py3-none-any.whl (235 kB)\n",
            "\u001b[2K     \u001b[90m━━━━━━━━━━━━━━━━━━━━━━━━━━━━━━━━━━━━━━━\u001b[0m \u001b[32m235.9/235.9 KB\u001b[0m \u001b[31m6.3 MB/s\u001b[0m eta \u001b[36m0:00:00\u001b[0m\n",
            "\u001b[?25hInstalling collected packages: unidecode\n",
            "Successfully installed unidecode-1.3.6\n"
          ]
        }
      ],
      "source": [
        "!pip install unidecode\n",
        "\n",
        "def norm_text(txt):\n",
        "  from unidecode import unidecode\n",
        "  return unidecode(txt).replace(' ','_').lower()"
      ]
    },
    {
      "cell_type": "code",
      "execution_count": 5,
      "metadata": {
        "colab": {
          "base_uri": "https://localhost:8080/"
        },
        "id": "UzJSiIc4z8BG",
        "outputId": "d4434606-f5ec-46f4-cc42-deb1ede045a8"
      },
      "outputs": [
        {
          "output_type": "stream",
          "name": "stdout",
          "text": [
            "Mounted at /content/drive\n"
          ]
        }
      ],
      "source": [
        "from google.colab import drive\n",
        "drive.mount('/content/drive')"
      ]
    },
    {
      "cell_type": "code",
      "execution_count": 6,
      "metadata": {
        "id": "I9gEzU85sBo8"
      },
      "outputs": [],
      "source": [
        "config_dir = '/content/drive/MyDrive/Projeto ML/2022/Aprendizado de Maquinas/Projeto/Pipeline/config/'\n",
        "model_save_dir = '/content/drive/MyDrive/Projeto ML/2022/Aprendizado de Maquinas/Projeto/Pipeline/model/'\n",
        "erro_dir = '/content/drive/MyDrive/Projeto ML/2022/Aprendizado de Maquinas/Projeto/Pipeline/error/'\n",
        "log_dir = '/content/drive/MyDrive/Projeto ML/2022/Aprendizado de Maquinas/Projeto/Pipeline/log/'"
      ]
    },
    {
      "cell_type": "code",
      "execution_count": 7,
      "metadata": {
        "id": "0HwQFYUYdKRx"
      },
      "outputs": [],
      "source": [
        "import sys\n",
        "sys.path.append('/content/drive/MyDrive/Projeto ML/2022/Aprendizado de Maquinas/Projeto/Pipeline/Modelos_Implementações')"
      ]
    },
    {
      "cell_type": "code",
      "execution_count": 8,
      "metadata": {
        "id": "At7N2h1tdKiJ"
      },
      "outputs": [],
      "source": [
        "import MLP as mlp # multilayer perceptron\n",
        "import Multinomial_LogReg # regressão logística com alpha variavel (bissecao)\n",
        "import R_LOG as r_log # regressão logística com alpha fixo\n",
        "import SVM_OVR # SVM one-versus-rest\n",
        "import ANN"
      ]
    },
    {
      "cell_type": "code",
      "execution_count": 9,
      "metadata": {
        "id": "y2mrQXgKHxcZ"
      },
      "outputs": [],
      "source": [
        "# import importlib\n",
        "\n",
        "# importlib.reload(ANN)\n",
        "# importlib.reload(mlp)\n",
        "# importlib.reload(Multinomial_LogReg)\n",
        "# importlib.reload(r_log)\n",
        "# importlib.reload(SVM_OVR)\n",
        "# importlib.reload(ANN)"
      ]
    },
    {
      "cell_type": "code",
      "execution_count": 10,
      "metadata": {
        "id": "ByYR7oyY_fFy"
      },
      "outputs": [],
      "source": [
        "# class logfile():\n",
        "\n",
        "#   def __init__(self, diretorio):\n",
        "#     self.diretorio=diretorio\n",
        "\n",
        "#   def start(self, tag, use_dateref=True):\n",
        "#     if use_dateref:\n",
        "#       tag = tag + '_' + datetime.now(pytz.timezone('America/Bahia')).strftime(\"%Y%m%d\")\n",
        "#     self.save_file = open(self.diretorio +  tag + '.txt', 'w')\n",
        "#     data_atual = datetime.now(pytz.timezone('America/Bahia')).strftime(\"%d/%m/%Y %H:%M:%S\")\n",
        "#     print('Execução em:', data_atual, file=self.save_file)\n",
        "    \n",
        "#   def end(self):\n",
        "#     data_atual = datetime.now(pytz.timezone('America/Bahia')).strftime(\"%d/%m/%Y %H:%M:%S\")\n",
        "#     print('Fim de Execução em:', data_atual, file=self.save_file)\n",
        "#     self.save_file.close()"
      ]
    },
    {
      "cell_type": "code",
      "source": [
        "# Visualize Dataset"
      ],
      "metadata": {
        "id": "v11ATiXGPF6-"
      },
      "execution_count": 11,
      "outputs": []
    },
    {
      "cell_type": "code",
      "source": [
        "# def generate_image_db(keep_images):\n",
        "#   import zipfile\n",
        "#   from skimage.transform import resize\n",
        "\n",
        "\n",
        "#   imagens_path = '/content/drive/MyDrive/Projeto ML/2022/Aprendizado de Maquinas/Projeto/CelebA/img_align_celeba.zip'\n",
        "#   imgzip = zipfile.ZipFile(imagens_path)\n",
        "#   inflist = imgzip.infolist()\n",
        "#   all_images = {}\n",
        "\n",
        "#   for f in tqdm(inflist):\n",
        "#     file_name = f.filename.split('/')[1]\n",
        "#     if file_name in keep_images:\n",
        "#       if '.jpg' in file_name:\n",
        "#         ifile = imgzip.open(f)\n",
        "#         img = Image.open(ifile)\n",
        "#         img_resize = resize(np.array(img), (128, 128))\n",
        "#         all_images[file_name] = [img_resize]\n",
        "\n",
        "#   return all_images\n",
        "\n",
        "# def plt_samples(imgs):\n",
        "#   # faces que foram reconhecidas pelo viola jones\n",
        "#   fig, axes = plt.subplots(1,5, figsize=(10,10))\n",
        "\n",
        "#   imgs= pd.DataFrame(imgs)\n",
        "\n",
        "#   for (i,row), ax in zip(imgs.head(8).iterrows(), axes.ravel()): \n",
        "#     ax.axis('off')\n",
        "#     ax.imshow(row[0], cmap=plt.cm.gray)\n",
        "\n",
        "# def visualize_5photos(y):\n",
        "#   amostra= generate_image_db(y.sample(5).index)\n",
        "#   amostra_df = pd.DataFrame(amostra).T.reset_index()\n",
        "#   plt_samples(amostra_df)"
      ],
      "metadata": {
        "id": "K_6EK4fPPI1k"
      },
      "execution_count": 12,
      "outputs": []
    },
    {
      "cell_type": "markdown",
      "metadata": {
        "id": "-fCP7qO9EMjx"
      },
      "source": [
        "# Carregando Dataset - HOG"
      ]
    },
    {
      "cell_type": "code",
      "execution_count": 13,
      "metadata": {
        "id": "nesCirIwjSTI",
        "colab": {
          "base_uri": "https://localhost:8080/"
        },
        "outputId": "d0096938-43e2-463a-d44a-7d44207cc5ac"
      },
      "outputs": [
        {
          "output_type": "stream",
          "name": "stdout",
          "text": [
            "downloading Olivetti faces from https://ndownloader.figshare.com/files/5976027 to /root/scikit_learn_data\n"
          ]
        }
      ],
      "source": [
        "n_classes=''\n",
        "ref = 'fetch_olivetti_faces' \n",
        "tag= 'hog' + '_' + ref\n",
        "\n",
        "# with open(r'/content/drive/MyDrive/Projeto ML/2022/Aprendizado de Maquinas/Projeto/Pipeline/Data/X_y_' + tag +'.obj', \"rb\") as f:\n",
        "#     X,y = pickle.load(f)\n",
        "\n",
        "from sklearn.datasets import fetch_olivetti_faces\n",
        "dataset = fetch_olivetti_faces()\n",
        "\n",
        "X, y = dataset.images, dataset.target\n",
        "m = X.shape[0]"
      ]
    },
    {
      "cell_type": "code",
      "source": [
        "pd.Series(y).value_counts()"
      ],
      "metadata": {
        "colab": {
          "base_uri": "https://localhost:8080/"
        },
        "id": "or81d3VKQRRZ",
        "outputId": "a09e103c-181e-470d-81b2-d124089cebd1"
      },
      "execution_count": 14,
      "outputs": [
        {
          "output_type": "execute_result",
          "data": {
            "text/plain": [
              "0     10\n",
              "1     10\n",
              "22    10\n",
              "23    10\n",
              "24    10\n",
              "25    10\n",
              "26    10\n",
              "27    10\n",
              "28    10\n",
              "29    10\n",
              "30    10\n",
              "31    10\n",
              "32    10\n",
              "33    10\n",
              "34    10\n",
              "35    10\n",
              "36    10\n",
              "37    10\n",
              "38    10\n",
              "21    10\n",
              "20    10\n",
              "19    10\n",
              "9     10\n",
              "2     10\n",
              "3     10\n",
              "4     10\n",
              "5     10\n",
              "6     10\n",
              "7     10\n",
              "8     10\n",
              "10    10\n",
              "18    10\n",
              "11    10\n",
              "12    10\n",
              "13    10\n",
              "14    10\n",
              "15    10\n",
              "16    10\n",
              "17    10\n",
              "39    10\n",
              "dtype: int64"
            ]
          },
          "metadata": {},
          "execution_count": 14
        }
      ]
    },
    {
      "cell_type": "code",
      "source": [
        "fig, axes = plt.subplots(2,5, figsize=(10,5))\n",
        "\n",
        "indexes_random = np.random.choice(m,10)\n",
        "for img, classe, ax in zip(X[indexes_random], y[indexes_random], axes.ravel()): \n",
        "  ax.axis('off')\n",
        "  ax.set_title('classe:{}'.format(classe))\n",
        "  ax.imshow(img, cmap=plt.cm.gray)"
      ],
      "metadata": {
        "colab": {
          "base_uri": "https://localhost:8080/",
          "height": 291
        },
        "id": "B2UxuJNGTr-d",
        "outputId": "6a71f87b-6367-49ca-bb9f-4fefafc973c7"
      },
      "execution_count": 15,
      "outputs": [
        {
          "output_type": "display_data",
          "data": {
            "text/plain": [
              "<Figure size 720x360 with 10 Axes>"
            ],
            "image/png": "[encoded data removed]"
          },
          "metadata": {
            "needs_background": "light"
          }
        }
      ]
    },
    {
      "cell_type": "code",
      "execution_count": 16,
      "metadata": {
        "colab": {
          "base_uri": "https://localhost:8080/"
        },
        "id": "UuMfnhFCv530",
        "outputId": "8598a685-8ba1-4600-fb61-ad792ae54fd8"
      },
      "outputs": [
        {
          "output_type": "stream",
          "name": "stdout",
          "text": [
            "X shape: (400, 64, 64)\n",
            "y shape: (400,)\n"
          ]
        }
      ],
      "source": [
        "print('X shape:', X.shape)\n",
        "print('y shape:', y.shape)"
      ]
    },
    {
      "cell_type": "code",
      "source": [
        "X_hog = np.array([hog(x, orientations=2, pixels_per_cell=(2,2),cells_per_block=(2, 2), visualize=False) for x in X])"
      ],
      "metadata": {
        "id": "71jEYDDTsinu"
      },
      "execution_count": 17,
      "outputs": []
    },
    {
      "cell_type": "code",
      "source": [
        "X_df = pd.DataFrame(X_hog)\n",
        "y_df =  pd.DataFrame(y)"
      ],
      "metadata": {
        "id": "rZo5ER-isMg8"
      },
      "execution_count": 18,
      "outputs": []
    },
    {
      "cell_type": "code",
      "execution_count": 19,
      "metadata": {
        "colab": {
          "base_uri": "https://localhost:8080/"
        },
        "id": "AOgsjWL7dmDr",
        "outputId": "9d21fac8-4a99-4fde-c8c0-d57160b2d901"
      },
      "outputs": [
        {
          "output_type": "stream",
          "name": "stdout",
          "text": [
            "Quantidade de pessoas: 40\n"
          ]
        }
      ],
      "source": [
        "# transformar categorias em one-hot-encoding: Saída\n",
        "saida = y.max()+1\n",
        "print(\"Quantidade de pessoas:\",saida)\n",
        "target = keras.utils.to_categorical(y, saida)"
      ]
    },
    {
      "cell_type": "markdown",
      "metadata": {
        "id": "yY1ktd8gd2yM"
      },
      "source": [
        "# Train x Test"
      ]
    },
    {
      "cell_type": "code",
      "execution_count": 20,
      "metadata": {
        "id": "Db0Ju9CS_GMa"
      },
      "outputs": [],
      "source": [
        "# def train_test_separation(X, y):\n",
        "#   x_train, x_test, y_train_n, y_test_n = train_test_split(X, y, test_size=0.30, random_state=42,stratify=y)\n",
        "\n",
        "#   y_train = target[y.index.isin(y_train_n.index).flatten(),:]\n",
        "#   y_test= target[y.index.isin(y_test_n.index).flatten(),:]\n",
        "\n",
        "#   assert y_train.shape[0]== y_train_n.shape[0]\n",
        "#   assert y_test.shape[0]== y_test_n.shape[0]\n",
        "\n",
        "#   print('Shape',x_train.shape, x_test.shape, y_train.shape, y_test.shape,  y_train_n.shape, y_test_n.shape)\n",
        "\n",
        "#   return x_train, x_test, y_train_n, y_test_n, y_train, y_test"
      ]
    },
    {
      "cell_type": "code",
      "source": [
        "def train_test_separation(X, y):\n",
        "\n",
        "  n_classes = len(np.unique(y))\n",
        "\n",
        "  x_train, x_test, y_train_n, y_test_n = train_test_split(X, y, test_size=0.30, random_state=42,stratify=y)\n",
        "\n",
        "  y_train = keras.utils.to_categorical(y_train_n.values, n_classes)\n",
        "  y_test = keras.utils.to_categorical(y_test_n.values, n_classes)\n",
        "\n",
        "  assert y_train.shape[0]== y_train_n.shape[0]\n",
        "  assert y_test.shape[0]== y_test_n.shape[0]\n",
        "\n",
        "  print('x_train shape:', x_train.shape,'y_train shape:',  y_train_n.shape, 'y_train (ohe) shape:' ,y_train.shape, 'x_test shape:',  x_test.shape,'y_test shape:', y_test_n.shape,'y_test (ohe) shape:', y_test.shape)\n",
        "\n",
        "  return x_train, y_train_n, y_train, x_test, y_test, y_test_n"
      ],
      "metadata": {
        "id": "4kytrbMnNgHj"
      },
      "execution_count": 21,
      "outputs": []
    },
    {
      "cell_type": "code",
      "execution_count": 22,
      "metadata": {
        "id": "uy10wPGxd59i"
      },
      "outputs": [],
      "source": [
        "def apply_PCA(n_pca, x_train,x_test):\n",
        "  pca = PCA(n_components=n_pca, random_state=42)\n",
        "  pca.fit(x_train)\n",
        "\n",
        "  print('variancia explicada:', sum(pca.explained_variance_ratio_))\n",
        "  x_train_pca = pca.transform(x_train)\n",
        "  x_test_pca = pca.transform(x_test)\n",
        "\n",
        "  x_train_pca_norm = (x_train_pca - x_train_pca.mean(axis=0))/  x_train_pca.std(axis=0)\n",
        "  x_test_pca_norm = (x_test_pca - x_train_pca.mean(axis=0))/  x_train_pca.std(axis=0)\n",
        "\n",
        "  return x_train_pca_norm, x_test_pca_norm"
      ]
    },
    {
      "cell_type": "code",
      "execution_count": 24,
      "metadata": {
        "colab": {
          "base_uri": "https://localhost:8080/"
        },
        "id": "GSD9cLfdEh1t",
        "outputId": "ea8aed19-563c-4694-c1df-6e9f2b43f492"
      },
      "outputs": [
        {
          "output_type": "stream",
          "name": "stdout",
          "text": [
            "x_train shape: (280, 7688) y_train shape: (280, 1) y_train (ohe) shape: (280, 40) x_test shape: (120, 7688) y_test shape: (120, 1) y_test (ohe) shape: (120, 40)\n"
          ]
        }
      ],
      "source": [
        "X_train, y_train_n, y_train, X_test, y_test, y_test_n = train_test_separation(X_df,y_df)"
      ]
    },
    {
      "cell_type": "code",
      "execution_count": 25,
      "metadata": {
        "colab": {
          "base_uri": "https://localhost:8080/"
        },
        "id": "3uXcqftrpx0w",
        "outputId": "69229a02-09cb-4c95-8eab-cc414e83c04b"
      },
      "outputs": [
        {
          "output_type": "stream",
          "name": "stdout",
          "text": [
            "variancia explicada: 0.47134649515491844\n"
          ]
        }
      ],
      "source": [
        "X_train_pca, X_test_pca = apply_PCA(n_pca=50, x_train=X_train, x_test=X_test)"
      ]
    },
    {
      "cell_type": "code",
      "source": [
        "# y_train_indexado = y_train_n.copy()\n",
        "# y_test_indexado = y_test_n.copy()\n",
        "\n",
        "# y_train_n.reset_index(drop=True, inplace=True)\n",
        "# y_test_n.reset_index(drop=True, inplace=True)"
      ],
      "metadata": {
        "id": "CpVQt5LMxoBC"
      },
      "execution_count": 26,
      "outputs": []
    },
    {
      "cell_type": "code",
      "execution_count": 27,
      "metadata": {
        "id": "fWaBqU60YCPa"
      },
      "outputs": [],
      "source": [
        "def unpack_dict_as_str(dicionario):\n",
        "  string=''\n",
        "\n",
        "  for k,v in dicionario.items():\n",
        "    string= string + str(k) + ':[ '\n",
        "    try:\n",
        "      for v_ in v:\n",
        "        string= string + str(v_) + ' '\n",
        "      string= string+'] '\n",
        "    except:\n",
        "      string= string + str(v) + '] '\n",
        "  return string.strip()\n",
        "\n",
        "# unpack_dict_as_str({'a':[2,5,6], 'b':[6,7]})"
      ]
    },
    {
      "cell_type": "code",
      "execution_count": 28,
      "metadata": {
        "id": "KoiQ6uaLIOaf"
      },
      "outputs": [],
      "source": [
        "def pipeline_integrated_onedim(nome_do_modelo, #nome do modelo\n",
        "                               classifier, # classificador\n",
        "                               param_iteracao, # parametro iteração - deve conter um dicionario com a lista de valores a ser iterado\n",
        "                               param_fixo,  # parametro fixo e respectivo valor (uma lista)\n",
        "                               data, # dicionario de treino e teste\n",
        "                               kf= KFold(n_splits=5, shuffle=True, random_state=42),\n",
        "                               neural_network=False): #kfold\n",
        "\n",
        "  print('Pipeline de testes para o modelo:', nome_do_modelo)\n",
        "  X_train = data['X_train']\n",
        "  X_test = data['X_test']\n",
        "  y_train = data['y_train']\n",
        "  y_test = data['y_test']\n",
        "\n",
        "  log={}\n",
        "  log['exec_time'] = 'Execução em: {}'.format(datetime.now(pytz.timezone('America/Bahia')).strftime(\"%d/%m/%Y %H:%M:%S\"))\n",
        "  log['model_name'] = nome_do_modelo\n",
        "  log['parametro_fixo'] = '{}:[{}]'.format(param_fixo[0], param_fixo[1])\n",
        "  log['parametro_variavel'] = unpack_dict_as_str(param_iteracao)\n",
        "  log['kfold'] = kf\n",
        "\n",
        "  best_acc_val = -1\n",
        "  best_model=None\n",
        "  best_param = None\n",
        "  it=0\n",
        "\n",
        "  for parametro, valores in param_iteracao.items():\n",
        "    cv_report = {}\n",
        "    for valor in valores:\n",
        "      it+=1\n",
        "\n",
        "      cv_report['cv_results_'+str(it)] = {}\n",
        "      print('Execução em: {}'.format(datetime.now(pytz.timezone('America/Bahia')).strftime(\"%d/%m/%Y %H:%M:%S\")))\n",
        "      print(\"====================================================================\")\n",
        "      print('iteração:{}'.format(it))\n",
        "      param = {parametro:valor}\n",
        "      param[param_fixo[0]] = param_fixo[1]\n",
        "      print('Testando parametros:\\n', unpack_dict_as_str(param))\n",
        "      print(\"====================================================================\")\n",
        "      \n",
        "      cv_report['cv_results_'+str(it)]['cv_param']= unpack_dict_as_str(param)\n",
        "\n",
        "      for k_index,(train_index, val_index) in enumerate(kf.split(X_train)):\n",
        "        print('cross-validation: {}'.format(k_index))\n",
        "        X_train_kf, X_val_kf = X_train[train_index], X_train[val_index]\n",
        "        if isinstance(y_train, pd.DataFrame):\n",
        "          y_train_kf, y_val_kf = y_train.iloc[train_index], y_train.iloc[val_index]\n",
        "        else:\n",
        "          y_train_kf, y_val_kf = y_train[train_index], y_train[val_index]\n",
        "\n",
        "        # Ajusta o parâmetro usando o dicionário\n",
        "        for k,v in param.items():\n",
        "          setattr(classifier,k,v)\n",
        "        \n",
        "        if neural_network:\n",
        "          classifier.fit(X_train_kf, y_train_kf,[X_val_kf,y_val_kf])\n",
        "          acc_train = accuracy_score(classifier.predict(X_train_kf), y_train_kf.argmax(axis=1))\n",
        "          acc_val = accuracy_score(classifier.predict(X_val_kf), y_val_kf.argmax(axis=1))\n",
        "          acc_test = accuracy_score(classifier.predict(X_test), y_test.argmax(axis=1))\n",
        "        else:\n",
        "          classifier.fit(X_train_kf, y_train_kf)\n",
        "          acc_train = accuracy_score(classifier.predict(X_train_kf), y_train_kf)\n",
        "          acc_val = accuracy_score(classifier.predict(X_val_kf), y_val_kf)\n",
        "          acc_test = accuracy_score(classifier.predict(X_test), y_test)\n",
        "        print('acc - tr:{:.2f} val:{:.2f} tst:{:.2f}'.format(acc_train,acc_val,acc_test ))\n",
        "\n",
        "\n",
        "        if acc_val>best_acc_val:\n",
        "          best_model=classifier\n",
        "          best_param = param\n",
        "          k_index_best = k_index\n",
        "          best_acc_val=acc_val\n",
        "\n",
        "        cv_report['cv_results_'+str(it)]['acc_train_'+str(k_index)] = acc_train\n",
        "        cv_report['cv_results_'+str(it)]['acc_val_'+ str(k_index)] = acc_val\n",
        "        cv_report['cv_results_'+str(it)]['acc_test_'+ str(k_index)] = acc_test\n",
        "\n",
        "    log['cv_report']= cv_report\n",
        "\n",
        "    if neural_network:\n",
        "      best_model.fit(X_train, y_train,[X_test,y_test])\n",
        "      acc_train_best_model = accuracy_score(best_model.predict(X_train), y_train.argmax(axis=1))\n",
        "      acc_test_best_model = accuracy_score(best_model.predict(X_test), y_test.argmax(axis=1))\n",
        "    else:\n",
        "      best_model.fit(X_train, y_train)\n",
        "      acc_train_best_model = accuracy_score(best_model.predict(X_train), y_train)\n",
        "      acc_test_best_model = accuracy_score(best_model.predict(X_test), y_test)\n",
        "    \n",
        "\n",
        "    print('Melhor acurácia no validação obtida com os parametros {}. Treino final: {:.4f} Teste:{:.4f}'.format(unpack_dict_as_str(best_param),acc_train_best_model, acc_test_best_model))\n",
        "    print('Fim da Execução: {}'.format(datetime.now(pytz.timezone('America/Bahia')).strftime(\"%d/%m/%Y %H:%M:%S\")))\n",
        "    \n",
        "    log['melhor_modelo_obj'] = best_model\n",
        "    log['best_param_k_fold'] = unpack_dict_as_str(best_param)\n",
        "    log['acc_train_best_model'] = acc_train_best_model\n",
        "    log['acc_test_best_model'] = acc_test_best_model\n",
        "\n",
        "    return log\n",
        "\n",
        "def dictlog_to_flat_table(log):\n",
        "  log_i = pd.DataFrame(log, index=[norm_text(modelo)])\n",
        "  cv_log_i = pd.DataFrame(log['cv_report']).T.reset_index().assign(modelo = norm_text(modelo))\n",
        "  cv_log_i = pd.merge(log_i,cv_log_i, left_index = True , right_on = 'modelo', how='outer').drop(columns='cv_report')\n",
        "  return cv_log_i"
      ]
    },
    {
      "cell_type": "markdown",
      "metadata": {
        "id": "Olv5yCORwFSD"
      },
      "source": [
        "# Teste com Modelos"
      ]
    },
    {
      "cell_type": "code",
      "execution_count": 29,
      "metadata": {
        "id": "wq87vRPhv1Rl"
      },
      "outputs": [],
      "source": [
        "logs = pd.DataFrame()"
      ]
    },
    {
      "cell_type": "markdown",
      "metadata": {
        "id": "7t7YCGZUyyzg"
      },
      "source": [
        "Regressão Logística"
      ]
    },
    {
      "cell_type": "code",
      "execution_count": null,
      "metadata": {
        "colab": {
          "base_uri": "https://localhost:8080/"
        },
        "id": "8TCd4vHtWJAR",
        "outputId": "7e6d4462-a4cb-4dfe-967a-ca4395f4453d"
      },
      "outputs": [
        {
          "output_type": "stream",
          "name": "stdout",
          "text": [
            "Pipeline de testes para o modelo: Regressão Logística Multinomial Passo Fixo\n",
            "Execução em: 22/01/2023 11:09:19\n",
            "====================================================================\n",
            "iteração:1\n",
            "Testando parametros:\n",
            " alpha:[ 0.1] theta:[ 0.001]\n",
            "====================================================================\n",
            "cross-validation: 0\n",
            "it:10000, norm_grad:0.0016538544850059039, J:0.00290319037373389\n",
            "it:16853, norm_grad:0.0009999512844755894, J:0.0017707898801920035\n",
            "acc - tr:1.00 val:0.96 tst:0.93\n",
            "cross-validation: 1\n",
            "it:10000, norm_grad:0.0016534986313441588, J:0.002891819203971994\n",
            "it:16835, norm_grad:0.0009999974243879363, J:0.0017625348318636\n",
            "acc - tr:1.00 val:0.95 tst:0.97\n",
            "cross-validation: 2\n",
            "it:10000, norm_grad:0.0016293989989042523, J:0.0028224724096144152\n",
            "it:16600, norm_grad:0.0009999678760144871, J:0.0017481426439462046\n",
            "acc - tr:1.00 val:0.88 tst:0.96\n",
            "cross-validation: 3\n",
            "it:10000, norm_grad:0.001625427260858931, J:0.002808125309307054\n",
            "it:16574, norm_grad:0.0009999515027268532, J:0.0017404896234578205\n",
            "acc - tr:1.00 val:0.89 tst:0.94\n",
            "cross-validation: 4\n",
            "it:10000, norm_grad:0.0016190834227780729, J:0.0028031248406569314\n",
            "it:16528, norm_grad:0.0009999630147980911, J:0.0017473010229281873\n",
            "acc - tr:1.00 val:0.86 tst:0.88\n",
            "it:10000, norm_grad:0.0016290078779954557, J:0.002949534501230154\n",
            "it:16829, norm_grad:0.000999995656895773, J:0.0018391217515443526\n",
            "Melhor acurácia no validação obtida com os parametros alpha:[ 0.1] theta:[ 0.001]. Treino final: 1.0000 Teste:0.9667\n",
            "Fim da Execução: 22/01/2023 11:11:35\n"
          ]
        }
      ],
      "source": [
        "modelo = 'Regressão Logística Multinomial Passo Fixo'\n",
        "\n",
        "log = pipeline_integrated_onedim(nome_do_modelo=modelo, \n",
        "                          classifier= Multinomial_LogReg.MultinomialLogReg(),\n",
        "                          param_iteracao= {'alpha':[0.1]},\n",
        "                          param_fixo=['theta',0.001],\n",
        "                          data={'X_train':X_train_pca, 'X_test':X_test_pca, 'y_train':y_train_n, 'y_test':y_test_n} )\n",
        "\n",
        "log_df = dictlog_to_flat_table(log)\n",
        "logs = logs.append(log_df,ignore_index=True)"
      ]
    },
    {
      "cell_type": "code",
      "execution_count": null,
      "metadata": {
        "id": "pyFaR2riwYtz",
        "colab": {
          "base_uri": "https://localhost:8080/"
        },
        "outputId": "83273955-c02c-4a8e-e3c2-0cbe0386e5d8"
      },
      "outputs": [
        {
          "output_type": "stream",
          "name": "stdout",
          "text": [
            "Pipeline de testes para o modelo: Regressão Logística Multinomial com Bisseção\n",
            "Execução em: 22/01/2023 11:11:35\n",
            "====================================================================\n",
            "iteração:1\n",
            "Testando parametros:\n",
            " itmax_bissec:[ 5] theta:[ 0.001]\n",
            "====================================================================\n",
            "cross-validation: 0\n",
            "iteracao: 0 norm_grad: 192.62317942012646\n",
            "it:20, norm_grad:0.0007007319536794986, J:0.0007063299141097338, alpha_b:1913.9764416563207, hl:6.203208226266824e-07\n",
            "acc - tr:1.00 val:1.00 tst:0.93\n",
            "cross-validation: 1\n",
            "iteracao: 0 norm_grad: 190.99242280237144\n",
            "it:8, norm_grad:0.0006459958483841023, J:0.00047031892848047475, alpha_b:1180.3180129195357, hl:9.196486127499416e-07\n",
            "acc - tr:1.00 val:0.95 tst:0.97\n",
            "cross-validation: 2\n",
            "iteracao: 0 norm_grad: 191.84158463953585\n",
            "it:13, norm_grad:0.0008058417545094969, J:0.0008536606475351204, alpha_b:1340.5056870526328, hl:2.3345096210840324e-07\n",
            "acc - tr:1.00 val:0.89 tst:0.95\n",
            "cross-validation: 3\n",
            "iteracao: 0 norm_grad: 191.3348227937747\n",
            "it:4, norm_grad:0.0004175370002849457, J:0.00024803031123102825, alpha_b:498.0646156341653, hl:8.136806389695783e-08\n",
            "acc - tr:1.00 val:0.93 tst:0.93\n",
            "cross-validation: 4\n",
            "iteracao: 0 norm_grad: 192.1277439729889\n",
            "it:23, norm_grad:0.0007043618726738792, J:0.0009909624514581037, alpha_b:679.4877559221528, hl:2.0615068890229702e-06\n",
            "acc - tr:1.00 val:0.86 tst:0.92\n",
            "Execução em: 22/01/2023 11:11:37\n",
            "====================================================================\n",
            "iteração:2\n",
            "Testando parametros:\n",
            " itmax_bissec:[ 20] theta:[ 0.001]\n",
            "====================================================================\n",
            "cross-validation: 0\n",
            "iteracao: 0 norm_grad: 191.13146236147836\n",
            "it:15, norm_grad:0.0004221435866144064, J:0.0004899963055640137, alpha_b:754.8773377678558, hl:2.0702295731134166e-06\n",
            "acc - tr:1.00 val:0.96 tst:0.93\n",
            "cross-validation: 1\n",
            "iteracao: 0 norm_grad: 194.58115992707738\n",
            "it:21, norm_grad:0.0008797016464957447, J:0.0008647796119680952, alpha_b:346.27965385198434, hl:6.322213857852519e-07\n",
            "acc - tr:1.00 val:0.95 tst:0.97\n",
            "cross-validation: 2\n",
            "iteracao: 0 norm_grad: 193.23738164245955\n",
            "it:3, norm_grad:5.736938752769436e-05, J:1.140597602162467e-05, alpha_b:647.2770995498098, hl:2.6483789076798035e-08\n",
            "acc - tr:1.00 val:0.95 tst:0.94\n",
            "cross-validation: 3\n",
            "iteracao: 0 norm_grad: 193.88567547376994\n",
            "it:1, norm_grad:nan, J:nan, alpha_b:3.8397335335316756, hl:nan\n",
            "acc - tr:1.00 val:0.79 tst:0.90\n",
            "cross-validation: 4\n",
            "iteracao: 0 norm_grad: 195.10199655268255\n",
            "it:10, norm_grad:0.0009269997766185276, J:0.001025858634756976, alpha_b:168.35834728059612, hl:3.819313714225813e-06\n",
            "acc - tr:1.00 val:0.86 tst:0.92\n",
            "iteracao: 0 norm_grad: 232.56317867373798\n",
            "it:1, norm_grad:nan, J:nan, alpha_b:3.246415786749255, hl:nan\n",
            "Melhor acurácia no validação obtida com os parametros itmax_bissec:[ 5] theta:[ 0.001]. Treino final: 1.0000 Teste:0.9667\n",
            "Fim da Execução: 22/01/2023 11:11:38\n"
          ]
        }
      ],
      "source": [
        "modelo = 'Regressão Logística Multinomial com Bisseção'\n",
        "\n",
        "log = pipeline_integrated_onedim(nome_do_modelo=modelo, \n",
        "                          classifier= Multinomial_LogReg.MultinomialLogReg_bissecao(),\n",
        "                          param_iteracao= {'itmax_bissec':[5, 20]},\n",
        "                          param_fixo=['theta',0.001],\n",
        "                          data={'X_train':X_train_pca, 'X_test':X_test_pca, 'y_train':y_train_n, 'y_test':y_test_n} )\n",
        "\n",
        "log_df = dictlog_to_flat_table(log)\n",
        "logs = logs.append(log_df,ignore_index=True)"
      ]
    },
    {
      "cell_type": "markdown",
      "metadata": {
        "id": "j50V1Z33zHM0"
      },
      "source": [
        "# SVM"
      ]
    },
    {
      "cell_type": "code",
      "execution_count": null,
      "metadata": {
        "id": "46TpRSsKzJgB",
        "colab": {
          "base_uri": "https://localhost:8080/"
        },
        "outputId": "1caecfa6-a017-431f-abe6-260b9cd6573d"
      },
      "outputs": [
        {
          "output_type": "stream",
          "name": "stdout",
          "text": [
            "Pipeline de testes para o modelo: SVM Classificador Kernel RBF C=1\n",
            "Execução em: 22/01/2023 11:13:21\n",
            "====================================================================\n",
            "iteração:1\n",
            "Testando parametros:\n",
            " sigma:[ 0.001] C:[ 1]\n",
            "====================================================================\n",
            "cross-validation: 0\n"
          ]
        },
        {
          "output_type": "stream",
          "name": "stderr",
          "text": [
            "100%|██████████| 40/40 [00:02<00:00, 18.60it/s]\n"
          ]
        },
        {
          "output_type": "stream",
          "name": "stdout",
          "text": [
            "acc - tr:1.00 val:0.02 tst:0.03\n",
            "cross-validation: 1\n"
          ]
        },
        {
          "output_type": "stream",
          "name": "stderr",
          "text": [
            "100%|██████████| 40/40 [00:02<00:00, 18.19it/s]\n"
          ]
        },
        {
          "output_type": "stream",
          "name": "stdout",
          "text": [
            "acc - tr:1.00 val:0.04 tst:0.03\n",
            "cross-validation: 2\n"
          ]
        },
        {
          "output_type": "stream",
          "name": "stderr",
          "text": [
            "100%|██████████| 40/40 [00:02<00:00, 19.16it/s]\n"
          ]
        },
        {
          "output_type": "stream",
          "name": "stdout",
          "text": [
            "acc - tr:1.00 val:0.04 tst:0.03\n",
            "cross-validation: 3\n"
          ]
        },
        {
          "output_type": "stream",
          "name": "stderr",
          "text": [
            "100%|██████████| 40/40 [00:02<00:00, 17.49it/s]\n"
          ]
        },
        {
          "output_type": "stream",
          "name": "stdout",
          "text": [
            "acc - tr:1.00 val:0.00 tst:0.03\n",
            "cross-validation: 4\n"
          ]
        },
        {
          "output_type": "stream",
          "name": "stderr",
          "text": [
            "100%|██████████| 40/40 [00:02<00:00, 18.25it/s]\n"
          ]
        },
        {
          "output_type": "stream",
          "name": "stdout",
          "text": [
            "acc - tr:1.00 val:0.04 tst:0.03\n",
            "Execução em: 22/01/2023 11:14:23\n",
            "====================================================================\n",
            "iteração:2\n",
            "Testando parametros:\n",
            " sigma:[ 0.01] C:[ 1]\n",
            "====================================================================\n",
            "cross-validation: 0\n"
          ]
        },
        {
          "output_type": "stream",
          "name": "stderr",
          "text": [
            "100%|██████████| 40/40 [00:02<00:00, 18.66it/s]\n"
          ]
        },
        {
          "output_type": "stream",
          "name": "stdout",
          "text": [
            "acc - tr:1.00 val:0.02 tst:0.03\n",
            "cross-validation: 1\n"
          ]
        },
        {
          "output_type": "stream",
          "name": "stderr",
          "text": [
            "100%|██████████| 40/40 [00:02<00:00, 18.69it/s]\n"
          ]
        },
        {
          "output_type": "stream",
          "name": "stdout",
          "text": [
            "acc - tr:1.00 val:0.04 tst:0.03\n",
            "cross-validation: 2\n"
          ]
        },
        {
          "output_type": "stream",
          "name": "stderr",
          "text": [
            "100%|██████████| 40/40 [00:02<00:00, 18.64it/s]\n"
          ]
        },
        {
          "output_type": "stream",
          "name": "stdout",
          "text": [
            "acc - tr:1.00 val:0.04 tst:0.03\n",
            "cross-validation: 3\n"
          ]
        },
        {
          "output_type": "stream",
          "name": "stderr",
          "text": [
            "100%|██████████| 40/40 [00:02<00:00, 18.47it/s]\n"
          ]
        },
        {
          "output_type": "stream",
          "name": "stdout",
          "text": [
            "acc - tr:1.00 val:0.00 tst:0.03\n",
            "cross-validation: 4\n"
          ]
        },
        {
          "output_type": "stream",
          "name": "stderr",
          "text": [
            "100%|██████████| 40/40 [00:02<00:00, 16.44it/s]\n"
          ]
        },
        {
          "output_type": "stream",
          "name": "stdout",
          "text": [
            "acc - tr:1.00 val:0.04 tst:0.03\n",
            "Execução em: 22/01/2023 11:15:24\n",
            "====================================================================\n",
            "iteração:3\n",
            "Testando parametros:\n",
            " sigma:[ 0.1] C:[ 1]\n",
            "====================================================================\n",
            "cross-validation: 0\n"
          ]
        },
        {
          "output_type": "stream",
          "name": "stderr",
          "text": [
            "100%|██████████| 40/40 [00:02<00:00, 18.94it/s]\n"
          ]
        },
        {
          "output_type": "stream",
          "name": "stdout",
          "text": [
            "acc - tr:1.00 val:0.25 tst:0.32\n",
            "cross-validation: 1\n"
          ]
        },
        {
          "output_type": "stream",
          "name": "stderr",
          "text": [
            "100%|██████████| 40/40 [00:02<00:00, 18.03it/s]\n"
          ]
        },
        {
          "output_type": "stream",
          "name": "stdout",
          "text": [
            "acc - tr:1.00 val:0.12 tst:0.30\n",
            "cross-validation: 2\n"
          ]
        },
        {
          "output_type": "stream",
          "name": "stderr",
          "text": [
            "100%|██████████| 40/40 [00:02<00:00, 18.01it/s]\n"
          ]
        },
        {
          "output_type": "stream",
          "name": "stdout",
          "text": [
            "acc - tr:1.00 val:0.23 tst:0.29\n",
            "cross-validation: 3\n"
          ]
        },
        {
          "output_type": "stream",
          "name": "stderr",
          "text": [
            "100%|██████████| 40/40 [00:02<00:00, 18.18it/s]\n"
          ]
        },
        {
          "output_type": "stream",
          "name": "stdout",
          "text": [
            "acc - tr:1.00 val:0.21 tst:0.31\n",
            "cross-validation: 4\n"
          ]
        },
        {
          "output_type": "stream",
          "name": "stderr",
          "text": [
            "100%|██████████| 40/40 [00:02<00:00, 17.25it/s]\n"
          ]
        },
        {
          "output_type": "stream",
          "name": "stdout",
          "text": [
            "acc - tr:1.00 val:0.30 tst:0.29\n",
            "Execução em: 22/01/2023 11:16:25\n",
            "====================================================================\n",
            "iteração:4\n",
            "Testando parametros:\n",
            " sigma:[ 1] C:[ 1]\n",
            "====================================================================\n",
            "cross-validation: 0\n"
          ]
        },
        {
          "output_type": "stream",
          "name": "stderr",
          "text": [
            "100%|██████████| 40/40 [00:02<00:00, 18.67it/s]\n"
          ]
        },
        {
          "output_type": "stream",
          "name": "stdout",
          "text": [
            "acc - tr:1.00 val:0.89 tst:0.90\n",
            "cross-validation: 1\n"
          ]
        },
        {
          "output_type": "stream",
          "name": "stderr",
          "text": [
            "100%|██████████| 40/40 [00:02<00:00, 18.53it/s]\n"
          ]
        },
        {
          "output_type": "stream",
          "name": "stdout",
          "text": [
            "acc - tr:1.00 val:0.93 tst:0.93\n",
            "cross-validation: 2\n"
          ]
        },
        {
          "output_type": "stream",
          "name": "stderr",
          "text": [
            "100%|██████████| 40/40 [00:02<00:00, 19.94it/s]\n"
          ]
        },
        {
          "output_type": "stream",
          "name": "stdout",
          "text": [
            "acc - tr:1.00 val:0.88 tst:0.88\n",
            "cross-validation: 3\n"
          ]
        },
        {
          "output_type": "stream",
          "name": "stderr",
          "text": [
            "100%|██████████| 40/40 [00:02<00:00, 19.91it/s]\n"
          ]
        },
        {
          "output_type": "stream",
          "name": "stdout",
          "text": [
            "acc - tr:1.00 val:0.91 tst:0.92\n",
            "cross-validation: 4\n"
          ]
        },
        {
          "output_type": "stream",
          "name": "stderr",
          "text": [
            "100%|██████████| 40/40 [00:02<00:00, 19.04it/s]\n"
          ]
        },
        {
          "output_type": "stream",
          "name": "stdout",
          "text": [
            "acc - tr:1.00 val:0.82 tst:0.87\n"
          ]
        },
        {
          "output_type": "stream",
          "name": "stderr",
          "text": [
            "100%|██████████| 40/40 [00:03<00:00, 12.72it/s]\n"
          ]
        },
        {
          "output_type": "stream",
          "name": "stdout",
          "text": [
            "Melhor acurácia no validação obtida com os parametros sigma:[ 1] C:[ 1]. Treino final: 1.0000 Teste:0.9333\n",
            "Fim da Execução: 22/01/2023 11:17:40\n"
          ]
        }
      ],
      "source": [
        "modelo = 'SVM Classificador Kernel RBF C=1'\n",
        "\n",
        "log = pipeline_integrated_onedim(nome_do_modelo=modelo, \n",
        "                          classifier=  SVM_OVR.SVM_one_vs_all(),\n",
        "                          param_iteracao= {'sigma':[0.001, 0.01, 0.1,1]},\n",
        "                          param_fixo=['C',1],\n",
        "                          data={'X_train':X_train_pca, 'X_test':X_test_pca, 'y_train':y_train_n, 'y_test':y_test_n})\n",
        "\n",
        "log_df = dictlog_to_flat_table(log)\n",
        "logs = logs.append(log_df,ignore_index=True)"
      ]
    },
    {
      "cell_type": "code",
      "execution_count": null,
      "metadata": {
        "id": "2snFIIhe5O2a",
        "colab": {
          "base_uri": "https://localhost:8080/"
        },
        "outputId": "777eca46-1121-4032-c2ad-3d3b1c9122ee"
      },
      "outputs": [
        {
          "output_type": "stream",
          "name": "stdout",
          "text": [
            "Pipeline de testes para o modelo: SVM Classificador Kernel RBF C=100\n",
            "Execução em: 22/01/2023 11:17:40\n",
            "====================================================================\n",
            "iteração:1\n",
            "Testando parametros:\n",
            " sigma:[ 0.001] C:[ 100]\n",
            "====================================================================\n",
            "cross-validation: 0\n"
          ]
        },
        {
          "output_type": "stream",
          "name": "stderr",
          "text": [
            "100%|██████████| 40/40 [00:02<00:00, 18.14it/s]\n"
          ]
        },
        {
          "output_type": "stream",
          "name": "stdout",
          "text": [
            "acc - tr:1.00 val:0.02 tst:0.03\n",
            "cross-validation: 1\n"
          ]
        },
        {
          "output_type": "stream",
          "name": "stderr",
          "text": [
            "100%|██████████| 40/40 [00:02<00:00, 19.03it/s]\n"
          ]
        },
        {
          "output_type": "stream",
          "name": "stdout",
          "text": [
            "acc - tr:1.00 val:0.04 tst:0.03\n",
            "cross-validation: 2\n"
          ]
        },
        {
          "output_type": "stream",
          "name": "stderr",
          "text": [
            "100%|██████████| 40/40 [00:02<00:00, 18.48it/s]\n"
          ]
        },
        {
          "output_type": "stream",
          "name": "stdout",
          "text": [
            "acc - tr:1.00 val:0.04 tst:0.03\n",
            "cross-validation: 3\n"
          ]
        },
        {
          "output_type": "stream",
          "name": "stderr",
          "text": [
            "100%|██████████| 40/40 [00:02<00:00, 18.50it/s]\n"
          ]
        },
        {
          "output_type": "stream",
          "name": "stdout",
          "text": [
            "acc - tr:1.00 val:0.00 tst:0.03\n",
            "cross-validation: 4\n"
          ]
        },
        {
          "output_type": "stream",
          "name": "stderr",
          "text": [
            "100%|██████████| 40/40 [00:02<00:00, 18.87it/s]\n"
          ]
        },
        {
          "output_type": "stream",
          "name": "stdout",
          "text": [
            "acc - tr:1.00 val:0.04 tst:0.03\n",
            "Execução em: 22/01/2023 11:18:40\n",
            "====================================================================\n",
            "iteração:2\n",
            "Testando parametros:\n",
            " sigma:[ 0.1] C:[ 100]\n",
            "====================================================================\n",
            "cross-validation: 0\n"
          ]
        },
        {
          "output_type": "stream",
          "name": "stderr",
          "text": [
            "100%|██████████| 40/40 [00:02<00:00, 19.32it/s]\n"
          ]
        },
        {
          "output_type": "stream",
          "name": "stdout",
          "text": [
            "acc - tr:1.00 val:0.25 tst:0.32\n",
            "cross-validation: 1\n"
          ]
        },
        {
          "output_type": "stream",
          "name": "stderr",
          "text": [
            "100%|██████████| 40/40 [00:02<00:00, 18.03it/s]\n"
          ]
        },
        {
          "output_type": "stream",
          "name": "stdout",
          "text": [
            "acc - tr:1.00 val:0.12 tst:0.30\n",
            "cross-validation: 2\n"
          ]
        },
        {
          "output_type": "stream",
          "name": "stderr",
          "text": [
            "100%|██████████| 40/40 [00:02<00:00, 18.99it/s]\n"
          ]
        },
        {
          "output_type": "stream",
          "name": "stdout",
          "text": [
            "acc - tr:1.00 val:0.23 tst:0.29\n",
            "cross-validation: 3\n"
          ]
        },
        {
          "output_type": "stream",
          "name": "stderr",
          "text": [
            "100%|██████████| 40/40 [00:02<00:00, 18.18it/s]\n"
          ]
        },
        {
          "output_type": "stream",
          "name": "stdout",
          "text": [
            "acc - tr:1.00 val:0.21 tst:0.31\n",
            "cross-validation: 4\n"
          ]
        },
        {
          "output_type": "stream",
          "name": "stderr",
          "text": [
            "100%|██████████| 40/40 [00:02<00:00, 18.81it/s]\n"
          ]
        },
        {
          "output_type": "stream",
          "name": "stdout",
          "text": [
            "acc - tr:1.00 val:0.30 tst:0.29\n",
            "Execução em: 22/01/2023 11:19:40\n",
            "====================================================================\n",
            "iteração:3\n",
            "Testando parametros:\n",
            " sigma:[ 1] C:[ 100]\n",
            "====================================================================\n",
            "cross-validation: 0\n"
          ]
        },
        {
          "output_type": "stream",
          "name": "stderr",
          "text": [
            "100%|██████████| 40/40 [00:02<00:00, 18.98it/s]\n"
          ]
        },
        {
          "output_type": "stream",
          "name": "stdout",
          "text": [
            "acc - tr:1.00 val:0.89 tst:0.90\n",
            "cross-validation: 1\n"
          ]
        },
        {
          "output_type": "stream",
          "name": "stderr",
          "text": [
            "100%|██████████| 40/40 [00:02<00:00, 19.59it/s]\n"
          ]
        },
        {
          "output_type": "stream",
          "name": "stdout",
          "text": [
            "acc - tr:1.00 val:0.93 tst:0.93\n",
            "cross-validation: 2\n"
          ]
        },
        {
          "output_type": "stream",
          "name": "stderr",
          "text": [
            "100%|██████████| 40/40 [00:02<00:00, 18.89it/s]\n"
          ]
        },
        {
          "output_type": "stream",
          "name": "stdout",
          "text": [
            "acc - tr:1.00 val:0.88 tst:0.88\n",
            "cross-validation: 3\n"
          ]
        },
        {
          "output_type": "stream",
          "name": "stderr",
          "text": [
            "100%|██████████| 40/40 [00:02<00:00, 18.85it/s]\n"
          ]
        },
        {
          "output_type": "stream",
          "name": "stdout",
          "text": [
            "acc - tr:1.00 val:0.91 tst:0.92\n",
            "cross-validation: 4\n"
          ]
        },
        {
          "output_type": "stream",
          "name": "stderr",
          "text": [
            "100%|██████████| 40/40 [00:02<00:00, 18.44it/s]\n"
          ]
        },
        {
          "output_type": "stream",
          "name": "stdout",
          "text": [
            "acc - tr:1.00 val:0.82 tst:0.87\n"
          ]
        },
        {
          "output_type": "stream",
          "name": "stderr",
          "text": [
            "100%|██████████| 40/40 [00:02<00:00, 13.44it/s]\n"
          ]
        },
        {
          "output_type": "stream",
          "name": "stdout",
          "text": [
            "Melhor acurácia no validação obtida com os parametros sigma:[ 1] C:[ 100]. Treino final: 1.0000 Teste:0.9333\n",
            "Fim da Execução: 22/01/2023 11:20:54\n"
          ]
        }
      ],
      "source": [
        "modelo = 'SVM Classificador Kernel RBF C=100'\n",
        "\n",
        "log = pipeline_integrated_onedim(nome_do_modelo=modelo, \n",
        "                          classifier=  SVM_OVR.SVM_one_vs_all(),\n",
        "                          param_iteracao= {'sigma':[0.001, 0.1,1]},\n",
        "                          param_fixo=['C',100],\n",
        "                          data={'X_train':X_train_pca, 'X_test':X_test_pca, 'y_train':y_train_n, 'y_test':y_test_n})\n",
        "\n",
        "log_df = dictlog_to_flat_table(log)\n",
        "logs = logs.append(log_df)"
      ]
    },
    {
      "cell_type": "code",
      "source": [
        "modelo = 'SVM Classificador Kernel RBF C=1000'\n",
        "\n",
        "log = pipeline_integrated_onedim(nome_do_modelo=modelo, \n",
        "                          classifier=  SVM_OVR.SVM_one_vs_all(),\n",
        "                          param_iteracao= {'sigma':[0.001, 0.1,1]},\n",
        "                          param_fixo=['C',1000],\n",
        "                          data={'X_train':X_train_pca, 'X_test':X_test_pca, 'y_train':y_train_n, 'y_test':y_test_n})\n",
        "\n",
        "log_df = dictlog_to_flat_table(log)\n",
        "logs = logs.append(log_df)"
      ],
      "metadata": {
        "colab": {
          "base_uri": "https://localhost:8080/"
        },
        "id": "69HXLqjtqmRM",
        "outputId": "8fa038ac-aaab-438a-f155-d59e061f0834"
      },
      "execution_count": null,
      "outputs": [
        {
          "output_type": "stream",
          "name": "stdout",
          "text": [
            "Pipeline de testes para o modelo: SVM Classificador Kernel RBF C=1000\n",
            "Execução em: 22/01/2023 11:20:54\n",
            "====================================================================\n",
            "iteração:1\n",
            "Testando parametros:\n",
            " sigma:[ 0.001] C:[ 1000]\n",
            "====================================================================\n",
            "cross-validation: 0\n"
          ]
        },
        {
          "output_type": "stream",
          "name": "stderr",
          "text": [
            "100%|██████████| 40/40 [00:02<00:00, 17.67it/s]\n"
          ]
        },
        {
          "output_type": "stream",
          "name": "stdout",
          "text": [
            "acc - tr:1.00 val:0.02 tst:0.03\n",
            "cross-validation: 1\n"
          ]
        },
        {
          "output_type": "stream",
          "name": "stderr",
          "text": [
            "100%|██████████| 40/40 [00:02<00:00, 17.98it/s]\n"
          ]
        },
        {
          "output_type": "stream",
          "name": "stdout",
          "text": [
            "acc - tr:1.00 val:0.04 tst:0.03\n",
            "cross-validation: 2\n"
          ]
        },
        {
          "output_type": "stream",
          "name": "stderr",
          "text": [
            "100%|██████████| 40/40 [00:02<00:00, 18.61it/s]\n"
          ]
        },
        {
          "output_type": "stream",
          "name": "stdout",
          "text": [
            "acc - tr:1.00 val:0.04 tst:0.03\n",
            "cross-validation: 3\n"
          ]
        },
        {
          "output_type": "stream",
          "name": "stderr",
          "text": [
            "100%|██████████| 40/40 [00:02<00:00, 17.45it/s]\n"
          ]
        },
        {
          "output_type": "stream",
          "name": "stdout",
          "text": [
            "acc - tr:1.00 val:0.00 tst:0.03\n",
            "cross-validation: 4\n"
          ]
        },
        {
          "output_type": "stream",
          "name": "stderr",
          "text": [
            "100%|██████████| 40/40 [00:02<00:00, 17.82it/s]\n"
          ]
        },
        {
          "output_type": "stream",
          "name": "stdout",
          "text": [
            "acc - tr:1.00 val:0.04 tst:0.03\n",
            "Execução em: 22/01/2023 11:21:55\n",
            "====================================================================\n",
            "iteração:2\n",
            "Testando parametros:\n",
            " sigma:[ 0.1] C:[ 1000]\n",
            "====================================================================\n",
            "cross-validation: 0\n"
          ]
        },
        {
          "output_type": "stream",
          "name": "stderr",
          "text": [
            "100%|██████████| 40/40 [00:02<00:00, 17.86it/s]\n"
          ]
        },
        {
          "output_type": "stream",
          "name": "stdout",
          "text": [
            "acc - tr:1.00 val:0.25 tst:0.32\n",
            "cross-validation: 1\n"
          ]
        },
        {
          "output_type": "stream",
          "name": "stderr",
          "text": [
            "100%|██████████| 40/40 [00:02<00:00, 17.63it/s]\n"
          ]
        },
        {
          "output_type": "stream",
          "name": "stdout",
          "text": [
            "acc - tr:1.00 val:0.12 tst:0.30\n",
            "cross-validation: 2\n"
          ]
        },
        {
          "output_type": "stream",
          "name": "stderr",
          "text": [
            "100%|██████████| 40/40 [00:02<00:00, 18.16it/s]\n"
          ]
        },
        {
          "output_type": "stream",
          "name": "stdout",
          "text": [
            "acc - tr:1.00 val:0.23 tst:0.29\n",
            "cross-validation: 3\n"
          ]
        },
        {
          "output_type": "stream",
          "name": "stderr",
          "text": [
            "100%|██████████| 40/40 [00:02<00:00, 18.02it/s]\n"
          ]
        },
        {
          "output_type": "stream",
          "name": "stdout",
          "text": [
            "acc - tr:1.00 val:0.21 tst:0.31\n",
            "cross-validation: 4\n"
          ]
        },
        {
          "output_type": "stream",
          "name": "stderr",
          "text": [
            "100%|██████████| 40/40 [00:02<00:00, 18.23it/s]\n"
          ]
        },
        {
          "output_type": "stream",
          "name": "stdout",
          "text": [
            "acc - tr:1.00 val:0.30 tst:0.29\n",
            "Execução em: 22/01/2023 11:22:55\n",
            "====================================================================\n",
            "iteração:3\n",
            "Testando parametros:\n",
            " sigma:[ 1] C:[ 1000]\n",
            "====================================================================\n",
            "cross-validation: 0\n"
          ]
        },
        {
          "output_type": "stream",
          "name": "stderr",
          "text": [
            "100%|██████████| 40/40 [00:02<00:00, 17.73it/s]\n"
          ]
        },
        {
          "output_type": "stream",
          "name": "stdout",
          "text": [
            "acc - tr:1.00 val:0.89 tst:0.90\n",
            "cross-validation: 1\n"
          ]
        },
        {
          "output_type": "stream",
          "name": "stderr",
          "text": [
            "100%|██████████| 40/40 [00:02<00:00, 18.19it/s]\n"
          ]
        },
        {
          "output_type": "stream",
          "name": "stdout",
          "text": [
            "acc - tr:1.00 val:0.93 tst:0.93\n",
            "cross-validation: 2\n"
          ]
        },
        {
          "output_type": "stream",
          "name": "stderr",
          "text": [
            "100%|██████████| 40/40 [00:02<00:00, 18.13it/s]\n"
          ]
        },
        {
          "output_type": "stream",
          "name": "stdout",
          "text": [
            "acc - tr:1.00 val:0.88 tst:0.88\n",
            "cross-validation: 3\n"
          ]
        },
        {
          "output_type": "stream",
          "name": "stderr",
          "text": [
            "100%|██████████| 40/40 [00:02<00:00, 18.02it/s]\n"
          ]
        },
        {
          "output_type": "stream",
          "name": "stdout",
          "text": [
            "acc - tr:1.00 val:0.91 tst:0.92\n",
            "cross-validation: 4\n"
          ]
        },
        {
          "output_type": "stream",
          "name": "stderr",
          "text": [
            "100%|██████████| 40/40 [00:02<00:00, 18.19it/s]\n"
          ]
        },
        {
          "output_type": "stream",
          "name": "stdout",
          "text": [
            "acc - tr:1.00 val:0.82 tst:0.87\n"
          ]
        },
        {
          "output_type": "stream",
          "name": "stderr",
          "text": [
            "100%|██████████| 40/40 [00:03<00:00, 12.85it/s]\n"
          ]
        },
        {
          "output_type": "stream",
          "name": "stdout",
          "text": [
            "Melhor acurácia no validação obtida com os parametros sigma:[ 1] C:[ 1000]. Treino final: 1.0000 Teste:0.9333\n",
            "Fim da Execução: 22/01/2023 11:24:09\n"
          ]
        }
      ]
    },
    {
      "cell_type": "markdown",
      "metadata": {
        "id": "x2EcgwPG6R0V"
      },
      "source": [
        "# MLP"
      ]
    },
    {
      "cell_type": "code",
      "execution_count": 30,
      "metadata": {
        "id": "tl_AuVKW6UEs",
        "colab": {
          "base_uri": "https://localhost:8080/"
        },
        "outputId": "0db4eec1-edf8-418f-c45a-2c0394d64b8a"
      },
      "outputs": [
        {
          "output_type": "stream",
          "name": "stdout",
          "text": [
            "Pipeline de testes para o modelo: MultiLayer Perceptron alpha 0.1\n",
            "Execução em: 22/01/2023 17:44:41\n",
            "====================================================================\n",
            "iteração:1\n",
            "Testando parametros:\n",
            " h:[ 10] alpha:[ 0.1]\n",
            "====================================================================\n",
            "cross-validation: 0\n",
            "nep: 10000 EQM: 25.364258365128933 EQM_val: 0.9676410829132254 norm: 0.011544032811796768\n",
            "nep: 20000 EQM: 25.364258365128933 EQM_val: 0.8530650479719201 norm: 0.008623878674826564\n",
            "nep: 30000 EQM: 25.364258365128933 EQM_val: 0.8050279189297775 norm: 0.007003932691977771\n",
            "nep: 40000 EQM: 25.364258365128933 EQM_val: 0.734543190061105 norm: 0.006877476469664431\n",
            "nep: 50000 EQM: 25.364258365128933 EQM_val: 0.6899395445803274 norm: 0.005104149509293788\n",
            "Convergência em 50000 epochs\n",
            "acc - tr:0.74 val:0.45 tst:0.56\n",
            "cross-validation: 1\n",
            "nep: 10000 EQM: 25.65522322781402 EQM_val: 0.9483398594562674 norm: 0.013046890359992448\n",
            "nep: 20000 EQM: 25.65522322781402 EQM_val: 0.8412778688035684 norm: 0.008770511775905852\n",
            "nep: 30000 EQM: 25.65522322781402 EQM_val: 0.7882389877378676 norm: 0.005236256592502577\n",
            "nep: 40000 EQM: 25.65522322781402 EQM_val: 0.7503646143145445 norm: 0.005856363012570413\n",
            "nep: 50000 EQM: 25.65522322781402 EQM_val: 0.7217749400209333 norm: 0.006598638767908597\n",
            "Convergência em 50000 epochs\n",
            "acc - tr:0.75 val:0.43 tst:0.61\n",
            "cross-validation: 2\n",
            "nep: 10000 EQM: 25.696232097373727 EQM_val: 0.9391425795127287 norm: 0.009868772659578398\n",
            "nep: 20000 EQM: 25.696232097373727 EQM_val: 0.8336920569443287 norm: 0.0066683418773760385\n",
            "nep: 30000 EQM: 25.696232097373727 EQM_val: 0.7855518666030574 norm: 0.008147647030561762\n",
            "nep: 40000 EQM: 25.696232097373727 EQM_val: 0.7104513784614055 norm: 0.007441078301465906\n",
            "nep: 50000 EQM: 25.696232097373727 EQM_val: 0.6641304297612429 norm: 0.007269821265028803\n",
            "Convergência em 50000 epochs\n",
            "acc - tr:0.72 val:0.52 tst:0.60\n",
            "cross-validation: 3\n",
            "nep: 10000 EQM: 26.615668043444483 EQM_val: 0.9471745786230503 norm: 0.009324216376907337\n",
            "nep: 20000 EQM: 26.615668043444483 EQM_val: 0.842107806017936 norm: 0.008181420774720656\n",
            "nep: 30000 EQM: 26.615668043444483 EQM_val: 0.7751177656029132 norm: 0.007263805749376436\n",
            "nep: 40000 EQM: 26.615668043444483 EQM_val: 0.7348388552134987 norm: 0.006376702651377522\n",
            "nep: 50000 EQM: 26.615668043444483 EQM_val: 0.6973512754069733 norm: 0.005906881539537436\n",
            "Convergência em 50000 epochs\n",
            "acc - tr:0.74 val:0.45 tst:0.60\n",
            "cross-validation: 4\n",
            "nep: 10000 EQM: 26.071049143177152 EQM_val: 0.9278306300131979 norm: 0.01002360985392539\n",
            "nep: 20000 EQM: 26.071049143177152 EQM_val: 0.8539873540281757 norm: 0.011013384923338991\n",
            "nep: 30000 EQM: 26.071049143177152 EQM_val: 0.7572329122629698 norm: 0.007241053696773718\n",
            "nep: 40000 EQM: 26.071049143177152 EQM_val: 0.7057327805223595 norm: 0.00498311863744248\n",
            "nep: 50000 EQM: 26.071049143177152 EQM_val: 0.6671479763302697 norm: 0.004633319549761971\n",
            "Convergência em 50000 epochs\n",
            "acc - tr:0.71 val:0.46 tst:0.53\n",
            "Execução em: 22/01/2023 17:47:51\n",
            "====================================================================\n",
            "iteração:2\n",
            "Testando parametros:\n",
            " h:[ 25] alpha:[ 0.1]\n",
            "====================================================================\n",
            "cross-validation: 0\n",
            "nep: 10000 EQM: 33.79975756804602 EQM_val: 0.8544217536805964 norm: 0.013521107848372365\n",
            "nep: 20000 EQM: 33.79975756804602 EQM_val: 0.6457683410214813 norm: 0.009337889153510885\n",
            "nep: 30000 EQM: 33.79975756804602 EQM_val: 0.5715469850908902 norm: 0.007065598581183001\n",
            "nep: 40000 EQM: 33.79975756804602 EQM_val: 0.48198570604445745 norm: 0.005104545221538664\n",
            "nep: 50000 EQM: 33.79975756804602 EQM_val: 0.39347896964818396 norm: 0.0044660099786819505\n",
            "Convergência em 50000 epochs\n",
            "acc - tr:0.93 val:0.80 tst:0.80\n",
            "cross-validation: 1\n",
            "nep: 10000 EQM: 33.7230319395555 EQM_val: 0.8499354171457829 norm: 0.013485213683843787\n",
            "nep: 20000 EQM: 33.7230319395555 EQM_val: 0.6591391357698405 norm: 0.007731687984174747\n",
            "nep: 30000 EQM: 33.7230319395555 EQM_val: 0.5498515030545196 norm: 0.006504462135046449\n",
            "nep: 40000 EQM: 33.7230319395555 EQM_val: 0.4674332639319148 norm: 0.006728419068991041\n",
            "nep: 50000 EQM: 33.7230319395555 EQM_val: 0.379258785858044 norm: 0.0036383449812210176\n",
            "Convergência em 50000 epochs\n",
            "acc - tr:0.94 val:0.82 tst:0.82\n",
            "cross-validation: 2\n",
            "nep: 10000 EQM: 34.017715311205144 EQM_val: 0.8153661268362404 norm: 0.014236546600257804\n",
            "nep: 20000 EQM: 34.017715311205144 EQM_val: 0.5409567716014236 norm: 0.008293826202687817\n",
            "nep: 30000 EQM: 34.017715311205144 EQM_val: 0.4228510381853147 norm: 0.007738576372157196\n",
            "nep: 40000 EQM: 34.017715311205144 EQM_val: 0.3535113584095523 norm: 0.005456730853563546\n",
            "nep: 50000 EQM: 34.017715311205144 EQM_val: 0.30525064597295265 norm: 0.0028809960548890476\n",
            "Convergência em 50000 epochs\n",
            "acc - tr:0.98 val:0.86 tst:0.87\n",
            "cross-validation: 3\n",
            "nep: 10000 EQM: 33.717566497783444 EQM_val: 0.8485555374068028 norm: 0.014982939950292026\n",
            "nep: 20000 EQM: 33.717566497783444 EQM_val: 0.6526684791798595 norm: 0.008723984670206875\n",
            "nep: 30000 EQM: 33.717566497783444 EQM_val: 0.533218739811183 norm: 0.006310633960086121\n",
            "nep: 40000 EQM: 33.717566497783444 EQM_val: 0.4292124500981464 norm: 0.006588438134892987\n",
            "nep: 50000 EQM: 33.717566497783444 EQM_val: 0.3745566149638494 norm: 0.00242954626086562\n",
            "Convergência em 50000 epochs\n",
            "acc - tr:0.94 val:0.79 tst:0.84\n",
            "cross-validation: 4\n",
            "nep: 10000 EQM: 33.72648071130952 EQM_val: 0.805858470297928 norm: 0.013939743214223537\n",
            "nep: 20000 EQM: 33.72648071130952 EQM_val: 0.5663301734761396 norm: 0.011527956851803156\n",
            "nep: 30000 EQM: 33.72648071130952 EQM_val: 0.4155327766472229 norm: 0.00776602677213034\n",
            "nep: 40000 EQM: 33.72648071130952 EQM_val: 0.3258719062706124 norm: 0.004512229947573403\n",
            "nep: 50000 EQM: 33.72648071130952 EQM_val: 0.30467034745340804 norm: 0.002131931392284182\n",
            "Convergência em 50000 epochs\n",
            "acc - tr:0.96 val:0.80 tst:0.83\n",
            "Execução em: 22/01/2023 17:55:10\n",
            "====================================================================\n",
            "iteração:3\n",
            "Testando parametros:\n",
            " h:[ 50] alpha:[ 0.1]\n",
            "====================================================================\n",
            "cross-validation: 0\n",
            "nep: 10000 EQM: 36.8183724936614 EQM_val: 0.8058118856151945 norm: 0.01612777338343882\n",
            "nep: 20000 EQM: 36.8183724936614 EQM_val: 0.5562978543528803 norm: 0.007621873887669383\n",
            "nep: 30000 EQM: 36.8183724936614 EQM_val: 0.4469363953573258 norm: 0.005016533090114021\n",
            "nep: 40000 EQM: 36.8183724936614 EQM_val: 0.3734084928266911 norm: 0.004151432796109853\n",
            "nep: 50000 EQM: 36.8183724936614 EQM_val: 0.30402975025591766 norm: 0.002321278114564602\n",
            "Convergência em 50000 epochs\n",
            "acc - tr:0.94 val:0.84 tst:0.88\n",
            "cross-validation: 1\n",
            "nep: 10000 EQM: 37.000695345980596 EQM_val: 0.7971669245733296 norm: 0.015359484629228544\n",
            "nep: 20000 EQM: 37.000695345980596 EQM_val: 0.5511572104553004 norm: 0.008604841982280412\n",
            "nep: 30000 EQM: 37.000695345980596 EQM_val: 0.4642942535414917 norm: 0.005352268173418111\n",
            "nep: 40000 EQM: 37.000695345980596 EQM_val: 0.40277317321301914 norm: 0.002678952955721946\n",
            "nep: 50000 EQM: 37.000695345980596 EQM_val: 0.3464171636718681 norm: 0.004302950348879446\n",
            "Convergência em 50000 epochs\n",
            "acc - tr:0.96 val:0.82 tst:0.88\n",
            "cross-validation: 2\n",
            "nep: 10000 EQM: 37.34362555572758 EQM_val: 0.7055812786376104 norm: 0.014613546723279407\n",
            "nep: 20000 EQM: 37.34362555572758 EQM_val: 0.48761370800714443 norm: 0.008174756100934334\n",
            "nep: 30000 EQM: 37.34362555572758 EQM_val: 0.43177780844109354 norm: 0.004916124834317728\n",
            "nep: 40000 EQM: 37.34362555572758 EQM_val: 0.3886190634734235 norm: 0.005851242107635103\n",
            "nep: 50000 EQM: 37.34362555572758 EQM_val: 0.3431928599652054 norm: 0.0045911561144171146\n",
            "Convergência em 50000 epochs\n",
            "acc - tr:0.91 val:0.77 tst:0.83\n",
            "cross-validation: 3\n",
            "nep: 10000 EQM: 36.83444300000583 EQM_val: 0.7579651270730482 norm: 0.01678441735575287\n",
            "nep: 20000 EQM: 36.83444300000583 EQM_val: 0.5437884547908177 norm: 0.007395866434940993\n",
            "nep: 30000 EQM: 36.83444300000583 EQM_val: 0.4575938564939697 norm: 0.0037194626363290643\n",
            "nep: 40000 EQM: 36.83444300000583 EQM_val: 0.41168373370868394 norm: 0.006631308252298896\n",
            "nep: 50000 EQM: 36.83444300000583 EQM_val: 0.393890380072127 norm: 0.0033235907090971416\n",
            "Convergência em 50000 epochs\n",
            "acc - tr:0.92 val:0.71 tst:0.86\n",
            "cross-validation: 4\n",
            "nep: 10000 EQM: 36.84401705270992 EQM_val: 0.7369477243148469 norm: 0.01581603803405193\n",
            "nep: 20000 EQM: 36.84401705270992 EQM_val: 0.48764686670734614 norm: 0.006887336572473922\n",
            "nep: 30000 EQM: 36.84401705270992 EQM_val: 0.3984804785137716 norm: 0.007859980703673908\n",
            "nep: 40000 EQM: 36.84401705270992 EQM_val: 0.3188321017645656 norm: 0.0029538569323936366\n",
            "nep: 50000 EQM: 36.84401705270992 EQM_val: 0.2990340306318009 norm: 0.0038334104681164265\n",
            "Convergência em 50000 epochs\n",
            "acc - tr:0.96 val:0.82 tst:0.87\n",
            "Execução em: 22/01/2023 18:04:11\n",
            "====================================================================\n",
            "iteração:4\n",
            "Testando parametros:\n",
            " h:[ 100] alpha:[ 0.1]\n",
            "====================================================================\n",
            "cross-validation: 0\n",
            "nep: 10000 EQM: 38.16373108483695 EQM_val: 0.5862847240167298 norm: 0.01507849271880195\n",
            "nep: 20000 EQM: 38.16373108483695 EQM_val: 0.39082414980032665 norm: 0.0075060388364958965\n",
            "nep: 30000 EQM: 38.16373108483695 EQM_val: 0.30809005661418803 norm: 0.004349470585815506\n",
            "nep: 40000 EQM: 38.16373108483695 EQM_val: 0.27566986670170335 norm: 0.0017505194813150296\n",
            "nep: 50000 EQM: 38.16373108483695 EQM_val: 0.2674535813695783 norm: 0.0011366763536419314\n",
            "Convergência em 50000 epochs\n",
            "acc - tr:0.95 val:0.86 tst:0.85\n",
            "cross-validation: 1\n",
            "nep: 10000 EQM: 38.16071394382184 EQM_val: 0.6995253515999015 norm: 0.01599385490494706\n",
            "nep: 20000 EQM: 38.16071394382184 EQM_val: 0.4484739834268945 norm: 0.007504870540892961\n",
            "nep: 30000 EQM: 38.16071394382184 EQM_val: 0.3925008975661858 norm: 0.002574859848332631\n",
            "nep: 40000 EQM: 38.16071394382184 EQM_val: 0.3770613516610683 norm: 0.0015239433924371384\n",
            "nep: 50000 EQM: 38.16071394382184 EQM_val: 0.36832229875806183 norm: 0.0010888619300127602\n",
            "Convergência em 50000 epochs\n",
            "acc - tr:0.96 val:0.82 tst:0.90\n",
            "cross-validation: 2\n",
            "nep: 10000 EQM: 38.421215771127095 EQM_val: 0.6136566411109295 norm: 0.015804499404495683\n",
            "nep: 20000 EQM: 38.421215771127095 EQM_val: 0.4166004404324258 norm: 0.007663975971157411\n",
            "nep: 30000 EQM: 38.421215771127095 EQM_val: 0.33714967537009927 norm: 0.0027800865286985166\n",
            "nep: 40000 EQM: 38.421215771127095 EQM_val: 0.31939627784354446 norm: 0.0014922640269709863\n",
            "nep: 50000 EQM: 38.421215771127095 EQM_val: 0.2997950190880588 norm: 0.006865404755290109\n",
            "Convergência em 50000 epochs\n",
            "acc - tr:0.97 val:0.80 tst:0.85\n",
            "cross-validation: 3\n",
            "nep: 10000 EQM: 38.18527852148442 EQM_val: 0.6696039362684895 norm: 0.014591152166833106\n",
            "nep: 20000 EQM: 38.18527852148442 EQM_val: 0.41951530910333157 norm: 0.00861928628642607\n",
            "nep: 30000 EQM: 38.18527852148442 EQM_val: 0.31375283759016476 norm: 0.004281542971578214\n",
            "nep: 40000 EQM: 38.18527852148442 EQM_val: 0.2878370308281097 norm: 0.0017921239412298608\n",
            "nep: 50000 EQM: 38.18527852148442 EQM_val: 0.27849965174894475 norm: 0.0011519084034280224\n",
            "Convergência em 50000 epochs\n",
            "acc - tr:0.98 val:0.84 tst:0.92\n",
            "cross-validation: 4\n",
            "nep: 10000 EQM: 38.22633814872324 EQM_val: 0.5992018896874044 norm: 0.015361631033401803\n",
            "nep: 20000 EQM: 38.22633814872324 EQM_val: 0.36923581937979577 norm: 0.006649119635656698\n",
            "nep: 30000 EQM: 38.22633814872324 EQM_val: 0.3127646716420217 norm: 0.004088525502999529\n",
            "nep: 40000 EQM: 38.22633814872324 EQM_val: 0.28268681520345645 norm: 0.0015815110736059769\n",
            "nep: 50000 EQM: 38.22633814872324 EQM_val: 0.27657397106586784 norm: 0.0011005399376773203\n",
            "Convergência em 50000 epochs\n",
            "acc - tr:0.99 val:0.82 tst:0.89\n",
            "nep: 10000 EQM: 38.16870693950041 EQM_val: 0.6047752875060404 norm: 0.01783811703211816\n",
            "nep: 20000 EQM: 38.16870693950041 EQM_val: 0.3425775113871267 norm: 0.007946337397734662\n",
            "nep: 30000 EQM: 38.16870693950041 EQM_val: 0.2934708515835537 norm: 0.0027897119523062155\n",
            "nep: 40000 EQM: 38.16870693950041 EQM_val: 0.28385797978523736 norm: 0.0015398185114310502\n",
            "nep: 50000 EQM: 38.16870693950041 EQM_val: 0.27321285508046267 norm: 0.006115630437113301\n",
            "Convergência em 50000 epochs\n",
            "Melhor acurácia no validação obtida com os parametros h:[ 25] alpha:[ 0.1]. Treino final: 1.0000 Teste:0.9500\n",
            "Fim da Execução: 22/01/2023 18:20:45\n"
          ]
        }
      ],
      "source": [
        "modelo = 'MultiLayer Perceptron alpha 0.1'\n",
        "\n",
        "log = pipeline_integrated_onedim(nome_do_modelo=modelo, \n",
        "                          classifier=  ANN.RNA(),\n",
        "                          param_iteracao= {'h':[10,25,50,100]},\n",
        "                          param_fixo=['alpha',0.1],\n",
        "                          data={'X_train':X_train_pca, 'X_test':X_test_pca, 'y_train':y_train, 'y_test':y_test},\n",
        "                          neural_network=True)\n",
        "\n",
        "log_df = dictlog_to_flat_table(log)\n",
        "logs = logs.append(log_df,ignore_index=True)"
      ]
    },
    {
      "cell_type": "code",
      "execution_count": 31,
      "metadata": {
        "id": "zZ1NeTjf4gzi",
        "colab": {
          "base_uri": "https://localhost:8080/",
          "height": 363
        },
        "outputId": "621f54fe-a181-4e4e-a11b-85426fd654c6"
      },
      "outputs": [
        {
          "output_type": "execute_result",
          "data": {
            "text/plain": [
              "                          exec_time                       model_name  \\\n",
              "1  Execução em: 22/01/2023 17:44:41  MultiLayer Perceptron alpha 0.1   \n",
              "2  Execução em: 22/01/2023 17:44:41  MultiLayer Perceptron alpha 0.1   \n",
              "3  Execução em: 22/01/2023 17:44:41  MultiLayer Perceptron alpha 0.1   \n",
              "\n",
              "  parametro_fixo  parametro_variavel  \\\n",
              "1    alpha:[0.1]  h:[ 10 25 50 100 ]   \n",
              "2    alpha:[0.1]  h:[ 10 25 50 100 ]   \n",
              "3    alpha:[0.1]  h:[ 10 25 50 100 ]   \n",
              "\n",
              "                                              kfold  \\\n",
              "1  KFold(n_splits=5, random_state=42, shuffle=True)   \n",
              "2  KFold(n_splits=5, random_state=42, shuffle=True)   \n",
              "3  KFold(n_splits=5, random_state=42, shuffle=True)   \n",
              "\n",
              "                    melhor_modelo_obj     best_param_k_fold  \\\n",
              "1  <ANN.RNA object at 0x7fd0fa976d60>  h:[ 25] alpha:[ 0.1]   \n",
              "2  <ANN.RNA object at 0x7fd0fa976d60>  h:[ 25] alpha:[ 0.1]   \n",
              "3  <ANN.RNA object at 0x7fd0fa976d60>  h:[ 25] alpha:[ 0.1]   \n",
              "\n",
              "   acc_train_best_model  acc_test_best_model         index  \\\n",
              "1                   1.0                 0.95  cv_results_2   \n",
              "2                   1.0                 0.95  cv_results_3   \n",
              "3                   1.0                 0.95  cv_results_4   \n",
              "\n",
              "                cv_param acc_train_0 acc_val_0 acc_test_0 acc_train_1  \\\n",
              "1   h:[ 25] alpha:[ 0.1]    0.933036  0.803571        0.8    0.941964   \n",
              "2   h:[ 50] alpha:[ 0.1]      0.9375  0.839286   0.883333    0.964286   \n",
              "3  h:[ 100] alpha:[ 0.1]    0.950893  0.857143       0.85    0.964286   \n",
              "\n",
              "  acc_val_1 acc_test_1 acc_train_2 acc_val_2 acc_test_2 acc_train_3 acc_val_3  \\\n",
              "1  0.821429      0.825    0.977679  0.857143   0.866667      0.9375  0.785714   \n",
              "2  0.821429   0.883333    0.910714  0.767857   0.833333    0.924107  0.714286   \n",
              "3  0.821429        0.9    0.973214  0.803571       0.85    0.982143  0.839286   \n",
              "\n",
              "  acc_test_3 acc_train_4 acc_val_4 acc_test_4                           modelo  \n",
              "1   0.841667    0.955357  0.803571   0.833333  multilayer_perceptron_alpha_0.1  \n",
              "2   0.858333    0.955357  0.821429   0.866667  multilayer_perceptron_alpha_0.1  \n",
              "3   0.916667    0.986607  0.821429   0.891667  multilayer_perceptron_alpha_0.1  "
            ],
            "text/html": [
              "\n",
              "  <div id=\"df-a52a2b3e-d8af-451d-b2ff-2f841dea8a6f\">\n",
              "    <div class=\"colab-df-container\">\n",
              "      <div>\n",
              "<style scoped>\n",
              "    .dataframe tbody tr th:only-of-type {\n",
              "        vertical-align: middle;\n",
              "    }\n",
              "\n",
              "    .dataframe tbody tr th {\n",
              "        vertical-align: top;\n",
              "    }\n",
              "\n",
              "    .dataframe thead th {\n",
              "        text-align: right;\n",
              "    }\n",
              "</style>\n",
              "<table border=\"1\" class=\"dataframe\">\n",
              "  <thead>\n",
              "    <tr style=\"text-align: right;\">\n",
              "      <th></th>\n",
              "      <th>exec_time</th>\n",
              "      <th>model_name</th>\n",
              "      <th>parametro_fixo</th>\n",
              "      <th>parametro_variavel</th>\n",
              "      <th>kfold</th>\n",
              "      <th>melhor_modelo_obj</th>\n",
              "      <th>best_param_k_fold</th>\n",
              "      <th>acc_train_best_model</th>\n",
              "      <th>acc_test_best_model</th>\n",
              "      <th>index</th>\n",
              "      <th>cv_param</th>\n",
              "      <th>acc_train_0</th>\n",
              "      <th>acc_val_0</th>\n",
              "      <th>acc_test_0</th>\n",
              "      <th>acc_train_1</th>\n",
              "      <th>acc_val_1</th>\n",
              "      <th>acc_test_1</th>\n",
              "      <th>acc_train_2</th>\n",
              "      <th>acc_val_2</th>\n",
              "      <th>acc_test_2</th>\n",
              "      <th>acc_train_3</th>\n",
              "      <th>acc_val_3</th>\n",
              "      <th>acc_test_3</th>\n",
              "      <th>acc_train_4</th>\n",
              "      <th>acc_val_4</th>\n",
              "      <th>acc_test_4</th>\n",
              "      <th>modelo</th>\n",
              "    </tr>\n",
              "  </thead>\n",
              "  <tbody>\n",
              "    <tr>\n",
              "      <th>1</th>\n",
              "      <td>Execução em: 22/01/2023 17:44:41</td>\n",
              "      <td>MultiLayer Perceptron alpha 0.1</td>\n",
              "      <td>alpha:[0.1]</td>\n",
              "      <td>h:[ 10 25 50 100 ]</td>\n",
              "      <td>KFold(n_splits=5, random_state=42, shuffle=True)</td>\n",
              "      <td>&lt;ANN.RNA object at 0x7fd0fa976d60&gt;</td>\n",
              "      <td>h:[ 25] alpha:[ 0.1]</td>\n",
              "      <td>1.0</td>\n",
              "      <td>0.95</td>\n",
              "      <td>cv_results_2</td>\n",
              "      <td>h:[ 25] alpha:[ 0.1]</td>\n",
              "      <td>0.933036</td>\n",
              "      <td>0.803571</td>\n",
              "      <td>0.8</td>\n",
              "      <td>0.941964</td>\n",
              "      <td>0.821429</td>\n",
              "      <td>0.825</td>\n",
              "      <td>0.977679</td>\n",
              "      <td>0.857143</td>\n",
              "      <td>0.866667</td>\n",
              "      <td>0.9375</td>\n",
              "      <td>0.785714</td>\n",
              "      <td>0.841667</td>\n",
              "      <td>0.955357</td>\n",
              "      <td>0.803571</td>\n",
              "      <td>0.833333</td>\n",
              "      <td>multilayer_perceptron_alpha_0.1</td>\n",
              "    </tr>\n",
              "    <tr>\n",
              "      <th>2</th>\n",
              "      <td>Execução em: 22/01/2023 17:44:41</td>\n",
              "      <td>MultiLayer Perceptron alpha 0.1</td>\n",
              "      <td>alpha:[0.1]</td>\n",
              "      <td>h:[ 10 25 50 100 ]</td>\n",
              "      <td>KFold(n_splits=5, random_state=42, shuffle=True)</td>\n",
              "      <td>&lt;ANN.RNA object at 0x7fd0fa976d60&gt;</td>\n",
              "      <td>h:[ 25] alpha:[ 0.1]</td>\n",
              "      <td>1.0</td>\n",
              "      <td>0.95</td>\n",
              "      <td>cv_results_3</td>\n",
              "      <td>h:[ 50] alpha:[ 0.1]</td>\n",
              "      <td>0.9375</td>\n",
              "      <td>0.839286</td>\n",
              "      <td>0.883333</td>\n",
              "      <td>0.964286</td>\n",
              "      <td>0.821429</td>\n",
              "      <td>0.883333</td>\n",
              "      <td>0.910714</td>\n",
              "      <td>0.767857</td>\n",
              "      <td>0.833333</td>\n",
              "      <td>0.924107</td>\n",
              "      <td>0.714286</td>\n",
              "      <td>0.858333</td>\n",
              "      <td>0.955357</td>\n",
              "      <td>0.821429</td>\n",
              "      <td>0.866667</td>\n",
              "      <td>multilayer_perceptron_alpha_0.1</td>\n",
              "    </tr>\n",
              "    <tr>\n",
              "      <th>3</th>\n",
              "      <td>Execução em: 22/01/2023 17:44:41</td>\n",
              "      <td>MultiLayer Perceptron alpha 0.1</td>\n",
              "      <td>alpha:[0.1]</td>\n",
              "      <td>h:[ 10 25 50 100 ]</td>\n",
              "      <td>KFold(n_splits=5, random_state=42, shuffle=True)</td>\n",
              "      <td>&lt;ANN.RNA object at 0x7fd0fa976d60&gt;</td>\n",
              "      <td>h:[ 25] alpha:[ 0.1]</td>\n",
              "      <td>1.0</td>\n",
              "      <td>0.95</td>\n",
              "      <td>cv_results_4</td>\n",
              "      <td>h:[ 100] alpha:[ 0.1]</td>\n",
              "      <td>0.950893</td>\n",
              "      <td>0.857143</td>\n",
              "      <td>0.85</td>\n",
              "      <td>0.964286</td>\n",
              "      <td>0.821429</td>\n",
              "      <td>0.9</td>\n",
              "      <td>0.973214</td>\n",
              "      <td>0.803571</td>\n",
              "      <td>0.85</td>\n",
              "      <td>0.982143</td>\n",
              "      <td>0.839286</td>\n",
              "      <td>0.916667</td>\n",
              "      <td>0.986607</td>\n",
              "      <td>0.821429</td>\n",
              "      <td>0.891667</td>\n",
              "      <td>multilayer_perceptron_alpha_0.1</td>\n",
              "    </tr>\n",
              "  </tbody>\n",
              "</table>\n",
              "</div>\n",
              "      <button class=\"colab-df-convert\" onclick=\"convertToInteractive('df-a52a2b3e-d8af-451d-b2ff-2f841dea8a6f')\"\n",
              "              title=\"Convert this dataframe to an interactive table.\"\n",
              "              style=\"display:none;\">\n",
              "        \n",
              "  <svg xmlns=\"http://www.w3.org/2000/svg\" height=\"24px\"viewBox=\"0 0 24 24\"\n",
              "       width=\"24px\">\n",
              "    <path d=\"M0 0h24v24H0V0z\" fill=\"none\"/>\n",
              "    <path d=\"M18.56 5.44l.94 2.06.94-2.06 2.06-.94-2.06-.94-.94-2.06-.94 2.06-2.06.94zm-11 1L8.5 8.5l.94-2.06 2.06-.94-2.06-.94L8.5 2.5l-.94 2.06-2.06.94zm10 10l.94 2.06.94-2.06 2.06-.94-2.06-.94-.94-2.06-.94 2.06-2.06.94z\"/><path d=\"M17.41 7.96l-1.37-1.37c-.4-.4-.92-.59-1.43-.59-.52 0-1.04.2-1.43.59L10.3 9.45l-7.72 7.72c-.78.78-.78 2.05 0 2.83L4 21.41c.39.39.9.59 1.41.59.51 0 1.02-.2 1.41-.59l7.78-7.78 2.81-2.81c.8-.78.8-2.07 0-2.86zM5.41 20L4 18.59l7.72-7.72 1.47 1.35L5.41 20z\"/>\n",
              "  </svg>\n",
              "      </button>\n",
              "      \n",
              "  <style>\n",
              "    .colab-df-container {\n",
              "      display:flex;\n",
              "      flex-wrap:wrap;\n",
              "      gap: 12px;\n",
              "    }\n",
              "\n",
              "    .colab-df-convert {\n",
              "      background-color: #E8F0FE;\n",
              "      border: none;\n",
              "      border-radius: 50%;\n",
              "      cursor: pointer;\n",
              "      display: none;\n",
              "      fill: #1967D2;\n",
              "      height: 32px;\n",
              "      padding: 0 0 0 0;\n",
              "      width: 32px;\n",
              "    }\n",
              "\n",
              "    .colab-df-convert:hover {\n",
              "      background-color: #E2EBFA;\n",
              "      box-shadow: 0px 1px 2px rgba(60, 64, 67, 0.3), 0px 1px 3px 1px rgba(60, 64, 67, 0.15);\n",
              "      fill: #174EA6;\n",
              "    }\n",
              "\n",
              "    [theme=dark] .colab-df-convert {\n",
              "      background-color: #3B4455;\n",
              "      fill: #D2E3FC;\n",
              "    }\n",
              "\n",
              "    [theme=dark] .colab-df-convert:hover {\n",
              "      background-color: #434B5C;\n",
              "      box-shadow: 0px 1px 3px 1px rgba(0, 0, 0, 0.15);\n",
              "      filter: drop-shadow(0px 1px 2px rgba(0, 0, 0, 0.3));\n",
              "      fill: #FFFFFF;\n",
              "    }\n",
              "  </style>\n",
              "\n",
              "      <script>\n",
              "        const buttonEl =\n",
              "          document.querySelector('#df-a52a2b3e-d8af-451d-b2ff-2f841dea8a6f button.colab-df-convert');\n",
              "        buttonEl.style.display =\n",
              "          google.colab.kernel.accessAllowed ? 'block' : 'none';\n",
              "\n",
              "        async function convertToInteractive(key) {\n",
              "          const element = document.querySelector('#df-a52a2b3e-d8af-451d-b2ff-2f841dea8a6f');\n",
              "          const dataTable =\n",
              "            await google.colab.kernel.invokeFunction('convertToInteractive',\n",
              "                                                     [key], {});\n",
              "          if (!dataTable) return;\n",
              "\n",
              "          const docLinkHtml = 'Like what you see? Visit the ' +\n",
              "            '<a target=\"_blank\" href=https://colab.research.google.com/notebooks/data_table.ipynb>data table notebook</a>'\n",
              "            + ' to learn more about interactive tables.';\n",
              "          element.innerHTML = '';\n",
              "          dataTable['output_type'] = 'display_data';\n",
              "          await google.colab.output.renderOutput(dataTable, element);\n",
              "          const docLink = document.createElement('div');\n",
              "          docLink.innerHTML = docLinkHtml;\n",
              "          element.appendChild(docLink);\n",
              "        }\n",
              "      </script>\n",
              "    </div>\n",
              "  </div>\n",
              "  "
            ]
          },
          "metadata": {},
          "execution_count": 31
        }
      ],
      "source": [
        "pd.set_option('display.max_columns', None)\n",
        "logs.tail(3)"
      ]
    },
    {
      "cell_type": "markdown",
      "metadata": {
        "id": "8ZrLT-JZGohf"
      },
      "source": [
        "# Informações Melhor/Pior Modelo"
      ]
    },
    {
      "cell_type": "code",
      "source": [
        "def exclui_model_log(model_tag):\n",
        "\n",
        "  label = tag + '_log_full'\n",
        "\n",
        "  with open(model_save_dir + 'df_' + label +'.obj', 'rb') as f:\n",
        "    log_hist = pickle.load(f)\n",
        "\n",
        "  print('Reguistros antes da remoção:', log_hist.shape[0])\n",
        "  log_hist_clean = log_hist[~log_hist['modelo'].str.contains(model_tag)]\n",
        "  print('Reguistros após remoção:', log_hist_clean.shape[0])\n",
        "\n",
        "  return log_hist_clean\n",
        "\n",
        "log_bckp = exclui_model_log('multilayer_perceptron')\n",
        "logs = pd.concat([log_bckp, logs], axis=0)"
      ],
      "metadata": {
        "colab": {
          "base_uri": "https://localhost:8080/"
        },
        "id": "nGTdFXP-Xf40",
        "outputId": "25d133b0-08fd-40f0-af1b-485f9ecd0df7"
      },
      "execution_count": 45,
      "outputs": [
        {
          "output_type": "stream",
          "name": "stdout",
          "text": [
            "Reguistros antes da remoção: 17\n",
            "Reguistros após remoção: 13\n"
          ]
        }
      ]
    },
    {
      "cell_type": "code",
      "execution_count": 52,
      "metadata": {
        "id": "uRMHgRTbRD4o"
      },
      "outputs": [],
      "source": [
        "label = tag + '_log_full'\n",
        "\n",
        "logs['media_acc_val'] = (logs.acc_val_0\t+ logs.acc_val_1 +\tlogs.acc_val_2 +\tlogs.acc_val_3 +\tlogs.acc_val_4)/5\n",
        "logs['media_acc_train'] = (logs.acc_train_0\t+ logs.acc_train_1 +\tlogs.acc_train_2 +\tlogs.acc_train_3 +\tlogs.acc_train_4)/5\n",
        "logs['media_acc_test'] = (logs.acc_test_0\t+ logs.acc_test_1 +\tlogs.acc_test_2 +\tlogs.acc_test_3 +\tlogs.acc_test_4)/5\n",
        "\n",
        "logs.sort_values(by='media_acc_val', ascending=False, inplace=True)\n",
        "\n",
        "logs.to_excel(log_dir +label + '.xlsx')\n",
        "\n",
        "with open(model_save_dir + 'df_' + label +'.obj', 'wb') as fp:\n",
        "  pickle.dump(logs, fp)"
      ]
    },
    {
      "cell_type": "code",
      "execution_count": 49,
      "metadata": {
        "id": "U6Q5Jm6tHS_J"
      },
      "outputs": [],
      "source": [
        "def save_error(modelo_infos,label):\n",
        "  errorFile = open(erro_dir +label + '.txt', 'w') \n",
        "  print('Execução em: {}'.format(datetime.now(pytz.timezone('America/Bahia')).strftime(\"%d/%m/%Y %H:%M:%S\")) , file=errorFile)\n",
        "\n",
        "  out=''\n",
        "\n",
        "  errors = modelo_infos.drop(columns=['acc_train_best_model','acc_test_best_model']).T.reset_index()\n",
        "  errors.columns=['index', 'val']\n",
        "  for i,r in errors.iterrows():\n",
        "    out=out + norm_text(r['index']) + ':' + str(r['val']) + '\\n'\n",
        "  print(out, file=errorFile)\n",
        "  errorFile.close()"
      ]
    },
    {
      "cell_type": "code",
      "execution_count": 50,
      "metadata": {
        "id": "da4yaCoVGDtZ"
      },
      "outputs": [],
      "source": [
        "label = tag + '_' + 'melhor'\n",
        "\n",
        "melhor_modelo_infos = logs.sort_values(by='media_acc_val',ascending=False).head(1)\n",
        "\n",
        "# Salva mehlhor modelo\n",
        "melhor_modelo = melhor_modelo_infos['melhor_modelo_obj'].iloc[0]\n",
        "with open(model_save_dir + label +'.obj', 'wb') as fp:\n",
        "  pickle.dump(melhor_modelo, fp)\n",
        "\n",
        "# Salva o erro\n",
        "save_error(melhor_modelo_infos, label)\n",
        "\n",
        "#Salva o config\n",
        "melhor_modelo_infos.drop(columns = melhor_modelo_infos.filter(like='acc').columns).T.rename(columns={0:'config'}).to_csv(config_dir + label  +'.txt', sep=':')"
      ]
    },
    {
      "cell_type": "code",
      "execution_count": 51,
      "metadata": {
        "id": "B-XcQhGYJaMA"
      },
      "outputs": [],
      "source": [
        "label = tag + '_' + 'pior'\n",
        "\n",
        "pior_modelo_infos = logs.sort_values(by='media_acc_val',ascending=True).head(1)\n",
        "\n",
        "# Salva pior modelo\n",
        "pior = pior_modelo_infos['melhor_modelo_obj'].iloc[0]\n",
        "with open(model_save_dir + label +'.obj', 'wb') as fp:\n",
        "  pickle.dump(pior, fp)\n",
        "\n",
        "# Salva o erro\n",
        "save_error(pior_modelo_infos , label)\n",
        "\n",
        "#Salva o config\n",
        "pior_modelo_infos.drop(columns = pior_modelo_infos.filter(like='acc').columns).T.rename(columns={0:'config'}).to_csv(config_dir + label  +'.txt', sep=':')"
      ]
    },
    {
      "cell_type": "markdown",
      "source": [],
      "metadata": {
        "id": "-4dnlBZhswZn"
      }
    }
  ],
  "metadata": {
    "colab": {
      "machine_shape": "hm",
      "provenance": [],
      "include_colab_link": true
    },
    "gpuClass": "standard",
    "kernelspec": {
      "display_name": "Python 3",
      "language": "python",
      "name": "python3"
    },
    "language_info": {
      "codemirror_mode": {
        "name": "ipython",
        "version": 3
      },
      "file_extension": ".py",
      "mimetype": "text/x-python",
      "name": "python",
      "nbconvert_exporter": "python",
      "pygments_lexer": "ipython3",
      "version": "3.7.10"
    },
    "varInspector": {
      "cols": {
        "lenName": 16,
        "lenType": 16,
        "lenVar": 40
      },
      "kernels_config": {
        "python": {
          "delete_cmd_postfix": "",
          "delete_cmd_prefix": "del ",
          "library": "var_list.py",
          "varRefreshCmd": "print(var_dic_list())"
        },
        "r": {
          "delete_cmd_postfix": ") ",
          "delete_cmd_prefix": "rm(",
          "library": "var_list.r",
          "varRefreshCmd": "cat(var_dic_list()) "
        }
      },
      "types_to_exclude": [
        "module",
        "function",
        "builtin_function_or_method",
        "instance",
        "_Feature"
      ],
      "window_display": false
    }
  },
  "nbformat": 4,
  "nbformat_minor": 0
}